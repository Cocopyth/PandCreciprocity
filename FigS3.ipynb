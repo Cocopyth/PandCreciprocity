{
 "cells": [
  {
   "cell_type": "code",
   "execution_count": null,
   "id": "c1baf5f8-74ea-4489-b46a-72fe8664bfcf",
   "metadata": {
    "tags": []
   },
   "outputs": [
    {
     "name": "stdout",
     "output_type": "stream",
     "text": [
      "['/home/cocopyth/PandC', '/usr/lib/python39.zip', '/usr/lib/python3.9', '/usr/lib/python3.9/lib-dynload', '', '/home/cocopyth/.local/lib/python3.9/site-packages', '/usr/local/lib/python3.9/dist-packages', '/usr/lib/python3/dist-packages', '/usr/lib/petsc/lib/python3/dist-packages', '/usr/lib/mshr/python3/dist-packages', '/usr/lib/slepc/lib/python3/dist-packages', '/home/cocopyth/miniconda3/lib/python3.9/site-packages']\n"
     ]
    },
    {
     "name": "stderr",
     "output_type": "stream",
     "text": [
      "/tmp/ipykernel_73/2527923796.py:196: MatplotlibDeprecationWarning: The get_cmap function was deprecated in Matplotlib 3.7 and will be removed two minor releases later. Use ``matplotlib.colormaps[name]`` or ``matplotlib.colormaps.get_cmap(obj)`` instead.\n",
      "  cmap = mpl.cm.get_cmap(\"winter\")\n",
      "/tmp/ipykernel_73/2527923796.py:197: MatplotlibDeprecationWarning: The get_cmap function was deprecated in Matplotlib 3.7 and will be removed two minor releases later. Use ``matplotlib.colormaps[name]`` or ``matplotlib.colormaps.get_cmap(obj)`` instead.\n",
      "  cmap2 = mpl.cm.get_cmap(\"spring\")\n"
     ]
    },
    {
     "data": {
      "application/vnd.jupyter.widget-view+json": {
       "model_id": "af9b7cb93a6a4901b5a2d8bc856ae91c",
       "version_major": 2,
       "version_minor": 0
      },
      "text/plain": [
       "Simulating:   0%|          | 0/1200 [00:00<?, ?it/s]"
      ]
     },
     "metadata": {},
     "output_type": "display_data"
    }
   ],
   "source": [
    "Vmax = 3.25e-9 #ugP/um2/hour\n",
    "Vmax = Vmax*1e6 #ugP.mm-2.hour-1\n",
    "DP = 1e-5 #cm**2-s-1, diffusion coefficient of small ions in water\n",
    "DP = DP*1e2*3600 #mm**2-h-1, diffusion coefficient of small ions in water\n",
    "C0 = 3.5 #ug/mL=ug/cm**-3\n",
    "C0 = 3.5*1e-3 #ug/mm**-3\n",
    "\n",
    "DP,Vmax,C0\n",
    "\n",
    "C0 = 500 #mg.L-1\n",
    "C0 = 500*1e3 #ug.L-1\n",
    "C0 = C0 * 1e-3 #ug.cm-3\n",
    "C0 = C0 *1e-3 #ug.cm-3\n",
    "C0\n",
    "\n",
    "def signed_sqrt(x,alpha = 1/2):\n",
    "    \"\"\"Return the signed square root of a number.\"\"\"\n",
    "    if x >= 0:\n",
    "        return x**alpha\n",
    "    else:\n",
    "        return -(-x)**alpha\n",
    "\n",
    "import sys\n",
    "sys.path.append('/home/cocopyth/miniconda3/lib/python3.9/site-packages')\n",
    "print(sys.path)\n",
    "\n",
    "\n",
    "# !pip install tqdm\n",
    "from tqdm.notebook import tqdm  # Import tqdm\n",
    "\n",
    "\n",
    "%matplotlib widget\n",
    "from dolfin import *\n",
    "import numpy as np\n",
    "import matplotlib as mpl\n",
    "import matplotlib.pyplot as plt\n",
    "import os\n",
    "Length = 140*1.5\n",
    "nx = 350*15//10\n",
    "plt.close(\"all\")\n",
    "set_log_active(False)\n",
    "class Simulation:\n",
    "    \"\"\"\n",
    "    A class for simulating a finite element problem using the FEniCS framework.\n",
    "\n",
    "    Attributes:\n",
    "    -----------\n",
    "    Length: float\n",
    "        Length of the interval domain.\n",
    "    nx: int\n",
    "        Number of subdivisions in the mesh.\n",
    "    nT: int\n",
    "        Number of time steps.\n",
    "    T: float\n",
    "        Total simulation time.\n",
    "    C0: float\n",
    "        Initial concentration value.\n",
    "    Fmax: float\n",
    "        Maximum flux value.\n",
    "    Pprice_ideal: float\n",
    "        Ideal price value.\n",
    "    width: float\n",
    "        Width of the plot.\n",
    "    height: float\n",
    "        Height of the plot.\n",
    "    \"\"\"\n",
    "    def __init__(self, Length=Length, nx=nx, nT=200, T=400, C0=10, Fmax=2, Pprice_ideal=20, width=3.2, height=2,speed = 0.230,adaptation_rate = 1e-4,drag = 0):\n",
    "        self.Length = Length\n",
    "        self.nx = nx\n",
    "        self.dx = Length/nx\n",
    "        self.nT = nT\n",
    "        self.T = T\n",
    "        self.dt = T/nT\n",
    "        self.C0 = C0 #ug.mm-3\n",
    "        self.Fmax = Fmax\n",
    "        self.Pprice_ideal = Pprice_ideal\n",
    "        self.width = width\n",
    "        self.height = height\n",
    "        self.speed = speed\n",
    "        self.adaptation_rate = adaptation_rate\n",
    "        self.speed_penalty = drag\n",
    "        self._setup_simulation()\n",
    "        self.r0 = 3e-3\n",
    "\n",
    "    def _setup_simulation(self):\n",
    "        # Set up the simulation: define mesh, function spaces, initial conditions, etc.\n",
    "        \"\"\"\n",
    "        Sets up the initial conditions and parameters for the simulation.\n",
    "        \"\"\"\n",
    "        # Create mesh and define function space\n",
    "        self.mesh = IntervalMesh(self.nx, 1, self.Length)\n",
    "        P1 = FiniteElement('P', interval, 1)\n",
    "        element = MixedElement([P1, P1, P1])\n",
    "        self.V = FunctionSpace(self.mesh, element)\n",
    "        # Define initial conditions\n",
    "        u0 = Expression(('1.5*exp(-1*pow(abs(x[0]-7),2))', \n",
    "                         f'(1-exp(-3*(x[0]-1)))*{self.C0}', '0*exp(-0.01*pow(abs(x[0]),2))'), degree=1)\n",
    "        rexp = Expression(('1/x[0]', '0', '0'), degree=1)\n",
    "        self.r = interpolate(rexp, self.V)\n",
    "        self.invr, _, _ = split(self.r)\n",
    "        self.u_n = interpolate(u0, self.V)\n",
    "\n",
    "        # Splitting functions for later use\n",
    "        self.u = Function(self.V)\n",
    "        self.n, self.C, self.rho = split(self.u)   #mm-3,ug.mm-3,mm2.mm-3\n",
    "        self.n_n, self.C_n, self.rho_n = split(self.u_n)\n",
    "        self.v_1, self.v_0, self.v_2 = TestFunctions(self.V)\n",
    "\n",
    "        # Set parameters and constants\n",
    "        self.dt = self.T / self.nT\n",
    "        self.alphval = 0.01 #.h-1\n",
    "        self.alphval0 = self.alphval\n",
    "        self.betaval = 0.005 #mm.h-1 length coefficient\n",
    "        # self.betaval = 0.022/(2.5e-3) #mm.h-1 SA coefficient\n",
    "        \n",
    "        self.beta = Constant(self.betaval) #mm**4.h-1\n",
    "        self.D = 0.0008 #mm**2.h-1\n",
    "        self.D0 = self.D #mm**2.h-1\n",
    "        \n",
    "        self.D2 = Constant(0.36) #mm**2.h-1\n",
    "        self.n_mid = 0.5*(self.n_n + self.n)\n",
    "        self.v_sval = self.speed #mm.h-1\n",
    "        self.s_scal = self.speed #mm.h-1\n",
    "        self.v_s = Constant((self.v_sval,)) #mm.h-1\n",
    "        self.Vmax = self.Fmax #ug.mm**-2.h-1\n",
    "        self.Kp = 0.001 #ug.mm-3\n",
    "        # Boundary conditions\n",
    "        u_L = (Constant(0.0), Constant(0.0), Constant(0.0))\n",
    "        u_R = (Constant(0.0), Constant(self.C0), Constant(0.0))\n",
    "        bc_L = DirichletBC(self.V, u_L, 'near(x[0], 1.0)')\n",
    "        bc_R = DirichletBC(self.V, u_R, f'near(x[0], {self.Length})')\n",
    "        self.bcs = [bc_L, bc_R]\n",
    "\n",
    "    def _make_F(self, alphval,D):\n",
    "        # Define the variational problem F\n",
    "        alpha = Constant(alphval)\n",
    "        D = Constant(D)\n",
    "        # dn/dt\n",
    "        F = self.n*self.v_1*dx - self.n_n*self.v_1*dx \n",
    "        # D lapplacian(n)\n",
    "        F += D*dot(grad(self.n), grad(self.v_1))*self.dt*dx\n",
    "        # To account for cylindrical coordinates\n",
    "        F += self.invr*D*dot(grad(self.n), Constant((1,)))*self.v_1*self.dt*dx\n",
    "        \n",
    "        #v.grad(n)\n",
    "        F += self.dt*dot(grad(self.n_mid),self.v_s)*self.v_1*dx\n",
    "        # To account for cylindrical coordinates\n",
    "        F += self.invr*self.dt*self.n_mid*Constant(self.v_sval)*self.v_1*dx\n",
    "        \n",
    "        #alpha*n - beta * n * rho\n",
    "        F += self.beta*self.v_1*self.rho*(self.n)*self.dt*dx\n",
    "        F -= alpha*(self.n)*self.v_1*self.dt*dx\n",
    "        \n",
    "        #d rho/dt = vn\n",
    "        F -= self.dt*self.s_scal*self.n*self.v_2*dx-(self.rho-self.rho_n)*self.v_2*dx\n",
    "\n",
    "\n",
    "        # dC/dt\n",
    "        F += self.C*self.v_0*dx - self.C_n*self.v_0*dx #ug.mm-3\n",
    "        # Vmax * rho * C/(C+Kp)\n",
    "        F += 2*np.pi*self.Vmax*(self.rho)*self.r0*(self.C/(self.Kp+self.C))*self.v_0*self.dt*dx #ug\n",
    "        # Diffusion \n",
    "        F += self.D2*dot(grad(self.C), grad(self.v_0))*self.dt*dx\n",
    "        # To account for cylindrical coordinates\n",
    "        F += self.invr*self.D2*dot(grad(self.C), Constant((1,)))*self.v_0*self.dt*dx\n",
    "\n",
    "        return F\n",
    "    def integrate(self, plot=False):\n",
    "        \"\"\"\n",
    "        Integrate the problem over time and optionally plot the results.\n",
    "        Returns arrays of C(x, t), rho(x, t), and n(x, t) over the simulation.\n",
    "\n",
    "        Parameters:\n",
    "        -----------\n",
    "        plot: bool\n",
    "            If True, plot the results using matplotlib.\n",
    "\n",
    "        Returns:\n",
    "        --------\n",
    "        C_xt: list of arrays\n",
    "            Concentration C as a function of position x and time t.\n",
    "        rho_xt: list of arrays\n",
    "            Density rho as a function of position x and time t.\n",
    "        n_xt: list of arrays\n",
    "            Quantity n as a function of position x and time t.\n",
    "        \"\"\"\n",
    "        # Initialize arrays to store C(x, t), rho(x, t), and n(x, t)\n",
    "        C_xt = []\n",
    "        rho_xt = []\n",
    "        n_xt = []\n",
    "        P_prices = []\n",
    "        alphavals = []\n",
    "        # Initialize matplotlib plots if needed\n",
    "        if plot:\n",
    "            fig, axs = plt.subplots(4, 1, figsize=(self.width*2, self.height * 3.35))\n",
    "            cmap = mpl.cm.get_cmap(\"winter\")\n",
    "            cmap2 = mpl.cm.get_cmap(\"spring\")\n",
    "\n",
    "        # Time-stepping loop\n",
    "        V2 = FunctionSpace(self.mesh, 'P', 1)\n",
    "        X = np.linspace(1, self.Length, self.nx)\n",
    "        i=0\n",
    "        for t in tqdm(np.linspace(0, self.T, self.nT), desc=\"Simulating\"):\n",
    "            F = self._make_F(self.alphval,self.D)\n",
    "            solve(F == 0, self.u, self.bcs)\n",
    "            self.u_n.assign(self.u)\n",
    "            _n, _C, _rho = self.u.split()\n",
    "\n",
    "            # Interpolate and store the results\n",
    "            n_field = interpolate(_n, V2)\n",
    "            rho_field = interpolate(_rho, V2)\n",
    "            C_field = interpolate(_C, V2)\n",
    "            Ccost = np.sum([n_field(x)*x*self.dx*self.v_sval for x in X]) #mm.h-1.mm-1\n",
    "            Ccost *= np.pi*(self.r0)**2 #mm**3.mm-1.h-1\n",
    "            Ccost *= 0.5*0.3 *1e-3 #g.mm-1.h-1\n",
    "            Ccost *= 1e6 #ug.mm-1.h-1\n",
    "            Ccost *= 2 #respiration\n",
    "            Ccost *= (self.v_sval/0.15)**(self.speed_penalty)\n",
    "            Pacquisition = np.sum([self.Vmax*(C_field(x)/(C_field(x)+self.Kp))*rho_field(x)*x*self.dx for x in X]) #ug.h-1.mm-1\n",
    "            Pacquisition *= 2*self.r0*np.pi\n",
    "            Pacquisition += 0.05\n",
    "            \n",
    "            Pprice = Ccost/Pacquisition\n",
    "            alphavals.append(self.alphval)\n",
    "            self.alphval = max(0.001,self.alphval + self.dt*self.adaptation_rate*signed_sqrt((self.Pprice_ideal-Pprice)/self.Pprice_ideal,alpha = 1))\n",
    "            # print(self.alphval)\n",
    "            self.D = self.D0*self.alphval0/self.alphval\n",
    "            # print(2*(np.sqrt(self.D*self.alphval)))\n",
    "            n_xt.append([n_field(x) for x in X])\n",
    "            rho_xt.append([rho_field(x) for x in X])\n",
    "            C_xt.append([C_field(x) for x in X])\n",
    "            P_prices.append(Pprice)\n",
    "            # print(Pprice,self.alphval)\n",
    "            if plot and i % (self.nT//10) == 0:\n",
    "                axs[1].plot(X, n_xt[-1], color=cmap2(t / self.T))\n",
    "                axs[0].plot(X, rho_xt[-1], color=cmap(t / self.T))\n",
    "                axs[2].plot(X, C_xt[-1], color=cmap2(t / self.T))\n",
    "                axs[3].plot(X, [C_xt[-1][i] * rho_xt[-1][i] for i in range(len(X))], color=cmap2(t / self.T))\n",
    "                # break\n",
    "            i+=1\n",
    "            \n",
    "\n",
    "        # Finalize plot settings if plotting\n",
    "        if plot:\n",
    "            axs[1].plot(X, n_xt[-1], color=cmap2(t / self.T))\n",
    "            axs[0].plot(X, rho_xt[-1], color=cmap(t / self.T))\n",
    "            satrho = np.median([rho for rho in rho_xt[-1] if rho>1e-10])\n",
    "            \n",
    "            axs[0].hlines(satrho,np.min(X),np.max(X), color=\"red\")\n",
    "            \n",
    "            axs[2].plot(X, C_xt[-1], color=cmap2(t / self.T))\n",
    "            axs[3].plot(X, [C_xt[-1][i] * rho_xt[-1][i] for i in range(len(X))], color=cmap2(t / self.T))\n",
    "            axs[0].set_ylabel(r'$\\rho (mm \\cdot mm^{-3})$')\n",
    "            axs[1].set_ylabel('$n (mm^{-3})$')\n",
    "            axs[2].set_ylabel('$C$')\n",
    "            axs[3].set_ylabel('$\\Phi_P$')\n",
    "            \n",
    "            axs[3].set_xlabel('position ($mm$)')\n",
    "            plt.show()\n",
    "\n",
    "        return C_xt, rho_xt, n_xt,P_prices,alphavals\n",
    "        \n",
    "\n",
    "# Example usage:\n",
    "C0=0.01\n",
    "Pprice_ideal = 3\n",
    "speed = 0.20\n",
    "\n",
    "sim = Simulation(speed = speed,C0=C0,T = 600,nT=1200,Pprice_ideal = Pprice_ideal,Fmax = Vmax,adaptation_rate = 3e-4,drag = 1)\n",
    "C_xt, rho_xt, n_xt,P_prices,alphavals = sim.integrate(plot=True)\n"
   ]
  },
  {
   "cell_type": "code",
   "execution_count": null,
   "id": "d1c4f8f4-6e1e-48d1-a819-64617e1e1404",
   "metadata": {
    "tags": []
   },
   "outputs": [],
   "source": [
    "T = 600\n",
    "nT = 1200\n",
    "def get_dynamics(speed,C0=10,Pprice_ideal = 1/15):\n",
    "    sim = Simulation(speed = speed,C0=C0,T = T,nT=nT,Pprice_ideal = Pprice_ideal,Fmax = Vmax,adaptation_rate = 3e-4,drag = 1)\n",
    "    C_xt, rho_xt, n_xt,P_prices,_ = sim.integrate(plot=False)\n",
    "    return(np.array(C_xt),np.array(rho_xt),np.array(n_xt))\n"
   ]
  },
  {
   "cell_type": "code",
   "execution_count": 4,
   "id": "7a110c08-9729-4ecc-91e0-be73d088fb99",
   "metadata": {
    "tags": []
   },
   "outputs": [
    {
     "data": {
      "application/vnd.jupyter.widget-view+json": {
       "model_id": "4190182fabab466c9659390330037968",
       "version_major": 2,
       "version_minor": 0
      },
      "text/plain": [
       "Simulating:   0%|          | 0/1200 [00:00<?, ?it/s]"
      ]
     },
     "metadata": {},
     "output_type": "display_data"
    },
    {
     "data": {
      "application/vnd.jupyter.widget-view+json": {
       "model_id": "6d07edd48d1946378414bd28f53fd164",
       "version_major": 2,
       "version_minor": 0
      },
      "text/plain": [
       "Simulating:   0%|          | 0/1200 [00:00<?, ?it/s]"
      ]
     },
     "metadata": {},
     "output_type": "display_data"
    },
    {
     "data": {
      "application/vnd.jupyter.widget-view+json": {
       "model_id": "b7e90adffe1a4f6083b03320514def53",
       "version_major": 2,
       "version_minor": 0
      },
      "text/plain": [
       "Simulating:   0%|          | 0/1200 [00:00<?, ?it/s]"
      ]
     },
     "metadata": {},
     "output_type": "display_data"
    },
    {
     "data": {
      "application/vnd.jupyter.widget-view+json": {
       "model_id": "2cadb7e44e8c46febcb1fb04ab39cac9",
       "version_major": 2,
       "version_minor": 0
      },
      "text/plain": [
       "Simulating:   0%|          | 0/1200 [00:00<?, ?it/s]"
      ]
     },
     "metadata": {},
     "output_type": "display_data"
    },
    {
     "data": {
      "application/vnd.jupyter.widget-view+json": {
       "model_id": "79335d004282460a88d03b2a73e24ef2",
       "version_major": 2,
       "version_minor": 0
      },
      "text/plain": [
       "Simulating:   0%|          | 0/1200 [00:00<?, ?it/s]"
      ]
     },
     "metadata": {},
     "output_type": "display_data"
    },
    {
     "data": {
      "application/vnd.jupyter.widget-view+json": {
       "model_id": "6f9ed7d008f044b59c4a5f1ad7026789",
       "version_major": 2,
       "version_minor": 0
      },
      "text/plain": [
       "Simulating:   0%|          | 0/1200 [00:00<?, ?it/s]"
      ]
     },
     "metadata": {},
     "output_type": "display_data"
    },
    {
     "data": {
      "application/vnd.jupyter.widget-view+json": {
       "model_id": "af20b369f54a40f9907a7bcd0b837e7a",
       "version_major": 2,
       "version_minor": 0
      },
      "text/plain": [
       "Simulating:   0%|          | 0/1200 [00:00<?, ?it/s]"
      ]
     },
     "metadata": {},
     "output_type": "display_data"
    }
   ],
   "source": [
    "plt.close(\"all\")\n",
    "\n",
    "speeds = np.linspace(0.20,0.20,1)\n",
    "C0_values = np.exp(np.linspace(np.log(0.01), np.log(0.02), 7))  # Adjust the number of points as needed\n",
    "\n",
    "dynamics = {(speed, C0): get_dynamics(speed, C0=C0, Pprice_ideal=3) \n",
    "            for speed in speeds for C0 in C0_values}"
   ]
  },
  {
   "cell_type": "code",
   "execution_count": 5,
   "id": "fe5ce63e-6005-4198-8166-c2c24f12cbd1",
   "metadata": {
    "tags": []
   },
   "outputs": [],
   "source": [
    "X = np.linspace(1, Length, nx)\n",
    "dx = Length/nx\n",
    "rhos = {}\n",
    "\n",
    "for speed in speeds:\n",
    "    for C0 in C0_values:\n",
    "        C_xt, rho_xt, n_xt = dynamics[(speed,C0)]\n",
    "        rho_sat = np.median([rho for rho in rho_xt[-1] if rho>0.1])\n",
    "\n",
    "        rhos[(speed,C0)] = rho_sat"
   ]
  },
  {
   "cell_type": "code",
   "execution_count": 6,
   "id": "56f65845-d98f-47d2-a496-9cfdf394154d",
   "metadata": {
    "tags": []
   },
   "outputs": [],
   "source": [
    "import pandas as pd\n",
    "\n",
    "# Your existing code\n",
    "# X, dx, Pacqu, etc.\n",
    "\n",
    "# Convert your data into a list of dictionaries\n",
    "data_for_df = []\n",
    "for key, value in rhos.items():\n",
    "    speed, C0 = key\n",
    "    data_for_df.append({'speed': speed, 'C0': C0, 'rho': value})\n",
    "\n",
    "# Create DataFrame\n",
    "df = pd.DataFrame(data_for_df)\n",
    "\n",
    "# Display the DataFrame\n",
    "\n",
    "\n",
    "df.to_csv('speedC0.csv')\n",
    "\n",
    "\n",
    "# Merge the averages back into the original DataFrame\n",
    "\n",
    "\n",
    "def to_two_significant_digits(x):\n",
    "    return float(f'{x:.2g}')\n",
    "\n",
    "# Create new columns with values formatted to two significant digits\n",
    "df['speed'] = (df['speed'].apply(to_two_significant_digits)*1000).astype(int)\n",
    "df['C0'] = (df['C0'].apply(to_two_significant_digits)*1000).astype(int)\n",
    "\n"
   ]
  },
  {
   "cell_type": "code",
   "execution_count": 7,
   "id": "4dab2e26-a15f-4c3a-9d71-d501e3ce336b",
   "metadata": {
    "tags": []
   },
   "outputs": [
    {
     "data": {
      "application/vnd.jupyter.widget-view+json": {
       "model_id": "a50989d2aee94e50ba1f3d42af1cbc92",
       "version_major": 2,
       "version_minor": 0
      },
      "image/png": "[encoded data removed]",
      "text/html": [
       "\n",
       "            <div style=\"display: inline-block;\">\n",
       "                <div class=\"jupyter-widgets widget-label\" style=\"text-align: center;\">\n",
       "                    Figure\n",
       "                </div>\n",
       "                <img src='data:image/png;base64,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' width=150.0/>\n",
       "            </div>\n",
       "        "
      ],
      "text/plain": [
       "Canvas(toolbar=Toolbar(toolitems=[('Home', 'Reset original view', 'home', 'home'), ('Back', 'Back to previous …"
      ]
     },
     "metadata": {},
     "output_type": "display_data"
    }
   ],
   "source": [
    "path_figure = r\"/mnt/c/Users/coren/Documents/PhD/paper/PandC/FigS1\"\n",
    "cm = 1/2.54  # centimeters in inches\n",
    "\n",
    "import seaborn as sns\n",
    "from matplotlib.ticker import FuncFormatter\n",
    "fig,ax = plt.subplots(figsize = (1.5,1))\n",
    "\n",
    "ax.scatter(df['C0'],df['rho'])\n",
    "ax.set_ylabel('$d_{L}$ \\n ($mm/mm^2$)')\n",
    "ax.set_xlabel('$[P]_{0}$ \\n ($\\mu g/mm^3$)')\n",
    "# plt.tight_layout()\n",
    "plt.savefig(os.path.join(path_figure,'FigureSC0dependence.pdf'), transparent=True, bbox_inches='tight')\n"
   ]
  }
 ],
 "metadata": {
  "kernelspec": {
   "display_name": "Python 3 (ipykernel)",
   "language": "python",
   "name": "python3"
  },
  "language_info": {
   "codemirror_mode": {
    "name": "ipython",
    "version": 3
   },
   "file_extension": ".py",
   "mimetype": "text/x-python",
   "name": "python",
   "nbconvert_exporter": "python",
   "pygments_lexer": "ipython3",
   "version": "3.9.2"
  }
 },
 "nbformat": 4,
 "nbformat_minor": 5
}
