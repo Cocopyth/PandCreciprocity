{
 "cells": [
  {
   "cell_type": "code",
   "execution_count": 1,
   "id": "c0cea6e4-a16d-48df-8d2c-983c960b78f4",
   "metadata": {
    "tags": []
   },
   "outputs": [
    {
     "data": {
      "text/plain": [
       "(3.6, 0.0032500000000000003, 0.0035)"
      ]
     },
     "execution_count": 1,
     "metadata": {},
     "output_type": "execute_result"
    }
   ],
   "source": [
    "Vmax = 3.25e-9 #ugP/um2/hour\n",
    "Vmax = Vmax*1e6 #ugP.mm-2.hour-1\n",
    "DP = 1e-5 #cm**2-s-1, diffusion coefficient of small ions in water\n",
    "DP = DP*1e2*3600 #mm**2-h-1, diffusion coefficient of small ions in water\n",
    "C0 = 3.5 #ug/mL=ug/cm**-3\n",
    "C0 = 3.5*1e-3 #ug/mm**-3\n",
    "\n",
    "DP,Vmax,C0"
   ]
  },
  {
   "cell_type": "code",
   "execution_count": 2,
   "id": "f1689dce-37e5-422f-b0e8-d0c0660ecbcc",
   "metadata": {
    "tags": []
   },
   "outputs": [
    {
     "data": {
      "text/plain": [
       "8.173883497065242"
      ]
     },
     "execution_count": 2,
     "metadata": {},
     "output_type": "execute_result"
    }
   ],
   "source": [
    "import numpy as np\n",
    "V = 26*1e3 #mm3\n",
    "r = 45 #mm\n",
    "V/(np.pi*r**2/2)"
   ]
  },
  {
   "cell_type": "code",
   "execution_count": 3,
   "id": "9ac4c9da-9cbe-423a-a10c-39cf976c9f4e",
   "metadata": {
    "tags": []
   },
   "outputs": [
    {
     "data": {
      "text/plain": [
       "0.5"
      ]
     },
     "execution_count": 3,
     "metadata": {},
     "output_type": "execute_result"
    }
   ],
   "source": [
    "C0 = 500 #mg.L-1\n",
    "C0 = 500*1e3 #ug.L-1\n",
    "C0 = C0 * 1e-3 #ug.cm-3\n",
    "C0 = C0 *1e-3 #ug.mm-3\n",
    "C0"
   ]
  },
  {
   "cell_type": "code",
   "execution_count": 4,
   "id": "8fdbed0f-b80f-4c6d-bb04-328353da372d",
   "metadata": {
    "tags": []
   },
   "outputs": [],
   "source": [
    "def signed_sqrt(x,alpha = 1/2):\n",
    "    \"\"\"Return the signed square root of a number.\"\"\"\n",
    "    if x >= 0:\n",
    "        return x**alpha\n",
    "    else:\n",
    "        return -(-x)**alpha"
   ]
  },
  {
   "cell_type": "code",
   "execution_count": 5,
   "id": "9fb56d66-80a2-4548-8d6b-4a2369eb6564",
   "metadata": {
    "tags": []
   },
   "outputs": [
    {
     "name": "stdout",
     "output_type": "stream",
     "text": [
      "['/home/cocopyth/PandC', '/usr/lib/python39.zip', '/usr/lib/python3.9', '/usr/lib/python3.9/lib-dynload', '', '/home/cocopyth/.local/lib/python3.9/site-packages', '/usr/local/lib/python3.9/dist-packages', '/usr/lib/python3/dist-packages', '/usr/lib/petsc/lib/python3/dist-packages', '/usr/lib/mshr/python3/dist-packages', '/usr/lib/slepc/lib/python3/dist-packages', '/home/cocopyth/miniconda3/lib/python3.9/site-packages']\n"
     ]
    }
   ],
   "source": [
    "import sys\n",
    "sys.path.append('/home/cocopyth/miniconda3/lib/python3.9/site-packages')\n",
    "print(sys.path)\n"
   ]
  },
  {
   "cell_type": "code",
   "execution_count": 6,
   "id": "4aaec90a-7d42-4b63-9dba-e1367ac270c8",
   "metadata": {
    "tags": []
   },
   "outputs": [],
   "source": [
    "# !pip install tqdm\n",
    "from tqdm.notebook import tqdm  # Import tqdm\n"
   ]
  },
  {
   "cell_type": "code",
   "execution_count": 7,
   "id": "a44d3f13-6ff6-45fc-951c-708ff189310f",
   "metadata": {
    "tags": []
   },
   "outputs": [],
   "source": [
    "bp = 8.8"
   ]
  },
  {
   "cell_type": "code",
   "execution_count": 8,
   "id": "77d28f0f-4038-42cf-9919-dd194dd21bc6",
   "metadata": {
    "tags": []
   },
   "outputs": [
    {
     "data": {
      "text/plain": [
       "3.1e-05"
      ]
     },
     "execution_count": 8,
     "metadata": {},
     "output_type": "execute_result"
    }
   ],
   "source": [
    "Km = 1e-3 #umol/cm3\n",
    "Km *= 31 #ug/cm3\n",
    "Km *=1e-3 #ug/mm3\n",
    "Km_snchepf = Km \n",
    "Km_snchepf"
   ]
  },
  {
   "cell_type": "code",
   "execution_count": 9,
   "id": "04857000-8fff-429e-ae97-cb9dcdab7b02",
   "metadata": {
    "tags": []
   },
   "outputs": [
    {
     "name": "stderr",
     "output_type": "stream",
     "text": [
      "/tmp/ipykernel_6038/4217336438.py:20: MatplotlibDeprecationWarning: The get_cmap function was deprecated in Matplotlib 3.7 and will be removed two minor releases later. Use ``matplotlib.colormaps[name]`` or ``matplotlib.colormaps.get_cmap(obj)`` instead.\n",
      "  cmap3 = mpl.cm.get_cmap(\"autumn\")\n",
      "/tmp/ipykernel_6038/4217336438.py:21: MatplotlibDeprecationWarning: The get_cmap function was deprecated in Matplotlib 3.7 and will be removed two minor releases later. Use ``matplotlib.colormaps[name]`` or ``matplotlib.colormaps.get_cmap(obj)`` instead.\n",
      "  cmap4 = mpl.cm.get_cmap(\"summer\")\n"
     ]
    }
   ],
   "source": [
    "# !pip install tqdm\n",
    "from tqdm.notebook import tqdm  # Import tqdm\n",
    "import matplotlib.pyplot as plt\n",
    "path_figure = r\"/mnt/c/Users/coren/Documents/PhD/paper/PandC/Fig5\"\n",
    "plt.style.use('presentation.mplstyle')\n",
    "\n",
    "cm = 1/2.54  # centimeters in inches\n",
    "%matplotlib widget\n",
    "from dolfin import *\n",
    "import numpy as np\n",
    "import matplotlib as mpl\n",
    "import os\n",
    "import matplotlib.ticker as ticker\n",
    "import pandas as pd\n",
    "import seaborn as sns\n",
    "Length = 140*0.8\n",
    "nx = 350*15//10\n",
    "plt.close(\"all\")\n",
    "set_log_active(False)\n",
    "cmap3 = mpl.cm.get_cmap(\"autumn\")\n",
    "cmap4 = mpl.cm.get_cmap(\"summer\")\n",
    "\n",
    "class Simulation:\n",
    "    \"\"\"\n",
    "    A class for simulating a finite element problem using the FEniCS framework.\n",
    "\n",
    "    Attributes:\n",
    "    -----------\n",
    "    Length: float\n",
    "        Length of the interval domain.\n",
    "    nx: int\n",
    "        Number of subdivisions in the mesh.\n",
    "    nT: int\n",
    "        Number of time steps.\n",
    "    T: float\n",
    "        Total simulation time.\n",
    "    C0: float\n",
    "        Initial concentration value.\n",
    "    Fmax: float\n",
    "        Maximum flux value.\n",
    "    Pprice_ideal: float\n",
    "        Ideal price value.\n",
    "    width: float\n",
    "        Width of the plot.\n",
    "    height: float\n",
    "        Height of the plot.\n",
    "    \"\"\"\n",
    "    def __init__(self, Length=Length, nx=nx, nT=200, T=400, C0=10, Fmax=2, Pprice_ideal=20, width=3*cm, height=7*cm,speed = 0.230,adaptation_rate = 1e-4,drag = 0):\n",
    "        self.Length = Length\n",
    "        self.nx = nx\n",
    "        self.dx = Length/nx\n",
    "        self.nT = nT\n",
    "        self.T = T\n",
    "        self.dt = T/nT\n",
    "        self.C0 = C0 #ug.mm-3\n",
    "        self.Fmax = Fmax\n",
    "        self.Pprice_ideal = Pprice_ideal\n",
    "        self.width = width\n",
    "        self.height = height\n",
    "        self.speed = speed\n",
    "        self.adaptation_rate = adaptation_rate\n",
    "        self.speed_penalty = drag\n",
    "        self._setup_simulation()\n",
    "        self.r0 = 3e-3\n",
    "\n",
    "    def _setup_simulation(self):\n",
    "        # Set up the simulation: define mesh, function spaces, initial conditions, etc.\n",
    "        \"\"\"\n",
    "        Sets up the initial conditions and parameters for the simulation.\n",
    "        \"\"\"\n",
    "        # Create mesh and define function space\n",
    "        self.mesh = IntervalMesh(self.nx, 1, self.Length)\n",
    "        P1 = FiniteElement('P', interval, 1)\n",
    "        element = MixedElement([P1, P1, P1])\n",
    "        self.V = FunctionSpace(self.mesh, element)\n",
    "\n",
    "        # Define initial conditions\n",
    "        u0 = Expression(('0.9*exp(-1.2*pow(abs(x[0]-7),2))', \n",
    "                         f'(1-exp(-3*(x[0]-1)))*{self.C0}', '0*exp(-0.01*pow(abs(x[0]),2))'), degree=1)\n",
    "        rexp = Expression(('1/x[0]', '0', '0'), degree=1)\n",
    "        self.r = interpolate(rexp, self.V)\n",
    "        self.invr, _, _ = split(self.r)\n",
    "        self.u_n = interpolate(u0, self.V)\n",
    "\n",
    "        # Splitting functions for later use\n",
    "        self.u = Function(self.V)\n",
    "        self.n, self.C, self.rho = split(self.u)   #mm-3,ug.mm-3,mm2.mm-3\n",
    "        self.n_n, self.C_n, self.rho_n = split(self.u_n)\n",
    "        self.v_1, self.v_0, self.v_2 = TestFunctions(self.V)\n",
    "\n",
    "        # Set parameters and constants\n",
    "        self.dt = self.T / self.nT\n",
    "        self.alphval = 0.039 #.h-1\n",
    "        self.alphval0 = self.alphval\n",
    "        self.betaval = 0.022 #mm.h-1 length coefficient\n",
    "        # self.betaval = 0.022/(2.5e-3) #mm.h-1 SA coefficient\n",
    "        \n",
    "        self.beta = Constant(self.betaval) #mm**4.h-1\n",
    "        self.D = 0.00008 #mm**2.h-1\n",
    "        self.D0 = self.D #mm**2.h-1\n",
    "        \n",
    "        self.D2 = Constant(3.6) #mm**2.h-1\n",
    "        self.n_mid = 0.5*(self.n_n + self.n)\n",
    "        self.v_sval = self.speed #mm.h-1\n",
    "        self.s_scal = self.speed #mm.h-1\n",
    "        self.v_s = Constant((self.v_sval,)) #mm.h-1\n",
    "        self.Vmax = self.Fmax #ug.mm**-2.h-1\n",
    "        self.Kp = Km_snchepf #ug.mm-3\n",
    "        # Boundary conditions\n",
    "        u_L = (Constant(0.0), Constant(0.0), Constant(0.0))\n",
    "        u_R = (Constant(0.0), Constant(self.C0), Constant(0.0))\n",
    "        bc_L = DirichletBC(self.V, u_L, 'near(x[0], 1.0)')\n",
    "        bc_R = DirichletBC(self.V, u_R, f'near(x[0], {self.Length})')\n",
    "        self.bcs = [bc_L, bc_R]\n",
    "\n",
    "    def _make_F(self, alphval,D,sval):\n",
    "        # Define the variational problem F\n",
    "        alpha = Constant(alphval)\n",
    "        D = Constant(D)\n",
    "        s_scal = Constant(sval)\n",
    "        C_L =  self.C/bp\n",
    "        \n",
    "        # dn/dt\n",
    "        F = self.n*self.v_1*dx - self.n_n*self.v_1*dx \n",
    "        # D lapplacian(n)\n",
    "        F += D*dot(grad(self.n), grad(self.v_1))*self.dt*dx\n",
    "        # To account for cylindrical coordinates\n",
    "        F += self.invr*D*dot(grad(self.n), Constant((1,)))*self.v_1*self.dt*dx\n",
    "        \n",
    "        #v.grad(n)\n",
    "        F += self.dt*dot(grad(self.n_mid),self.v_s)*self.v_1*dx\n",
    "        # To account for cylindrical coordinates\n",
    "        F += self.invr*self.dt*self.n_mid*Constant(self.v_sval)*self.v_1*dx\n",
    "        \n",
    "        #alpha*n - beta * n * rho\n",
    "        F += self.beta*self.v_1*self.rho*(self.n)*self.dt*dx\n",
    "        F -= alpha*(self.n)*self.v_1*self.dt*dx\n",
    "        #d rho/dt = vn\n",
    "        F -= self.dt*s_scal*self.n*self.v_2*dx-(self.rho-self.rho_n)*self.v_2*dx\n",
    "\n",
    "\n",
    "        # dC/dt\n",
    "        F += self.C*self.v_0*dx - self.C_n*self.v_0*dx #ug.mm-3\n",
    "        # Vmax * rho * C/(C+Kp)\n",
    "        F += 2*np.pi*self.Vmax*(self.rho/bp)*self.r0*(self.C/bp/(self.Kp+self.C/bp))*self.v_0*self.dt*dx #ug\n",
    "        # Diffusion \n",
    "        F += self.D2*dot(grad(self.C/bp), grad(self.v_0))*self.dt*dx\n",
    "        # To account for cylindrical coordinates\n",
    "        F += self.invr*self.D2*dot(grad(self.C/bp), Constant((1,)))*self.v_0*self.dt*dx\n",
    "\n",
    "        return F\n",
    "    def integrate(self, plot=False,remove_ylabels = False):\n",
    "        \"\"\"\n",
    "        Integrate the problem over time and optionally plot the results.\n",
    "        Returns arrays of C(x, t), rho(x, t), and n(x, t) over the simulation.\n",
    "\n",
    "        Parameters:\n",
    "        -----------\n",
    "        plot: bool\n",
    "            If True, plot the results using matplotlib.\n",
    "\n",
    "        Returns:\n",
    "        --------\n",
    "        C_xt: list of arrays\n",
    "            Concentration C as a function of position x and time t.\n",
    "        rho_xt: list of arrays\n",
    "            Density rho as a function of position x and time t.\n",
    "        n_xt: list of arrays\n",
    "            Quantity n as a function of position x and time t.\n",
    "        \"\"\"\n",
    "        # Initialize arrays to store C(x, t), rho(x, t), and n(x, t)\n",
    "        C_xt = []\n",
    "        rho_xt = []\n",
    "        n_xt = []\n",
    "        P_prices = []\n",
    "        alphavals = []\n",
    "        # Initialize matplotlib plots if needed\n",
    "        if plot:\n",
    "            fig, axs = plt.subplots(4, 1, figsize=(self.width, self.height*1.5))\n",
    "            cmap = mpl.cm.get_cmap(\"winter\")\n",
    "            cmap2 = mpl.cm.get_cmap(\"spring\")\n",
    "\n",
    "        # Time-stepping loop\n",
    "        V2 = FunctionSpace(self.mesh, 'P', 1)\n",
    "        X = np.linspace(1, self.Length, self.nx)\n",
    "        i=0\n",
    "        tot_CCosts= [] \n",
    "        tot_Pacqus = []\n",
    "        for t in tqdm(np.linspace(0, self.T, self.nT), desc=\"Simulating\"):\n",
    "            F = self._make_F(self.alphval,self.D,self.s_scal)\n",
    "            solve(F == 0, self.u, self.bcs)\n",
    "            self.u_n.assign(self.u)\n",
    "            _n, _C, _rho = self.u.split()\n",
    "\n",
    "            # Interpolate and store the results\n",
    "            n_field = interpolate(_n, V2)\n",
    "            rho_field = interpolate(_rho, V2)\n",
    "            C_field = interpolate(_C, V2)\n",
    "            Ccost = np.pi*np.sum([n_field(x)*x*self.dx*self.v_sval for x in X]) #mm.h-1\n",
    "            Ccost *= np.pi*(self.r0)**2 #mm**3.h-1\n",
    "            Ccost *= 1e-3  #mL.mm-1.h-1=dm**3.h-1\n",
    "            \n",
    "            Ccost *= 0.5*0.21*1.1 #g.h-1\n",
    "            Ccost *= 1e6 #ug.h-1\n",
    "            Ccost *= 2 #respiration\n",
    "            \n",
    "            Ccost *= (self.v_sval/0.25)**(self.speed_penalty)\n",
    "            Pacquisition = np.pi*np.sum([self.Vmax*(C_field(x)/bp/(C_field(x)/bp+self.Kp))*rho_field(x)*x*self.dx for x in X]) #ug.h-1.mm-2\n",
    "            Pacquisition *= 2*self.r0*np.pi #ug.mm-1\n",
    "            # Pacquisition += 5e-4*np.exp(-t/100)\n",
    "            tot_CCosts.append(Ccost) \n",
    "            tot_Pacqus.append(Pacquisition)\n",
    "            # Pprice = Ccost/Pacquisition\n",
    "            integrated_CCost = np.sum(tot_CCosts[-10*self.T//self.nT:])\n",
    "            integrated_Pacqu = np.sum(tot_Pacqus[-10*self.T//self.nT:])\n",
    "            \n",
    "            Pprice = integrated_CCost/integrated_Pacqu\n",
    "\n",
    "            alphavals.append(self.alphval)\n",
    "            if t>=0:\n",
    "                # self.s_scal = self.Pprice_ideal/Pprice*self.speed\n",
    "                self.alphval = max(0.001,self.alphval + self.dt*self.adaptation_rate*(t/50)**2*signed_sqrt((self.Pprice_ideal-Pprice)/self.Pprice_ideal,alpha = 1))\n",
    "            # print(self.alphval)\n",
    "            self.D = self.D0*self.alphval0/self.alphval\n",
    "            # print(2*(np.sqrt(self.D*self.alphval)))\n",
    "            n_xt.append([n_field(x) for x in X])\n",
    "            rho_xt.append([rho_field(x) for x in X])\n",
    "            C_xt.append([C_field(x) for x in X])\n",
    "            P_prices.append(Pprice)\n",
    "            # print(Pprice,self.alphval)\n",
    "            if plot and i % (self.nT//5) == 0:\n",
    "                axs[1].plot(X, n_xt[-1], color=cmap2(t / self.T))\n",
    "                axs[0].plot(X, rho_xt[-1], color=cmap(t / self.T))\n",
    "                axs[2].plot(X, np.array(C_xt[-1])*1000, color=cmap3(t / self.T))\n",
    "                Pacq =  [2*self.r0*np.pi*C_xt[-1][i]/bp/(C_xt[-1][i]/bp+self.Kp) * rho_xt[-1][i]/bp*Vmax*1000 for i in range(len(X))]\n",
    "\n",
    "                axs[3].plot(X, Pacq, color=cmap4(t / self.T))\n",
    "                # break\n",
    "            i+=1\n",
    "            \n",
    "\n",
    "        # Finalize plot settings if plotting\n",
    "        if plot:\n",
    "            axs[1].plot(X, n_xt[-1], color=cmap2(t / self.T))\n",
    "            axs[0].plot(X, rho_xt[-1], color=cmap(t / self.T))\n",
    "            satrho = np.median([rho for rho in rho_xt[-1] if rho>1e-10])\n",
    "            \n",
    "            # axs[0].hlines(satrho,np.min(X),np.max(X), color=\"red\")\n",
    "            \n",
    "            axs[2].plot(X, np.array(C_xt[-1])*1000, color=cmap3(t / self.T))\n",
    "            Pacq =  [2*self.r0*np.pi*C_xt[-1][i]/bp/(C_xt[-1][i]/bp+self.Kp) * rho_xt[-1][i]/bp*Vmax*1000 for i in range(len(X))]\n",
    "            axs[3].plot(X, Pacq, color=cmap4(t / self.T))\n",
    "            axs[0].set_ylabel(r'$\\rho$'+ '\\n $(mm^{-1})$')\n",
    "            axs[0].set_xticklabels([])\n",
    "            axs[0].set_ylim(0,8)\n",
    "            \n",
    "            axs[1].set_ylabel('$n$ \\n $(mm^{-2})$')\n",
    "            axs[1].set_xticklabels([])\n",
    "            axs[1].set_ylim(0,3)\n",
    "            \n",
    "            axs[2].set_ylabel('$[P]$ \\n ($ng/ mm^{3}$)')\n",
    "            axs[2].set_xticklabels([])\n",
    "            axs[2].set_ylim(0,13)\n",
    "            \n",
    "            axs[3].set_ylabel('$\\phi_P$ \\n ($ng/mm^{3}/h$)')\n",
    "\n",
    "            axs[3].set_xlabel('position \\n ($mm$)')\n",
    "            axs[3].set_ylim(0,0.05)\n",
    "\n",
    "            formatter = ticker.FormatStrFormatter('%.2f')  # Adjust format as needed\n",
    "\n",
    "            for ax in axs:\n",
    "                ax.yaxis.set_major_formatter(formatter)\n",
    "            if remove_ylabels:\n",
    "                for ax in axs:\n",
    "                    ax.set_ylabel('')\n",
    "                    ax.set_yticklabels([])\n",
    "\n",
    "            plt.show()\n",
    "\n",
    "        return C_xt, rho_xt, n_xt,P_prices,alphavals\n",
    "        \n",
    "\n",
    "# Example usage:\n",
    "adaptation_rate = 8e-3\n",
    "C0=0.0014*bp #ug/mm2\n",
    "Pprice_ideal = 3\n",
    "speed = 0.17\n",
    "T = 100\n",
    "nT= 200\n",
    "# sim = Simulation(speed = speed,C0=C0,T = T,nT=nT,Pprice_ideal = Pprice_ideal,Fmax = Vmax,adaptation_rate = adaptation_rate,drag = 1)\n",
    "# C_xt, rho_xt, n_xt,P_prices,alphavals = sim.integrate(plot=True)\n",
    "# speed = 0.26\n",
    "\n",
    "# sim = Simulation(speed = speed,C0=C0,T = T,nT=nT,Pprice_ideal = Pprice_ideal,Fmax = Vmax,adaptation_rate = adaptation_rate,drag = 1)\n",
    "# C_xt, rho_xt, n_xt,P_prices,alphavals = sim.integrate(plot=True)"
   ]
  },
  {
   "cell_type": "code",
   "execution_count": 10,
   "id": "f7d3698b-580c-42af-b8d0-636848d82a47",
   "metadata": {
    "tags": []
   },
   "outputs": [],
   "source": [
    "\n",
    "def get_rhosat(speed,C0=10,Pprice_ideal = 1/15):\n",
    "    sim = Simulation(speed = speed,C0=C0,T = T,nT=nT,Pprice_ideal = Pprice_ideal,Fmax = Vmax,adaptation_rate = adaptation_rate,drag = 1)\n",
    "    C_xt, rho_xt, n_xt,P_prices,_ = sim.integrate(plot=False)\n",
    "    rho_sat = np.median([rho for rho in rho_xt[-1] if rho>0.1])\n",
    "    poss = np.argmax(n_xt,axis=1)\n",
    "    x = np.linspace(0,sim.T,sim.nT)\n",
    "    y = np.array(poss)*sim.Length/sim.nx\n",
    "    fit_coeffs = np.polyfit(x[3*sim.nT//4:], y[3*sim.nT//4:], 1)\n",
    "    return(rho_sat,fit_coeffs[0],[rho for rho in rho_xt[-1] if rho>0.1])"
   ]
  },
  {
   "cell_type": "code",
   "execution_count": 11,
   "id": "7c153168-f874-4fc8-8e85-ee3e685f8154",
   "metadata": {
    "tags": []
   },
   "outputs": [
    {
     "data": {
      "application/vnd.jupyter.widget-view+json": {
       "model_id": "d1c8b33b52f442d4b90b180749568152",
       "version_major": 2,
       "version_minor": 0
      },
      "text/plain": [
       "Simulating:   0%|          | 0/200 [00:00<?, ?it/s]"
      ]
     },
     "metadata": {},
     "output_type": "display_data"
    },
    {
     "data": {
      "application/vnd.jupyter.widget-view+json": {
       "model_id": "9e820df91aa6446d9788fe2acfb0800f",
       "version_major": 2,
       "version_minor": 0
      },
      "text/plain": [
       "Simulating:   0%|          | 0/200 [00:00<?, ?it/s]"
      ]
     },
     "metadata": {},
     "output_type": "display_data"
    },
    {
     "data": {
      "application/vnd.jupyter.widget-view+json": {
       "model_id": "6e08bbaabcbc4c4f85535e73a859e053",
       "version_major": 2,
       "version_minor": 0
      },
      "text/plain": [
       "Simulating:   0%|          | 0/200 [00:00<?, ?it/s]"
      ]
     },
     "metadata": {},
     "output_type": "display_data"
    },
    {
     "data": {
      "application/vnd.jupyter.widget-view+json": {
       "model_id": "282af759e66b4b2fa9c1ed9e72526a1d",
       "version_major": 2,
       "version_minor": 0
      },
      "text/plain": [
       "Simulating:   0%|          | 0/200 [00:00<?, ?it/s]"
      ]
     },
     "metadata": {},
     "output_type": "display_data"
    },
    {
     "data": {
      "application/vnd.jupyter.widget-view+json": {
       "model_id": "854ad07d82ca4ec3a7e6f2f4dd3947f8",
       "version_major": 2,
       "version_minor": 0
      },
      "text/plain": [
       "Simulating:   0%|          | 0/200 [00:00<?, ?it/s]"
      ]
     },
     "metadata": {},
     "output_type": "display_data"
    },
    {
     "data": {
      "application/vnd.jupyter.widget-view+json": {
       "model_id": "c141524e6c4c4960973b8ed42843a06a",
       "version_major": 2,
       "version_minor": 0
      },
      "text/plain": [
       "Simulating:   0%|          | 0/200 [00:00<?, ?it/s]"
      ]
     },
     "metadata": {},
     "output_type": "display_data"
    },
    {
     "data": {
      "application/vnd.jupyter.widget-view+json": {
       "model_id": "b90e678a2cc54b4a8705304d7e752fff",
       "version_major": 2,
       "version_minor": 0
      },
      "text/plain": [
       "Simulating:   0%|          | 0/200 [00:00<?, ?it/s]"
      ]
     },
     "metadata": {},
     "output_type": "display_data"
    },
    {
     "data": {
      "application/vnd.jupyter.widget-view+json": {
       "model_id": "fd932e5f954047aeb8f4592d831d2c81",
       "version_major": 2,
       "version_minor": 0
      },
      "text/plain": [
       "Simulating:   0%|          | 0/200 [00:00<?, ?it/s]"
      ]
     },
     "metadata": {},
     "output_type": "display_data"
    },
    {
     "data": {
      "application/vnd.jupyter.widget-view+json": {
       "model_id": "6eeb6bc49ba548d29ec78194384e6657",
       "version_major": 2,
       "version_minor": 0
      },
      "text/plain": [
       "Simulating:   0%|          | 0/200 [00:00<?, ?it/s]"
      ]
     },
     "metadata": {},
     "output_type": "display_data"
    },
    {
     "data": {
      "application/vnd.jupyter.widget-view+json": {
       "model_id": "902660d326af4a8b832d5ed130320178",
       "version_major": 2,
       "version_minor": 0
      },
      "text/plain": [
       "Simulating:   0%|          | 0/200 [00:00<?, ?it/s]"
      ]
     },
     "metadata": {},
     "output_type": "display_data"
    }
   ],
   "source": [
    "plt.close('all')\n",
    "speeds = np.linspace(0.13,0.26,10)\n",
    "\n",
    "rho_sats_speeds = [get_rhosat(speed,C0=C0,Pprice_ideal = Pprice_ideal) for speed in speeds]\n",
    "    "
   ]
  },
  {
   "cell_type": "code",
   "execution_count": 12,
   "id": "8885c3cd-b865-4481-8513-b5c61d819868",
   "metadata": {
    "tags": []
   },
   "outputs": [],
   "source": [
    "speeds_observed = [speed for _,speed,_ in rho_sats_speeds]\n",
    "rho_sats = [rho for rho,_,_ in rho_sats_speeds]\n",
    "\n",
    "rho_all = [(speed,rho) for _,speed,rhos in rho_sats_speeds for rho in rhos]"
   ]
  },
  {
   "cell_type": "code",
   "execution_count": 13,
   "id": "df5335ad-100e-4d10-b91c-0521b9be1397",
   "metadata": {
    "tags": []
   },
   "outputs": [],
   "source": [
    "speeds_observed2 = [speed for speed,_ in rho_all]\n",
    "rho_observed2 = [rho for _,rho in rho_all]\n"
   ]
  },
  {
   "cell_type": "code",
   "execution_count": 14,
   "id": "83868a99-6109-4500-a164-28e858b0e6d6",
   "metadata": {
    "tags": []
   },
   "outputs": [],
   "source": [
    "data = pd.DataFrame({\n",
    "    'speed': speeds_observed2,\n",
    "    'rho': rho_observed2\n",
    "})\n",
    "data['speed']=data['speed']*1000"
   ]
  },
  {
   "cell_type": "code",
   "execution_count": 15,
   "id": "237c05fd-798e-4390-a90a-92cd48a8333b",
   "metadata": {
    "tags": []
   },
   "outputs": [],
   "source": [
    "path_figure = r\"/mnt/c/Users/coren/Documents/PhD/paper/PandC/Fig5\"\n"
   ]
  },
  {
   "cell_type": "code",
   "execution_count": 16,
   "id": "66e4c59c-57b2-44a3-ae15-ce93773edf46",
   "metadata": {
    "tags": []
   },
   "outputs": [],
   "source": [
    "\n",
    "\n",
    "df = pd.read_csv(\"expexptradeoff.csv\")\n",
    "df['instant_L_dens']=df['instant_L_dens']/1000\n",
    "strain_to_color = {'C2': (0.17058823529411765, 0.4946558433997788, 0.9667184042691874),\n",
    " 'A5': (0.16666666666666663, 0.8660254037844386, 0.8660254037844387),\n",
    " 'Agg': (0.503921568627451, 0.9999810273487268, 0.7049255469061472),\n",
    " 'Clarum': (0.8333333333333333, 0.8660254037844387, 0.5000000000000001),\n",
    " 'C3': (1.0, 0.4946558433997788, 0.2558427775944356)}"
   ]
  },
  {
   "cell_type": "code",
   "execution_count": 17,
   "id": "6d70f272-cc59-4f17-9f9c-1a8316bb432c",
   "metadata": {
    "tags": []
   },
   "outputs": [],
   "source": [
    "\n",
    "# def get_rhosat2(speed,C0=10,Pprice_ideal = 1/15):\n",
    "#     sim = Simulation(speed = speed,C0=C0,T = T,nT=nT,Pprice_ideal = Pprice_ideal,Fmax = Vmax,adaptation_rate = 3e-4,drag = 0)\n",
    "#     C_xt, rho_xt, n_xt,P_prices,_ = sim.integrate(plot=False)\n",
    "#     rho_sat = np.median([rho for rho in rho_xt[-1] if rho>0.1])\n",
    "#     poss = np.argmax(n_xt,axis=1)\n",
    "#     x = np.linspace(0,sim.T,sim.nT)\n",
    "#     y = np.array(poss)*sim.Length/sim.nx\n",
    "#     fit_coeffs = np.polyfit(x[3*sim.nT//4:], y[3*sim.nT//4:], 1)\n",
    "#     return(rho_sat,fit_coeffs[0])\n",
    "# rho_sats_speeds2 = [get_rhosat2(speed,C0=C0,Pprice_ideal = Pprice_ideal) for speed in speeds]\n",
    "# speeds_observed2 = [speed for _,speed in rho_sats_speeds2]\n",
    "# rho_sats2 = [rho for rho,_ in rho_sats_speeds2]"
   ]
  },
  {
   "cell_type": "code",
   "execution_count": 18,
   "id": "32baa754-c101-4639-8f42-7f4eec17f228",
   "metadata": {
    "tags": []
   },
   "outputs": [
    {
     "data": {
      "application/vnd.jupyter.widget-view+json": {
       "model_id": "6696dee8d7034e4b9f1a26bf4f285739",
       "version_major": 2,
       "version_minor": 0
      },
      "image/png": "[encoded data removed]",
      "text/html": [
       "\n",
       "            <div style=\"display: inline-block;\">\n",
       "                <div class=\"jupyter-widgets widget-label\" style=\"text-align: center;\">\n",
       "                    Figure\n",
       "                </div>\n",
       "                <img src='data:image/png;base64,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' width=157.4803149606299/>\n",
       "            </div>\n",
       "        "
      ],
      "text/plain": [
       "Canvas(toolbar=Toolbar(toolitems=[('Home', 'Reset original view', 'home', 'home'), ('Back', 'Back to previous …"
      ]
     },
     "metadata": {},
     "output_type": "display_data"
    }
   ],
   "source": [
    "plt.style.use('presentation.mplstyle')\n",
    "cm = 1/2.54  # centimeters in inches\n",
    "\n",
    "fig,ax = plt.subplots(figsize = (4*cm,3*cm))\n",
    "# fig,ax = plt.subplots()\n",
    "\n",
    "# ax.plot(np.array(speeds_observed)*1000,rho_sats,color=\"black\")\n",
    "# ax.scatter(np.array(speeds_observed2)*1000,rho_observed2,color=\"black\")\n",
    "lineplot = sns.lineplot(x='speed', y='rho', data=data, errorbar=('ci', 95), estimator='mean',color = \"black\")\n",
    "# ax.plot(np.array(speeds)*1000,rho_sats2,color=\"black\",linestyle = \"dashed\")\n",
    "\n",
    "sns.scatterplot(data = df,x='hull_speed',y='instant_L_dens',hue='strain',s=50,palette=strain_to_color)\n",
    "# ax.set_xscale(\"log\")\n",
    "# ax.set_yscale(\"log\")\n",
    "ax.set_xlabel('$v_{wave}$ (um/h)')\n",
    "ax.set_ylabel('$d_{L}$ \\n ($mm/mm^2$)')\n",
    "# plt.tight_layout()\n",
    "plt.legend().remove()\n",
    "\n",
    "plt.savefig(os.path.join(path_figure,'Figure5tradeoff.pdf'), transparent=True, bbox_inches='tight')\n"
   ]
  },
  {
   "cell_type": "code",
   "execution_count": 19,
   "id": "1fe56b4e-e7d4-49c6-898d-f60f8874ca67",
   "metadata": {
    "tags": []
   },
   "outputs": [
    {
     "ename": "NameError",
     "evalue": "name 'rgzega' is not defined",
     "output_type": "error",
     "traceback": [
      "\u001b[0;31m---------------------------------------------------------------------------\u001b[0m",
      "\u001b[0;31mNameError\u001b[0m                                 Traceback (most recent call last)",
      "Cell \u001b[0;32mIn[19], line 1\u001b[0m\n\u001b[0;32m----> 1\u001b[0m \u001b[43mrgzega\u001b[49m\n",
      "\u001b[0;31mNameError\u001b[0m: name 'rgzega' is not defined"
     ]
    }
   ],
   "source": [
    "rgzega"
   ]
  },
  {
   "cell_type": "code",
   "execution_count": null,
   "id": "07e57e7a-c8c3-4d5b-90c1-53e0e5586f9c",
   "metadata": {
    "tags": []
   },
   "outputs": [],
   "source": [
    "fig,ax = plt.subplots()\n",
    "ax.scatter(speeds,speeds_observed)\n",
    "fit_coeffs = np.polyfit(speeds, speeds_observed, 1)\n",
    "x = [0,0.30]\n",
    "fit_line = np.polyval(fit_coeffs, x)\n",
    "\n",
    "# Plot data and linear fit\n",
    "ax.plot(x, fit_line, 'r--')\n",
    "# ax.set_xscale(\"log\")\n",
    "# ax.set_yscale(\"log\")"
   ]
  }
 ],
 "metadata": {
  "kernelspec": {
   "display_name": "Python 3 (ipykernel)",
   "language": "python",
   "name": "python3"
  },
  "language_info": {
   "codemirror_mode": {
    "name": "ipython",
    "version": 3
   },
   "file_extension": ".py",
   "mimetype": "text/x-python",
   "name": "python",
   "nbconvert_exporter": "python",
   "pygments_lexer": "ipython3",
   "version": "3.9.2"
  }
 },
 "nbformat": 4,
 "nbformat_minor": 5
}
