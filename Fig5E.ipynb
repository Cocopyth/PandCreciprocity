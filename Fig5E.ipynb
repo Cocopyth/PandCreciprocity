{
 "cells": [
  {
   "cell_type": "code",
   "execution_count": 1,
   "id": "c0cea6e4-a16d-48df-8d2c-983c960b78f4",
   "metadata": {
    "tags": []
   },
   "outputs": [
    {
     "data": {
      "text/plain": [
       "(3.6, 0.0032500000000000003, 0.0035)"
      ]
     },
     "execution_count": 1,
     "metadata": {},
     "output_type": "execute_result"
    }
   ],
   "source": [
    "Vmax = 3.25e-9 #ugP/um2/hour\n",
    "Vmax = Vmax*1e6 #ugP.mm-2.hour-1\n",
    "DP = 1e-5 #cm**2-s-1, diffusion coefficient of small ions in water\n",
    "DP = DP*1e2*3600 #mm**2-h-1, diffusion coefficient of small ions in water\n",
    "C0 = 3.5 #ug/mL=ug/cm**-3\n",
    "C0 = 3.5*1e-3 #ug/mm**-3\n",
    "\n",
    "DP,Vmax,C0"
   ]
  },
  {
   "cell_type": "code",
   "execution_count": 2,
   "id": "f1689dce-37e5-422f-b0e8-d0c0660ecbcc",
   "metadata": {
    "tags": []
   },
   "outputs": [
    {
     "data": {
      "text/plain": [
       "8.173883497065242"
      ]
     },
     "execution_count": 2,
     "metadata": {},
     "output_type": "execute_result"
    }
   ],
   "source": [
    "import numpy as np\n",
    "V = 26*1e3 #mm3\n",
    "r = 45 #mm\n",
    "V/(np.pi*r**2/2)"
   ]
  },
  {
   "cell_type": "code",
   "execution_count": 3,
   "id": "9ac4c9da-9cbe-423a-a10c-39cf976c9f4e",
   "metadata": {
    "tags": []
   },
   "outputs": [
    {
     "data": {
      "text/plain": [
       "0.5"
      ]
     },
     "execution_count": 3,
     "metadata": {},
     "output_type": "execute_result"
    }
   ],
   "source": [
    "C0 = 500 #mg.L-1\n",
    "C0 = 500*1e3 #ug.L-1\n",
    "C0 = C0 * 1e-3 #ug.cm-3\n",
    "C0 = C0 *1e-3 #ug.mm-3\n",
    "C0"
   ]
  },
  {
   "cell_type": "code",
   "execution_count": 4,
   "id": "8fdbed0f-b80f-4c6d-bb04-328353da372d",
   "metadata": {
    "tags": []
   },
   "outputs": [],
   "source": [
    "def signed_sqrt(x,alpha = 1/2):\n",
    "    \"\"\"Return the signed square root of a number.\"\"\"\n",
    "    if x >= 0:\n",
    "        return x**alpha\n",
    "    else:\n",
    "        return -(-x)**alpha"
   ]
  },
  {
   "cell_type": "code",
   "execution_count": 5,
   "id": "9fb56d66-80a2-4548-8d6b-4a2369eb6564",
   "metadata": {
    "tags": []
   },
   "outputs": [
    {
     "name": "stdout",
     "output_type": "stream",
     "text": [
      "['/home/cocopyth/PandC', '/home/cocopyth/miniconda3/envs/bvpy_manu/lib/python39.zip', '/home/cocopyth/miniconda3/envs/bvpy_manu/lib/python3.9', '/home/cocopyth/miniconda3/envs/bvpy_manu/lib/python3.9/lib-dynload', '', '/home/cocopyth/.local/lib/python3.9/site-packages', '/home/cocopyth/miniconda3/envs/bvpy_manu/lib/python3.9/site-packages', '/home/cocopyth/miniconda3/envs/bvpy_manu/lib/python3.9/site-packages/setuptools/_vendor', '/home/cocopyth/miniconda3/lib/python3.9/site-packages']\n"
     ]
    }
   ],
   "source": [
    "import sys\n",
    "sys.path.append('/home/cocopyth/miniconda3/lib/python3.9/site-packages')\n",
    "print(sys.path)\n"
   ]
  },
  {
   "cell_type": "code",
   "execution_count": 6,
   "id": "4aaec90a-7d42-4b63-9dba-e1367ac270c8",
   "metadata": {
    "tags": []
   },
   "outputs": [],
   "source": [
    "# !pip install tqdm\n",
    "from tqdm.notebook import tqdm  # Import tqdm\n"
   ]
  },
  {
   "cell_type": "code",
   "execution_count": 7,
   "id": "a44d3f13-6ff6-45fc-951c-708ff189310f",
   "metadata": {
    "tags": []
   },
   "outputs": [],
   "source": [
    "bp = 8.8"
   ]
  },
  {
   "cell_type": "code",
   "execution_count": 8,
   "id": "77d28f0f-4038-42cf-9919-dd194dd21bc6",
   "metadata": {
    "tags": []
   },
   "outputs": [
    {
     "data": {
      "text/plain": [
       "3.1e-05"
      ]
     },
     "execution_count": 8,
     "metadata": {},
     "output_type": "execute_result"
    }
   ],
   "source": [
    "Km = 1e-3 #umol/cm3\n",
    "Km *= 31 #ug/cm3\n",
    "Km *=1e-3 #ug/mm3\n",
    "Km_snchepf = Km \n",
    "Km_snchepf"
   ]
  },
  {
   "cell_type": "code",
   "execution_count": 9,
   "id": "04857000-8fff-429e-ae97-cb9dcdab7b02",
   "metadata": {
    "tags": []
   },
   "outputs": [
    {
     "name": "stderr",
     "output_type": "stream",
     "text": [
      "/tmp/ipykernel_2030/1602298972.py:20: MatplotlibDeprecationWarning: The get_cmap function was deprecated in Matplotlib 3.7 and will be removed two minor releases later. Use ``matplotlib.colormaps[name]`` or ``matplotlib.colormaps.get_cmap(obj)`` instead.\n",
      "  cmap3 = mpl.cm.get_cmap(\"autumn\")\n",
      "/tmp/ipykernel_2030/1602298972.py:21: MatplotlibDeprecationWarning: The get_cmap function was deprecated in Matplotlib 3.7 and will be removed two minor releases later. Use ``matplotlib.colormaps[name]`` or ``matplotlib.colormaps.get_cmap(obj)`` instead.\n",
      "  cmap4 = mpl.cm.get_cmap(\"summer\")\n"
     ]
    }
   ],
   "source": [
    "# !pip install tqdm\n",
    "from tqdm.notebook import tqdm  # Import tqdm\n",
    "import matplotlib.pyplot as plt\n",
    "path_figure = r\"/mnt/c/Users/coren/Documents/PhD/paper/PandC/Fig5\"\n",
    "plt.style.use('presentation.mplstyle')\n",
    "\n",
    "cm = 1/2.54  # centimeters in inches\n",
    "%matplotlib widget\n",
    "from dolfin import *\n",
    "import numpy as np\n",
    "import matplotlib as mpl\n",
    "import os\n",
    "import matplotlib.ticker as ticker\n",
    "import pandas as pd\n",
    "import seaborn as sns\n",
    "Length = 140*0.8\n",
    "nx = 350*15//10\n",
    "plt.close(\"all\")\n",
    "set_log_active(False)\n",
    "cmap3 = mpl.cm.get_cmap(\"autumn\")\n",
    "cmap4 = mpl.cm.get_cmap(\"summer\")\n",
    "\n",
    "class Simulation:\n",
    "    \"\"\"\n",
    "    A class for simulating a finite element problem using the FEniCS framework.\n",
    "\n",
    "    Attributes:\n",
    "    -----------\n",
    "    Length: float\n",
    "        Length of the interval domain.\n",
    "    nx: int\n",
    "        Number of subdivisions in the mesh.\n",
    "    nT: int\n",
    "        Number of time steps.\n",
    "    T: float\n",
    "        Total simulation time.\n",
    "    C0: float\n",
    "        Initial concentration value.\n",
    "    Fmax: float\n",
    "        Maximum flux value.\n",
    "    Pprice_ideal: float\n",
    "        Ideal price value.\n",
    "    width: float\n",
    "        Width of the plot.\n",
    "    height: float\n",
    "        Height of the plot.\n",
    "    \"\"\"\n",
    "    def __init__(self, Length=Length, nx=nx, nT=200, T=400, C0=10, Fmax=2, Pprice_ideal=20, width=3*cm, height=7*cm,speed = 0.230,adaptation_rate = 1e-4,drag = 0):\n",
    "        self.Length = Length\n",
    "        self.nx = nx\n",
    "        self.dx = Length/nx\n",
    "        self.nT = nT\n",
    "        self.T = T\n",
    "        self.dt = T/nT\n",
    "        self.C0 = C0 #ug.mm-3\n",
    "        self.Fmax = Fmax\n",
    "        self.Pprice_ideal = Pprice_ideal\n",
    "        self.width = width\n",
    "        self.height = height\n",
    "        self.speed = speed\n",
    "        self.adaptation_rate = adaptation_rate\n",
    "        self.speed_penalty = drag\n",
    "        self._setup_simulation()\n",
    "        self.r0 = 3e-3\n",
    "\n",
    "    def _setup_simulation(self):\n",
    "        # Set up the simulation: define mesh, function spaces, initial conditions, etc.\n",
    "        \"\"\"\n",
    "        Sets up the initial conditions and parameters for the simulation.\n",
    "        \"\"\"\n",
    "        # Create mesh and define function space\n",
    "        self.mesh = IntervalMesh(self.nx, 1, self.Length)\n",
    "        P1 = FiniteElement('P', interval, 1)\n",
    "        element = MixedElement([P1, P1, P1])\n",
    "        self.V = FunctionSpace(self.mesh, element)\n",
    "\n",
    "        # Define initial conditions\n",
    "        u0 = Expression(('0.9*exp(-1.2*pow(abs(x[0]-7),2))', \n",
    "                         f'(1-exp(-3*(x[0]-1)))*{self.C0}', '0*exp(-0.01*pow(abs(x[0]),2))'), degree=1)\n",
    "        rexp = Expression(('1/x[0]', '0', '0'), degree=1)\n",
    "        self.r = interpolate(rexp, self.V)\n",
    "        self.invr, _, _ = split(self.r)\n",
    "        self.u_n = interpolate(u0, self.V)\n",
    "\n",
    "        # Splitting functions for later use\n",
    "        self.u = Function(self.V)\n",
    "        self.n, self.C, self.rho = split(self.u)   #mm-3,ug.mm-3,mm2.mm-3\n",
    "        self.n_n, self.C_n, self.rho_n = split(self.u_n)\n",
    "        self.v_1, self.v_0, self.v_2 = TestFunctions(self.V)\n",
    "\n",
    "        # Set parameters and constants\n",
    "        self.dt = self.T / self.nT\n",
    "        self.alphval = 0.039 #.h-1\n",
    "        self.alphval0 = self.alphval\n",
    "        self.betaval = 0.022 #mm.h-1 length coefficient\n",
    "        # self.betaval = 0.022/(2.5e-3) #mm.h-1 SA coefficient\n",
    "        \n",
    "        self.beta = Constant(self.betaval) #mm**4.h-1\n",
    "        self.D = 0.00008 #mm**2.h-1\n",
    "        self.D0 = self.D #mm**2.h-1\n",
    "        \n",
    "        self.D2 = Constant(3.6) #mm**2.h-1\n",
    "        self.n_mid = 0.5*(self.n_n + self.n)\n",
    "        self.v_sval = self.speed #mm.h-1\n",
    "        self.s_scal = self.speed #mm.h-1\n",
    "        self.v_s = Constant((self.v_sval,)) #mm.h-1\n",
    "        self.Vmax = self.Fmax #ug.mm**-2.h-1\n",
    "        self.Kp = Km_snchepf #ug.mm-3\n",
    "        # Boundary conditions\n",
    "        u_L = (Constant(0.0), Constant(0.0), Constant(0.0))\n",
    "        u_R = (Constant(0.0), Constant(self.C0), Constant(0.0))\n",
    "        bc_L = DirichletBC(self.V, u_L, 'near(x[0], 1.0)')\n",
    "        bc_R = DirichletBC(self.V, u_R, f'near(x[0], {self.Length})')\n",
    "        self.bcs = [bc_L, bc_R]\n",
    "\n",
    "    def _make_F(self, alphval,D,sval):\n",
    "        # Define the variational problem F\n",
    "        alpha = Constant(alphval)\n",
    "        D = Constant(D)\n",
    "        s_scal = Constant(sval)\n",
    "        C_L =  self.C/bp\n",
    "        \n",
    "        # dn/dt\n",
    "        F = self.n*self.v_1*dx - self.n_n*self.v_1*dx \n",
    "        # D lapplacian(n)\n",
    "        F += D*dot(grad(self.n), grad(self.v_1))*self.dt*dx\n",
    "        # To account for cylindrical coordinates\n",
    "        F += self.invr*D*dot(grad(self.n), Constant((1,)))*self.v_1*self.dt*dx\n",
    "        \n",
    "        #v.grad(n)\n",
    "        F += self.dt*dot(grad(self.n_mid),self.v_s)*self.v_1*dx\n",
    "        # To account for cylindrical coordinates\n",
    "        F += self.invr*self.dt*self.n_mid*Constant(self.v_sval)*self.v_1*dx\n",
    "        \n",
    "        #alpha*n - beta * n * rho\n",
    "        F += self.beta*self.v_1*self.rho*(self.n)*self.dt*dx\n",
    "        F -= alpha*(self.n)*self.v_1*self.dt*dx\n",
    "        #d rho/dt = vn\n",
    "        F -= self.dt*s_scal*self.n*self.v_2*dx-(self.rho-self.rho_n)*self.v_2*dx\n",
    "\n",
    "\n",
    "        # dC/dt\n",
    "        F += self.C*self.v_0*dx - self.C_n*self.v_0*dx #ug.mm-3\n",
    "        # Vmax * rho * C/(C+Kp)\n",
    "        F += 2*np.pi*self.Vmax*(self.rho)*self.r0*(self.C/bp/(self.Kp+self.C/bp))*self.v_0*self.dt*dx #ug\n",
    "        # Diffusion \n",
    "        F += self.D2*dot(grad(self.C/bp), grad(self.v_0))*self.dt*dx\n",
    "        # To account for cylindrical coordinates\n",
    "        F += self.invr*self.D2*dot(grad(self.C/bp), Constant((1,)))*self.v_0*self.dt*dx\n",
    "\n",
    "        return F\n",
    "    def integrate(self, plot=False,remove_ylabels = False):\n",
    "        \"\"\"\n",
    "        Integrate the problem over time and optionally plot the results.\n",
    "        Returns arrays of C(x, t), rho(x, t), and n(x, t) over the simulation.\n",
    "\n",
    "        Parameters:\n",
    "        -----------\n",
    "        plot: bool\n",
    "            If True, plot the results using matplotlib.\n",
    "\n",
    "        Returns:\n",
    "        --------\n",
    "        C_xt: list of arrays\n",
    "            Concentration C as a function of position x and time t.\n",
    "        rho_xt: list of arrays\n",
    "            Density rho as a function of position x and time t.\n",
    "        n_xt: list of arrays\n",
    "            Quantity n as a function of position x and time t.\n",
    "        \"\"\"\n",
    "        # Initialize arrays to store C(x, t), rho(x, t), and n(x, t)\n",
    "        C_xt = []\n",
    "        rho_xt = []\n",
    "        n_xt = []\n",
    "        P_prices = []\n",
    "        alphavals = []\n",
    "        # Initialize matplotlib plots if needed\n",
    "        if plot:\n",
    "            fig, axs = plt.subplots(4, 1, figsize=(self.width, self.height*1.5))\n",
    "            cmap = mpl.cm.get_cmap(\"winter\")\n",
    "            cmap2 = mpl.cm.get_cmap(\"spring\")\n",
    "\n",
    "        # Time-stepping loop\n",
    "        V2 = FunctionSpace(self.mesh, 'P', 1)\n",
    "        X = np.linspace(1, self.Length, self.nx)\n",
    "        i=0\n",
    "        tot_CCosts= [] \n",
    "        tot_Pacqus = []\n",
    "        for t in tqdm(np.linspace(0, self.T, self.nT), desc=\"Simulating\"):\n",
    "            F = self._make_F(self.alphval,self.D,self.s_scal)\n",
    "            solve(F == 0, self.u, self.bcs)\n",
    "            self.u_n.assign(self.u)\n",
    "            _n, _C, _rho = self.u.split()\n",
    "\n",
    "            # Interpolate and store the results\n",
    "            n_field = interpolate(_n, V2)\n",
    "            rho_field = interpolate(_rho, V2)\n",
    "            C_field = interpolate(_C, V2)\n",
    "            Ccost = np.pi*np.sum([n_field(x)*x*self.dx*self.v_sval for x in X]) #mm.h-1\n",
    "            Ccost *= np.pi*(self.r0)**2 #mm**3.h-1\n",
    "            Ccost *= 1e-3  #mL.mm-1.h-1=dm**3.h-1\n",
    "            \n",
    "            Ccost *= 0.5*0.21*1.1 #g.h-1\n",
    "            Ccost *= 1e6 #ug.h-1\n",
    "            Ccost *= 2 #respiration\n",
    "            \n",
    "            Ccost *= (self.v_sval/0.25)**(self.speed_penalty)\n",
    "            Pacquisition = np.pi*np.sum([self.Vmax*(C_field(x)/bp/(C_field(x)/bp+self.Kp))*rho_field(x)*x*self.dx for x in X]) #ug.h-1.mm-2\n",
    "            Pacquisition *= 2*self.r0*np.pi #ug.mm-1\n",
    "            # Pacquisition += 5e-4*np.exp(-t/100)\n",
    "            tot_CCosts.append(Ccost) \n",
    "            tot_Pacqus.append(Pacquisition)\n",
    "            # Pprice = Ccost/Pacquisition\n",
    "            integrated_CCost = np.sum(tot_CCosts[-10*self.T//self.nT:])\n",
    "            integrated_Pacqu = np.sum(tot_Pacqus[-10*self.T//self.nT:])\n",
    "            \n",
    "            Pprice = integrated_CCost/integrated_Pacqu\n",
    "\n",
    "            alphavals.append(self.alphval)\n",
    "            if t>=0:\n",
    "                # self.s_scal = self.Pprice_ideal/Pprice*self.speed\n",
    "                self.alphval = max(0.001,self.alphval + self.dt*self.adaptation_rate*(t/50)**2*signed_sqrt((self.Pprice_ideal-Pprice)/self.Pprice_ideal,alpha = 1))\n",
    "            # print(self.alphval)\n",
    "            self.D = self.D0*self.alphval0/self.alphval\n",
    "            # print(2*(np.sqrt(self.D*self.alphval)))\n",
    "            n_xt.append([n_field(x) for x in X])\n",
    "            rho_xt.append([rho_field(x) for x in X])\n",
    "            C_xt.append([C_field(x) for x in X])\n",
    "            P_prices.append(Pprice)\n",
    "            # print(Pprice,self.alphval)\n",
    "            if plot and i % (self.nT//5) == 0:\n",
    "                axs[1].plot(X, n_xt[-1], color=cmap2(t / self.T))\n",
    "                axs[0].plot(X, rho_xt[-1], color=cmap(t / self.T))\n",
    "                axs[2].plot(X, np.array(C_xt[-1])*1000, color=cmap3(t / self.T))\n",
    "                Pacq =  [2*self.r0*np.pi*C_xt[-1][i]/bp/(C_xt[-1][i]/bp+self.Kp) * rho_xt[-1][i]/bp*Vmax*1000 for i in range(len(X))]\n",
    "\n",
    "                axs[3].plot(X, Pacq, color=cmap4(t / self.T))\n",
    "                # break\n",
    "            i+=1\n",
    "            \n",
    "\n",
    "        # Finalize plot settings if plotting\n",
    "        if plot:\n",
    "            axs[1].plot(X, n_xt[-1], color=cmap2(t / self.T))\n",
    "            axs[0].plot(X, rho_xt[-1], color=cmap(t / self.T))\n",
    "            satrho = np.median([rho for rho in rho_xt[-1] if rho>1e-10])\n",
    "            \n",
    "            # axs[0].hlines(satrho,np.min(X),np.max(X), color=\"red\")\n",
    "            \n",
    "            axs[2].plot(X, np.array(C_xt[-1])*1000, color=cmap3(t / self.T))\n",
    "            Pacq =  [2*self.r0*np.pi*C_xt[-1][i]/bp/(C_xt[-1][i]/bp+self.Kp) * rho_xt[-1][i]/bp*Vmax*1000 for i in range(len(X))]\n",
    "            axs[3].plot(X, Pacq, color=cmap4(t / self.T))\n",
    "            axs[0].set_ylabel(r'$\\rho$'+ '\\n $(mm^{-1})$')\n",
    "            axs[0].set_xticklabels([])\n",
    "            axs[0].set_ylim(0,8)\n",
    "            \n",
    "            axs[1].set_ylabel('$n$ \\n $(mm^{-2})$')\n",
    "            axs[1].set_xticklabels([])\n",
    "            axs[1].set_ylim(0,3)\n",
    "            \n",
    "            axs[2].set_ylabel('$[P]$ \\n ($ng/ mm^{3}$)')\n",
    "            axs[2].set_xticklabels([])\n",
    "            axs[2].set_ylim(0,13)\n",
    "            \n",
    "            axs[3].set_ylabel('$\\phi_P$ \\n ($ng/mm^{3}/h$)')\n",
    "\n",
    "            axs[3].set_xlabel('position \\n ($mm$)')\n",
    "            axs[3].set_ylim(0,0.05)\n",
    "\n",
    "            formatter = ticker.FormatStrFormatter('%.2f')  # Adjust format as needed\n",
    "\n",
    "            for ax in axs:\n",
    "                ax.yaxis.set_major_formatter(formatter)\n",
    "            if remove_ylabels:\n",
    "                for ax in axs:\n",
    "                    ax.set_ylabel('')\n",
    "                    ax.set_yticklabels([])\n",
    "\n",
    "            plt.show()\n",
    "\n",
    "        return C_xt, rho_xt, n_xt,P_prices,alphavals\n",
    "        \n",
    "\n",
    "# Example usage:\n",
    "adaptation_rate = 8e-3\n",
    "C0=0.0014*bp #ug/mm2\n",
    "Pprice_ideal = 3\n",
    "speed = 0.17\n",
    "T = 100\n",
    "nT= 200\n",
    "# sim = Simulation(speed = speed,C0=C0,T = T,nT=nT,Pprice_ideal = Pprice_ideal,Fmax = Vmax,adaptation_rate = adaptation_rate,drag = 1)\n",
    "# C_xt, rho_xt, n_xt,P_prices,alphavals = sim.integrate(plot=True)\n",
    "# speed = 0.26\n",
    "\n",
    "# sim = Simulation(speed = speed,C0=C0,T = T,nT=nT,Pprice_ideal = Pprice_ideal,Fmax = Vmax,adaptation_rate = adaptation_rate,drag = 1)\n",
    "# C_xt, rho_xt, n_xt,P_prices,alphavals = sim.integrate(plot=True)"
   ]
  },
  {
   "cell_type": "code",
   "execution_count": 10,
   "id": "f7d3698b-580c-42af-b8d0-636848d82a47",
   "metadata": {
    "tags": []
   },
   "outputs": [],
   "source": [
    "\n",
    "def get_rhosat(speed,C0=10,Pprice_ideal = 1/15):\n",
    "    sim = Simulation(speed = speed,C0=C0,T = T,nT=nT,Pprice_ideal = Pprice_ideal,Fmax = Vmax,adaptation_rate = adaptation_rate,drag = 1)\n",
    "    C_xt, rho_xt, n_xt,P_prices,_ = sim.integrate(plot=False)\n",
    "    rho_sat = np.median([rho for rho in rho_xt[-1] if rho>0.1])\n",
    "    poss = np.argmax(n_xt,axis=1)\n",
    "    x = np.linspace(0,sim.T,sim.nT)\n",
    "    y = np.array(poss)*sim.Length/sim.nx\n",
    "    fit_coeffs = np.polyfit(x[3*sim.nT//4:], y[3*sim.nT//4:], 1)\n",
    "    return(rho_sat,fit_coeffs[0],[rho for rho in rho_xt[-1] if rho>0.1])"
   ]
  },
  {
   "cell_type": "code",
   "execution_count": 11,
   "id": "7c153168-f874-4fc8-8e85-ee3e685f8154",
   "metadata": {
    "tags": []
   },
   "outputs": [
    {
     "data": {
      "application/vnd.jupyter.widget-view+json": {
       "model_id": "86d1fb9ea40a4e20853b5a2bf159183f",
       "version_major": 2,
       "version_minor": 0
      },
      "text/plain": [
       "Simulating:   0%|          | 0/200 [00:00<?, ?it/s]"
      ]
     },
     "metadata": {},
     "output_type": "display_data"
    },
    {
     "data": {
      "application/vnd.jupyter.widget-view+json": {
       "model_id": "febff4169b0d4c5db4dd3835d5cf749c",
       "version_major": 2,
       "version_minor": 0
      },
      "text/plain": [
       "Simulating:   0%|          | 0/200 [00:00<?, ?it/s]"
      ]
     },
     "metadata": {},
     "output_type": "display_data"
    },
    {
     "data": {
      "application/vnd.jupyter.widget-view+json": {
       "model_id": "000b13e34e524b2382407cbaa776a6d5",
       "version_major": 2,
       "version_minor": 0
      },
      "text/plain": [
       "Simulating:   0%|          | 0/200 [00:00<?, ?it/s]"
      ]
     },
     "metadata": {},
     "output_type": "display_data"
    },
    {
     "data": {
      "application/vnd.jupyter.widget-view+json": {
       "model_id": "56dfe9b978e04302b5f79d9bf03aad7c",
       "version_major": 2,
       "version_minor": 0
      },
      "text/plain": [
       "Simulating:   0%|          | 0/200 [00:00<?, ?it/s]"
      ]
     },
     "metadata": {},
     "output_type": "display_data"
    },
    {
     "data": {
      "application/vnd.jupyter.widget-view+json": {
       "model_id": "476f249bf9b14d0b8bd4a4b9b89fe88a",
       "version_major": 2,
       "version_minor": 0
      },
      "text/plain": [
       "Simulating:   0%|          | 0/200 [00:00<?, ?it/s]"
      ]
     },
     "metadata": {},
     "output_type": "display_data"
    },
    {
     "data": {
      "application/vnd.jupyter.widget-view+json": {
       "model_id": "30cbe6985b9b462bb9557f2dde931a9f",
       "version_major": 2,
       "version_minor": 0
      },
      "text/plain": [
       "Simulating:   0%|          | 0/200 [00:00<?, ?it/s]"
      ]
     },
     "metadata": {},
     "output_type": "display_data"
    },
    {
     "data": {
      "application/vnd.jupyter.widget-view+json": {
       "model_id": "194579d3269b4a94aa2ec9db915173d9",
       "version_major": 2,
       "version_minor": 0
      },
      "text/plain": [
       "Simulating:   0%|          | 0/200 [00:00<?, ?it/s]"
      ]
     },
     "metadata": {},
     "output_type": "display_data"
    },
    {
     "data": {
      "application/vnd.jupyter.widget-view+json": {
       "model_id": "7150e678463848f086ced39c78559d74",
       "version_major": 2,
       "version_minor": 0
      },
      "text/plain": [
       "Simulating:   0%|          | 0/200 [00:00<?, ?it/s]"
      ]
     },
     "metadata": {},
     "output_type": "display_data"
    },
    {
     "data": {
      "application/vnd.jupyter.widget-view+json": {
       "model_id": "b452ca0445fd4e458530bb55650a1e2d",
       "version_major": 2,
       "version_minor": 0
      },
      "text/plain": [
       "Simulating:   0%|          | 0/200 [00:00<?, ?it/s]"
      ]
     },
     "metadata": {},
     "output_type": "display_data"
    },
    {
     "data": {
      "application/vnd.jupyter.widget-view+json": {
       "model_id": "0749d01ab6dd46b5ad0c3fa6cdfd8792",
       "version_major": 2,
       "version_minor": 0
      },
      "text/plain": [
       "Simulating:   0%|          | 0/200 [00:00<?, ?it/s]"
      ]
     },
     "metadata": {},
     "output_type": "display_data"
    }
   ],
   "source": [
    "plt.close('all')\n",
    "speeds = np.linspace(0.11,0.26,10)\n",
    "\n",
    "rho_sats_speeds = [get_rhosat(speed,C0=C0,Pprice_ideal = Pprice_ideal) for speed in speeds]\n",
    "    "
   ]
  },
  {
   "cell_type": "code",
   "execution_count": 12,
   "id": "8885c3cd-b865-4481-8513-b5c61d819868",
   "metadata": {
    "tags": []
   },
   "outputs": [],
   "source": [
    "speeds_observed = [speed for _,speed,_ in rho_sats_speeds]\n",
    "rho_sats = [rho for rho,_,_ in rho_sats_speeds]\n",
    "\n",
    "rho_all = [(speed,rho) for _,speed,rhos in rho_sats_speeds for rho in rhos]"
   ]
  },
  {
   "cell_type": "code",
   "execution_count": 13,
   "id": "df5335ad-100e-4d10-b91c-0521b9be1397",
   "metadata": {
    "tags": []
   },
   "outputs": [],
   "source": [
    "speeds_observed2 = [speed for speed,_ in rho_all]\n",
    "rho_observed2 = [rho for _,rho in rho_all]\n"
   ]
  },
  {
   "cell_type": "code",
   "execution_count": 14,
   "id": "83868a99-6109-4500-a164-28e858b0e6d6",
   "metadata": {
    "tags": []
   },
   "outputs": [],
   "source": [
    "data = pd.DataFrame({\n",
    "    'speed': speeds_observed2,\n",
    "    'rho': rho_observed2\n",
    "})\n",
    "data['speed']=data['speed']*1000"
   ]
  },
  {
   "cell_type": "code",
   "execution_count": 15,
   "id": "237c05fd-798e-4390-a90a-92cd48a8333b",
   "metadata": {
    "tags": []
   },
   "outputs": [],
   "source": [
    "path_figure = r\"/mnt/c/Users/coren/Documents/PhD/paper/PandC/Fig5\"\n"
   ]
  },
  {
   "cell_type": "code",
   "execution_count": 16,
   "id": "66e4c59c-57b2-44a3-ae15-ce93773edf46",
   "metadata": {
    "tags": []
   },
   "outputs": [],
   "source": [
    "\n",
    "\n",
    "df = pd.read_csv(\"expexptradeoff.csv\")\n",
    "df['instant_L_dens']=df['instant_L_dens']/1000\n",
    "strain_to_color = {'C2': (0.17058823529411765, 0.4946558433997788, 0.9667184042691874),\n",
    " 'A5': (0.16666666666666663, 0.8660254037844386, 0.8660254037844387),\n",
    " 'Agg': (0.503921568627451, 0.9999810273487268, 0.7049255469061472),\n",
    " 'Clarum': (0.8333333333333333, 0.8660254037844387, 0.5000000000000001),\n",
    " 'C3': (1.0, 0.4946558433997788, 0.2558427775944356)}"
   ]
  },
  {
   "cell_type": "code",
   "execution_count": 17,
   "id": "6d70f272-cc59-4f17-9f9c-1a8316bb432c",
   "metadata": {
    "tags": []
   },
   "outputs": [
    {
     "data": {
      "application/vnd.jupyter.widget-view+json": {
       "model_id": "47c03d01885143a08b62d50534a9c0b9",
       "version_major": 2,
       "version_minor": 0
      },
      "text/plain": [
       "Simulating:   0%|          | 0/200 [00:00<?, ?it/s]"
      ]
     },
     "metadata": {},
     "output_type": "display_data"
    },
    {
     "data": {
      "application/vnd.jupyter.widget-view+json": {
       "model_id": "ffd572f4ff2041779c03f5716c85dd6b",
       "version_major": 2,
       "version_minor": 0
      },
      "text/plain": [
       "Simulating:   0%|          | 0/200 [00:00<?, ?it/s]"
      ]
     },
     "metadata": {},
     "output_type": "display_data"
    },
    {
     "data": {
      "application/vnd.jupyter.widget-view+json": {
       "model_id": "f6cf85dfe5df42479d71e3f055d299b7",
       "version_major": 2,
       "version_minor": 0
      },
      "text/plain": [
       "Simulating:   0%|          | 0/200 [00:00<?, ?it/s]"
      ]
     },
     "metadata": {},
     "output_type": "display_data"
    },
    {
     "data": {
      "application/vnd.jupyter.widget-view+json": {
       "model_id": "01b1267676b340ddae5a471b0feff05c",
       "version_major": 2,
       "version_minor": 0
      },
      "text/plain": [
       "Simulating:   0%|          | 0/200 [00:00<?, ?it/s]"
      ]
     },
     "metadata": {},
     "output_type": "display_data"
    },
    {
     "data": {
      "application/vnd.jupyter.widget-view+json": {
       "model_id": "a280cbc357ec4ae1a5b3cfa1ed19829a",
       "version_major": 2,
       "version_minor": 0
      },
      "text/plain": [
       "Simulating:   0%|          | 0/200 [00:00<?, ?it/s]"
      ]
     },
     "metadata": {},
     "output_type": "display_data"
    },
    {
     "data": {
      "application/vnd.jupyter.widget-view+json": {
       "model_id": "a0b28c8dcf7741e9b74ca397bccb9c62",
       "version_major": 2,
       "version_minor": 0
      },
      "text/plain": [
       "Simulating:   0%|          | 0/200 [00:00<?, ?it/s]"
      ]
     },
     "metadata": {},
     "output_type": "display_data"
    },
    {
     "data": {
      "application/vnd.jupyter.widget-view+json": {
       "model_id": "4befd5812a4044cba0ca5d4b26f5f923",
       "version_major": 2,
       "version_minor": 0
      },
      "text/plain": [
       "Simulating:   0%|          | 0/200 [00:00<?, ?it/s]"
      ]
     },
     "metadata": {},
     "output_type": "display_data"
    },
    {
     "data": {
      "application/vnd.jupyter.widget-view+json": {
       "model_id": "bf10248e2b444f2fa55184099b758186",
       "version_major": 2,
       "version_minor": 0
      },
      "text/plain": [
       "Simulating:   0%|          | 0/200 [00:00<?, ?it/s]"
      ]
     },
     "metadata": {},
     "output_type": "display_data"
    },
    {
     "data": {
      "application/vnd.jupyter.widget-view+json": {
       "model_id": "c881507d78f34d04905f26318c47b921",
       "version_major": 2,
       "version_minor": 0
      },
      "text/plain": [
       "Simulating:   0%|          | 0/200 [00:00<?, ?it/s]"
      ]
     },
     "metadata": {},
     "output_type": "display_data"
    },
    {
     "data": {
      "application/vnd.jupyter.widget-view+json": {
       "model_id": "b9eba63137db481aa462063b23fca5e6",
       "version_major": 2,
       "version_minor": 0
      },
      "text/plain": [
       "Simulating:   0%|          | 0/200 [00:00<?, ?it/s]"
      ]
     },
     "metadata": {},
     "output_type": "display_data"
    }
   ],
   "source": [
    "def get_rhosat2(speed,C0=10,Pprice_ideal = 1/15):\n",
    "    sim = Simulation(speed = speed,C0=C0,T = T,nT=nT,Pprice_ideal = Pprice_ideal,Fmax = Vmax,adaptation_rate = 3e-4,drag = 0)\n",
    "    C_xt, rho_xt, n_xt,P_prices,_ = sim.integrate(plot=False)\n",
    "    rho_sat = np.median([rho for rho in rho_xt[-1] if rho>0.1])\n",
    "    poss = np.argmax(n_xt,axis=1)\n",
    "    x = np.linspace(0,sim.T,sim.nT)\n",
    "    y = np.array(poss)*sim.Length/sim.nx\n",
    "    fit_coeffs = np.polyfit(x[3*sim.nT//4:], y[3*sim.nT//4:], 1)\n",
    "    return(rho_sat,fit_coeffs[0])\n",
    "rho_sats_speeds2 = [get_rhosat2(speed,C0=C0,Pprice_ideal = Pprice_ideal) for speed in speeds]\n",
    "speeds_observed2 = [speed for _,speed in rho_sats_speeds2]\n",
    "rho_sats2 = [rho for rho,_ in rho_sats_speeds2]"
   ]
  },
  {
   "cell_type": "code",
   "execution_count": 18,
   "id": "32baa754-c101-4639-8f42-7f4eec17f228",
   "metadata": {
    "tags": []
   },
   "outputs": [
    {
     "data": {
      "application/vnd.jupyter.widget-view+json": {
       "model_id": "43beb62c3e5449e2bee89921cb541ac0",
       "version_major": 2,
       "version_minor": 0
      },
      "image/png": "[encoded data removed]",
      "text/html": [
       "\n",
       "            <div style=\"display: inline-block;\">\n",
       "                <div class=\"jupyter-widgets widget-label\" style=\"text-align: center;\">\n",
       "                    Figure\n",
       "                </div>\n",
       "                <img src='data:image/png;base64,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' width=157.4803149606299/>\n",
       "            </div>\n",
       "        "
      ],
      "text/plain": [
       "Canvas(toolbar=Toolbar(toolitems=[('Home', 'Reset original view', 'home', 'home'), ('Back', 'Back to previous …"
      ]
     },
     "metadata": {},
     "output_type": "display_data"
    }
   ],
   "source": [
    "plt.style.use('presentation.mplstyle')\n",
    "cm = 1/2.54  # centimeters in inches\n",
    "\n",
    "fig,ax = plt.subplots(figsize = (4*cm,3*cm))\n",
    "# fig,ax = plt.subplots()\n",
    "\n",
    "# ax.plot(np.array(speeds_observed)*1000,rho_sats,color=\"black\")\n",
    "# ax.scatter(np.array(speeds_observed2)*1000,rho_observed2,color=\"black\")\n",
    "lineplot = sns.lineplot(x='speed', y='rho', data=data, errorbar=('ci', 95), estimator='mean',color = \"black\")\n",
    "# ax.plot(np.array(speeds)*1000,rho_sats2,color=\"black\",linestyle = \"dashed\")\n",
    "select = df[df['instant_L_dens']>0]\n",
    "select = select[select['hull_speed']<280]\n",
    "\n",
    "sns.scatterplot(data = select,x='hull_speed',y='instant_L_dens',hue='strain',s=50,palette=strain_to_color)\n",
    "# ax.set_xscale(\"log\")\n",
    "# ax.set_yscale(\"log\")\n",
    "ax.set_xlabel('$v_{wave}$ (um/h)')\n",
    "ax.set_ylabel('$d_{L}$ \\n ($mm/mm^2$)')\n",
    "# plt.tight_layout()\n",
    "plt.legend().remove()\n",
    "\n",
    "plt.savefig(os.path.join(path_figure,'Figure5tradeoff.pdf'), transparent=True, bbox_inches='tight')\n"
   ]
  },
  {
   "cell_type": "code",
   "execution_count": 19,
   "id": "1fe56b4e-e7d4-49c6-898d-f60f8874ca67",
   "metadata": {
    "tags": []
   },
   "outputs": [
    {
     "ename": "NameError",
     "evalue": "name 'rgzega' is not defined",
     "output_type": "error",
     "traceback": [
      "\u001b[0;31m---------------------------------------------------------------------------\u001b[0m",
      "\u001b[0;31mNameError\u001b[0m                                 Traceback (most recent call last)",
      "Cell \u001b[0;32mIn[19], line 1\u001b[0m\n\u001b[0;32m----> 1\u001b[0m \u001b[43mrgzega\u001b[49m\n",
      "\u001b[0;31mNameError\u001b[0m: name 'rgzega' is not defined"
     ]
    }
   ],
   "source": [
    "rgzega"
   ]
  },
  {
   "cell_type": "code",
   "execution_count": null,
   "id": "07e57e7a-c8c3-4d5b-90c1-53e0e5586f9c",
   "metadata": {
    "tags": []
   },
   "outputs": [],
   "source": [
    "fig,ax = plt.subplots()\n",
    "ax.scatter(speeds,speeds_observed)\n",
    "fit_coeffs = np.polyfit(speeds, speeds_observed, 1)\n",
    "x = [0,0.30]\n",
    "fit_line = np.polyval(fit_coeffs, x)\n",
    "\n",
    "# Plot data and linear fit\n",
    "ax.plot(x, fit_line, 'r--')\n",
    "# ax.set_xscale(\"log\")\n",
    "# ax.set_yscale(\"log\")"
   ]
  }
 ],
 "metadata": {
  "kernelspec": {
   "display_name": "Python 3 (ipykernel)",
   "language": "python",
   "name": "python3"
  },
  "language_info": {
   "codemirror_mode": {
    "name": "ipython",
    "version": 3
   },
   "file_extension": ".py",
   "mimetype": "text/x-python",
   "name": "python",
   "nbconvert_exporter": "python",
   "pygments_lexer": "ipython3",
   "version": "3.9.18"
  }
 },
 "nbformat": 4,
 "nbformat_minor": 5
}
