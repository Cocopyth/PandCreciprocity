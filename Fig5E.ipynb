{
 "cells": [
  {
   "cell_type": "code",
   "execution_count": 1,
   "id": "c0cea6e4-a16d-48df-8d2c-983c960b78f4",
   "metadata": {
    "tags": []
   },
   "outputs": [
    {
     "data": {
      "text/plain": [
       "(3.6, 0.0032500000000000003, 0.0035)"
      ]
     },
     "execution_count": 1,
     "metadata": {},
     "output_type": "execute_result"
    }
   ],
   "source": [
    "Vmax = 3.25e-9 #ugP/um2/hour\n",
    "Vmax = Vmax*1e6 #ugP.mm-2.hour-1\n",
    "DP = 1e-5 #cm**2-s-1, diffusion coefficient of small ions in water\n",
    "DP = DP*1e2*3600 #mm**2-h-1, diffusion coefficient of small ions in water\n",
    "C0 = 3.5 #ug/mL=ug/cm**-3\n",
    "C0 = 3.5*1e-3 #ug/mm**-3\n",
    "\n",
    "DP,Vmax,C0"
   ]
  },
  {
   "cell_type": "code",
   "execution_count": 2,
   "id": "f1689dce-37e5-422f-b0e8-d0c0660ecbcc",
   "metadata": {
    "tags": []
   },
   "outputs": [
    {
     "data": {
      "text/plain": [
       "8.173883497065242"
      ]
     },
     "execution_count": 2,
     "metadata": {},
     "output_type": "execute_result"
    }
   ],
   "source": [
    "import numpy as np\n",
    "V = 26*1e3 #mm3\n",
    "r = 45 #mm\n",
    "V/(np.pi*r**2/2)"
   ]
  },
  {
   "cell_type": "code",
   "execution_count": 3,
   "id": "9ac4c9da-9cbe-423a-a10c-39cf976c9f4e",
   "metadata": {
    "tags": []
   },
   "outputs": [
    {
     "data": {
      "text/plain": [
       "0.5"
      ]
     },
     "execution_count": 3,
     "metadata": {},
     "output_type": "execute_result"
    }
   ],
   "source": [
    "C0 = 500 #mg.L-1\n",
    "C0 = 500*1e3 #ug.L-1\n",
    "C0 = C0 * 1e-3 #ug.cm-3\n",
    "C0 = C0 *1e-3 #ug.mm-3\n",
    "C0"
   ]
  },
  {
   "cell_type": "code",
   "execution_count": 4,
   "id": "8fdbed0f-b80f-4c6d-bb04-328353da372d",
   "metadata": {
    "tags": []
   },
   "outputs": [],
   "source": [
    "def signed_sqrt(x,alpha = 1/2):\n",
    "    \"\"\"Return the signed square root of a number.\"\"\"\n",
    "    if x >= 0:\n",
    "        return x**alpha\n",
    "    else:\n",
    "        return -(-x)**alpha"
   ]
  },
  {
   "cell_type": "code",
   "execution_count": 5,
   "id": "9fb56d66-80a2-4548-8d6b-4a2369eb6564",
   "metadata": {
    "tags": []
   },
   "outputs": [
    {
     "name": "stdout",
     "output_type": "stream",
     "text": [
      "['/home/cocopyth/PandC', '/usr/lib/python39.zip', '/usr/lib/python3.9', '/usr/lib/python3.9/lib-dynload', '', '/home/cocopyth/.local/lib/python3.9/site-packages', '/usr/local/lib/python3.9/dist-packages', '/usr/lib/python3/dist-packages', '/usr/lib/petsc/lib/python3/dist-packages', '/usr/lib/mshr/python3/dist-packages', '/usr/lib/slepc/lib/python3/dist-packages', '/home/cocopyth/miniconda3/lib/python3.9/site-packages']\n"
     ]
    }
   ],
   "source": [
    "import sys\n",
    "sys.path.append('/home/cocopyth/miniconda3/lib/python3.9/site-packages')\n",
    "print(sys.path)\n"
   ]
  },
  {
   "cell_type": "code",
   "execution_count": 6,
   "id": "4aaec90a-7d42-4b63-9dba-e1367ac270c8",
   "metadata": {
    "tags": []
   },
   "outputs": [],
   "source": [
    "# !pip install tqdm\n",
    "from tqdm.notebook import tqdm  # Import tqdm\n"
   ]
  },
  {
   "cell_type": "code",
   "execution_count": 7,
   "id": "a44d3f13-6ff6-45fc-951c-708ff189310f",
   "metadata": {
    "tags": []
   },
   "outputs": [],
   "source": [
    "bp = 8.8"
   ]
  },
  {
   "cell_type": "code",
   "execution_count": 8,
   "id": "77d28f0f-4038-42cf-9919-dd194dd21bc6",
   "metadata": {
    "tags": []
   },
   "outputs": [
    {
     "data": {
      "text/plain": [
       "3.1e-05"
      ]
     },
     "execution_count": 8,
     "metadata": {},
     "output_type": "execute_result"
    }
   ],
   "source": [
    "Km = 1e-3 #umol/cm3\n",
    "Km *= 31 #ug/cm3\n",
    "Km *=1e-3 #ug/mm3\n",
    "Km_snchepf = Km \n",
    "Km_snchepf"
   ]
  },
  {
   "cell_type": "code",
   "execution_count": 9,
   "id": "04857000-8fff-429e-ae97-cb9dcdab7b02",
   "metadata": {
    "tags": []
   },
   "outputs": [
    {
     "name": "stderr",
     "output_type": "stream",
     "text": [
      "/tmp/ipykernel_2225/1602298972.py:20: MatplotlibDeprecationWarning: The get_cmap function was deprecated in Matplotlib 3.7 and will be removed two minor releases later. Use ``matplotlib.colormaps[name]`` or ``matplotlib.colormaps.get_cmap(obj)`` instead.\n",
      "  cmap3 = mpl.cm.get_cmap(\"autumn\")\n",
      "/tmp/ipykernel_2225/1602298972.py:21: MatplotlibDeprecationWarning: The get_cmap function was deprecated in Matplotlib 3.7 and will be removed two minor releases later. Use ``matplotlib.colormaps[name]`` or ``matplotlib.colormaps.get_cmap(obj)`` instead.\n",
      "  cmap4 = mpl.cm.get_cmap(\"summer\")\n"
     ]
    }
   ],
   "source": [
    "# !pip install tqdm\n",
    "from tqdm.notebook import tqdm  # Import tqdm\n",
    "import matplotlib.pyplot as plt\n",
    "path_figure = r\"/mnt/c/Users/coren/Documents/PhD/paper/PandC/Fig5\"\n",
    "plt.style.use('presentation.mplstyle')\n",
    "\n",
    "cm = 1/2.54  # centimeters in inches\n",
    "%matplotlib widget\n",
    "from dolfin import *\n",
    "import numpy as np\n",
    "import matplotlib as mpl\n",
    "import os\n",
    "import matplotlib.ticker as ticker\n",
    "import pandas as pd\n",
    "import seaborn as sns\n",
    "Length = 140*0.8\n",
    "nx = 350*15//10\n",
    "plt.close(\"all\")\n",
    "set_log_active(False)\n",
    "cmap3 = mpl.cm.get_cmap(\"autumn\")\n",
    "cmap4 = mpl.cm.get_cmap(\"summer\")\n",
    "\n",
    "class Simulation:\n",
    "    \"\"\"\n",
    "    A class for simulating a finite element problem using the FEniCS framework.\n",
    "\n",
    "    Attributes:\n",
    "    -----------\n",
    "    Length: float\n",
    "        Length of the interval domain.\n",
    "    nx: int\n",
    "        Number of subdivisions in the mesh.\n",
    "    nT: int\n",
    "        Number of time steps.\n",
    "    T: float\n",
    "        Total simulation time.\n",
    "    C0: float\n",
    "        Initial concentration value.\n",
    "    Fmax: float\n",
    "        Maximum flux value.\n",
    "    Pprice_ideal: float\n",
    "        Ideal price value.\n",
    "    width: float\n",
    "        Width of the plot.\n",
    "    height: float\n",
    "        Height of the plot.\n",
    "    \"\"\"\n",
    "    def __init__(self, Length=Length, nx=nx, nT=200, T=400, C0=10, Fmax=2, Pprice_ideal=20, width=3*cm, height=7*cm,speed = 0.230,adaptation_rate = 1e-4,drag = 0):\n",
    "        self.Length = Length\n",
    "        self.nx = nx\n",
    "        self.dx = Length/nx\n",
    "        self.nT = nT\n",
    "        self.T = T\n",
    "        self.dt = T/nT\n",
    "        self.C0 = C0 #ug.mm-3\n",
    "        self.Fmax = Fmax\n",
    "        self.Pprice_ideal = Pprice_ideal\n",
    "        self.width = width\n",
    "        self.height = height\n",
    "        self.speed = speed\n",
    "        self.adaptation_rate = adaptation_rate\n",
    "        self.speed_penalty = drag\n",
    "        self._setup_simulation()\n",
    "        self.r0 = 3e-3\n",
    "\n",
    "    def _setup_simulation(self):\n",
    "        # Set up the simulation: define mesh, function spaces, initial conditions, etc.\n",
    "        \"\"\"\n",
    "        Sets up the initial conditions and parameters for the simulation.\n",
    "        \"\"\"\n",
    "        # Create mesh and define function space\n",
    "        self.mesh = IntervalMesh(self.nx, 1, self.Length)\n",
    "        P1 = FiniteElement('P', interval, 1)\n",
    "        element = MixedElement([P1, P1, P1])\n",
    "        self.V = FunctionSpace(self.mesh, element)\n",
    "\n",
    "        # Define initial conditions\n",
    "        u0 = Expression(('0.9*exp(-1.2*pow(abs(x[0]-7),2))', \n",
    "                         f'(1-exp(-3*(x[0]-1)))*{self.C0}', '0*exp(-0.01*pow(abs(x[0]),2))'), degree=1)\n",
    "        rexp = Expression(('1/x[0]', '0', '0'), degree=1)\n",
    "        self.r = interpolate(rexp, self.V)\n",
    "        self.invr, _, _ = split(self.r)\n",
    "        self.u_n = interpolate(u0, self.V)\n",
    "\n",
    "        # Splitting functions for later use\n",
    "        self.u = Function(self.V)\n",
    "        self.n, self.C, self.rho = split(self.u)   #mm-3,ug.mm-3,mm2.mm-3\n",
    "        self.n_n, self.C_n, self.rho_n = split(self.u_n)\n",
    "        self.v_1, self.v_0, self.v_2 = TestFunctions(self.V)\n",
    "\n",
    "        # Set parameters and constants\n",
    "        self.dt = self.T / self.nT\n",
    "        self.alphval = 0.039 #.h-1\n",
    "        self.alphval0 = self.alphval\n",
    "        self.betaval = 0.022 #mm.h-1 length coefficient\n",
    "        # self.betaval = 0.022/(2.5e-3) #mm.h-1 SA coefficient\n",
    "        \n",
    "        self.beta = Constant(self.betaval) #mm**4.h-1\n",
    "        self.D = 0.00008 #mm**2.h-1\n",
    "        self.D0 = self.D #mm**2.h-1\n",
    "        \n",
    "        self.D2 = Constant(3.6) #mm**2.h-1\n",
    "        self.n_mid = 0.5*(self.n_n + self.n)\n",
    "        self.v_sval = self.speed #mm.h-1\n",
    "        self.s_scal = self.speed #mm.h-1\n",
    "        self.v_s = Constant((self.v_sval,)) #mm.h-1\n",
    "        self.Vmax = self.Fmax #ug.mm**-2.h-1\n",
    "        self.Kp = Km_snchepf #ug.mm-3\n",
    "        # Boundary conditions\n",
    "        u_L = (Constant(0.0), Constant(0.0), Constant(0.0))\n",
    "        u_R = (Constant(0.0), Constant(self.C0), Constant(0.0))\n",
    "        bc_L = DirichletBC(self.V, u_L, 'near(x[0], 1.0)')\n",
    "        bc_R = DirichletBC(self.V, u_R, f'near(x[0], {self.Length})')\n",
    "        self.bcs = [bc_L, bc_R]\n",
    "\n",
    "    def _make_F(self, alphval,D,sval):\n",
    "        # Define the variational problem F\n",
    "        alpha = Constant(alphval)\n",
    "        D = Constant(D)\n",
    "        s_scal = Constant(sval)\n",
    "        C_L =  self.C/bp\n",
    "        \n",
    "        # dn/dt\n",
    "        F = self.n*self.v_1*dx - self.n_n*self.v_1*dx \n",
    "        # D lapplacian(n)\n",
    "        F += D*dot(grad(self.n), grad(self.v_1))*self.dt*dx\n",
    "        # To account for cylindrical coordinates\n",
    "        F += self.invr*D*dot(grad(self.n), Constant((1,)))*self.v_1*self.dt*dx\n",
    "        \n",
    "        #v.grad(n)\n",
    "        F += self.dt*dot(grad(self.n_mid),self.v_s)*self.v_1*dx\n",
    "        # To account for cylindrical coordinates\n",
    "        F += self.invr*self.dt*self.n_mid*Constant(self.v_sval)*self.v_1*dx\n",
    "        \n",
    "        #alpha*n - beta * n * rho\n",
    "        F += self.beta*self.v_1*self.rho*(self.n)*self.dt*dx\n",
    "        F -= alpha*(self.n)*self.v_1*self.dt*dx\n",
    "        #d rho/dt = vn\n",
    "        F -= self.dt*s_scal*self.n*self.v_2*dx-(self.rho-self.rho_n)*self.v_2*dx\n",
    "\n",
    "\n",
    "        # dC/dt\n",
    "        F += self.C*self.v_0*dx - self.C_n*self.v_0*dx #ug.mm-3\n",
    "        # Vmax * rho * C/(C+Kp)\n",
    "        F += 2*np.pi*self.Vmax*(self.rho)*self.r0*(self.C/bp/(self.Kp+self.C/bp))*self.v_0*self.dt*dx #ug\n",
    "        # Diffusion \n",
    "        F += self.D2*dot(grad(self.C/bp), grad(self.v_0))*self.dt*dx\n",
    "        # To account for cylindrical coordinates\n",
    "        F += self.invr*self.D2*dot(grad(self.C/bp), Constant((1,)))*self.v_0*self.dt*dx\n",
    "\n",
    "        return F\n",
    "    def integrate(self, plot=False,remove_ylabels = False):\n",
    "        \"\"\"\n",
    "        Integrate the problem over time and optionally plot the results.\n",
    "        Returns arrays of C(x, t), rho(x, t), and n(x, t) over the simulation.\n",
    "\n",
    "        Parameters:\n",
    "        -----------\n",
    "        plot: bool\n",
    "            If True, plot the results using matplotlib.\n",
    "\n",
    "        Returns:\n",
    "        --------\n",
    "        C_xt: list of arrays\n",
    "            Concentration C as a function of position x and time t.\n",
    "        rho_xt: list of arrays\n",
    "            Density rho as a function of position x and time t.\n",
    "        n_xt: list of arrays\n",
    "            Quantity n as a function of position x and time t.\n",
    "        \"\"\"\n",
    "        # Initialize arrays to store C(x, t), rho(x, t), and n(x, t)\n",
    "        C_xt = []\n",
    "        rho_xt = []\n",
    "        n_xt = []\n",
    "        P_prices = []\n",
    "        alphavals = []\n",
    "        # Initialize matplotlib plots if needed\n",
    "        if plot:\n",
    "            fig, axs = plt.subplots(4, 1, figsize=(self.width, self.height*1.5))\n",
    "            cmap = mpl.cm.get_cmap(\"winter\")\n",
    "            cmap2 = mpl.cm.get_cmap(\"spring\")\n",
    "\n",
    "        # Time-stepping loop\n",
    "        V2 = FunctionSpace(self.mesh, 'P', 1)\n",
    "        X = np.linspace(1, self.Length, self.nx)\n",
    "        i=0\n",
    "        tot_CCosts= [] \n",
    "        tot_Pacqus = []\n",
    "        for t in tqdm(np.linspace(0, self.T, self.nT), desc=\"Simulating\"):\n",
    "            F = self._make_F(self.alphval,self.D,self.s_scal)\n",
    "            solve(F == 0, self.u, self.bcs)\n",
    "            self.u_n.assign(self.u)\n",
    "            _n, _C, _rho = self.u.split()\n",
    "\n",
    "            # Interpolate and store the results\n",
    "            n_field = interpolate(_n, V2)\n",
    "            rho_field = interpolate(_rho, V2)\n",
    "            C_field = interpolate(_C, V2)\n",
    "            Ccost = np.pi*np.sum([n_field(x)*x*self.dx*self.v_sval for x in X]) #mm.h-1\n",
    "            Ccost *= np.pi*(self.r0)**2 #mm**3.h-1\n",
    "            Ccost *= 1e-3  #mL.mm-1.h-1=dm**3.h-1\n",
    "            \n",
    "            Ccost *= 0.5*0.21*1.1 #g.h-1\n",
    "            Ccost *= 1e6 #ug.h-1\n",
    "            Ccost *= 2 #respiration\n",
    "            \n",
    "            Ccost *= (self.v_sval/0.25)**(self.speed_penalty)\n",
    "            Pacquisition = np.pi*np.sum([self.Vmax*(C_field(x)/bp/(C_field(x)/bp+self.Kp))*rho_field(x)*x*self.dx for x in X]) #ug.h-1.mm-2\n",
    "            Pacquisition *= 2*self.r0*np.pi #ug.mm-1\n",
    "            # Pacquisition += 5e-4*np.exp(-t/100)\n",
    "            tot_CCosts.append(Ccost) \n",
    "            tot_Pacqus.append(Pacquisition)\n",
    "            # Pprice = Ccost/Pacquisition\n",
    "            integrated_CCost = np.sum(tot_CCosts[-10*self.T//self.nT:])\n",
    "            integrated_Pacqu = np.sum(tot_Pacqus[-10*self.T//self.nT:])\n",
    "            \n",
    "            Pprice = integrated_CCost/integrated_Pacqu\n",
    "\n",
    "            alphavals.append(self.alphval)\n",
    "            if t>=0:\n",
    "                # self.s_scal = self.Pprice_ideal/Pprice*self.speed\n",
    "                self.alphval = max(0.001,self.alphval + self.dt*self.adaptation_rate*(t/50)**2*signed_sqrt((self.Pprice_ideal-Pprice)/self.Pprice_ideal,alpha = 1))\n",
    "            # print(self.alphval)\n",
    "            self.D = self.D0*self.alphval0/self.alphval\n",
    "            # print(2*(np.sqrt(self.D*self.alphval)))\n",
    "            n_xt.append([n_field(x) for x in X])\n",
    "            rho_xt.append([rho_field(x) for x in X])\n",
    "            C_xt.append([C_field(x) for x in X])\n",
    "            P_prices.append(Pprice)\n",
    "            # print(Pprice,self.alphval)\n",
    "            if plot and i % (self.nT//5) == 0:\n",
    "                axs[1].plot(X, n_xt[-1], color=cmap2(t / self.T))\n",
    "                axs[0].plot(X, rho_xt[-1], color=cmap(t / self.T))\n",
    "                axs[2].plot(X, np.array(C_xt[-1])*1000, color=cmap3(t / self.T))\n",
    "                Pacq =  [2*self.r0*np.pi*C_xt[-1][i]/bp/(C_xt[-1][i]/bp+self.Kp) * rho_xt[-1][i]/bp*Vmax*1000 for i in range(len(X))]\n",
    "\n",
    "                axs[3].plot(X, Pacq, color=cmap4(t / self.T))\n",
    "                # break\n",
    "            i+=1\n",
    "            \n",
    "\n",
    "        # Finalize plot settings if plotting\n",
    "        if plot:\n",
    "            axs[1].plot(X, n_xt[-1], color=cmap2(t / self.T))\n",
    "            axs[0].plot(X, rho_xt[-1], color=cmap(t / self.T))\n",
    "            satrho = np.median([rho for rho in rho_xt[-1] if rho>1e-10])\n",
    "            \n",
    "            # axs[0].hlines(satrho,np.min(X),np.max(X), color=\"red\")\n",
    "            \n",
    "            axs[2].plot(X, np.array(C_xt[-1])*1000, color=cmap3(t / self.T))\n",
    "            Pacq =  [2*self.r0*np.pi*C_xt[-1][i]/bp/(C_xt[-1][i]/bp+self.Kp) * rho_xt[-1][i]/bp*Vmax*1000 for i in range(len(X))]\n",
    "            axs[3].plot(X, Pacq, color=cmap4(t / self.T))\n",
    "            axs[0].set_ylabel(r'$\\rho$'+ '\\n $(mm^{-1})$')\n",
    "            axs[0].set_xticklabels([])\n",
    "            axs[0].set_ylim(0,8)\n",
    "            \n",
    "            axs[1].set_ylabel('$n$ \\n $(mm^{-2})$')\n",
    "            axs[1].set_xticklabels([])\n",
    "            axs[1].set_ylim(0,3)\n",
    "            \n",
    "            axs[2].set_ylabel('$[P]$ \\n ($ng/ mm^{3}$)')\n",
    "            axs[2].set_xticklabels([])\n",
    "            axs[2].set_ylim(0,13)\n",
    "            \n",
    "            axs[3].set_ylabel('$\\phi_P$ \\n ($ng/mm^{3}/h$)')\n",
    "\n",
    "            axs[3].set_xlabel('position \\n ($mm$)')\n",
    "            axs[3].set_ylim(0,0.05)\n",
    "\n",
    "            formatter = ticker.FormatStrFormatter('%.2f')  # Adjust format as needed\n",
    "\n",
    "            for ax in axs:\n",
    "                ax.yaxis.set_major_formatter(formatter)\n",
    "            if remove_ylabels:\n",
    "                for ax in axs:\n",
    "                    ax.set_ylabel('')\n",
    "                    ax.set_yticklabels([])\n",
    "\n",
    "            plt.show()\n",
    "\n",
    "        return C_xt, rho_xt, n_xt,P_prices,alphavals\n",
    "        \n",
    "\n",
    "# Example usage:\n",
    "adaptation_rate = 8e-3\n",
    "C0=0.0014*bp #ug/mm2\n",
    "Pprice_ideal = 3\n",
    "speed = 0.17\n",
    "T = 100\n",
    "nT= 200\n",
    "# sim = Simulation(speed = speed,C0=C0,T = T,nT=nT,Pprice_ideal = Pprice_ideal,Fmax = Vmax,adaptation_rate = adaptation_rate,drag = 1)\n",
    "# C_xt, rho_xt, n_xt,P_prices,alphavals = sim.integrate(plot=True)\n",
    "# speed = 0.26\n",
    "\n",
    "# sim = Simulation(speed = speed,C0=C0,T = T,nT=nT,Pprice_ideal = Pprice_ideal,Fmax = Vmax,adaptation_rate = adaptation_rate,drag = 1)\n",
    "# C_xt, rho_xt, n_xt,P_prices,alphavals = sim.integrate(plot=True)"
   ]
  },
  {
   "cell_type": "code",
   "execution_count": 10,
   "id": "f7d3698b-580c-42af-b8d0-636848d82a47",
   "metadata": {
    "tags": []
   },
   "outputs": [],
   "source": [
    "\n",
    "def get_rhosat(speed,C0=10,Pprice_ideal = 1/15):\n",
    "    sim = Simulation(speed = speed,C0=C0,T = T,nT=nT,Pprice_ideal = Pprice_ideal,Fmax = Vmax,adaptation_rate = adaptation_rate,drag = 1)\n",
    "    C_xt, rho_xt, n_xt,P_prices,_ = sim.integrate(plot=False)\n",
    "    rho_sat = np.median([rho for rho in rho_xt[-1] if rho>0.1])\n",
    "    poss = np.argmax(n_xt,axis=1)\n",
    "    x = np.linspace(0,sim.T,sim.nT)\n",
    "    y = np.array(poss)*sim.Length/sim.nx\n",
    "    fit_coeffs = np.polyfit(x[3*sim.nT//4:], y[3*sim.nT//4:], 1)\n",
    "    return(rho_sat,fit_coeffs[0],[rho for rho in rho_xt[-1] if rho>0.1])"
   ]
  },
  {
   "cell_type": "code",
   "execution_count": 11,
   "id": "7c153168-f874-4fc8-8e85-ee3e685f8154",
   "metadata": {
    "tags": []
   },
   "outputs": [
    {
     "data": {
      "application/vnd.jupyter.widget-view+json": {
       "model_id": "3474a04fb0064c699da60660880d6805",
       "version_major": 2,
       "version_minor": 0
      },
      "text/plain": [
       "Simulating:   0%|          | 0/200 [00:00<?, ?it/s]"
      ]
     },
     "metadata": {},
     "output_type": "display_data"
    },
    {
     "data": {
      "application/vnd.jupyter.widget-view+json": {
       "model_id": "5d6ae3bda0f94f59bb6eb496449e87c5",
       "version_major": 2,
       "version_minor": 0
      },
      "text/plain": [
       "Simulating:   0%|          | 0/200 [00:00<?, ?it/s]"
      ]
     },
     "metadata": {},
     "output_type": "display_data"
    },
    {
     "data": {
      "application/vnd.jupyter.widget-view+json": {
       "model_id": "094b0a1eff014d898c45d8e418d25d97",
       "version_major": 2,
       "version_minor": 0
      },
      "text/plain": [
       "Simulating:   0%|          | 0/200 [00:00<?, ?it/s]"
      ]
     },
     "metadata": {},
     "output_type": "display_data"
    },
    {
     "data": {
      "application/vnd.jupyter.widget-view+json": {
       "model_id": "22873df9518b4dbf9a7e1f5f89892097",
       "version_major": 2,
       "version_minor": 0
      },
      "text/plain": [
       "Simulating:   0%|          | 0/200 [00:00<?, ?it/s]"
      ]
     },
     "metadata": {},
     "output_type": "display_data"
    },
    {
     "data": {
      "application/vnd.jupyter.widget-view+json": {
       "model_id": "ddd62b91bdae429588502ec4539f342a",
       "version_major": 2,
       "version_minor": 0
      },
      "text/plain": [
       "Simulating:   0%|          | 0/200 [00:00<?, ?it/s]"
      ]
     },
     "metadata": {},
     "output_type": "display_data"
    },
    {
     "data": {
      "application/vnd.jupyter.widget-view+json": {
       "model_id": "74cc3663ca9c420db31aa43747a85659",
       "version_major": 2,
       "version_minor": 0
      },
      "text/plain": [
       "Simulating:   0%|          | 0/200 [00:00<?, ?it/s]"
      ]
     },
     "metadata": {},
     "output_type": "display_data"
    },
    {
     "data": {
      "application/vnd.jupyter.widget-view+json": {
       "model_id": "c54a982c6a164b0eb5569da6b02c0a5b",
       "version_major": 2,
       "version_minor": 0
      },
      "text/plain": [
       "Simulating:   0%|          | 0/200 [00:00<?, ?it/s]"
      ]
     },
     "metadata": {},
     "output_type": "display_data"
    },
    {
     "data": {
      "application/vnd.jupyter.widget-view+json": {
       "model_id": "8cdd94a18f0d4f428ee85bf669ac9cb6",
       "version_major": 2,
       "version_minor": 0
      },
      "text/plain": [
       "Simulating:   0%|          | 0/200 [00:00<?, ?it/s]"
      ]
     },
     "metadata": {},
     "output_type": "display_data"
    },
    {
     "data": {
      "application/vnd.jupyter.widget-view+json": {
       "model_id": "9c36a321bdb2405db17efd13fecd58e9",
       "version_major": 2,
       "version_minor": 0
      },
      "text/plain": [
       "Simulating:   0%|          | 0/200 [00:00<?, ?it/s]"
      ]
     },
     "metadata": {},
     "output_type": "display_data"
    },
    {
     "data": {
      "application/vnd.jupyter.widget-view+json": {
       "model_id": "c1e167c6d8474001acf6c8491de3861a",
       "version_major": 2,
       "version_minor": 0
      },
      "text/plain": [
       "Simulating:   0%|          | 0/200 [00:00<?, ?it/s]"
      ]
     },
     "metadata": {},
     "output_type": "display_data"
    }
   ],
   "source": [
    "plt.close('all')\n",
    "speeds = np.linspace(0.11,0.26,10)\n",
    "\n",
    "rho_sats_speeds = [get_rhosat(speed,C0=C0,Pprice_ideal = Pprice_ideal) for speed in speeds]\n",
    "    "
   ]
  },
  {
   "cell_type": "code",
   "execution_count": 12,
   "id": "8885c3cd-b865-4481-8513-b5c61d819868",
   "metadata": {
    "tags": []
   },
   "outputs": [],
   "source": [
    "speeds_observed = [speed for _,speed,_ in rho_sats_speeds]\n",
    "rho_sats = [rho for rho,_,_ in rho_sats_speeds]\n",
    "\n",
    "rho_all = [(speed,rho) for _,speed,rhos in rho_sats_speeds for rho in rhos]"
   ]
  },
  {
   "cell_type": "code",
   "execution_count": 13,
   "id": "df5335ad-100e-4d10-b91c-0521b9be1397",
   "metadata": {
    "tags": []
   },
   "outputs": [],
   "source": [
    "speeds_observed2 = [speed for speed,_ in rho_all]\n",
    "rho_observed2 = [rho for _,rho in rho_all]\n"
   ]
  },
  {
   "cell_type": "code",
   "execution_count": 14,
   "id": "83868a99-6109-4500-a164-28e858b0e6d6",
   "metadata": {
    "tags": []
   },
   "outputs": [],
   "source": [
    "data = pd.DataFrame({\n",
    "    'speed': speeds_observed2,\n",
    "    'rho': rho_observed2\n",
    "})\n",
    "data['speed']=data['speed']*1000"
   ]
  },
  {
   "cell_type": "code",
   "execution_count": 15,
   "id": "237c05fd-798e-4390-a90a-92cd48a8333b",
   "metadata": {
    "tags": []
   },
   "outputs": [],
   "source": [
    "path_figure = r\"/mnt/c/Users/coren/Documents/PhD/paper/PandC/Fig5\"\n"
   ]
  },
  {
   "cell_type": "code",
   "execution_count": 16,
   "id": "66e4c59c-57b2-44a3-ae15-ce93773edf46",
   "metadata": {
    "tags": []
   },
   "outputs": [],
   "source": [
    "\n",
    "\n",
    "df = pd.read_csv(\"expexptradeoff.csv\")\n",
    "df['instant_L_dens']=df['instant_L_dens']/1000\n",
    "strain_to_color = {'C2': (0.17058823529411765, 0.4946558433997788, 0.9667184042691874),\n",
    " 'A5': (0.16666666666666663, 0.8660254037844386, 0.8660254037844387),\n",
    " 'Agg': (0.503921568627451, 0.9999810273487268, 0.7049255469061472),\n",
    " 'Clarum': (0.8333333333333333, 0.8660254037844387, 0.5000000000000001),\n",
    " 'C3': (1.0, 0.4946558433997788, 0.2558427775944356)}"
   ]
  },
  {
   "cell_type": "code",
   "execution_count": 17,
   "id": "6d70f272-cc59-4f17-9f9c-1a8316bb432c",
   "metadata": {
    "tags": []
   },
   "outputs": [
    {
     "data": {
      "application/vnd.jupyter.widget-view+json": {
       "model_id": "aa6a69ec5b7c430eb513d2f1fd7d4ad5",
       "version_major": 2,
       "version_minor": 0
      },
      "text/plain": [
       "Simulating:   0%|          | 0/200 [00:00<?, ?it/s]"
      ]
     },
     "metadata": {},
     "output_type": "display_data"
    },
    {
     "data": {
      "application/vnd.jupyter.widget-view+json": {
       "model_id": "0eaac8fd0c8848bf83b0bc8646097e6c",
       "version_major": 2,
       "version_minor": 0
      },
      "text/plain": [
       "Simulating:   0%|          | 0/200 [00:00<?, ?it/s]"
      ]
     },
     "metadata": {},
     "output_type": "display_data"
    },
    {
     "data": {
      "application/vnd.jupyter.widget-view+json": {
       "model_id": "7fd95695df0b4c2083bf9dd264b067fd",
       "version_major": 2,
       "version_minor": 0
      },
      "text/plain": [
       "Simulating:   0%|          | 0/200 [00:00<?, ?it/s]"
      ]
     },
     "metadata": {},
     "output_type": "display_data"
    },
    {
     "data": {
      "application/vnd.jupyter.widget-view+json": {
       "model_id": "355c433e0c004f8e878454c665e6cb4c",
       "version_major": 2,
       "version_minor": 0
      },
      "text/plain": [
       "Simulating:   0%|          | 0/200 [00:00<?, ?it/s]"
      ]
     },
     "metadata": {},
     "output_type": "display_data"
    },
    {
     "data": {
      "application/vnd.jupyter.widget-view+json": {
       "model_id": "b4b67162914e49acb819a0e80057aa28",
       "version_major": 2,
       "version_minor": 0
      },
      "text/plain": [
       "Simulating:   0%|          | 0/200 [00:00<?, ?it/s]"
      ]
     },
     "metadata": {},
     "output_type": "display_data"
    },
    {
     "data": {
      "application/vnd.jupyter.widget-view+json": {
       "model_id": "73fb65e6c69b4eeea81039fc4319b8cc",
       "version_major": 2,
       "version_minor": 0
      },
      "text/plain": [
       "Simulating:   0%|          | 0/200 [00:00<?, ?it/s]"
      ]
     },
     "metadata": {},
     "output_type": "display_data"
    },
    {
     "data": {
      "application/vnd.jupyter.widget-view+json": {
       "model_id": "cbed913f3b66457e95a193c4abc52a14",
       "version_major": 2,
       "version_minor": 0
      },
      "text/plain": [
       "Simulating:   0%|          | 0/200 [00:00<?, ?it/s]"
      ]
     },
     "metadata": {},
     "output_type": "display_data"
    },
    {
     "data": {
      "application/vnd.jupyter.widget-view+json": {
       "model_id": "5d2a07a03d76443eb70deef368adcb41",
       "version_major": 2,
       "version_minor": 0
      },
      "text/plain": [
       "Simulating:   0%|          | 0/200 [00:00<?, ?it/s]"
      ]
     },
     "metadata": {},
     "output_type": "display_data"
    },
    {
     "data": {
      "application/vnd.jupyter.widget-view+json": {
       "model_id": "970d3014f286407a9296b55414d95958",
       "version_major": 2,
       "version_minor": 0
      },
      "text/plain": [
       "Simulating:   0%|          | 0/200 [00:00<?, ?it/s]"
      ]
     },
     "metadata": {},
     "output_type": "display_data"
    },
    {
     "data": {
      "application/vnd.jupyter.widget-view+json": {
       "model_id": "c533afdd3a534454a96ba4035329995c",
       "version_major": 2,
       "version_minor": 0
      },
      "text/plain": [
       "Simulating:   0%|          | 0/200 [00:00<?, ?it/s]"
      ]
     },
     "metadata": {},
     "output_type": "display_data"
    }
   ],
   "source": [
    "def get_rhosat2(speed,C0=10,Pprice_ideal = 1/15):\n",
    "    sim = Simulation(speed = speed,C0=C0,T = T,nT=nT,Pprice_ideal = Pprice_ideal,Fmax = Vmax,adaptation_rate = 3e-4,drag = 0)\n",
    "    C_xt, rho_xt, n_xt,P_prices,_ = sim.integrate(plot=False)\n",
    "    rho_sat = np.median([rho for rho in rho_xt[-1] if rho>0.1])\n",
    "    poss = np.argmax(n_xt,axis=1)\n",
    "    x = np.linspace(0,sim.T,sim.nT)\n",
    "    y = np.array(poss)*sim.Length/sim.nx\n",
    "    fit_coeffs = np.polyfit(x[3*sim.nT//4:], y[3*sim.nT//4:], 1)\n",
    "    return(rho_sat,fit_coeffs[0])\n",
    "rho_sats_speeds2 = [get_rhosat2(speed,C0=C0,Pprice_ideal = Pprice_ideal) for speed in speeds]\n",
    "speeds_observed2 = [speed for _,speed in rho_sats_speeds2]\n",
    "rho_sats2 = [rho for rho,_ in rho_sats_speeds2]"
   ]
  },
  {
   "cell_type": "code",
   "execution_count": 18,
   "id": "32baa754-c101-4639-8f42-7f4eec17f228",
   "metadata": {
    "tags": []
   },
   "outputs": [
    {
     "data": {
      "application/vnd.jupyter.widget-view+json": {
       "model_id": "8a956b982974459785b961116705ca44",
       "version_major": 2,
       "version_minor": 0
      },
      "image/png": "[encoded data removed]",
      "text/html": [
       "\n",
       "            <div style=\"display: inline-block;\">\n",
       "                <div class=\"jupyter-widgets widget-label\" style=\"text-align: center;\">\n",
       "                    Figure\n",
       "                </div>\n",
       "                <img src='data:image/png;base64,iVBORw0KGgoAAAANSUhEUgAAAJ0AAAB2CAYAAADSpZGXAAAAOXRFWHRTb2Z0d2FyZQBNYXRwbG90bGliIHZlcnNpb24zLjcuMSwgaHR0cHM6Ly9tYXRwbG90bGliLm9yZy/bCgiHAAAACXBIWXMAAA9hAAAPYQGoP6dpAAAi+ElEQVR4nO2deXxU5b3/3+fMPplksq9khYQQiAQSEBcEWaytFrWuFQUtXpXbW6X2/qpe7QW8Kr0qWqVVqXUvvXrdsLZyK+ACakX2PUBClsky2ZOZzGTW8/z+CERCdgiTxXm/XvljznPO83znzCfP/v0+khBCECRIAJGH2oAg3z+CogsScIKiCxJwgqILEnCCogsScIKiCxJwgqILEnCCogsScIKiCxJwgqILEnCCogsScIKiCxJw1IOZmaIoVFVVERoaiiRJg5l1kGGEEAK73U5iYiKyPPB6a1BFV1paytixYwczyyDDGIvFwpgxYwb83KCKTqPRAHDo0CGSkpIGM+uAYLPZSE5OxmKxEBYWNtTmDJhA2X+ynNDQ0DN6flBFp9frAYiOjh6RP5pOp2P58uXExMSg0+mG2pwBE2j7z7QLJQ3mJk6bzYbZbKalpWVEii5I/zjb3zkgo9fDhw/T1NQUiKKCjAAGtXnticbGRjweDxEREYEoLsgwJyA1naIoWK1WWltbA1FckGFOv0Xndrv5t3/7NzIzM8nNzeWWW24ZUEFNTU3U1NQM2MAgo49+N68PPPAAkiRx9OhRJEnCarUOqCBZlrFYLKSkpHRMrQT5ftIv0TkcDl5++WUqKio6hsnx8fEDKshsNtPc3ExdXR2JiYkDtzTIqKFfzWtxcTGRkZE8/vjjFBQUMHPmTDZv3tzj/TabDbfb3bkgWUaj0VBRUUHQ1Xbk4na7sdlsZ5VHv0Tn8/koKysjJyeHHTt28Nxzz3HjjTf22EdLTk5m1apVXa6Hh4dTV1dHc3PzWRkdZOhYtWoVycnJZ5VHv0SXkpKCLMssXLgQgClTppCens7+/fu7vd9isfDggw92ua7X6/F6vVRXV5+FyUGGkgcffBCLxXJWefRLdNHR0cydO5d//OMfAJSUlFBSUsKECRO6vT8sLKzHZRiz2UxlZSVtbW1naPLIx40POy4sNFJFMw7c+PAPtVn9QqfTnfVqU79Hry+++CJLlizh/vvvR5Zl1q5de0aL+qGhoZSXl1NbW0tqauqAnx/pOPGwmUL2UoFCe99Wh5qZjGMKyRjQDrGF555+iy4jI4PPPvvsrAuUJIn0sekYo8OoE3Y8kp8w9GhQoWd0T6U48fABeyimrtN1Nz42UYiC4HzS0ARmoWjICPi3i0tJpCnCz5/VO7HTPsKVkJhAHJczCRMjb3dHf3Hg7iK4U9lKEXkkj3rRnfNlsOPHj7NhwwYAzOFmmiP8fKDe2yE4AIHgEFb+wrc48Jxrk4aMPVT0mu7FTx32AFkzdJxz0a1fv54nnniCyspKwhOi2aQ+0uO9VmzUcHZzQMMZD74+7/GOkAHF2XDORbd06VIiIiJYt24dfg3YcPV6/w7K+vXjjEQyie3znljObDfuSOKci85gMLBo0SI2b97MgYMH+7zfhx/B6FyxSCKckF76rBlEox3l/TkI0NamK664gtjYWH638glUfRSZRhQaVIEwK+AY0LKYGRi7mRaJJZSrmdxt2mgjIP9WGo2GW2+9laeeeopLt99E67TuJxfVyOSShDxK3XFlJCIJYSmXcJx6jlCDCpkpJBODqddacDQRsF937ty5pKWlseE3r5Isuu4gViOzkOkYRvlcnYxECDpySeJqJrOA80gj6nsjOAig6FQqFXfeeSeb/rGRmM0tLPJOJ1ckMZ445nqzWOqdSRLhqEdp09odalR9djdGIwH9xvPmzSMzM5MVD/yG1iM1TK2KZEZ1POFHPWz/7Gva7M4zyteBm9YTfy68g2x1kMEmoEMlWZa5++67+dWvfsXWrVuZPn16R5rT6aSwsJC8vLx+7yxuw0s5jXzBUazYkJDIIpa5ZGNGP+pn9kcqAa/bL7nkEiZOnMjzzz/faTNnQkICFouFo0eP9muTpwsv2yjhbXZgPTGhLBAcoYa1bKUG+6idehnpBFx0kiSxdOlSDhw4wJdfftlxXa1WExsbS1FRUb/2a7nwsoVj3ab5UfiAPThH8ZLaSCagojOZTCRlpnLjHbdw4SUX86dXXiYkJKQjPT4hnpwpuTh97l53Fyso7KJ3YTbhHNXruCOZgHV6xuZk4YvT8Vf1YazYyH7sx7wy83427PmCW664HrVOwxFVLcWqelRITPLoUSt6TLK+S14ufLTQ9ybQVtzfi2WlkUZARBebFE9jnMLH6p0d11Ivnsi4y/N5auVv+cl11/KW+mvcp6y5HtXWEomRW8UMwiQ9Eu1eaAJBDTbCMfRZrpmugg0y9ASkeY1JimNjN7tL5vzXLVQVlnL/X/67k+BO0oiTD6Td1AhbR//Mi58dlJNNPL3FDIoldNRvCh2pBER0lXJLt1t2ZhRM59JrfsAnK97E5+l+fq2cJnySwhaO0YbnRI0nOEQ18+jeR0OHmmvI+17N8o8kBiS6V199FUmSWL9+/YAKccjdd+ijMHHtI3fSXFrL7lc29vh8LXZKacCOGw0qppDCVxQjECxkOpnEokNNCDoKSGUxFxAaFNywpd+iKy0t5aWXXmLGjBkDLiReNnd73YefzEnZ5N48i83/8QY1+0u7vU+LGh8K20QJPvwkEEY0JjZRyP9xkHSiuJ6pLOA8VEhU0Yw22LQOW/olOkVRuOOOO1izZs0ZRXiMkUK79X0ooZ5s4vnRmrsxp8byxvyHqT/SeUu3FhWRGGnEgU1y4fH7CEHHrZxPGlE04OATDvNnvuVddhGGgQnEo+7hq/nw04obOy5aR5Dr32iiX6PXp59+mosuuoj8/Px+ZWqz2dDpdB0C1aPhJgp4nW869e0ceGjGydTwcSif/Bevzn6Q1+c+xM+2/jcR6e2xUi5mHHtP+BZE+g001TZgiE8gVNJzHVNx46MOOxpUxBKKFnWP+/FacfM1xezGghsfOtTkk8IFZAT7f/0kIGElDhw4wHvvvcfDDz/c70xPDyuhQiaWMP5VzOJ8JY0IjIRjYJqSSpI3jPne8cyLzmPJplWoDVpem/MQ3gobl5FDKHq2UwbAVH8ye3fv6VixMKIlAiNZxJFONCHoehScAzev8U++oaRjpOzGx9cc53W+wYG72+eCdGYwwkr0GXP4hRde4JFHHumotaxWK2FhYaxcuZKlS5d2uvdkLFqLxdJjsOU2r5tGRws+nw/h8tFc34gQgpjEOMJiI9hvOcpNl/wYrU7Lw1vWYolr96m41J9FWmMIR/cdxufzkZ+fT3R0dL++pA+Fryjiix6WzQDmks0FpI/aDaSDhdvtpq6ujuTk5DOOOTzgQNezZ89m2bJlXH311V3S+hsAubGxke3bt6NWqwkPD++4HmIKIS5jDB+XfM3PL70ZQ2Qoyz//I5eH5aG1KVSXtjezVqsVk8lEfn4+JpOpT5sduHmBLb2uxYah5w4uDrjfrQsvAoEW9YjZWzciAl2fTmRkJNnZ2bS2tuJyfecd5mh1UHrgGBfqsvjow4/wWlt5fu6/Y91Z3CE4gLi4OJqamti/f3+n53ujr8V/O+5eJ5sHGycejmDlfXbzv+xkC8dooS3ogtgdn3/+ebe13EBJTk4mPT2dmpoaFEXpuK4oCo31DRglLWuee46yklLuuusunM7vNnhKkkRiYiJWq5WDBw/i9fa9cdPcx7JZJMYz/zIDpBU3b/ANb7OTIuooo5GtFLGGzyinEe8odcE8yZDV57Isk5WVRWxsbI9x7rKyslizZg3FxcXcd999nWo1lUpFQkICZWVlFBYW4ve3uy46cHf8naw1DGi5kIxe7bmQsQHxxHLhZQMHqO3Gk19B8D9sxxUU3blDr9eTk5ODRqPpcSvTxIkTefbZZzlw4AC//vWv8Xi+ayY1Gg1xcXGUlpbS4nFwQFTxBt+wmk38gS/4nKPYcSEBE0kklchuy8ggivHEdWwqOJd48VNIzwG/FcSJiE5Kj/eMdIa853pq/+7UJvRU8vLyWL16NTt27OChhx7C5/uuJtDr9RTMPJ/PdMf4QNpDHe3HBrjw8k+O8xJfYsOFES3Xk8815BFPGEa0JGDmWqbwE6YGzN/UjrvPHc0WmkZ1327IRQft/bvMzEwaGxt7rPHOP/98nnjiCbZu3cqKFSvw+9t/FL1eT1sIHJS7j/beiptPOIwLL0a05JLEQqZzNzO5mWlMJDGgDs66fni76VCP6qmbYfHNZFlmwoQJTJkyBa/Xi9Vq7dZP4uKLL+axxx7jk08+YeXKlXi9XsJiItimKes1/yNYOy13haDDhH5IViH0aPoc1EwnbdRGOYBhIjpoH5GmpKRQUFCAyWSioqKiUzN6krlz5/Loo4+yceNGfvGLX2Bz2vvcRawg8A2TPpIBLVcwqcf0NCKJJKTH9NHAsBHdSaKjoykoKCApKYmKiopuYxNfdtllPP/88xw7doyr5l+Bu7ih1zxlpB43AAQaGYlkIlnIdKJOEZcamWmkch35oz6eybA9etPr9XL06FGKioowmUydVi5OYrFY+OUvf0mL3cY16+8n9eKJ3eaVQwI/JhfdMNruJBA48eDFjx8FHRp0qEaEr+6IXJHoDxqNhpycHPLy8nrs5yUnJ/Pyyy8zIWcCb8x9mL1/7hoTORQd88WEYSU4aA95G4KOcIxEYcKEbkQIbjAYtqKD9n5eamoq+fn5hISEdNvPM5vNPPPU01x/w/W8f+tqvl3+DgiBAQ0X+NO51TUN67HyXk9g9CuChtbv/jy+oJP2uWRE/GvFxMRQUFDAwYMHqaysJC4uruPodmhfnbjv3l+SGJfA6kdWoy908MwLa/A5XBRXFVJVVUWFpYKsrCwSExNRqb4bGTY5BX/b6+f1r33U2MBsgBsKVCycoSbKFMjV2O8Pw7ZP1x0ej4ejR49SXFxMaGgoZnPXbfCbNm1i+fLljB8/ntWrVxMREYEQgqamJhwOB8nJyYwbNw6z2UyTU7DsLQ+7yrq+guRIiTeWaIkOCq8Lo7ZP1x1arZacnBwmT56Mx+OhsrKyS3M7b9481q5dS2VlJbfddhslJSVIkkRkZCTx8fFUVFTwzTffUFVVzdYj/m4FB2BpFLz6pQ93sKkddEaU6KB9IjktLY3p06cTFxdHdXU1jY2NnQYZkyZN4rXXXkOn03H77bfz3nvv4fP50Gg0jBkzBrVaTYtL4vV/9r7U9N4uP6392zkVZACMONGdJDIykoKCAqZOndpxgPGpc3oJCQm88sorzJo1i1WrVnHzzTfz5ZdfIoQgPDyckBATtfbeazGHG/wBqugcfj82vx/f9+BY0hErOmgfQKSkpDBjxgzGjRtHU1MTVqu1Y13WZDKxcuVK3nzzTSIiIli2bBk///nPOXLkCIrfR6K59/5amB5UJ27x+ATNToHdNbiiaPL7+cbp5MG6OpbV1PBiUxNWn482ZXisoJwLRtRAojeEENTV1VFUVERNTQ1ms7nTQEMIwdatW3n22WcpLy/nmmuuYcFdT/LUVz2fsn3HTBVLZqqwuyT+91sfO8oUDFqJ6/JVFKTJRIac3SCj0e/n51Yr+047kFkN/C4ujhkGAwZ5+NULZ/s7jxrRncTr9VJeXk5RURFtbW3ExsZ2chDy+XysX7+etWvX0uZykTP/Xtom3IdK1zm607hYiZcWazhcLbjnL158p1U8GTESLy/WEh3aLjxFETSdsjMrwgiy3LMonYrCb+vree+U+UOtJBEqy9gVBUUINqakECpUuL2gUUGIbniMpAMiOpfLxU033cShQ4cwGAzExsbywgsvMG7cuEE1ZjCx2WwUFxdTXl6ORqMhKioKtfq7acnW1lbefPNN1q1bhz7ETOr83yCPX0ysWcMNBXBZtg9JVnPlHwS+HsYbc7JlHrtag1eBTYf9vPlPP1XNggSzxMIZKubnqDAbQK3qKpZ6n4/5FgseIcjWarlNH0G6pKPeoRBllFGpBSqPzF/+qVBcpxAVIrHoQhUZ0TIRZ1nDni0BE92nn37KD3/4QyRJ4ve//z3vvvsun3/++aAaM9goioLVaqW0tJS6ujokSSIqKqrTxLLVauWll17iww8/JGv8BO5/aAUXz5iKSiXzqSWR5z7tOf+xMRJ/uk3DfW952W3p+honJ0s8cZ0Gs0HqUkuVeDxcWVHBTL2Bu1Qx/Pd6Pwer2vP4zZVqGh2CP3zWVe2zx8usWKAZ0onrIWled+zYwXXXXUdpaemgGnOu8Pv91NfXU1FRgdVqxev1EhER0cl9sbCwkGeeeYadO3eSlJTETTffSmPq3Wyvjes2z6RwiT8uUrPxkOB3m3r2afjFXDWzsySy4jvvj6vyerm+spKXwsZwx1of9hNTM+nREg9foWbJ617yUyXumKkmwgg6NZQ1CI7UtNekl+XIhOiHpr93tr/zGS2DPfvss1x11VW9GnVqWImhRqVSERcXR2xsLM3NzVRWVlJZWUlDQwNms5mwsDCys7N58cUX2bt3L+vXr+cPa36H2/MkpswfETl1Caax85Dk74Rzz1w1Vhu8s6P3ub73d/o5b0x7zXXqwEMvy9xuCuftr/wdggP46XQV+ywKH9+rpc0Lh6sUokwy7+/2U1gtCNVDdryM0wshQxDzcTDCSgy4pnv88cf56KOP2Lx5M0ZjZ7e9k/8BAMuXL2fFihVnZdy5pLW1FavVSllZGS0tLYSEhBAeHt7R73O73Xy0eTu/+8PLuGr2ozEnE5F3GxFTFhETP4Znb9KiVsEtf/LQ1xtc9y9aYkMh3vxdzSSEoLJV4Ybfe7G7IMwA/36Zmrxkma3HFNw+QUGajEkncd/bXkobOhcyNUXimZu0Zz2CHigrVqxg5cqVAIFpXp966ineeustNm3a1O3+tv6ElRhuuN1uampqKCsro7GxEZVKRXh4ePuAKTmLRzZo+HTrdpp2vUrLgf9F8bWRlHs5N9zyL/z4ih/y2AZBTS//+LGhsPIqDWNjJBLCOzeH9a0K81d7MGrh+Vu0/Gmrj8+PdB4mT0iQWLFAw/3vdhXezeerWDZfjUETOOEFNKzE008/zbp169i0aRMREV3P9oLh26frDz6fj/r6eiwWCw0NDbS1tWE0GsnNn8m6HSre3Smw2220HHgH/+FXqDm+C1NkItPm3MBx3VxCUi5C1nT1ffjX2SoaHIKls7t2/pudgl/8xcP8HBX7KxX+70D3E8KZsRL//gM1d73Z2ancoIENy3QBH1QEZCBRUVFBcnIyGRkZhIa2z2fpdDq2bds2qMYMB4QQtLa20tLSQm1tLc3NzYRHxRGTmIZXUaNRSeB3c+jwYW799Z+Qyv9ObU0VkkqHMeUiTBlzMI2dhz4ul/HxKh69RsOOEh9X5rgwhRi6nAa07bifUL3ET//oQRHtNWOUSaLZKahu+e6+NTdrWP0PX5fabsO9WsZEBnZAEZwcPse0tbXR0tJCfX09NTU1OBwOFEVh/MSpvH8kjq3HBEsnH+O1dz/hi0830ly8BeFrwxQey7x5c9GnzmHZzRdSW1lMSEgI8fHxREdHYzab0el0tLoEW476eW+Xj1/O8xJhbMXra0KtCsPpNfP7TzV8dqS9KbW1Cf62r3NtuPE+HfF9LOcNNkHRBRCv10tLS0vHGm9qZi5v7Tbw4R7BnGwVV0yW0eJh786v2fX1Rr74bCMH9u1GCEFGRgZTpkxh4sSJ5ObmEh0dTVhYGPHx8TSJaKKM9djs7+D1NXeUp1aFEhZ6Deu2x+FTNLQ4O4suO17ij4u0AZ8sDopuiFAUBZvNhssLQm2kuFbBrwgy42Q8bXacLbXY7Xbsdjvbt29n27ZtfPvtt1RXV6PVasnLy+X8GeeTlTmeKxdchtP/HkJ0N98nExV5FxXNUTz2dx81NoHdBSoZXvuZhrzkwPvHBkU3TPD5fDidTux2e0dz7HQ6kSSJrKx0EpPicLhK2Lb9f/hy63727LKwe6eF6qr2jtuY5Ejy8seQNzWZvKnJZGbFolLJgEx85A8JMY6nyeFGET406hB8ioZwgw7jEKzHBkV3DlGEghA+JEmFLA2sRhFC0NbWhkrtxeY4gCxrsDZs6HKftbqFwgNuDu1vZeuXmzl8sBqfTyHEpCM/fxIzZ85l2rQcsieZ0BtcONqOgyQRbsojNnIOalXgQpydJCi6c4Df78KvtNFg247X24BGHUGUeTqybECt6vt4qJP4fA5Kql8lKWYB5da38Ss9H6KcGr+Qqvq/Y7PXcuhALaVHI9n2zS62bdtFQ0MjACkpCUzIySF9bDhjUnxMnJhHweRF+HwyRqMRg8GA0Wjs5HjUHUIImhQFtxAoQqA7sbtF189tVEOyDDaa8fnbaLR9S13T552uN9q2ER0+k2jzBah6EZ4QAr/fiSL8OFzH8Ssu/Iq7V8EBtDgOYTKOw+tr5kc/+Bm6K6Pw+K6jun4DZaV17N1VQdGxWo4XWdjwt8OUlVUBHwIriYuLIzExkdTUVDIyMjr8hRMTEzGYzXjUaiRZxihJIEnsc7lY1dBA8YlgkmGyzM1hYdxqNhPeh2AHg6DoTsPlru4iuJPUN2/FqEsmNCSz23QhBB5fE15vM37FRbN9L7KkRlH6PgJUUTxo1KFIkgaTcRwebyPWho+RJEhLjyYtvXNQ7+jQn/DP7esoL/VwoESmvPAIu3bt4q9//WtHZNOYuDgMaWm44uPRJSYyITWVa8eP53BUFLaICH4UE4MEHPB4eLG5mWMeD4/ExJxz4QVFdwo+v7NHwZ2ktvlzDPqkbvtSfsVJTeMmQo2ZKIoXITz4/K1oNd0HYzwVoz4Vh7MIgy4BRXHT0PJ1r/e7fPuYedE1OPMruCHiCpbV1vNVVBR1hYVYKioobmhg4/59uMrLqK6swrJrF59UV/PJKd5zu416kmMjSUwfS25qOp/ExjNm/HjGhYd3uGr2tPp0NgRF1wkFp7uy1ztc7iroIaih21NHqGEcTbZdGHQJGHRjaHNX4XSVYzJm0urs/kgBWdKiMoxHo89E561GJRtwusp7tcPhKiU6/GIcQsU7rU6uCwvjgcZG7s3OJiE9mct9bdwb2YBsdYFhHE3TrqYuZiyu2hoc7z9HuaWScmsN5VU1lFce5sixg9Q6BPc3NXWU8Z8P/JqVDz0AkgQh4b3aMxCCojsVAbKsQVF6PshEktQ9aY5W53GMhjF4vI24vXWkJSyi0baD+uavSIn/KV5fC25PbadnZElDRNxCHm1ysMnRxvyQSB7VqWn3merZOUdCBgQqQyZ/rGzgL4mJ2BWFbOFDZ6tBu+tjOPAZeNv3TUUUbSf8jjUQbkBa8FMusNVBeDyYIuGrt+HI1xCXQcnVv8FeepzKDW8wzv41PHktJGXDpYthTA4Yzv7Q5qDoTkGWdZhDcmmy7+jxHrNpEpLcfTAelUqH39+GWh2K21NDs30vSTFXUVX3IZaad0iKWYDXZ8PmOIwQPoyGDPyGCTzd3MYGR7v75McOB8vCdYQas7A7C3u0IzRkPLJs4sXmNvSSRJzPzXsmNSpbLZLbATN+ApfcAke+gv97HmbejORqhfcfAucp22JCwuHH90FoFFQdJU3yIn32JOfJLjCf+J6VhfDnB2HWIrjwugG/19MJTpmchtfXQlHFC93WdrKkZeyYpWg14d0+6/E2UV2/AZMxA2vDPwCICM0nIiwfu6MQl6cGvTaeMNNEfJKe3zY6+ZvDwekHEhTodKyN0XK84kVEN7WdJKkZm3Q3qpIjlMVloZNlkuy1SH/7HVQd/e7G+HGw4FfQUgumCHh1GXTn2qhSw23PQJsNPn0FrMU9v6B7/4xNbfr+hJUIBGqViYzEOzDoOrsm6rUJpCctQa3uuXmRZT0qlR6DLqnj+Sb7TkqqXsbtbUCnjUUIgUo2UKFo+aAbwQHscLtpkUyMSbgVtapzeRq1mbTYhWgOfIO65jgZ+EnyuZBe/3+dBQdgLYLX7oP4DNi/uXvBAfh98M27EDWmd8EBbP8rKGcXhDvYvJ6GJKnQaaNJiV+Ionjw+x2oVEZkWdfn7L9aZSA+6nIaWrYTH/Uj7M5Cmmy78CtOWp1HMYdOISb8YtSqEOIkhWl6Pdt7OPGnxi/h9pjJC78er+TCiwutbELTYkf13h+Qine22+tuA5cd3I7ujfK0wedvwKRL4dsPezb+6DaYe0ffL6ixCnx9HxbTG0HR9YBaZQSVEXpoSnt7Ljr8AoTiIdw0mYjQfCSpfQ1VJeuQT/QHI1Qqno6L48mGBj5ube04rsQsy9wTEUG6RoPkcaB5/WE0SRMg+0LY8CjY6joXOLYA3v7P3o06+AXMXtT7PUJpb2b7IioJ1GcXYDIounOAStaCrEVN74flRapUPBQdzX2RkVT6fOgkiViVilBZRivL+FQq0BohZyZs/GNXwUG7ALx9HBvq90Jfa8cZ+SCrICETqns+LZJpV7XfdxYE+3RDjEmWiVGrydPrmaDTEaVWoz2xBqo2hCEKrgRTFNRbus+grgySJvReSEJWe03WE5IMc26HsGi49j9A10N097lLwND3qZN9ERTdcEaWkbIv6r3Z2/FR+/RIb1y6CPSmdkGd3jRqdHDDf0LkiYFTZBL8/GWYtgD0Ie1lp+TCbavbazn92Ysu2LwOd0LC20eXaXlQuqdretXR9kHErEXwxRtd02cuhORJ7ZO62RdDxlQo3gkNFohObf+sM7aLD9pFZo6Fy+6G2Yvbr8kqMA7eFNig1nTuE9GH3O6ReTS52+1mxYoVw8/+sGj4wd3Q09ajjS9BwZW4736ZFcVG3GPPhwuug3vegItu/G4VQatvX4GYPB/m/AzOm9s+f6fpxlVUq29PM0UMquBgkCeHLRYLKSkpHDp0iKSkpMHKNmDYbDaSk5OxWCzDb3Lb0waVR+Bvz4D9lMNaolPh2gcgPBHbiZjKluPHCAuP7N9o9Aw4+Z6am5u7jfvcF4MquuPHjzN27NjByi7IMMdisTBmzJgBPzeoolMUhaqqKkJDQ5Gk4RFLLcjgI4TAbreTmJiIfAZBGwdVdEGC9IfglEmQgBMUXZCAMyDR3XPPPaSlpSFJEnv27Om4npaWxvjx48nLyyMvL4+33367I+3YsWNceOGFZGVlMW3aNA4ePDhoxg8El8vF1VdfTVZWFpMnT2b+/PkUFRUBUFtby+WXX05mZiaTJk1iy5YtHc/1ljZc7J89ezbp6ekd7/+ZZ54ZdvZ3QgyAL774QlgsFpGamip2797dcf30z6dy6aWXildffVUIIcQ777wjCgoKBlLkoNHW1ib+/ve/C0VRhBBCrFmzRsyaNUsIIcTtt98uli9fLoQQ4ttvvxVJSUnC4/H0mRZIerN/1qxZ4oMPPuj2ueFi/6kMSHQn6a/oampqRGhoqPB6vUIIIRRFEXFxceLYsWNnZOxgsn37dpGamiqEECIkJERUV1d3pE2bNk1s3Lixz7Sh5FT7exPdcLR/0Pp0ixYtIjc3lyVLllBX174bwmKxkJCQ0BHd8uSR6eXlvTudBIKTIWwbGhrwer3Ex8d3pKWlpVFeXt5r2lBzegjeBx54gNzcXG688UaOHz8OMGztHxTRbdmyhX379rFr1y6io6NZvHjxYGR7znj88ccpKipi1apVQ23KGXG6/W+++SaFhYXs27ePmTNncuWVVw6xhX1wJtVjb324qqoqYTKZhBDDs3l98sknRX5+vmhqauq4ZjQae2yCeksbCrqz/3R0Op2or68XQgw/+4UYhD5da2trpxewevVqMXPmzI7Ps2bN6jSQyM/PP2Njz5bVq1eLqVOnisbGxk7XFy9e3KmznZiY2NHZ7i0t0HRnv9frFVartePzu+++K1JSUjo+Dyf7TzIg0d15550iKSlJqFQqERsbK8aOHSuKi4tFXl6eyM3NFZMmTRILFiwQJSUlHc8UFhaKGTNmiMzMTJGfny/27ds32N+hX1gsFgGIjIwMMXnyZDF58mQxffp0IYQQVqtVzJ8/X4wbN07k5OSITz/9tOO53tKGg/2tra0iPz9fTJo0SZx33nlizpw5Ys+ePcPO/lP5/3vb88AySKIXAAAAAElFTkSuQmCC' width=157.4803149606299/>\n",
       "            </div>\n",
       "        "
      ],
      "text/plain": [
       "Canvas(toolbar=Toolbar(toolitems=[('Home', 'Reset original view', 'home', 'home'), ('Back', 'Back to previous …"
      ]
     },
     "metadata": {},
     "output_type": "display_data"
    }
   ],
   "source": [
    "plt.style.use('presentation.mplstyle')\n",
    "cm = 1/2.54  # centimeters in inches\n",
    "\n",
    "fig,ax = plt.subplots(figsize = (4*cm,3*cm))\n",
    "# fig,ax = plt.subplots()\n",
    "\n",
    "# ax.plot(np.array(speeds_observed)*1000,rho_sats,color=\"black\")\n",
    "# ax.scatter(np.array(speeds_observed2)*1000,rho_observed2,color=\"black\")\n",
    "lineplot = sns.lineplot(x='speed', y='rho', data=data, errorbar=('ci', 95), estimator='mean',color = \"black\")\n",
    "# ax.plot(np.array(speeds)*1000,rho_sats2,color=\"black\",linestyle = \"dashed\")\n",
    "select = df[df['instant_L_dens']>0]\n",
    "select = select[select['hull_speed']<280]\n",
    "\n",
    "sns.scatterplot(data = select,x='hull_speed',y='instant_L_dens',hue='strain',s=50,palette=strain_to_color)\n",
    "# ax.set_xscale(\"log\")\n",
    "# ax.set_yscale(\"log\")\n",
    "ax.set_xlabel('$v_{wave}$ (um/h)')\n",
    "ax.set_ylabel('$d_{L}$ \\n ($mm/mm^2$)')\n",
    "# plt.tight_layout()\n",
    "plt.legend().remove()\n",
    "\n",
    "plt.savefig(os.path.join(path_figure,'Figure5tradeoff.pdf'), transparent=True, bbox_inches='tight')\n"
   ]
  },
  {
   "cell_type": "code",
   "execution_count": 19,
   "id": "1fe56b4e-e7d4-49c6-898d-f60f8874ca67",
   "metadata": {
    "tags": []
   },
   "outputs": [
    {
     "ename": "NameError",
     "evalue": "name 'rgzega' is not defined",
     "output_type": "error",
     "traceback": [
      "\u001b[0;31m---------------------------------------------------------------------------\u001b[0m",
      "\u001b[0;31mNameError\u001b[0m                                 Traceback (most recent call last)",
      "Cell \u001b[0;32mIn[19], line 1\u001b[0m\n\u001b[0;32m----> 1\u001b[0m \u001b[43mrgzega\u001b[49m\n",
      "\u001b[0;31mNameError\u001b[0m: name 'rgzega' is not defined"
     ]
    }
   ],
   "source": [
    "rgzega"
   ]
  },
  {
   "cell_type": "code",
   "execution_count": null,
   "id": "07e57e7a-c8c3-4d5b-90c1-53e0e5586f9c",
   "metadata": {
    "tags": []
   },
   "outputs": [],
   "source": [
    "fig,ax = plt.subplots()\n",
    "ax.scatter(speeds,speeds_observed)\n",
    "fit_coeffs = np.polyfit(speeds, speeds_observed, 1)\n",
    "x = [0,0.30]\n",
    "fit_line = np.polyval(fit_coeffs, x)\n",
    "\n",
    "# Plot data and linear fit\n",
    "ax.plot(x, fit_line, 'r--')\n",
    "# ax.set_xscale(\"log\")\n",
    "# ax.set_yscale(\"log\")"
   ]
  }
 ],
 "metadata": {
  "kernelspec": {
   "display_name": "Python 3 (ipykernel)",
   "language": "python",
   "name": "python3"
  },
  "language_info": {
   "codemirror_mode": {
    "name": "ipython",
    "version": 3
   },
   "file_extension": ".py",
   "mimetype": "text/x-python",
   "name": "python",
   "nbconvert_exporter": "python",
   "pygments_lexer": "ipython3",
   "version": "3.9.2"
  }
 },
 "nbformat": 4,
 "nbformat_minor": 5
}
