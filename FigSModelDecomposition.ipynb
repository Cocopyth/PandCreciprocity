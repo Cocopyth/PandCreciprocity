{
 "cells": [
  {
   "cell_type": "code",
   "execution_count": 1,
   "id": "c0cea6e4-a16d-48df-8d2c-983c960b78f4",
   "metadata": {
    "tags": []
   },
   "outputs": [
    {
     "data": {
      "text/plain": [
       "(3.6, 0.0032500000000000003, 0.0035)"
      ]
     },
     "execution_count": 1,
     "metadata": {},
     "output_type": "execute_result"
    }
   ],
   "source": [
    "Vmax = 3.25e-9 #ugP/um2/hour\n",
    "Vmax = Vmax*1e6 #ugP.mm-2.hour-1\n",
    "DP = 1e-5#cm**2-s-1, diffusion coefficient of small ions in water\n",
    "DP = DP*1e2*3600 #mm**2-h-1, diffusion coefficient of small ions in water\n",
    "C0 = 3.5 #ug/mL=ug/cm**-3\n",
    "C0 = 3.5*1e-3 #ug/mm**-3\n",
    "\n",
    "DP,Vmax,C0"
   ]
  },
  {
   "cell_type": "code",
   "execution_count": 2,
   "id": "c3114bb0-57eb-470c-8313-f700a2b2fd59",
   "metadata": {
    "tags": []
   },
   "outputs": [
    {
     "data": {
      "text/plain": [
       "1.4702653618800232"
      ]
     },
     "execution_count": 2,
     "metadata": {},
     "output_type": "execute_result"
    }
   ],
   "source": [
    "import numpy as np\n",
    "Vmax * 3e-3*np.pi*2*1e3*24"
   ]
  },
  {
   "cell_type": "code",
   "execution_count": 3,
   "id": "1ed80a3e-d961-43da-b75f-89ca381ad467",
   "metadata": {
    "tags": []
   },
   "outputs": [
    {
     "data": {
      "text/plain": [
       "122.22222222222223"
      ]
     },
     "execution_count": 3,
     "metadata": {},
     "output_type": "execute_result"
    }
   ],
   "source": [
    "11/3/0.03"
   ]
  },
  {
   "cell_type": "code",
   "execution_count": 4,
   "id": "a5e83831-503b-4c7f-929a-10355afaf553",
   "metadata": {
    "tags": []
   },
   "outputs": [],
   "source": [
    "# C0 = 0.003  #ug.mm3\n",
    "# psat = 2 #mm/mm3\n",
    "# Ccost = psat*np.pi*(sim.r0)**2 #mm**3.mm-3\n",
    "# # Ccost *= (sim.v_sval/0.25)**(sim.speed_penalty)\n",
    "\n",
    "# Ccost *= 0.5*0.21*1.1 *1e-3 #g.mm-3\n",
    "# Ccost *= 1e6 #ug.mm-3\n",
    "# Ccost *= 2 #ug.mm-3"
   ]
  },
  {
   "cell_type": "code",
   "execution_count": 5,
   "id": "9ac4c9da-9cbe-423a-a10c-39cf976c9f4e",
   "metadata": {
    "tags": []
   },
   "outputs": [
    {
     "data": {
      "text/plain": [
       "0.5"
      ]
     },
     "execution_count": 5,
     "metadata": {},
     "output_type": "execute_result"
    }
   ],
   "source": [
    "C0 = 500 #mg.L-1\n",
    "C0 = 500*1e3 #ug.L-1\n",
    "C0 = C0 * 1e-3 #ug.cm-3\n",
    "C0 = C0 *1e-3 #ug.mm-3\n",
    "C0"
   ]
  },
  {
   "cell_type": "code",
   "execution_count": 6,
   "id": "a90c578e-2680-4a69-a27c-4606d44e6303",
   "metadata": {
    "tags": []
   },
   "outputs": [
    {
     "data": {
      "text/plain": [
       "3.1e-05"
      ]
     },
     "execution_count": 6,
     "metadata": {},
     "output_type": "execute_result"
    }
   ],
   "source": [
    "Km = 1e-3 #umol/cm3\n",
    "Km *= 31 #ug/cm3\n",
    "Km *=1e-3 #ug/mm3\n",
    "Km_snchepf = Km \n",
    "Km_snchepf"
   ]
  },
  {
   "cell_type": "code",
   "execution_count": 7,
   "id": "6f302a30-1cfe-4ac8-9efa-21f1ddc61ec3",
   "metadata": {
    "tags": []
   },
   "outputs": [
    {
     "data": {
      "text/plain": [
       "0.1798"
      ]
     },
     "execution_count": 7,
     "metadata": {},
     "output_type": "execute_result"
    }
   ],
   "source": [
    "Km = 5.8e-3 #umol/cm3\n",
    "Km *= 31 #ug/cm3\n",
    "Km *=1e-3 #ug/mm3\n",
    "Km*1000"
   ]
  },
  {
   "cell_type": "code",
   "execution_count": 8,
   "id": "0956a440-373e-4748-8821-6c21fcf2463a",
   "metadata": {
    "tags": []
   },
   "outputs": [],
   "source": [
    "bp = 8.8 #mm\n",
    "f_v = 1/bp #mm-1"
   ]
  },
  {
   "cell_type": "code",
   "execution_count": 9,
   "id": "8fdbed0f-b80f-4c6d-bb04-328353da372d",
   "metadata": {
    "tags": []
   },
   "outputs": [],
   "source": [
    "def signed_sqrt(x,alpha = 1/2):\n",
    "    \"\"\"Return the signed square root of a number.\"\"\"\n",
    "    if x >= 0:\n",
    "        return x**alpha\n",
    "    else:\n",
    "        return -(-x)**alpha"
   ]
  },
  {
   "cell_type": "code",
   "execution_count": 10,
   "id": "9fb56d66-80a2-4548-8d6b-4a2369eb6564",
   "metadata": {
    "tags": []
   },
   "outputs": [
    {
     "name": "stdout",
     "output_type": "stream",
     "text": [
      "['/home/cocopyth/PandC', '/usr/lib/python39.zip', '/usr/lib/python3.9', '/usr/lib/python3.9/lib-dynload', '', '/home/cocopyth/.local/lib/python3.9/site-packages', '/usr/local/lib/python3.9/dist-packages', '/usr/lib/python3/dist-packages', '/usr/lib/petsc/lib/python3/dist-packages', '/usr/lib/mshr/python3/dist-packages', '/usr/lib/slepc/lib/python3/dist-packages', '/home/cocopyth/miniconda3/lib/python3.9/site-packages']\n"
     ]
    }
   ],
   "source": [
    "import sys\n",
    "sys.path.append('/home/cocopyth/miniconda3/lib/python3.9/site-packages')\n",
    "print(sys.path)\n"
   ]
  },
  {
   "cell_type": "code",
   "execution_count": 11,
   "id": "3692238f-986c-4033-a5bb-c51469f25540",
   "metadata": {
    "tags": []
   },
   "outputs": [],
   "source": [
    "# Vmax = 0.02"
   ]
  },
  {
   "cell_type": "code",
   "execution_count": 12,
   "id": "4aaec90a-7d42-4b63-9dba-e1367ac270c8",
   "metadata": {
    "tags": []
   },
   "outputs": [],
   "source": [
    "# !pip install tqdm\n",
    "from tqdm.notebook import tqdm  # Import tqdm\n",
    "import matplotlib.pyplot as plt\n",
    "path_figure = r\"/mnt/c/Users/coren/Documents/PhD/paper/PandC/Fig5\"\n",
    "plt.style.use('presentation.mplstyle')\n"
   ]
  },
  {
   "cell_type": "code",
   "execution_count": 35,
   "id": "5f6191ac-0d9c-405a-a053-2bb63679b60b",
   "metadata": {
    "tags": []
   },
   "outputs": [
    {
     "data": {
      "text/plain": [
       "56.0"
      ]
     },
     "execution_count": 35,
     "metadata": {},
     "output_type": "execute_result"
    }
   ],
   "source": [
    "Length"
   ]
  },
  {
   "cell_type": "code",
   "execution_count": 13,
   "id": "04857000-8fff-429e-ae97-cb9dcdab7b02",
   "metadata": {
    "tags": []
   },
   "outputs": [
    {
     "name": "stderr",
     "output_type": "stream",
     "text": [
      "/tmp/ipykernel_275/3608636823.py:12: MatplotlibDeprecationWarning: The get_cmap function was deprecated in Matplotlib 3.7 and will be removed two minor releases later. Use ``matplotlib.colormaps[name]`` or ``matplotlib.colormaps.get_cmap(obj)`` instead.\n",
      "  cmap3 = mpl.cm.get_cmap(\"autumn\")\n",
      "/tmp/ipykernel_275/3608636823.py:13: MatplotlibDeprecationWarning: The get_cmap function was deprecated in Matplotlib 3.7 and will be removed two minor releases later. Use ``matplotlib.colormaps[name]`` or ``matplotlib.colormaps.get_cmap(obj)`` instead.\n",
      "  cmap4 = mpl.cm.get_cmap(\"summer\")\n",
      "/tmp/ipykernel_275/3608636823.py:172: MatplotlibDeprecationWarning: The get_cmap function was deprecated in Matplotlib 3.7 and will be removed two minor releases later. Use ``matplotlib.colormaps[name]`` or ``matplotlib.colormaps.get_cmap(obj)`` instead.\n",
      "  cmap = mpl.cm.get_cmap(\"winter\")\n",
      "/tmp/ipykernel_275/3608636823.py:173: MatplotlibDeprecationWarning: The get_cmap function was deprecated in Matplotlib 3.7 and will be removed two minor releases later. Use ``matplotlib.colormaps[name]`` or ``matplotlib.colormaps.get_cmap(obj)`` instead.\n",
      "  cmap2 = mpl.cm.get_cmap(\"spring\")\n"
     ]
    },
    {
     "data": {
      "application/vnd.jupyter.widget-view+json": {
       "model_id": "1f8d73dfc2ec48c3860a0c1c9e0c8ff8",
       "version_major": 2,
       "version_minor": 0
      },
      "text/plain": [
       "Simulating:   0%|          | 0/200 [00:00<?, ?it/s]"
      ]
     },
     "metadata": {},
     "output_type": "display_data"
    },
    {
     "data": {
      "application/vnd.jupyter.widget-view+json": {
       "model_id": "11a639931fc144388c41c1edd346e6b2",
       "version_major": 2,
       "version_minor": 0
      },
      "image/png": "[encoded data removed]",
      "text/html": [
       "\n",
       "            <div style=\"display: inline-block;\">\n",
       "                <div class=\"jupyter-widgets widget-label\" style=\"text-align: center;\">\n",
       "                    Figure\n",
       "                </div>\n",
       "                <img src='data:image/png;base64,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' width=118.11023622047243/>\n",
       "            </div>\n",
       "        "
      ],
      "text/plain": [
       "Canvas(toolbar=Toolbar(toolitems=[('Home', 'Reset original view', 'home', 'home'), ('Back', 'Back to previous …"
      ]
     },
     "metadata": {},
     "output_type": "display_data"
    }
   ],
   "source": [
    "cm = 1/2.54  # centimeters in inches\n",
    "%matplotlib widget\n",
    "from dolfin import *\n",
    "import numpy as np\n",
    "import matplotlib as mpl\n",
    "import os\n",
    "import matplotlib.ticker as ticker\n",
    "Length = 140*0.4\n",
    "nx = int(350*15//10*0.4/0.8)\n",
    "plt.close(\"all\")\n",
    "set_log_active(False)\n",
    "cmap3 = mpl.cm.get_cmap(\"autumn\")\n",
    "cmap4 = mpl.cm.get_cmap(\"summer\")\n",
    "\n",
    "class Simulation:\n",
    "    \"\"\"\n",
    "    A class for simulating a finite element problem using the FEniCS framework.\n",
    "\n",
    "    Attributes:\n",
    "    -----------\n",
    "    Length: float\n",
    "        Length of the interval domain.\n",
    "    nx: int\n",
    "        Number of subdivisions in the mesh.\n",
    "    nT: int\n",
    "        Number of time steps.\n",
    "    T: float\n",
    "        Total simulation time.\n",
    "    C0: float\n",
    "        Initial concentration value.\n",
    "    Fmax: float\n",
    "        Maximum flux value.\n",
    "    Pprice_ideal: float\n",
    "        Ideal price value.\n",
    "    width: float\n",
    "        Width of the plot.\n",
    "    height: float\n",
    "        Height of the plot.\n",
    "    \"\"\"\n",
    "    def __init__(self, Length=Length, nx=nx, nT=200, T=400, C0=10, Fmax=2, Pprice_ideal=20, width=3*cm, height=7*cm,speed = 0.230,adaptation_rate = 1e-4,drag = 0):\n",
    "        self.Length = Length\n",
    "        self.nx = nx\n",
    "        self.dx = Length/nx\n",
    "        self.nT = nT\n",
    "        self.T = T\n",
    "        self.dt = T/nT\n",
    "        self.C0 = C0 #ug.mm-3\n",
    "        self.Fmax = Fmax\n",
    "        self.Pprice_ideal = Pprice_ideal\n",
    "        self.width = width\n",
    "        self.height = height\n",
    "        self.speed = speed\n",
    "        self.adaptation_rate = adaptation_rate\n",
    "        self.speed_penalty = drag\n",
    "        self._setup_simulation()\n",
    "        self.r0 = 3e-3\n",
    "\n",
    "    def _setup_simulation(self):\n",
    "        # Set up the simulation: define mesh, function spaces, initial conditions, etc.\n",
    "        \"\"\"\n",
    "        Sets up the initial conditions and parameters for the simulation.\n",
    "        \"\"\"\n",
    "        # Create mesh and define function space\n",
    "        self.mesh = IntervalMesh(self.nx, 1, self.Length)\n",
    "        P1 = FiniteElement('P', interval, 1)\n",
    "        element = MixedElement([P1, P1, P1])\n",
    "        self.V = FunctionSpace(self.mesh, element)\n",
    "\n",
    "        # Define initial conditions\n",
    "        u0 = Expression(('0.9*exp(-1.2*pow(abs(x[0]-7),2))', \n",
    "                         f'(1-exp(-3*(x[0]-1)))*{self.C0}', '0*exp(-0.01*pow(abs(x[0]),2))'), degree=1)\n",
    "        rexp = Expression(('1/x[0]', '0', '0'), degree=1)\n",
    "        self.r = interpolate(rexp, self.V)\n",
    "        self.invr, _, _ = split(self.r)\n",
    "        self.u_n = interpolate(u0, self.V)\n",
    "\n",
    "        # Splitting functions for later use\n",
    "        self.u = Function(self.V)\n",
    "        self.n, self.C, self.rho = split(self.u)   #mm-3,ug.mm-3,mm2.mm-3\n",
    "        self.n_n, self.C_n, self.rho_n = split(self.u_n)\n",
    "        self.v_1, self.v_0, self.v_2 = TestFunctions(self.V)\n",
    "\n",
    "        # Set parameters and constants\n",
    "        self.dt = self.T / self.nT\n",
    "        self.alphval = 0.039 #.h-1\n",
    "        self.alphval0 = self.alphval\n",
    "        self.betaval = 0.022 #mm.h-1 length coefficient\n",
    "        # self.betaval = 0.022/(2.5e-3) #mm.h-1 SA coefficient\n",
    "        \n",
    "        self.beta = Constant(self.betaval) #mm**4.h-1\n",
    "        self.D = 0.0008 #mm**2.h-1\n",
    "        self.D0 = self.D #mm**2.h-1\n",
    "        \n",
    "        self.D2 = Constant(3.6) #mm**2.h-1\n",
    "        self.n_mid = 0.5*(self.n_n + self.n)\n",
    "        self.v_sval = self.speed #mm.h-1\n",
    "        self.s_scal = self.speed #mm.h-1\n",
    "        self.v_s = Constant((self.v_sval,)) #mm.h-1\n",
    "        self.Vmax = self.Fmax #ug.mm**-2.h-1\n",
    "        self.Kp = Km_snchepf #ug.mm-3\n",
    "        # Boundary conditions\n",
    "        u_L = (Constant(0.0), Constant(0.0), Constant(0.0))\n",
    "        u_R = (Constant(0.0), Constant(self.C0), Constant(0.0))\n",
    "        bc_L = DirichletBC(self.V, u_L, 'near(x[0], 1.0)')\n",
    "        bc_R = DirichletBC(self.V, u_R, f'near(x[0], {self.Length})')\n",
    "        self.bcs = [bc_L, bc_R]\n",
    "\n",
    "    def _make_F(self, alphval,D,sval):\n",
    "        # Define the variational problem F\n",
    "        alpha = Constant(alphval)\n",
    "        D = Constant(D)\n",
    "        s_scal = Constant(sval)\n",
    "        C_L =  self.C/bp\n",
    "        \n",
    "        # dn/dt\n",
    "        F = self.n*self.v_1*dx - self.n_n*self.v_1*dx \n",
    "        # D lapplacian(n)\n",
    "        F += D*dot(grad(self.n), grad(self.v_1))*self.dt*dx\n",
    "        # To account for cylindrical coordinates\n",
    "        F += self.invr*D*dot(grad(self.n), Constant((1,)))*self.v_1*self.dt*dx\n",
    "        \n",
    "        #v.grad(n)\n",
    "        F += self.dt*dot(grad(self.n_mid),self.v_s)*self.v_1*dx\n",
    "        # To account for cylindrical coordinates\n",
    "        F += self.invr*self.dt*self.n_mid*Constant(self.v_sval)*self.v_1*dx\n",
    "        \n",
    "        #alpha*n - beta * n * rho\n",
    "        F += self.beta*self.v_1*self.rho*(self.n)*self.dt*dx\n",
    "        F -= alpha*(self.n)*self.v_1*self.dt*dx\n",
    "        #d rho/dt = vn\n",
    "        F -= self.dt*s_scal*self.n*self.v_2*dx-(self.rho-self.rho_n)*self.v_2*dx\n",
    "\n",
    "\n",
    "        # dC/dt\n",
    "        F += self.C*self.v_0*dx - self.C_n*self.v_0*dx #ug.mm-3\n",
    "        # Vmax * rho * C/(C+Kp)\n",
    "        F += 2*np.pi*self.Vmax*(self.rho)*self.r0*(self.C/bp/(self.Kp+self.C/bp))*self.v_0*self.dt*dx #ug\n",
    "        # Diffusion \n",
    "        F += self.D2*dot(grad(self.C/bp), grad(self.v_0))*self.dt*dx\n",
    "        # To account for cylindrical coordinates\n",
    "        F += self.invr*self.D2*dot(grad(self.C/bp), Constant((1,)))*self.v_0*self.dt*dx\n",
    "\n",
    "        return F\n",
    "    def integrate(self, plot=False,remove_ylabels = False):\n",
    "        \"\"\"\n",
    "        Integrate the problem over time and optionally plot the results.\n",
    "        Returns arrays of C(x, t), rho(x, t), and n(x, t) over the simulation.\n",
    "\n",
    "        Parameters:\n",
    "        -----------\n",
    "        plot: bool\n",
    "            If True, plot the results using matplotlib.\n",
    "\n",
    "        Returns:\n",
    "        --------\n",
    "        C_xt: list of arrays\n",
    "            Concentration C as a function of position x and time t.\n",
    "        rho_xt: list of arrays\n",
    "            Density rho as a function of position x and time t.\n",
    "        n_xt: list of arrays\n",
    "            Quantity n as a function of position x and time t.\n",
    "        \"\"\"\n",
    "        # Initialize arrays to store C(x, t), rho(x, t), and n(x, t)\n",
    "        C_xt = []\n",
    "        rho_xt = []\n",
    "        n_xt = []\n",
    "        P_prices = []\n",
    "        alphavals = []\n",
    "        # Initialize matplotlib plots if needed\n",
    "        if plot:\n",
    "            fig, axs = plt.subplots(4, 1, figsize=(self.width, self.height*1.5))\n",
    "            cmap = mpl.cm.get_cmap(\"winter\")\n",
    "            cmap2 = mpl.cm.get_cmap(\"spring\")\n",
    "\n",
    "        # Time-stepping loop\n",
    "        V2 = FunctionSpace(self.mesh, 'P', 1)\n",
    "        X = np.linspace(1, self.Length, self.nx)\n",
    "        i=0\n",
    "        tot_CCosts= [] \n",
    "        tot_Pacqus = []\n",
    "        for t in tqdm(np.linspace(0, self.T, self.nT), desc=\"Simulating\"):\n",
    "            F = self._make_F(self.alphval,self.D,self.s_scal)\n",
    "            solve(F == 0, self.u, self.bcs)\n",
    "            self.u_n.assign(self.u)\n",
    "            _n, _C, _rho = self.u.split()\n",
    "\n",
    "            # Interpolate and store the results\n",
    "            n_field = interpolate(_n, V2)\n",
    "            rho_field = interpolate(_rho, V2)\n",
    "            C_field = interpolate(_C, V2)\n",
    "            Ccost = np.pi*np.sum([n_field(x)*x*self.dx*self.v_sval for x in X]) #mm.h-1\n",
    "            Ccost *= np.pi*(self.r0)**2 #mm**3.h-1\n",
    "            Ccost *= 1e-3  #mL.mm-1.h-1=dm**3.h-1\n",
    "            \n",
    "            Ccost *= 0.5*0.21*1.1 #g.h-1\n",
    "            Ccost *= 1e6 #ug.h-1\n",
    "            Ccost *= 2 #respiration\n",
    "            \n",
    "            Ccost *= (self.v_sval/0.25)**(self.speed_penalty)\n",
    "            Pacquisition = np.pi*np.sum([self.Vmax*(C_field(x)/bp/(C_field(x)/bp+self.Kp))*rho_field(x)*x*self.dx for x in X]) #ug.h-1.mm-2\n",
    "            Pacquisition *= 2*self.r0*np.pi #ug.mm-1\n",
    "            # Pacquisition += 5e-4*np.exp(-t/100)\n",
    "            tot_CCosts.append(Ccost) \n",
    "            tot_Pacqus.append(Pacquisition)\n",
    "            # Pprice = Ccost/Pacquisition\n",
    "            integrated_CCost = np.sum(tot_CCosts[-10*self.T//self.nT:])\n",
    "            integrated_Pacqu = np.sum(tot_Pacqus[-10*self.T//self.nT:])\n",
    "            \n",
    "            Pprice = integrated_CCost/integrated_Pacqu\n",
    "\n",
    "            alphavals.append(self.alphval)\n",
    "            if t>=0:\n",
    "                # self.s_scal = self.Pprice_ideal/Pprice*self.speed\n",
    "                self.alphval = max(0.001,self.alphval + self.dt*self.adaptation_rate*(t/50)**2*signed_sqrt((self.Pprice_ideal-Pprice)/self.Pprice_ideal,alpha = 1))\n",
    "            # print(self.alphval)\n",
    "            self.D = self.D0*self.alphval0/self.alphval\n",
    "            # print(2*(np.sqrt(self.D*self.alphval)))\n",
    "            n_xt.append([n_field(x) for x in X])\n",
    "            rho_xt.append([rho_field(x) for x in X])\n",
    "            C_xt.append([C_field(x) for x in X])\n",
    "            P_prices.append(Pprice)\n",
    "            # print(Pprice,self.alphval)\n",
    "            if plot and i % (self.nT//5) == 0:\n",
    "                axs[1].plot(X, n_xt[-1], color=cmap2(t / self.T))\n",
    "                axs[0].plot(X, rho_xt[-1], color=cmap(t / self.T))\n",
    "                axs[2].plot(X, np.array(C_xt[-1])*1000/bp, color=cmap3(t / self.T))\n",
    "                Pacq =  [2*self.r0*np.pi*C_xt[-1][i]/bp/(C_xt[-1][i]/bp+self.Kp) * rho_xt[-1][i]*Vmax*1000 for i in range(len(X))]\n",
    "\n",
    "                axs[3].plot(X, Pacq, color=cmap4(t / self.T))\n",
    "                # break\n",
    "            i+=1\n",
    "            \n",
    "\n",
    "        # Finalize plot settings if plotting\n",
    "        if plot:\n",
    "            axs[1].plot(X, n_xt[-1], color=cmap2(t / self.T))\n",
    "            axs[0].plot(X, rho_xt[-1], color=cmap(t / self.T))\n",
    "            satrho = np.median([rho for rho in rho_xt[-1] if rho>1e-10])\n",
    "            \n",
    "            # axs[0].hlines(satrho,np.min(X),np.max(X), color=\"red\")\n",
    "            \n",
    "            axs[2].plot(X, np.array(C_xt[-1])*1000/bp, color=cmap3(t / self.T))\n",
    "            Pacq =  [2*self.r0*np.pi*C_xt[-1][i]/bp/(C_xt[-1][i]/bp+self.Kp) * rho_xt[-1][i]*Vmax*1000 for i in range(len(X))]\n",
    "            axs[3].plot(X, Pacq, color=cmap4(t / self.T))\n",
    "            axs[0].set_ylabel(r'$\\rho$'+ '\\n $(mm^{-1})$')\n",
    "            axs[0].set_xticklabels([])\n",
    "            axs[0].set_ylim(0,8)\n",
    "            \n",
    "            axs[1].set_ylabel('$n$ \\n $(mm^{-2})$')\n",
    "            axs[1].set_xticklabels([])\n",
    "            axs[1].set_ylim(0,4)\n",
    "            \n",
    "            axs[2].set_ylabel('$[P]$ \\n ($ng/ mm^{3}$)')\n",
    "            axs[2].set_xticklabels([])\n",
    "            axs[2].set_ylim(0,2)\n",
    "            \n",
    "            axs[3].set_ylabel('$\\phi_P$ \\n ($ng/mm^{3}/h$)')\n",
    "\n",
    "            axs[3].set_xlabel('position \\n ($mm$)')\n",
    "            axs[3].set_ylim(0,0.30)\n",
    "\n",
    "            formatter = ticker.FormatStrFormatter('%.2f')  # Adjust format as needed\n",
    "\n",
    "            for ax in axs:\n",
    "                ax.yaxis.set_major_formatter(formatter)\n",
    "            if remove_ylabels:\n",
    "                for ax in axs:\n",
    "                    ax.set_ylabel('')\n",
    "                    ax.set_yticklabels([])\n",
    "\n",
    "            plt.show()\n",
    "\n",
    "        return C_xt, rho_xt, n_xt,P_prices,alphavals\n",
    "        \n",
    "\n",
    "# Example usage:\n",
    "adaptation_rate = 8e-3\n",
    "C0=0.0014*bp #ug/mm2\n",
    "Pprice_ideal = 3\n",
    "speed = 0.17 #mm/h\n",
    "T = 100\n",
    "nT= 200\n",
    "sim = Simulation(speed = speed,C0=C0,T = T,nT=nT,Pprice_ideal = Pprice_ideal,Fmax = Vmax,adaptation_rate = adaptation_rate,drag = 1)\n",
    "C_xt, rho_xt, n_xt,P_prices,alphavals = sim.integrate(plot=True)\n"
   ]
  },
  {
   "cell_type": "code",
   "execution_count": 14,
   "id": "48c06b60-0209-4e9b-bc06-f5f45ea6b8a1",
   "metadata": {
    "tags": []
   },
   "outputs": [
    {
     "data": {
      "text/plain": [
       "0.17"
      ]
     },
     "execution_count": 14,
     "metadata": {},
     "output_type": "execute_result"
    }
   ],
   "source": [
    "sim.speed"
   ]
  },
  {
   "cell_type": "code",
   "execution_count": 15,
   "id": "4124690f-0951-4251-b461-b3b0e36022d8",
   "metadata": {
    "tags": []
   },
   "outputs": [
    {
     "data": {
      "text/plain": [
       "0.0035327043465311386"
      ]
     },
     "execution_count": 15,
     "metadata": {},
     "output_type": "execute_result"
    }
   ],
   "source": [
    "2*np.sqrt(sim.D*sim.alphval)"
   ]
  },
  {
   "cell_type": "code",
   "execution_count": 16,
   "id": "94e2df48-b7b7-482e-ac39-d1df495a314d",
   "metadata": {
    "tags": []
   },
   "outputs": [],
   "source": [
    "plt.savefig(os.path.join(path_figure,f'FigureA.pdf'), transparent=True, bbox_inches='tight')\n"
   ]
  },
  {
   "cell_type": "code",
   "execution_count": 17,
   "id": "583b2306-f30b-4787-85eb-e3bd72ddda64",
   "metadata": {
    "tags": []
   },
   "outputs": [],
   "source": [
    "C_xt, rho_xt, n_xt = np.array(C_xt),np.array(rho_xt),np.array(n_xt)\n",
    "X = np.linspace(1, sim.Length, sim.nx)\n",
    "Pacquisitions = np.sum(Vmax*(C_xt/bp/(C_xt/bp+sim.Kp))*rho_xt*X*sim.dx,axis=1)*np.pi/2 #ug.h-1.mm-2\n",
    "\n",
    "Pacquisitions *= 2*sim.r0*np.pi #ug.h-1\n",
    "Ccost = np.sum(n_xt*X*sim.dx*sim.v_sval,axis=1)*np.pi/2 #mm.h-1\n",
    "Ccost *= np.pi*(sim.r0)**2 #mm**3.h-1\n",
    "Ccost *= (sim.v_sval/0.25)**(sim.speed_penalty)\n",
    "\n",
    "Ccost *= 0.5*0.21*1.1 *1e-3 #g.mm-1.h-1\n",
    "Ccost *= 1e6 #ug.mm-1.h-1\n",
    "Ccost *= 2 #respiration\n"
   ]
  },
  {
   "cell_type": "code",
   "execution_count": 18,
   "id": "9f96c429-c1a4-4a20-8edf-352e0abf7e95",
   "metadata": {
    "tags": []
   },
   "outputs": [
    {
     "data": {
      "application/vnd.jupyter.widget-view+json": {
       "model_id": "ba313fcb642c4565bb7429d95cb61084",
       "version_major": 2,
       "version_minor": 0
      },
      "image/png": "[encoded data removed]",
      "text/html": [
       "\n",
       "            <div style=\"display: inline-block;\">\n",
       "                <div class=\"jupyter-widgets widget-label\" style=\"text-align: center;\">\n",
       "                    Figure\n",
       "                </div>\n",
       "                <img src='data:image/png;base64,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' width=62.99212598425197/>\n",
       "            </div>\n",
       "        "
      ],
      "text/plain": [
       "Canvas(toolbar=Toolbar(toolitems=[('Home', 'Reset original view', 'home', 'home'), ('Back', 'Back to previous …"
      ]
     },
     "metadata": {},
     "output_type": "display_data"
    }
   ],
   "source": [
    "cm = 1/2.54  # centimeters in inches\n",
    "\n",
    "fig,ax = plt.subplots(figsize = (1.6*cm,2*cm))\n",
    "ax.scatter(Pacquisitions,Ccost,s=0.11)\n",
    "ax.plot(Pacquisitions,Pacquisitions*Pprice_ideal,color=\"red\")\n",
    "# ax.plot([0,0.2],[0,0.2*Pprice_ideal],color=\"red\")\n",
    "\n",
    "ax.set_ylabel('$\\Phi_C$ \\n ($\\mu g/h$)')\n",
    "ax.set_xlabel('$\\Phi_P$ \\n($\\mu g/h$)')\n",
    "# ax.set_ylabel('$\\Phi_C$')\n",
    "# ax.set_xlabel('$\\Phi_P$')\n",
    "ax.set_xlim(0,0.1)\n",
    "ax.set_ylim(0,0.3)\n",
    "plt.savefig(os.path.join(path_figure,f'FigureB.pdf'), transparent=True, bbox_inches='tight')\n"
   ]
  },
  {
   "cell_type": "code",
   "execution_count": 19,
   "id": "17295401-2e8b-47b0-bc99-19ab8c697205",
   "metadata": {
    "tags": []
   },
   "outputs": [
    {
     "data": {
      "text/plain": [
       "(-1.0, 1.0)"
      ]
     },
     "execution_count": 19,
     "metadata": {},
     "output_type": "execute_result"
    },
    {
     "data": {
      "application/vnd.jupyter.widget-view+json": {
       "model_id": "8a8ffa6de1914df1931c892d0b5cd402",
       "version_major": 2,
       "version_minor": 0
      },
      "image/png": "[encoded data removed]",
      "text/html": [
       "\n",
       "            <div style=\"display: inline-block;\">\n",
       "                <div class=\"jupyter-widgets widget-label\" style=\"text-align: center;\">\n",
       "                    Figure\n",
       "                </div>\n",
       "                <img src='data:image/png;base64,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' width=640.0/>\n",
       "            </div>\n",
       "        "
      ],
      "text/plain": [
       "Canvas(toolbar=Toolbar(toolitems=[('Home', 'Reset original view', 'home', 'home'), ('Back', 'Back to previous …"
      ]
     },
     "metadata": {},
     "output_type": "display_data"
    }
   ],
   "source": [
    "cm = 1/2.54  # centimeters in inches\n",
    "\n",
    "fig,ax = plt.subplots()\n",
    "ts = np.linspace(1, sim.T, sim.nT)\n",
    "P_prices = Ccost/Pacquisitions\n",
    "ax.scatter(ts,(P_prices-Pprice_ideal)/Pprice_ideal,s=0.11)\n",
    "ax.plot(ts,ts*0,color=\"red\")\n",
    "ax.set_ylim(-1,1)\n",
    "\n",
    "# plt.savefig(os.path.join(path_figure,f'FigureB.pdf'), transparent=True, bbox_inches='tight')\n"
   ]
  },
  {
   "cell_type": "code",
   "execution_count": 20,
   "id": "7107cfe6-1bb9-4497-9024-a20c0f330108",
   "metadata": {
    "tags": []
   },
   "outputs": [
    {
     "data": {
      "application/vnd.jupyter.widget-view+json": {
       "model_id": "6bc9e5ebdf1d4a95be0bf955b598989c",
       "version_major": 2,
       "version_minor": 0
      },
      "image/png": "[encoded data removed]",
      "text/html": [
       "\n",
       "            <div style=\"display: inline-block;\">\n",
       "                <div class=\"jupyter-widgets widget-label\" style=\"text-align: center;\">\n",
       "                    Figure\n",
       "                </div>\n",
       "                <img src='data:image/png;base64,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' width=62.99212598425197/>\n",
       "            </div>\n",
       "        "
      ],
      "text/plain": [
       "Canvas(toolbar=Toolbar(toolitems=[('Home', 'Reset original view', 'home', 'home'), ('Back', 'Back to previous …"
      ]
     },
     "metadata": {},
     "output_type": "display_data"
    }
   ],
   "source": [
    "fig,ax = plt.subplots(figsize = (1.6*cm,2*cm))\n",
    "ts = np.linspace(1, sim.T, sim.nT)\n",
    "ax.plot(ts,np.array(alphavals)*24)\n",
    "ax.set_xlabel('t (h)')\n",
    "ax.set_ylabel(r'$\\alpha$'+ '\\n ($day^{-1}$)')\n",
    "ax.set_ylim(0,3)\n",
    "plt.savefig(os.path.join(path_figure,f'FigureC.pdf'), transparent=True, bbox_inches='tight')\n"
   ]
  },
  {
   "cell_type": "code",
   "execution_count": 21,
   "id": "59282e2d-e701-4552-9ec8-9dc3b8e60f1a",
   "metadata": {
    "tags": []
   },
   "outputs": [
    {
     "data": {
      "text/plain": [
       "0.72"
      ]
     },
     "execution_count": 21,
     "metadata": {},
     "output_type": "execute_result"
    }
   ],
   "source": [
    "0.03*24"
   ]
  },
  {
   "cell_type": "code",
   "execution_count": 22,
   "id": "bc78f7d3-a7c9-45af-9550-7e2d496fb947",
   "metadata": {
    "tags": []
   },
   "outputs": [
    {
     "data": {
      "application/vnd.jupyter.widget-view+json": {
       "model_id": "041f025abe31441cb5dd05cf0052a4d5",
       "version_major": 2,
       "version_minor": 0
      },
      "image/png": "[encoded data removed]",
      "text/html": [
       "\n",
       "            <div style=\"display: inline-block;\">\n",
       "                <div class=\"jupyter-widgets widget-label\" style=\"text-align: center;\">\n",
       "                    Figure\n",
       "                </div>\n",
       "                <img src='data:image/png;base64,iVBORw0KGgoAAAANSUhEUgAAAD4AAAAvCAYAAAC7S3l6AAAAOXRFWHRTb2Z0d2FyZQBNYXRwbG90bGliIHZlcnNpb24zLjcuMSwgaHR0cHM6Ly9tYXRwbG90bGliLm9yZy/bCgiHAAAACXBIWXMAAA9hAAAPYQGoP6dpAAAEfElEQVR4nO2aW2xURRjHf3u6yzah3VLMRmi70PQmWS5R6a4NRK0NJgoxcjFNiaYSEx5E4wPBoPFhGx+wMfJC0MeCL5K4qRJFSqOlJdKG3oRC6wV2S+1pFS1UDkvLHto9nw/EVSjbtLXdQ7v9JSc5yZyZ/P/zzZmZzHwWERESEMVsAWaheDweurq6zNYRd5S9e/eyY8cOs3XEHYthGLJ06VJOnz5NXl7eXYWGYdDT04PNZiM5ORm73W6SzKmh6zrhcJiRkRGys7NRlP/82SIiHo9H6urq5F5UVRVgTjyqqt7lzTpej6WmpgLQ0tKC1+tFVVUcDsck+twcbty4gcvlIhgMous6brc76uUfrCJCb28vy5YtG9OAxWIBIDs7G5/Ph9PpnBXD3W634/P5yMzMRNd14F8vUfx+v6xdu3bMMBcR0TRNANE07b7ls4FYHpTKykoOHToU96iYjbWtrc1sDaaQuDs3swWYxbzxRGPeeKIxbzzRmDeeaMwbTzTmlPFIxOCHz2to3Poa+3Z9RO+14ZjfjnsCMxvQwzpnj57kqC2T2s7f+WZ/OXZjlMulS1hgjR3XWRnxcGiIMwc+pbn4RW4tdlK0fSMdzT+ywb2E/i9rSP9rgFeq9rEkLTlmG7Mm4po2RO2lQU52/cb7b26k6OYgvzpddGwqw1lexvFNxViUicfxgTauBlS6q46w8NjX5F88S8Wuw2RmOfn+LR9rni0iv9jL8qk2PpXzqpnCMAxpvXxNPjzWKc0FHhmxKBLBIl05q6Vp17sSCPRNus1YHkyPuDY8QntDG6EjfhY3N/Lq5vew2mysyVtBx5bN5O58GXfulOMaE1OMdw/c5Nvz/aQf2M/KM3WU/NlN2LqA7sfXc3hzHl7PIyTbnp9RDXExfnvUoPHSAJeO1yP1DXyw6gUsFjhxoQll9Ur6yyrILNuCOyUlHnKAGTR+RQvT8NMV1K9qefi7Gjb83MgzoavcTEkja/frFHlX8NC+C3DvQX+cmDbjIkJHn8bJc7301zdRvcCFYkRo/+QdkpLtDG/dglG+nZSnnmST1fSp5f8ZH9JHaQxcpb69h8iJGtZ1nGJnsJWFt8M8UdPOOm8B6W+cA5cLxyTW2HgwaePq4DC1XVc4db6Pxr4QSaMjtH1cTtqtEKECN/a396CUvkTpqlV3hnH69M/I08GEjLdeHuRUTy8X2n9hRUsDz11sovSPAJ990cT6lVmkeqvgsUdJved+/YFmIov/nqoGaV2+WiIWi0SSkuT208UiBw+KDA1NekMRb2JtYMjPz5fCwkLp7Owcv9Lu3SJVVSIDA/HSPC3ENC4i4vf7pbCwcMKVZhMxr4kBtm3bhqqqBAKB+/4Ouq5TUVERvWR/0JmIXovInQQ/r9dLZWUlJSUl0UJN01i0aNGcSAW5fv06aWlp0W/GndVDoRBwp1MAXC7XDMqdfnJzc6PvoVBorHGJkQeTkZFBMBicE+leGRkZd5VZAaqrq8nKyhqT56YoCjk5OfFTGkesBQUFOByOhMuDiU5uicbfkJ1UqSLXxUgAAAAASUVORK5CYII=' width=62.99212598425197/>\n",
       "            </div>\n",
       "        "
      ],
      "text/plain": [
       "Canvas(toolbar=Toolbar(toolitems=[('Home', 'Reset original view', 'home', 'home'), ('Back', 'Back to previous …"
      ]
     },
     "metadata": {},
     "output_type": "display_data"
    }
   ],
   "source": [
    "poss = np.argmax(n_xt,axis=1)\n",
    "x = np.linspace(0,sim.T,sim.nT)\n",
    "y = np.array(poss)*sim.Length/sim.nx\n",
    "fit_coeffs = np.polyfit(x[3*sim.nT//4:], y[3*sim.nT//4:], 1)\n",
    "fit_line = np.polyval(fit_coeffs, x)\n",
    "\n",
    "# Plot data and linear fit\n",
    "fig,ax = plt.subplots(figsize = (1.6*cm,1.2*cm))\n",
    "ax.plot(x, y)\n",
    "ax.plot(x, fit_line, 'r--')\n",
    "ax.set_xlabel('t (h)')\n",
    "ax.set_ylabel('x \\n ($mm$)')\n",
    "ax.set_ylim(0,50)\n",
    "plt.savefig(os.path.join(path_figure,f'FigureD.pdf'), transparent=True, bbox_inches='tight')\n"
   ]
  },
  {
   "cell_type": "code",
   "execution_count": 23,
   "id": "3c674221-7a65-44e0-bc91-0571866866bf",
   "metadata": {
    "tags": []
   },
   "outputs": [
    {
     "data": {
      "text/plain": [
       "array([0.19550483, 5.08549362])"
      ]
     },
     "execution_count": 23,
     "metadata": {},
     "output_type": "execute_result"
    }
   ],
   "source": [
    "fit_coeffs"
   ]
  },
  {
   "cell_type": "code",
   "execution_count": 24,
   "id": "afd2e903-5332-4979-aac4-392202b378d2",
   "metadata": {
    "tags": []
   },
   "outputs": [
    {
     "name": "stderr",
     "output_type": "stream",
     "text": [
      "/tmp/ipykernel_275/3608636823.py:172: MatplotlibDeprecationWarning: The get_cmap function was deprecated in Matplotlib 3.7 and will be removed two minor releases later. Use ``matplotlib.colormaps[name]`` or ``matplotlib.colormaps.get_cmap(obj)`` instead.\n",
      "  cmap = mpl.cm.get_cmap(\"winter\")\n",
      "/tmp/ipykernel_275/3608636823.py:173: MatplotlibDeprecationWarning: The get_cmap function was deprecated in Matplotlib 3.7 and will be removed two minor releases later. Use ``matplotlib.colormaps[name]`` or ``matplotlib.colormaps.get_cmap(obj)`` instead.\n",
      "  cmap2 = mpl.cm.get_cmap(\"spring\")\n"
     ]
    },
    {
     "data": {
      "application/vnd.jupyter.widget-view+json": {
       "model_id": "4f5ab844b6244e8a9071984262bfd2c4",
       "version_major": 2,
       "version_minor": 0
      },
      "text/plain": [
       "Simulating:   0%|          | 0/200 [00:00<?, ?it/s]"
      ]
     },
     "metadata": {},
     "output_type": "display_data"
    },
    {
     "data": {
      "application/vnd.jupyter.widget-view+json": {
       "model_id": "77b6c54b509a499eae71d44c43e355a6",
       "version_major": 2,
       "version_minor": 0
      },
      "image/png": "[encoded data removed]",
      "text/html": [
       "\n",
       "            <div style=\"display: inline-block;\">\n",
       "                <div class=\"jupyter-widgets widget-label\" style=\"text-align: center;\">\n",
       "                    Figure\n",
       "                </div>\n",
       "                <img src='data:image/png;base64,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' width=118.11023622047243/>\n",
       "            </div>\n",
       "        "
      ],
      "text/plain": [
       "Canvas(toolbar=Toolbar(toolitems=[('Home', 'Reset original view', 'home', 'home'), ('Back', 'Back to previous …"
      ]
     },
     "metadata": {},
     "output_type": "display_data"
    }
   ],
   "source": [
    "Pprice_ideal = 3\n",
    "speed = 0.26\n",
    "sim = Simulation(speed = speed,C0=C0,T = T,nT=nT,Pprice_ideal = Pprice_ideal,Fmax = Vmax,adaptation_rate = adaptation_rate,drag = 1)\n",
    "C_xt, rho_xt, n_xt,P_prices,alphavals = sim.integrate(plot=True,remove_ylabels = True)"
   ]
  },
  {
   "cell_type": "code",
   "execution_count": 25,
   "id": "8fcaaeed-edc1-499d-ac84-96ea200af802",
   "metadata": {
    "tags": []
   },
   "outputs": [],
   "source": [
    "plt.savefig(os.path.join(path_figure,f'FigureA2.pdf'), transparent=True, bbox_inches='tight')\n"
   ]
  },
  {
   "cell_type": "code",
   "execution_count": 26,
   "id": "c976bd22-27b0-4b09-8657-a0ba4857c2ed",
   "metadata": {
    "tags": []
   },
   "outputs": [],
   "source": [
    "C_xt, rho_xt, n_xt = np.array(C_xt),np.array(rho_xt),np.array(n_xt)\n",
    "X = np.linspace(1, sim.Length, sim.nx)\n",
    "Pacquisitions = np.sum(Vmax*(C_xt/bp/(C_xt/bp+sim.Kp))*rho_xt*X*sim.dx,axis=1)*np.pi/2 #ug.h-1.mm-2\n",
    "\n",
    "Pacquisitions *= 2*sim.r0*np.pi #ug.h-1\n",
    "Ccost = np.sum(n_xt*X*sim.dx*sim.v_sval,axis=1)*np.pi/2 #mm.h-1\n",
    "Ccost *= np.pi*(sim.r0)**2 #mm**3.h-1\n",
    "Ccost *= (sim.v_sval/0.25)**(sim.speed_penalty)\n",
    "\n",
    "Ccost *= 0.5*0.21*1.1 *1e-3 #g.mm-1.h-1\n",
    "Ccost *= 1e6 #ug.mm-1.h-1\n",
    "Ccost *= 2 #respiration\n"
   ]
  },
  {
   "cell_type": "code",
   "execution_count": 27,
   "id": "4b38cb2c-dd7a-49e9-a3e7-bd1bb4127e31",
   "metadata": {
    "tags": []
   },
   "outputs": [
    {
     "data": {
      "application/vnd.jupyter.widget-view+json": {
       "model_id": "dbecbc41bf4e43dd807cef6cb94838d3",
       "version_major": 2,
       "version_minor": 0
      },
      "image/png": "[encoded data removed]",
      "text/html": [
       "\n",
       "            <div style=\"display: inline-block;\">\n",
       "                <div class=\"jupyter-widgets widget-label\" style=\"text-align: center;\">\n",
       "                    Figure\n",
       "                </div>\n",
       "                <img src='data:image/png;base64,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' width=62.99212598425197/>\n",
       "            </div>\n",
       "        "
      ],
      "text/plain": [
       "Canvas(toolbar=Toolbar(toolitems=[('Home', 'Reset original view', 'home', 'home'), ('Back', 'Back to previous …"
      ]
     },
     "metadata": {},
     "output_type": "display_data"
    }
   ],
   "source": [
    "cm = 1/2.54  # centimeters in inches\n",
    "\n",
    "fig,ax = plt.subplots(figsize = (1.6*cm,2*cm))\n",
    "ax.scatter(Pacquisitions,Ccost,s=0.11)\n",
    "ax.plot(Pacquisitions,Pacquisitions*Pprice_ideal,color=\"red\")\n",
    "ax.set_ylabel('$\\Phi_C$ \\n ($\\mu g/h$)')\n",
    "ax.set_xlabel('$\\Phi_P$ \\n ($\\mu g/h$)')\n",
    "ax.set_ylabel('')\n",
    "# ax.set_xlabel('$\\Phi_P$')\n",
    "ax.set_xlim(0,0.1)\n",
    "ax.set_ylim(0,0.3)\n",
    "\n",
    "ax.set_yticklabels([])\n",
    "\n",
    "plt.savefig(os.path.join(path_figure,f'FigureB2.pdf'), transparent=True, bbox_inches='tight')\n"
   ]
  },
  {
   "cell_type": "code",
   "execution_count": 28,
   "id": "a0e7824e-909e-45ab-88f0-efc29c3250a1",
   "metadata": {
    "tags": []
   },
   "outputs": [
    {
     "data": {
      "text/plain": [
       "(-1.0, 1.0)"
      ]
     },
     "execution_count": 28,
     "metadata": {},
     "output_type": "execute_result"
    },
    {
     "data": {
      "application/vnd.jupyter.widget-view+json": {
       "model_id": "2938329e32d647ab9c80bdec6966627e",
       "version_major": 2,
       "version_minor": 0
      },
      "image/png": "[encoded data removed]",
      "text/html": [
       "\n",
       "            <div style=\"display: inline-block;\">\n",
       "                <div class=\"jupyter-widgets widget-label\" style=\"text-align: center;\">\n",
       "                    Figure\n",
       "                </div>\n",
       "                <img src='data:image/png;base64,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' width=640.0/>\n",
       "            </div>\n",
       "        "
      ],
      "text/plain": [
       "Canvas(toolbar=Toolbar(toolitems=[('Home', 'Reset original view', 'home', 'home'), ('Back', 'Back to previous …"
      ]
     },
     "metadata": {},
     "output_type": "display_data"
    }
   ],
   "source": [
    "cm = 1/2.54  # centimeters in inches\n",
    "\n",
    "fig,ax = plt.subplots()\n",
    "ts = np.linspace(1, sim.T, sim.nT)\n",
    "P_prices = Ccost/Pacquisitions\n",
    "ax.scatter(ts,(P_prices-Pprice_ideal)/Pprice_ideal,s=0.11)\n",
    "ax.plot(ts,ts*0,color=\"red\")\n",
    "ax.set_ylim(-1,1)\n",
    "\n",
    "# plt.savefig(os.path.join(path_figure,f'FigureB.pdf'), transparent=True, bbox_inches='tight')\n"
   ]
  },
  {
   "cell_type": "code",
   "execution_count": 29,
   "id": "356c9f38-ac46-48b8-8cec-4984f1a14bd1",
   "metadata": {
    "tags": []
   },
   "outputs": [
    {
     "data": {
      "application/vnd.jupyter.widget-view+json": {
       "model_id": "0aa9bdc16bd14781ade865af63bcdcb6",
       "version_major": 2,
       "version_minor": 0
      },
      "image/png": "[encoded data removed]",
      "text/html": [
       "\n",
       "            <div style=\"display: inline-block;\">\n",
       "                <div class=\"jupyter-widgets widget-label\" style=\"text-align: center;\">\n",
       "                    Figure\n",
       "                </div>\n",
       "                <img src='data:image/png;base64,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' width=62.99212598425197/>\n",
       "            </div>\n",
       "        "
      ],
      "text/plain": [
       "Canvas(toolbar=Toolbar(toolitems=[('Home', 'Reset original view', 'home', 'home'), ('Back', 'Back to previous …"
      ]
     },
     "metadata": {},
     "output_type": "display_data"
    }
   ],
   "source": [
    "fig,ax = plt.subplots(figsize = (1.6*cm,2*cm))\n",
    "ts = np.linspace(1, sim.T, sim.nT)\n",
    "ax.plot(ts,np.array(alphavals)*24)\n",
    "ax.set_xlabel('t (h)')\n",
    "# ax.set_ylabel(r'$\\alpha$ ($day^{-1}$)')\n",
    "ax.set_ylim(0,3)\n",
    "ax.set_yticklabels([])\n",
    "plt.savefig(os.path.join(path_figure,f'FigureC2.pdf'), transparent=True, bbox_inches='tight')\n"
   ]
  },
  {
   "cell_type": "code",
   "execution_count": 30,
   "id": "e88dd690-80de-4e69-b38f-417e8e91417c",
   "metadata": {
    "tags": []
   },
   "outputs": [
    {
     "data": {
      "application/vnd.jupyter.widget-view+json": {
       "model_id": "252afcfec1e64981a724e1d2f9cd1257",
       "version_major": 2,
       "version_minor": 0
      },
      "image/png": "[encoded data removed]",
      "text/html": [
       "\n",
       "            <div style=\"display: inline-block;\">\n",
       "                <div class=\"jupyter-widgets widget-label\" style=\"text-align: center;\">\n",
       "                    Figure\n",
       "                </div>\n",
       "                <img src='data:image/png;base64,iVBORw0KGgoAAAANSUhEUgAAAD4AAAAvCAYAAAC7S3l6AAAAOXRFWHRTb2Z0d2FyZQBNYXRwbG90bGliIHZlcnNpb24zLjcuMSwgaHR0cHM6Ly9tYXRwbG90bGliLm9yZy/bCgiHAAAACXBIWXMAAA9hAAAPYQGoP6dpAAAEHklEQVR4nO2aa0xbZRjH/71Aq9DLjFQIa3OaCAtkIcMZNrO5uOnURRM3idNNHMYsaqLxi9kthhTUaTRqsoSFRbOJMofGZTFUEhNhI0ygA4E1o44R27Q7HWCK2FMu9qz0PH4wbJrYY6Gnd37J+XTey/M/z/+8l7yvjIgIWYg82QEkixXh2YZS7KUgCHC73cjJyYFarYZKpUpUXJLA8zyCwSBCoRAYhoFc/o88kwgsyxKAjHhYlv2XNtGMazQaAEB/fz+qqqrAsiy0Wu0SvnlyCAQCMBqNcDqd4Hke5eXlt7QsIipcJpMBABiGgcViQUFBQVrYXaVSwWKxoLi4GDzPA7itZRGZ2DweCASg0+nAcVxaZPq/iKQha0f1FeHZxorwbGNFeLaRscKn526Kvs844a7eYfTteA7vvmCBY5yLWC4jhAsCwd5qxVDlFjCb1qO0+wc8zuSjxKCJWEd0rZ7qBOeDaL/sxQnbDdS2NGHT+HXYjryPysOv41Ft3t9lItRNS+F+728YafgYJd98DvuGaqyqrkXRZ40wVTIwK6I0sdh+nOM4AkAcx4kVSxjun0fopx17aDZHTUGFkmwPPUWjHb2idSJpSPmMkyCgx+7Bycs+KL+34sOudgw+/SJKGw5iwxrzsttN2cGND/LoOXocY+a14J95Fk7fHB54oxaqCS+2fN2EwhhEA0g9q/smpqj7lUM0rjMQAWRfcz8NHG+hhbCwrPZS3upjv47j02EfuntH8WNzI65WbcVc3SFUbN8cl/6SavWwQBg4046+9dtwd0UZ+uwe7NpeAd7twcZuK+6Nk2gAybE6N89Tx9uNdMVYRgQQW7CaLh14h/4MzEraD1GKWN3tnkSzfQrfDnpxqvkEFHl3YKSpBeX792C1UpHIUOK/gCEi2C4M4Y8PPsHmru9wfXcddlU/gaL9nTCZDPHuXjSwJdskGub5BbKeaqPz67ZSSCangDqf7DWv0ozLs+S2YiFhVp+cnsOXF67ijGMaezvPYt+NMbjeOoqSg6+hQhN505BoJBPuGPXC8d4xbGxrgb7sQTz2Zh127vsIhca7UKhI7P8bFcuxySI3F8LU0TlM5x7ZS5wqj0JyOV3b9iT5L/ZJ59UYkdTqs/wCzp53oGnYB8O1EbT2tMG7uwbmhsMoNTOSJiZuLOVreadm6Ksjx+iSaS05DGZ6+Yt+sjmnSJiVfv6VikgZj0r44BUXna45QK5VRUQAecoqafLkaaJwOK5BS0Ek4VEtWVsHWDxsbUZ43X2Y6boI0y9DuOel5wF5ym7u/peoTksnfL9Dn5sLtTY/kbFJQkynpXfmKtNStBhRCed5HvX19bcO2VOdaOIVtTrHcdDr9RlxFcTv90On090uJDYiZvLlH9GMZ/J1L1HhmUz6TsQxkrXC/wJcL1VB5kV9KwAAAABJRU5ErkJggg==' width=62.99212598425197/>\n",
       "            </div>\n",
       "        "
      ],
      "text/plain": [
       "Canvas(toolbar=Toolbar(toolitems=[('Home', 'Reset original view', 'home', 'home'), ('Back', 'Back to previous …"
      ]
     },
     "metadata": {},
     "output_type": "display_data"
    }
   ],
   "source": [
    "poss = np.argmax(n_xt,axis=1)\n",
    "x = np.linspace(0,sim.T,sim.nT)\n",
    "y = np.array(poss)*sim.Length/sim.nx\n",
    "fit_coeffs = np.polyfit(x[3*sim.nT//4:], y[3*sim.nT//4:], 1)\n",
    "fit_line = np.polyval(fit_coeffs, x)\n",
    "\n",
    "# Plot data and linear fit\n",
    "fig,ax = plt.subplots(figsize = (1.6*cm,1.2*cm))\n",
    "ax.plot(x, y)\n",
    "ax.plot(x, fit_line, 'r--')\n",
    "ax.set_xlabel('t (h)')\n",
    "# ax.set_ylabel('x ($mm$)')\n",
    "ax.set_ylim(0,50)\n",
    "ax.set_yticklabels([])\n",
    "plt.savefig(os.path.join(path_figure,f'FigureD2.pdf'), transparent=True, bbox_inches='tight')\n"
   ]
  },
  {
   "cell_type": "code",
   "execution_count": 31,
   "id": "b8f7e83f-d8b5-473d-9378-9bc8cac76dbd",
   "metadata": {
    "tags": []
   },
   "outputs": [
    {
     "data": {
      "text/plain": [
       "array([0.27183178, 5.87769325])"
      ]
     },
     "execution_count": 31,
     "metadata": {},
     "output_type": "execute_result"
    }
   ],
   "source": [
    "fit_coeffs"
   ]
  },
  {
   "cell_type": "code",
   "execution_count": 32,
   "id": "db0cae0e-0441-4d16-809b-e9e2a7bb0307",
   "metadata": {},
   "outputs": [
    {
     "ename": "NameError",
     "evalue": "name 'gzegzrb' is not defined",
     "output_type": "error",
     "traceback": [
      "\u001b[0;31m---------------------------------------------------------------------------\u001b[0m",
      "\u001b[0;31mNameError\u001b[0m                                 Traceback (most recent call last)",
      "Cell \u001b[0;32mIn[32], line 1\u001b[0m\n\u001b[0;32m----> 1\u001b[0m \u001b[43mgzegzrb\u001b[49m\n",
      "\u001b[0;31mNameError\u001b[0m: name 'gzegzrb' is not defined"
     ]
    }
   ],
   "source": [
    "gzegzrb"
   ]
  },
  {
   "cell_type": "code",
   "execution_count": null,
   "id": "614c37d8-7bc9-4a7e-bc00-c3b3e166853e",
   "metadata": {
    "tags": []
   },
   "outputs": [],
   "source": [
    "T = 300\n",
    "nT = 1200\n",
    "def get_rhosat(speed,C0=10,Pprice_ideal = 1/15):\n",
    "    sim = Simulation(speed = speed,C0=C0,T = T,nT=nT,Pprice_ideal = Pprice_ideal,Fmax = Vmax,adaptation_rate = 3e-4,drag = 0)\n",
    "    C_xt, rho_xt, n_xt,P_prices,_ = sim.integrate(plot=False)\n",
    "    rho_sat = np.median([rho for rho in rho_xt[-1] if rho>0.1])\n",
    "    poss = np.argmax(n_xt,axis=1)\n",
    "    x = np.linspace(0,sim.T,sim.nT)\n",
    "    y = np.array(poss)*sim.Length/sim.nx\n",
    "    fit_coeffs = np.polyfit(x[3*sim.nT//4:], y[3*sim.nT//4:], 1)\n",
    "    return(rho_sat,fit_coeffs[0])"
   ]
  },
  {
   "cell_type": "code",
   "execution_count": null,
   "id": "fc3ebd8e-d67b-47fb-ba6d-6dea3a4893b5",
   "metadata": {
    "tags": []
   },
   "outputs": [],
   "source": [
    "# plt.close('all')\n",
    "# speeds = np.linspace(0.16,0.26,3)\n",
    "# C0=0.05\n",
    "# Pprice_ideal = 1.5\n",
    "# rho_sats_speeds = [get_rhosat(speed,C0=C0,Pprice_ideal = Pprice_ideal) for speed in speeds]\n",
    "# speeds_observed = [speed for _,speed in rho_sats_speeds]\n",
    "# rho_sats = [rho for rho,_ in rho_sats_speeds]\n",
    "\n",
    "# import pandas as pd\n",
    "# import seaborn as sns\n",
    "# df = pd.read_csv(\"expexptradeoff.csv\")\n",
    "# df['instant_L_dens']=df['instant_L_dens']/1000\n",
    "# n_colors = len(df['strain'].unique())\n",
    "\n",
    "# palette = sns.color_palette(\"rainbow\", n_colors)\n",
    "# strain_to_color = dict(zip(df['strain'].unique(), palette))\n"
   ]
  },
  {
   "cell_type": "code",
   "execution_count": null,
   "id": "706c9f93-f22e-44e6-91ad-2be578c6c429",
   "metadata": {
    "tags": []
   },
   "outputs": [],
   "source": [
    "plt.style.use('presentation.mplstyle')\n",
    "cm = 1/2.54  # centimeters in inches\n",
    "\n",
    "fig,ax = plt.subplots(figsize = (6*cm,4*cm))\n",
    "# fig,ax = plt.subplots()\n",
    "\n",
    "ax.plot(np.array(speeds)*1000,rho_sats,color=\"black\")\n",
    "# sns.scatterplot(data = df,x='hull_speed',y='instant_L_dens',hue='strain',s=50,palette=strain_to_color)\n",
    "# ax.set_xscale(\"log\")\n",
    "# ax.set_yscale(\"log\")\n",
    "ax.set_xlabel('$v_{wave}$ (um/h)')\n",
    "ax.set_ylabel('$d_{L}$ \\n ($mm/mm^2$)')\n",
    "# plt.tight_layout()\n",
    "plt.legend().remove()\n",
    "\n",
    "plt.savefig(os.path.join(path_figure,'FigureModel.pdf'), transparent=True, bbox_inches='tight')\n"
   ]
  }
 ],
 "metadata": {
  "kernelspec": {
   "display_name": "Python 3 (ipykernel)",
   "language": "python",
   "name": "python3"
  },
  "language_info": {
   "codemirror_mode": {
    "name": "ipython",
    "version": 3
   },
   "file_extension": ".py",
   "mimetype": "text/x-python",
   "name": "python",
   "nbconvert_exporter": "python",
   "pygments_lexer": "ipython3",
   "version": "3.9.2"
  }
 },
 "nbformat": 4,
 "nbformat_minor": 5
}
