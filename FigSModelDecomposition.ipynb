{
 "cells": [
  {
   "cell_type": "code",
   "execution_count": 1,
   "id": "c0cea6e4-a16d-48df-8d2c-983c960b78f4",
   "metadata": {
    "tags": []
   },
   "outputs": [
    {
     "data": {
      "text/plain": [
       "(3.6, 0.0032500000000000003, 0.0035)"
      ]
     },
     "execution_count": 1,
     "metadata": {},
     "output_type": "execute_result"
    }
   ],
   "source": [
    "Vmax = 3.25e-9 #ugP/um2/hour\n",
    "Vmax = Vmax*1e6 #ugP.mm-2.hour-1\n",
    "DP = 1e-5#cm**2-s-1, diffusion coefficient of small ions in water\n",
    "DP = DP*1e2*3600 #mm**2-h-1, diffusion coefficient of small ions in water\n",
    "C0 = 3.5 #ug/mL=ug/cm**-3\n",
    "C0 = 3.5*1e-3 #ug/mm**-3\n",
    "\n",
    "DP,Vmax,C0"
   ]
  },
  {
   "cell_type": "code",
   "execution_count": 2,
   "id": "a5e83831-503b-4c7f-929a-10355afaf553",
   "metadata": {
    "tags": []
   },
   "outputs": [],
   "source": [
    "# C0 = 0.003  #ug.mm3\n",
    "# psat = 2 #mm/mm3\n",
    "# Ccost = psat*np.pi*(sim.r0)**2 #mm**3.mm-3\n",
    "# # Ccost *= (sim.v_sval/0.25)**(sim.speed_penalty)\n",
    "\n",
    "# Ccost *= 0.5*0.21*1.1 *1e-3 #g.mm-3\n",
    "# Ccost *= 1e6 #ug.mm-3\n",
    "# Ccost *= 2 #ug.mm-3"
   ]
  },
  {
   "cell_type": "code",
   "execution_count": 3,
   "id": "9ac4c9da-9cbe-423a-a10c-39cf976c9f4e",
   "metadata": {
    "tags": []
   },
   "outputs": [
    {
     "data": {
      "text/plain": [
       "0.5"
      ]
     },
     "execution_count": 3,
     "metadata": {},
     "output_type": "execute_result"
    }
   ],
   "source": [
    "C0 = 500 #mg.L-1\n",
    "C0 = 500*1e3 #ug.L-1\n",
    "C0 = C0 * 1e-3 #ug.cm-3\n",
    "C0 = C0 *1e-3 #ug.mm-3\n",
    "C0"
   ]
  },
  {
   "cell_type": "code",
   "execution_count": 4,
   "id": "a90c578e-2680-4a69-a27c-4606d44e6303",
   "metadata": {
    "tags": []
   },
   "outputs": [
    {
     "data": {
      "text/plain": [
       "3.1e-05"
      ]
     },
     "execution_count": 4,
     "metadata": {},
     "output_type": "execute_result"
    }
   ],
   "source": [
    "Km = 1e-3 #umol/cm3\n",
    "Km *= 31 #ug/cm3\n",
    "Km *=1e-3 #ug/mm3\n",
    "Km_snchepf = Km \n",
    "Km_snchepf"
   ]
  },
  {
   "cell_type": "code",
   "execution_count": 5,
   "id": "6f302a30-1cfe-4ac8-9efa-21f1ddc61ec3",
   "metadata": {
    "tags": []
   },
   "outputs": [
    {
     "data": {
      "text/plain": [
       "0.1798"
      ]
     },
     "execution_count": 5,
     "metadata": {},
     "output_type": "execute_result"
    }
   ],
   "source": [
    "Km = 5.8e-3 #umol/cm3\n",
    "Km *= 31 #ug/cm3\n",
    "Km *=1e-3 #ug/mm3\n",
    "Km*1000"
   ]
  },
  {
   "cell_type": "code",
   "execution_count": 6,
   "id": "0956a440-373e-4748-8821-6c21fcf2463a",
   "metadata": {
    "tags": []
   },
   "outputs": [],
   "source": [
    "bp = 8.8 #mm\n",
    "f_v = 1/bp #mm-1"
   ]
  },
  {
   "cell_type": "code",
   "execution_count": 7,
   "id": "8fdbed0f-b80f-4c6d-bb04-328353da372d",
   "metadata": {
    "tags": []
   },
   "outputs": [],
   "source": [
    "def signed_sqrt(x,alpha = 1/2):\n",
    "    \"\"\"Return the signed square root of a number.\"\"\"\n",
    "    if x >= 0:\n",
    "        return x**alpha\n",
    "    else:\n",
    "        return -(-x)**alpha"
   ]
  },
  {
   "cell_type": "code",
   "execution_count": 8,
   "id": "9fb56d66-80a2-4548-8d6b-4a2369eb6564",
   "metadata": {
    "tags": []
   },
   "outputs": [
    {
     "name": "stdout",
     "output_type": "stream",
     "text": [
      "['/home/cocopyth/PandC', '/usr/lib/python39.zip', '/usr/lib/python3.9', '/usr/lib/python3.9/lib-dynload', '', '/home/cocopyth/.local/lib/python3.9/site-packages', '/usr/local/lib/python3.9/dist-packages', '/usr/lib/python3/dist-packages', '/usr/lib/petsc/lib/python3/dist-packages', '/usr/lib/mshr/python3/dist-packages', '/usr/lib/slepc/lib/python3/dist-packages', '/home/cocopyth/miniconda3/lib/python3.9/site-packages']\n"
     ]
    }
   ],
   "source": [
    "import sys\n",
    "sys.path.append('/home/cocopyth/miniconda3/lib/python3.9/site-packages')\n",
    "print(sys.path)\n"
   ]
  },
  {
   "cell_type": "code",
   "execution_count": 9,
   "id": "3692238f-986c-4033-a5bb-c51469f25540",
   "metadata": {
    "tags": []
   },
   "outputs": [],
   "source": [
    "# Vmax = 0.02"
   ]
  },
  {
   "cell_type": "code",
   "execution_count": 10,
   "id": "4aaec90a-7d42-4b63-9dba-e1367ac270c8",
   "metadata": {
    "tags": []
   },
   "outputs": [],
   "source": [
    "# !pip install tqdm\n",
    "from tqdm.notebook import tqdm  # Import tqdm\n",
    "import matplotlib.pyplot as plt\n",
    "path_figure = r\"/mnt/c/Users/coren/Documents/PhD/paper/PandC/Fig5\"\n",
    "plt.style.use('presentation.mplstyle')\n"
   ]
  },
  {
   "cell_type": "code",
   "execution_count": 11,
   "id": "04857000-8fff-429e-ae97-cb9dcdab7b02",
   "metadata": {
    "tags": []
   },
   "outputs": [
    {
     "name": "stderr",
     "output_type": "stream",
     "text": [
      "/tmp/ipykernel_6976/346825709.py:12: MatplotlibDeprecationWarning: The get_cmap function was deprecated in Matplotlib 3.7 and will be removed two minor releases later. Use ``matplotlib.colormaps[name]`` or ``matplotlib.colormaps.get_cmap(obj)`` instead.\n",
      "  cmap3 = mpl.cm.get_cmap(\"autumn\")\n",
      "/tmp/ipykernel_6976/346825709.py:13: MatplotlibDeprecationWarning: The get_cmap function was deprecated in Matplotlib 3.7 and will be removed two minor releases later. Use ``matplotlib.colormaps[name]`` or ``matplotlib.colormaps.get_cmap(obj)`` instead.\n",
      "  cmap4 = mpl.cm.get_cmap(\"summer\")\n",
      "/tmp/ipykernel_6976/346825709.py:172: MatplotlibDeprecationWarning: The get_cmap function was deprecated in Matplotlib 3.7 and will be removed two minor releases later. Use ``matplotlib.colormaps[name]`` or ``matplotlib.colormaps.get_cmap(obj)`` instead.\n",
      "  cmap = mpl.cm.get_cmap(\"winter\")\n",
      "/tmp/ipykernel_6976/346825709.py:173: MatplotlibDeprecationWarning: The get_cmap function was deprecated in Matplotlib 3.7 and will be removed two minor releases later. Use ``matplotlib.colormaps[name]`` or ``matplotlib.colormaps.get_cmap(obj)`` instead.\n",
      "  cmap2 = mpl.cm.get_cmap(\"spring\")\n"
     ]
    },
    {
     "data": {
      "application/vnd.jupyter.widget-view+json": {
       "model_id": "c62008a1c7c443098f5c8c73c2464e48",
       "version_major": 2,
       "version_minor": 0
      },
      "text/plain": [
       "Simulating:   0%|          | 0/200 [00:00<?, ?it/s]"
      ]
     },
     "metadata": {},
     "output_type": "display_data"
    },
    {
     "data": {
      "application/vnd.jupyter.widget-view+json": {
       "model_id": "fcd4db28018c4f0fa5098012daea1b99",
       "version_major": 2,
       "version_minor": 0
      },
      "image/png": "[encoded data removed]",
      "text/html": [
       "\n",
       "            <div style=\"display: inline-block;\">\n",
       "                <div class=\"jupyter-widgets widget-label\" style=\"text-align: center;\">\n",
       "                    Figure\n",
       "                </div>\n",
       "                <img src='data:image/png;base64,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' width=118.11023622047243/>\n",
       "            </div>\n",
       "        "
      ],
      "text/plain": [
       "Canvas(toolbar=Toolbar(toolitems=[('Home', 'Reset original view', 'home', 'home'), ('Back', 'Back to previous …"
      ]
     },
     "metadata": {},
     "output_type": "display_data"
    }
   ],
   "source": [
    "cm = 1/2.54  # centimeters in inches\n",
    "%matplotlib widget\n",
    "from dolfin import *\n",
    "import numpy as np\n",
    "import matplotlib as mpl\n",
    "import os\n",
    "import matplotlib.ticker as ticker\n",
    "Length = 140*0.4\n",
    "nx = int(350*15//10*0.4/0.8)\n",
    "plt.close(\"all\")\n",
    "set_log_active(False)\n",
    "cmap3 = mpl.cm.get_cmap(\"autumn\")\n",
    "cmap4 = mpl.cm.get_cmap(\"summer\")\n",
    "\n",
    "class Simulation:\n",
    "    \"\"\"\n",
    "    A class for simulating a finite element problem using the FEniCS framework.\n",
    "\n",
    "    Attributes:\n",
    "    -----------\n",
    "    Length: float\n",
    "        Length of the interval domain.\n",
    "    nx: int\n",
    "        Number of subdivisions in the mesh.\n",
    "    nT: int\n",
    "        Number of time steps.\n",
    "    T: float\n",
    "        Total simulation time.\n",
    "    C0: float\n",
    "        Initial concentration value.\n",
    "    Fmax: float\n",
    "        Maximum flux value.\n",
    "    Pprice_ideal: float\n",
    "        Ideal price value.\n",
    "    width: float\n",
    "        Width of the plot.\n",
    "    height: float\n",
    "        Height of the plot.\n",
    "    \"\"\"\n",
    "    def __init__(self, Length=Length, nx=nx, nT=200, T=400, C0=10, Fmax=2, Pprice_ideal=20, width=3*cm, height=7*cm,speed = 0.230,adaptation_rate = 1e-4,drag = 0):\n",
    "        self.Length = Length\n",
    "        self.nx = nx\n",
    "        self.dx = Length/nx\n",
    "        self.nT = nT\n",
    "        self.T = T\n",
    "        self.dt = T/nT\n",
    "        self.C0 = C0 #ug.mm-3\n",
    "        self.Fmax = Fmax\n",
    "        self.Pprice_ideal = Pprice_ideal\n",
    "        self.width = width\n",
    "        self.height = height\n",
    "        self.speed = speed\n",
    "        self.adaptation_rate = adaptation_rate\n",
    "        self.speed_penalty = drag\n",
    "        self._setup_simulation()\n",
    "        self.r0 = 3e-3\n",
    "\n",
    "    def _setup_simulation(self):\n",
    "        # Set up the simulation: define mesh, function spaces, initial conditions, etc.\n",
    "        \"\"\"\n",
    "        Sets up the initial conditions and parameters for the simulation.\n",
    "        \"\"\"\n",
    "        # Create mesh and define function space\n",
    "        self.mesh = IntervalMesh(self.nx, 1, self.Length)\n",
    "        P1 = FiniteElement('P', interval, 1)\n",
    "        element = MixedElement([P1, P1, P1])\n",
    "        self.V = FunctionSpace(self.mesh, element)\n",
    "\n",
    "        # Define initial conditions\n",
    "        u0 = Expression(('0.9*exp(-1.2*pow(abs(x[0]-7),2))', \n",
    "                         f'(1-exp(-3*(x[0]-1)))*{self.C0}', '0*exp(-0.01*pow(abs(x[0]),2))'), degree=1)\n",
    "        rexp = Expression(('1/x[0]', '0', '0'), degree=1)\n",
    "        self.r = interpolate(rexp, self.V)\n",
    "        self.invr, _, _ = split(self.r)\n",
    "        self.u_n = interpolate(u0, self.V)\n",
    "\n",
    "        # Splitting functions for later use\n",
    "        self.u = Function(self.V)\n",
    "        self.n, self.C, self.rho = split(self.u)   #mm-3,ug.mm-3,mm2.mm-3\n",
    "        self.n_n, self.C_n, self.rho_n = split(self.u_n)\n",
    "        self.v_1, self.v_0, self.v_2 = TestFunctions(self.V)\n",
    "\n",
    "        # Set parameters and constants\n",
    "        self.dt = self.T / self.nT\n",
    "        self.alphval = 0.039 #.h-1\n",
    "        self.alphval0 = self.alphval\n",
    "        self.betaval = 0.022 #mm.h-1 length coefficient\n",
    "        # self.betaval = 0.022/(2.5e-3) #mm.h-1 SA coefficient\n",
    "        \n",
    "        self.beta = Constant(self.betaval) #mm**4.h-1\n",
    "        self.D = 0.00008 #mm**2.h-1\n",
    "        self.D0 = self.D #mm**2.h-1\n",
    "        \n",
    "        self.D2 = Constant(3.6) #mm**2.h-1\n",
    "        self.n_mid = 0.5*(self.n_n + self.n)\n",
    "        self.v_sval = self.speed #mm.h-1\n",
    "        self.s_scal = self.speed #mm.h-1\n",
    "        self.v_s = Constant((self.v_sval,)) #mm.h-1\n",
    "        self.Vmax = self.Fmax #ug.mm**-2.h-1\n",
    "        self.Kp = Km_snchepf #ug.mm-3\n",
    "        # Boundary conditions\n",
    "        u_L = (Constant(0.0), Constant(0.0), Constant(0.0))\n",
    "        u_R = (Constant(0.0), Constant(self.C0), Constant(0.0))\n",
    "        bc_L = DirichletBC(self.V, u_L, 'near(x[0], 1.0)')\n",
    "        bc_R = DirichletBC(self.V, u_R, f'near(x[0], {self.Length})')\n",
    "        self.bcs = [bc_L, bc_R]\n",
    "\n",
    "    def _make_F(self, alphval,D,sval):\n",
    "        # Define the variational problem F\n",
    "        alpha = Constant(alphval)\n",
    "        D = Constant(D)\n",
    "        s_scal = Constant(sval)\n",
    "        C_L =  self.C/bp\n",
    "        \n",
    "        # dn/dt\n",
    "        F = self.n*self.v_1*dx - self.n_n*self.v_1*dx \n",
    "        # D lapplacian(n)\n",
    "        F += D*dot(grad(self.n), grad(self.v_1))*self.dt*dx\n",
    "        # To account for cylindrical coordinates\n",
    "        F += self.invr*D*dot(grad(self.n), Constant((1,)))*self.v_1*self.dt*dx\n",
    "        \n",
    "        #v.grad(n)\n",
    "        F += self.dt*dot(grad(self.n_mid),self.v_s)*self.v_1*dx\n",
    "        # To account for cylindrical coordinates\n",
    "        F += self.invr*self.dt*self.n_mid*Constant(self.v_sval)*self.v_1*dx\n",
    "        \n",
    "        #alpha*n - beta * n * rho\n",
    "        F += self.beta*self.v_1*self.rho*(self.n)*self.dt*dx\n",
    "        F -= alpha*(self.n)*self.v_1*self.dt*dx\n",
    "        #d rho/dt = vn\n",
    "        F -= self.dt*s_scal*self.n*self.v_2*dx-(self.rho-self.rho_n)*self.v_2*dx\n",
    "\n",
    "\n",
    "        # dC/dt\n",
    "        F += self.C*self.v_0*dx - self.C_n*self.v_0*dx #ug.mm-3\n",
    "        # Vmax * rho * C/(C+Kp)\n",
    "        F += 2*np.pi*self.Vmax*(self.rho/bp)*self.r0*(self.C/bp/(self.Kp+self.C/bp))*self.v_0*self.dt*dx #ug\n",
    "        # Diffusion \n",
    "        F += self.D2*dot(grad(self.C/bp), grad(self.v_0))*self.dt*dx\n",
    "        # To account for cylindrical coordinates\n",
    "        F += self.invr*self.D2*dot(grad(self.C/bp), Constant((1,)))*self.v_0*self.dt*dx\n",
    "\n",
    "        return F\n",
    "    def integrate(self, plot=False,remove_ylabels = False):\n",
    "        \"\"\"\n",
    "        Integrate the problem over time and optionally plot the results.\n",
    "        Returns arrays of C(x, t), rho(x, t), and n(x, t) over the simulation.\n",
    "\n",
    "        Parameters:\n",
    "        -----------\n",
    "        plot: bool\n",
    "            If True, plot the results using matplotlib.\n",
    "\n",
    "        Returns:\n",
    "        --------\n",
    "        C_xt: list of arrays\n",
    "            Concentration C as a function of position x and time t.\n",
    "        rho_xt: list of arrays\n",
    "            Density rho as a function of position x and time t.\n",
    "        n_xt: list of arrays\n",
    "            Quantity n as a function of position x and time t.\n",
    "        \"\"\"\n",
    "        # Initialize arrays to store C(x, t), rho(x, t), and n(x, t)\n",
    "        C_xt = []\n",
    "        rho_xt = []\n",
    "        n_xt = []\n",
    "        P_prices = []\n",
    "        alphavals = []\n",
    "        # Initialize matplotlib plots if needed\n",
    "        if plot:\n",
    "            fig, axs = plt.subplots(4, 1, figsize=(self.width, self.height*1.5))\n",
    "            cmap = mpl.cm.get_cmap(\"winter\")\n",
    "            cmap2 = mpl.cm.get_cmap(\"spring\")\n",
    "\n",
    "        # Time-stepping loop\n",
    "        V2 = FunctionSpace(self.mesh, 'P', 1)\n",
    "        X = np.linspace(1, self.Length, self.nx)\n",
    "        i=0\n",
    "        tot_CCosts= [] \n",
    "        tot_Pacqus = []\n",
    "        for t in tqdm(np.linspace(0, self.T, self.nT), desc=\"Simulating\"):\n",
    "            F = self._make_F(self.alphval,self.D,self.s_scal)\n",
    "            solve(F == 0, self.u, self.bcs)\n",
    "            self.u_n.assign(self.u)\n",
    "            _n, _C, _rho = self.u.split()\n",
    "\n",
    "            # Interpolate and store the results\n",
    "            n_field = interpolate(_n, V2)\n",
    "            rho_field = interpolate(_rho, V2)\n",
    "            C_field = interpolate(_C, V2)\n",
    "            Ccost = np.pi*np.sum([n_field(x)*x*self.dx*self.v_sval for x in X]) #mm.h-1\n",
    "            Ccost *= np.pi*(self.r0)**2 #mm**3.h-1\n",
    "            Ccost *= 1e-3  #mL.mm-1.h-1=dm**3.h-1\n",
    "            \n",
    "            Ccost *= 0.5*0.21*1.1 #g.h-1\n",
    "            Ccost *= 1e6 #ug.h-1\n",
    "            Ccost *= 2 #respiration\n",
    "            \n",
    "            Ccost *= (self.v_sval/0.25)**(self.speed_penalty)\n",
    "            Pacquisition = np.pi*np.sum([self.Vmax*(C_field(x)/bp/(C_field(x)/bp+self.Kp))*rho_field(x)*x*self.dx for x in X]) #ug.h-1.mm-2\n",
    "            Pacquisition *= 2*self.r0*np.pi #ug.mm-1\n",
    "            # Pacquisition += 5e-4*np.exp(-t/100)\n",
    "            tot_CCosts.append(Ccost) \n",
    "            tot_Pacqus.append(Pacquisition)\n",
    "            # Pprice = Ccost/Pacquisition\n",
    "            integrated_CCost = np.sum(tot_CCosts[-10*self.T//self.nT:])\n",
    "            integrated_Pacqu = np.sum(tot_Pacqus[-10*self.T//self.nT:])\n",
    "            \n",
    "            Pprice = integrated_CCost/integrated_Pacqu\n",
    "\n",
    "            alphavals.append(self.alphval)\n",
    "            if t>=0:\n",
    "                # self.s_scal = self.Pprice_ideal/Pprice*self.speed\n",
    "                self.alphval = max(0.001,self.alphval + self.dt*self.adaptation_rate*(t/50)**2*signed_sqrt((self.Pprice_ideal-Pprice)/self.Pprice_ideal,alpha = 1))\n",
    "            # print(self.alphval)\n",
    "            self.D = self.D0*self.alphval0/self.alphval\n",
    "            # print(2*(np.sqrt(self.D*self.alphval)))\n",
    "            n_xt.append([n_field(x) for x in X])\n",
    "            rho_xt.append([rho_field(x) for x in X])\n",
    "            C_xt.append([C_field(x) for x in X])\n",
    "            P_prices.append(Pprice)\n",
    "            # print(Pprice,self.alphval)\n",
    "            if plot and i % (self.nT//5) == 0:\n",
    "                axs[1].plot(X, n_xt[-1], color=cmap2(t / self.T))\n",
    "                axs[0].plot(X, rho_xt[-1], color=cmap(t / self.T))\n",
    "                axs[2].plot(X, np.array(C_xt[-1])*1000, color=cmap3(t / self.T))\n",
    "                Pacq =  [2*self.r0*np.pi*C_xt[-1][i]/bp/(C_xt[-1][i]/bp+self.Kp) * rho_xt[-1][i]*Vmax*1000 for i in range(len(X))]\n",
    "\n",
    "                axs[3].plot(X, Pacq, color=cmap4(t / self.T))\n",
    "                # break\n",
    "            i+=1\n",
    "            \n",
    "\n",
    "        # Finalize plot settings if plotting\n",
    "        if plot:\n",
    "            axs[1].plot(X, n_xt[-1], color=cmap2(t / self.T))\n",
    "            axs[0].plot(X, rho_xt[-1], color=cmap(t / self.T))\n",
    "            satrho = np.median([rho for rho in rho_xt[-1] if rho>1e-10])\n",
    "            \n",
    "            # axs[0].hlines(satrho,np.min(X),np.max(X), color=\"red\")\n",
    "            \n",
    "            axs[2].plot(X, np.array(C_xt[-1])*1000, color=cmap3(t / self.T))\n",
    "            Pacq =  [2*self.r0*np.pi*C_xt[-1][i]/bp/(C_xt[-1][i]/bp+self.Kp) * rho_xt[-1][i]*Vmax*1000 for i in range(len(X))]\n",
    "            axs[3].plot(X, Pacq, color=cmap4(t / self.T))\n",
    "            axs[0].set_ylabel(r'$\\rho$'+ '\\n $(mm^{-1})$')\n",
    "            axs[0].set_xticklabels([])\n",
    "            axs[0].set_ylim(0,8)\n",
    "            \n",
    "            axs[1].set_ylabel('$n$ \\n $(mm^{-2})$')\n",
    "            axs[1].set_xticklabels([])\n",
    "            axs[1].set_ylim(0,4)\n",
    "            \n",
    "            axs[2].set_ylabel('$[P]$ \\n ($ng/ mm^{3}$)')\n",
    "            axs[2].set_xticklabels([])\n",
    "            axs[2].set_ylim(0,13)\n",
    "            \n",
    "            axs[3].set_ylabel('$\\phi_P$ \\n ($ng/mm^{3}/h$)')\n",
    "\n",
    "            axs[3].set_xlabel('position \\n ($mm$)')\n",
    "            axs[3].set_ylim(0,0.20)\n",
    "\n",
    "            formatter = ticker.FormatStrFormatter('%.2f')  # Adjust format as needed\n",
    "\n",
    "            for ax in axs:\n",
    "                ax.yaxis.set_major_formatter(formatter)\n",
    "            if remove_ylabels:\n",
    "                for ax in axs:\n",
    "                    ax.set_ylabel('')\n",
    "                    ax.set_yticklabels([])\n",
    "\n",
    "            plt.show()\n",
    "\n",
    "        return C_xt, rho_xt, n_xt,P_prices,alphavals\n",
    "        \n",
    "\n",
    "# Example usage:\n",
    "adaptation_rate = 8e-3\n",
    "C0=0.0014*bp #ug/mm2\n",
    "Pprice_ideal = 3\n",
    "speed = 0.17 #mm/h\n",
    "T = 100\n",
    "nT= 200\n",
    "sim = Simulation(speed = speed,C0=C0,T = T,nT=nT,Pprice_ideal = Pprice_ideal,Fmax = Vmax,adaptation_rate = adaptation_rate,drag = 1)\n",
    "C_xt, rho_xt, n_xt,P_prices,alphavals = sim.integrate(plot=True)\n"
   ]
  },
  {
   "cell_type": "code",
   "execution_count": 12,
   "id": "48c06b60-0209-4e9b-bc06-f5f45ea6b8a1",
   "metadata": {
    "tags": []
   },
   "outputs": [
    {
     "data": {
      "text/plain": [
       "0.17"
      ]
     },
     "execution_count": 12,
     "metadata": {},
     "output_type": "execute_result"
    }
   ],
   "source": [
    "sim.speed"
   ]
  },
  {
   "cell_type": "code",
   "execution_count": 13,
   "id": "4124690f-0951-4251-b461-b3b0e36022d8",
   "metadata": {
    "tags": []
   },
   "outputs": [
    {
     "data": {
      "text/plain": [
       "0.0035327043465311386"
      ]
     },
     "execution_count": 13,
     "metadata": {},
     "output_type": "execute_result"
    }
   ],
   "source": [
    "2*np.sqrt(sim.D*sim.alphval)"
   ]
  },
  {
   "cell_type": "code",
   "execution_count": 14,
   "id": "94e2df48-b7b7-482e-ac39-d1df495a314d",
   "metadata": {
    "tags": []
   },
   "outputs": [],
   "source": [
    "plt.savefig(os.path.join(path_figure,f'FigureA.pdf'), transparent=True, bbox_inches='tight')\n"
   ]
  },
  {
   "cell_type": "code",
   "execution_count": 15,
   "id": "583b2306-f30b-4787-85eb-e3bd72ddda64",
   "metadata": {
    "tags": []
   },
   "outputs": [],
   "source": [
    "C_xt, rho_xt, n_xt = np.array(C_xt),np.array(rho_xt),np.array(n_xt)\n",
    "X = np.linspace(1, sim.Length, sim.nx)\n",
    "Pacquisitions = np.sum(Vmax*(C_xt/bp/(C_xt/bp+sim.Kp))*rho_xt*X*sim.dx,axis=1)*np.pi/2 #ug.h-1.mm-2\n",
    "\n",
    "Pacquisitions *= 2*sim.r0*np.pi #ug.h-1\n",
    "Ccost = np.sum(n_xt*X*sim.dx*sim.v_sval,axis=1)*np.pi/2 #mm.h-1\n",
    "Ccost *= np.pi*(sim.r0)**2 #mm**3.h-1\n",
    "Ccost *= (sim.v_sval/0.25)**(sim.speed_penalty)\n",
    "\n",
    "Ccost *= 0.5*0.21*1.1 *1e-3 #g.mm-1.h-1\n",
    "Ccost *= 1e6 #ug.mm-1.h-1\n",
    "Ccost *= 2 #respiration\n"
   ]
  },
  {
   "cell_type": "code",
   "execution_count": 16,
   "id": "9f96c429-c1a4-4a20-8edf-352e0abf7e95",
   "metadata": {
    "tags": []
   },
   "outputs": [
    {
     "data": {
      "application/vnd.jupyter.widget-view+json": {
       "model_id": "9664ace610194c36824d611a18465e92",
       "version_major": 2,
       "version_minor": 0
      },
      "image/png": "[encoded data removed]",
      "text/html": [
       "\n",
       "            <div style=\"display: inline-block;\">\n",
       "                <div class=\"jupyter-widgets widget-label\" style=\"text-align: center;\">\n",
       "                    Figure\n",
       "                </div>\n",
       "                <img src='data:image/png;base64,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' width=62.99212598425197/>\n",
       "            </div>\n",
       "        "
      ],
      "text/plain": [
       "Canvas(toolbar=Toolbar(toolitems=[('Home', 'Reset original view', 'home', 'home'), ('Back', 'Back to previous …"
      ]
     },
     "metadata": {},
     "output_type": "display_data"
    }
   ],
   "source": [
    "cm = 1/2.54  # centimeters in inches\n",
    "\n",
    "fig,ax = plt.subplots(figsize = (1.6*cm,2*cm))\n",
    "ax.scatter(Pacquisitions,Ccost,s=0.11)\n",
    "ax.plot(Pacquisitions,Pacquisitions*Pprice_ideal,color=\"red\")\n",
    "# ax.plot([0,0.2],[0,0.2*Pprice_ideal],color=\"red\")\n",
    "\n",
    "ax.set_ylabel('$\\Phi_C$ \\n ($\\mu g/h$)')\n",
    "ax.set_xlabel('$\\Phi_P$ \\n($\\mu g/h$)')\n",
    "# ax.set_ylabel('$\\Phi_C$')\n",
    "# ax.set_xlabel('$\\Phi_P$')\n",
    "ax.set_xlim(0,0.1)\n",
    "ax.set_ylim(0,0.3)\n",
    "plt.savefig(os.path.join(path_figure,f'FigureB.pdf'), transparent=True, bbox_inches='tight')\n"
   ]
  },
  {
   "cell_type": "code",
   "execution_count": 17,
   "id": "17295401-2e8b-47b0-bc99-19ab8c697205",
   "metadata": {
    "tags": []
   },
   "outputs": [
    {
     "data": {
      "text/plain": [
       "(-1.0, 1.0)"
      ]
     },
     "execution_count": 17,
     "metadata": {},
     "output_type": "execute_result"
    },
    {
     "data": {
      "application/vnd.jupyter.widget-view+json": {
       "model_id": "bcaed650477b478487e75efe152a4da9",
       "version_major": 2,
       "version_minor": 0
      },
      "image/png": "[encoded data removed]",
      "text/html": [
       "\n",
       "            <div style=\"display: inline-block;\">\n",
       "                <div class=\"jupyter-widgets widget-label\" style=\"text-align: center;\">\n",
       "                    Figure\n",
       "                </div>\n",
       "                <img src='data:image/png;base64,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' width=640.0/>\n",
       "            </div>\n",
       "        "
      ],
      "text/plain": [
       "Canvas(toolbar=Toolbar(toolitems=[('Home', 'Reset original view', 'home', 'home'), ('Back', 'Back to previous …"
      ]
     },
     "metadata": {},
     "output_type": "display_data"
    }
   ],
   "source": [
    "cm = 1/2.54  # centimeters in inches\n",
    "\n",
    "fig,ax = plt.subplots()\n",
    "ts = np.linspace(1, sim.T, sim.nT)\n",
    "P_prices = Ccost/Pacquisitions\n",
    "ax.scatter(ts,(P_prices-Pprice_ideal)/Pprice_ideal,s=0.11)\n",
    "ax.plot(ts,ts*0,color=\"red\")\n",
    "ax.set_ylim(-1,1)\n",
    "\n",
    "# plt.savefig(os.path.join(path_figure,f'FigureB.pdf'), transparent=True, bbox_inches='tight')\n"
   ]
  },
  {
   "cell_type": "code",
   "execution_count": 18,
   "id": "7107cfe6-1bb9-4497-9024-a20c0f330108",
   "metadata": {
    "tags": []
   },
   "outputs": [
    {
     "data": {
      "application/vnd.jupyter.widget-view+json": {
       "model_id": "61bed62aa65d492d85b5fb827c610792",
       "version_major": 2,
       "version_minor": 0
      },
      "image/png": "[encoded data removed]",
      "text/html": [
       "\n",
       "            <div style=\"display: inline-block;\">\n",
       "                <div class=\"jupyter-widgets widget-label\" style=\"text-align: center;\">\n",
       "                    Figure\n",
       "                </div>\n",
       "                <img src='data:image/png;base64,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' width=62.99212598425197/>\n",
       "            </div>\n",
       "        "
      ],
      "text/plain": [
       "Canvas(toolbar=Toolbar(toolitems=[('Home', 'Reset original view', 'home', 'home'), ('Back', 'Back to previous …"
      ]
     },
     "metadata": {},
     "output_type": "display_data"
    }
   ],
   "source": [
    "fig,ax = plt.subplots(figsize = (1.6*cm,2*cm))\n",
    "ts = np.linspace(1, sim.T, sim.nT)\n",
    "ax.plot(ts,np.array(alphavals)*24)\n",
    "ax.set_xlabel('t (h)')\n",
    "ax.set_ylabel(r'$\\alpha$'+ '\\n ($day^{-1}$)')\n",
    "ax.set_ylim(0,3)\n",
    "plt.savefig(os.path.join(path_figure,f'FigureC.pdf'), transparent=True, bbox_inches='tight')\n"
   ]
  },
  {
   "cell_type": "code",
   "execution_count": 19,
   "id": "59282e2d-e701-4552-9ec8-9dc3b8e60f1a",
   "metadata": {
    "tags": []
   },
   "outputs": [
    {
     "data": {
      "text/plain": [
       "0.72"
      ]
     },
     "execution_count": 19,
     "metadata": {},
     "output_type": "execute_result"
    }
   ],
   "source": [
    "0.03*24"
   ]
  },
  {
   "cell_type": "code",
   "execution_count": 20,
   "id": "bc78f7d3-a7c9-45af-9550-7e2d496fb947",
   "metadata": {
    "tags": []
   },
   "outputs": [
    {
     "data": {
      "application/vnd.jupyter.widget-view+json": {
       "model_id": "c6e0c6bafbe1485a8f1a7cee671ee485",
       "version_major": 2,
       "version_minor": 0
      },
      "image/png": "[encoded data removed]",
      "text/html": [
       "\n",
       "            <div style=\"display: inline-block;\">\n",
       "                <div class=\"jupyter-widgets widget-label\" style=\"text-align: center;\">\n",
       "                    Figure\n",
       "                </div>\n",
       "                <img src='data:image/png;base64,iVBORw0KGgoAAAANSUhEUgAAAD4AAAAvCAYAAAC7S3l6AAAAOXRFWHRTb2Z0d2FyZQBNYXRwbG90bGliIHZlcnNpb24zLjcuMSwgaHR0cHM6Ly9tYXRwbG90bGliLm9yZy/bCgiHAAAACXBIWXMAAA9hAAAPYQGoP6dpAAAEe0lEQVR4nO2aW2wUVRyHv53usk1wt0VTIm231N7AFvDS3YUgCpYX7wJVTKOpfeEFfdAgYqLJVh+kQWNigr5JeVK0VsBAoZq6QNoaegkFtlHILq0dagg3u9227LTs/H1orEDZpoV2h3b7Jft0Zs7+vpk5Z87M/E0iIsQhitEBjEJxuVy0t7cbnSPmKNu2baOsrMzoHDHHpOu6LFiwgPr6enJycm5q1HWdzs5OLBYLiYmJWK1Wg2LeGZqmEQ6HGRoaIjMzE0W5YWSLiLhcLqmrq5NbUVVVgBnxU1X1JjfzWEfMZrMB0NTUhNvtRlVV7Hb7BI65MfT29uJwOAgEAmiaRn5+/ojLf5hFhK6uLjIyMkZ1YDKZAMjMzMTj8ZCSkjItLner1YrH4yEtLQ1N04D/XUaoqqqSwsLCUZe5iEgwGBRAgsHgbdunA9EclIqKCiorK2N+VozG3NLSYnQGQ4jflZvRAYxiVjzemBWPN2bF441Z8XhjVjzemFHikYjOiT0HOfbym2zf/BldVwaibjvmG5jpgHYtzIm9deyzOvjl9N8c+KIMh0RQX01njjn6eZ2W4uFQPye/+QHT3r0savKyItzHx1u/Y63rYbr311K4ahmvW4bVensHb9vHtBEP9vRR6/+Hmrbz7Hj3BZb3XaVjfgZtL5aQUlpCzXOrMSnjH7n3tLh69i/OVX7PfQd/JudsG+Wbd5ORMZ+GdzwsWbuC3DVuHrrTzu/kfdVUoeu6NHdckR0HfNKU65QhkyIRTOLLfkQa3v5Q/IHuCfcZzcHwMx4cGKLV20zfnh+5/3g9pes+wmyxsCwvn7biDeRseoOCLMek/68h4ucu9fHrqW7mffk5S47XUXSxg7B5DuceX8XudTm4XYtItDw7pRliIj54Xafh7EX8NUfQvV62L30JkwkO+35HWbaU7tc+Ia1kPflz58YiDjCF4heCYY78cQF1fy0P1tWw9s9Gng5dJmRLJn3LZla4F/PAp6fh1hf9MWLSxEWEk+eD/NbWRbe3keo5DhQ9QuvXH5CQaGVgw3r00hJsTz3J82bDp5a7E+/XrtPgv4y3tZPI4UOsPHmUTYFm5g6GWX6olZXuPOa91QYOB/YJ3GNjwYTF1asD1LZf4NgplfrzfSRcH6Llq1KSroUILSrA+v5WlI2vsLGgYPgynrdwKnLfNeMSb+64ytHOLnytZ1jc5OWZM41svBjg258aeaIgHdvySnjsUWzZ2VOdd/IYz83/vV1HpGXhEomYTBJJSJDB1WtEdu4U6e+f8IIi1kRbwJCbmytOp1N8Pt/YO23ZIrJrl8ilS7HKPClEFRcRqaqqEqfTOe6dphNRPxMDFBcXo6oqfr//tsNB0zTKy8tHPrLf64wnr0lkuMDP7XZTUVFBUVHRSGMwGCQ5OXlGlIL09PSQlJQ0ss2Ys3ooFAKGDwqAwzH5DwtTSfYNd5lQKDRaXKLUwaSmphIIBGZEuVdqaupNbWaA6upq0tPTR9W5KYpCVlZW7JLGEHNeXh52uz3u6mBGJrd441/Jk1Z0ScfB+gAAAABJRU5ErkJggg==' width=62.99212598425197/>\n",
       "            </div>\n",
       "        "
      ],
      "text/plain": [
       "Canvas(toolbar=Toolbar(toolitems=[('Home', 'Reset original view', 'home', 'home'), ('Back', 'Back to previous …"
      ]
     },
     "metadata": {},
     "output_type": "display_data"
    }
   ],
   "source": [
    "poss = np.argmax(n_xt,axis=1)\n",
    "x = np.linspace(0,sim.T,sim.nT)\n",
    "y = np.array(poss)*sim.Length/sim.nx\n",
    "fit_coeffs = np.polyfit(x[3*sim.nT//4:], y[3*sim.nT//4:], 1)\n",
    "fit_line = np.polyval(fit_coeffs, x)\n",
    "\n",
    "# Plot data and linear fit\n",
    "fig,ax = plt.subplots(figsize = (1.6*cm,1.2*cm))\n",
    "ax.plot(x, y)\n",
    "ax.plot(x, fit_line, 'r--')\n",
    "ax.set_xlabel('t (h)')\n",
    "ax.set_ylabel('x \\n ($mm$)')\n",
    "ax.set_ylim(0,50)\n",
    "plt.savefig(os.path.join(path_figure,f'FigureD.pdf'), transparent=True, bbox_inches='tight')\n"
   ]
  },
  {
   "cell_type": "code",
   "execution_count": 21,
   "id": "3c674221-7a65-44e0-bc91-0571866866bf",
   "metadata": {
    "tags": []
   },
   "outputs": [
    {
     "data": {
      "text/plain": [
       "array([0.19558653, 5.08687921])"
      ]
     },
     "execution_count": 21,
     "metadata": {},
     "output_type": "execute_result"
    }
   ],
   "source": [
    "fit_coeffs"
   ]
  },
  {
   "cell_type": "code",
   "execution_count": 22,
   "id": "afd2e903-5332-4979-aac4-392202b378d2",
   "metadata": {
    "tags": []
   },
   "outputs": [
    {
     "name": "stderr",
     "output_type": "stream",
     "text": [
      "/tmp/ipykernel_6976/346825709.py:172: MatplotlibDeprecationWarning: The get_cmap function was deprecated in Matplotlib 3.7 and will be removed two minor releases later. Use ``matplotlib.colormaps[name]`` or ``matplotlib.colormaps.get_cmap(obj)`` instead.\n",
      "  cmap = mpl.cm.get_cmap(\"winter\")\n",
      "/tmp/ipykernel_6976/346825709.py:173: MatplotlibDeprecationWarning: The get_cmap function was deprecated in Matplotlib 3.7 and will be removed two minor releases later. Use ``matplotlib.colormaps[name]`` or ``matplotlib.colormaps.get_cmap(obj)`` instead.\n",
      "  cmap2 = mpl.cm.get_cmap(\"spring\")\n"
     ]
    },
    {
     "data": {
      "application/vnd.jupyter.widget-view+json": {
       "model_id": "73eca27dfaf447818e97f910e068f040",
       "version_major": 2,
       "version_minor": 0
      },
      "text/plain": [
       "Simulating:   0%|          | 0/200 [00:00<?, ?it/s]"
      ]
     },
     "metadata": {},
     "output_type": "display_data"
    },
    {
     "data": {
      "application/vnd.jupyter.widget-view+json": {
       "model_id": "22b2abdfd79b43e6957084b877d8747f",
       "version_major": 2,
       "version_minor": 0
      },
      "image/png": "[encoded data removed]",
      "text/html": [
       "\n",
       "            <div style=\"display: inline-block;\">\n",
       "                <div class=\"jupyter-widgets widget-label\" style=\"text-align: center;\">\n",
       "                    Figure\n",
       "                </div>\n",
       "                <img src='data:image/png;base64,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' width=118.11023622047243/>\n",
       "            </div>\n",
       "        "
      ],
      "text/plain": [
       "Canvas(toolbar=Toolbar(toolitems=[('Home', 'Reset original view', 'home', 'home'), ('Back', 'Back to previous …"
      ]
     },
     "metadata": {},
     "output_type": "display_data"
    }
   ],
   "source": [
    "Pprice_ideal = 3\n",
    "speed = 0.26\n",
    "sim = Simulation(speed = speed,C0=C0,T = T,nT=nT,Pprice_ideal = Pprice_ideal,Fmax = Vmax,adaptation_rate = adaptation_rate,drag = 1)\n",
    "C_xt, rho_xt, n_xt,P_prices,alphavals = sim.integrate(plot=True,remove_ylabels = True)"
   ]
  },
  {
   "cell_type": "code",
   "execution_count": 23,
   "id": "8fcaaeed-edc1-499d-ac84-96ea200af802",
   "metadata": {
    "tags": []
   },
   "outputs": [],
   "source": [
    "plt.savefig(os.path.join(path_figure,f'FigureA2.pdf'), transparent=True, bbox_inches='tight')\n"
   ]
  },
  {
   "cell_type": "code",
   "execution_count": 24,
   "id": "c976bd22-27b0-4b09-8657-a0ba4857c2ed",
   "metadata": {
    "tags": []
   },
   "outputs": [],
   "source": [
    "C_xt, rho_xt, n_xt = np.array(C_xt),np.array(rho_xt),np.array(n_xt)\n",
    "X = np.linspace(1, sim.Length, sim.nx)\n",
    "Pacquisitions = np.sum(Vmax*(C_xt/bp/(C_xt/bp+sim.Kp))*rho_xt*X*sim.dx,axis=1)*np.pi/2 #ug.h-1.mm-2\n",
    "\n",
    "Pacquisitions *= 2*sim.r0*np.pi #ug.h-1\n",
    "Ccost = np.sum(n_xt*X*sim.dx*sim.v_sval,axis=1)*np.pi/2 #mm.h-1\n",
    "Ccost *= np.pi*(sim.r0)**2 #mm**3.h-1\n",
    "Ccost *= (sim.v_sval/0.25)**(sim.speed_penalty)\n",
    "\n",
    "Ccost *= 0.5*0.21*1.1 *1e-3 #g.mm-1.h-1\n",
    "Ccost *= 1e6 #ug.mm-1.h-1\n",
    "Ccost *= 2 #respiration\n"
   ]
  },
  {
   "cell_type": "code",
   "execution_count": 25,
   "id": "4b38cb2c-dd7a-49e9-a3e7-bd1bb4127e31",
   "metadata": {
    "tags": []
   },
   "outputs": [
    {
     "data": {
      "application/vnd.jupyter.widget-view+json": {
       "model_id": "580f057471b844f2a41ffd378e83d08f",
       "version_major": 2,
       "version_minor": 0
      },
      "image/png": "[encoded data removed]",
      "text/html": [
       "\n",
       "            <div style=\"display: inline-block;\">\n",
       "                <div class=\"jupyter-widgets widget-label\" style=\"text-align: center;\">\n",
       "                    Figure\n",
       "                </div>\n",
       "                <img src='data:image/png;base64,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' width=62.99212598425197/>\n",
       "            </div>\n",
       "        "
      ],
      "text/plain": [
       "Canvas(toolbar=Toolbar(toolitems=[('Home', 'Reset original view', 'home', 'home'), ('Back', 'Back to previous …"
      ]
     },
     "metadata": {},
     "output_type": "display_data"
    }
   ],
   "source": [
    "cm = 1/2.54  # centimeters in inches\n",
    "\n",
    "fig,ax = plt.subplots(figsize = (1.6*cm,2*cm))\n",
    "ax.scatter(Pacquisitions,Ccost,s=0.11)\n",
    "ax.plot(Pacquisitions,Pacquisitions*Pprice_ideal,color=\"red\")\n",
    "ax.set_ylabel('$\\Phi_C$ \\n ($\\mu g/h$)')\n",
    "ax.set_xlabel('$\\Phi_P$ \\n ($\\mu g/h$)')\n",
    "ax.set_ylabel('')\n",
    "# ax.set_xlabel('$\\Phi_P$')\n",
    "ax.set_xlim(0,0.1)\n",
    "ax.set_ylim(0,0.3)\n",
    "\n",
    "ax.set_yticklabels([])\n",
    "\n",
    "plt.savefig(os.path.join(path_figure,f'FigureB2.pdf'), transparent=True, bbox_inches='tight')\n"
   ]
  },
  {
   "cell_type": "code",
   "execution_count": 26,
   "id": "a0e7824e-909e-45ab-88f0-efc29c3250a1",
   "metadata": {
    "tags": []
   },
   "outputs": [
    {
     "data": {
      "text/plain": [
       "(-1.0, 1.0)"
      ]
     },
     "execution_count": 26,
     "metadata": {},
     "output_type": "execute_result"
    },
    {
     "data": {
      "application/vnd.jupyter.widget-view+json": {
       "model_id": "57e535f8b1f54fa990699c58b7eece31",
       "version_major": 2,
       "version_minor": 0
      },
      "image/png": "[encoded data removed]",
      "text/html": [
       "\n",
       "            <div style=\"display: inline-block;\">\n",
       "                <div class=\"jupyter-widgets widget-label\" style=\"text-align: center;\">\n",
       "                    Figure\n",
       "                </div>\n",
       "                <img src='data:image/png;base64,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' width=640.0/>\n",
       "            </div>\n",
       "        "
      ],
      "text/plain": [
       "Canvas(toolbar=Toolbar(toolitems=[('Home', 'Reset original view', 'home', 'home'), ('Back', 'Back to previous …"
      ]
     },
     "metadata": {},
     "output_type": "display_data"
    }
   ],
   "source": [
    "cm = 1/2.54  # centimeters in inches\n",
    "\n",
    "fig,ax = plt.subplots()\n",
    "ts = np.linspace(1, sim.T, sim.nT)\n",
    "P_prices = Ccost/Pacquisitions\n",
    "ax.scatter(ts,(P_prices-Pprice_ideal)/Pprice_ideal,s=0.11)\n",
    "ax.plot(ts,ts*0,color=\"red\")\n",
    "ax.set_ylim(-1,1)\n",
    "\n",
    "# plt.savefig(os.path.join(path_figure,f'FigureB.pdf'), transparent=True, bbox_inches='tight')\n"
   ]
  },
  {
   "cell_type": "code",
   "execution_count": 27,
   "id": "356c9f38-ac46-48b8-8cec-4984f1a14bd1",
   "metadata": {
    "tags": []
   },
   "outputs": [
    {
     "data": {
      "application/vnd.jupyter.widget-view+json": {
       "model_id": "175caab336094dee9750570d94f726f1",
       "version_major": 2,
       "version_minor": 0
      },
      "image/png": "[encoded data removed]",
      "text/html": [
       "\n",
       "            <div style=\"display: inline-block;\">\n",
       "                <div class=\"jupyter-widgets widget-label\" style=\"text-align: center;\">\n",
       "                    Figure\n",
       "                </div>\n",
       "                <img src='data:image/png;base64,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' width=62.99212598425197/>\n",
       "            </div>\n",
       "        "
      ],
      "text/plain": [
       "Canvas(toolbar=Toolbar(toolitems=[('Home', 'Reset original view', 'home', 'home'), ('Back', 'Back to previous …"
      ]
     },
     "metadata": {},
     "output_type": "display_data"
    }
   ],
   "source": [
    "fig,ax = plt.subplots(figsize = (1.6*cm,2*cm))\n",
    "ts = np.linspace(1, sim.T, sim.nT)\n",
    "ax.plot(ts,np.array(alphavals)*24)\n",
    "ax.set_xlabel('t (h)')\n",
    "# ax.set_ylabel(r'$\\alpha$ ($day^{-1}$)')\n",
    "ax.set_ylim(0,3)\n",
    "ax.set_yticklabels([])\n",
    "plt.savefig(os.path.join(path_figure,f'FigureC2.pdf'), transparent=True, bbox_inches='tight')\n"
   ]
  },
  {
   "cell_type": "code",
   "execution_count": 28,
   "id": "e88dd690-80de-4e69-b38f-417e8e91417c",
   "metadata": {
    "tags": []
   },
   "outputs": [
    {
     "data": {
      "application/vnd.jupyter.widget-view+json": {
       "model_id": "5517508c325746ae8cbbf9f72079106e",
       "version_major": 2,
       "version_minor": 0
      },
      "image/png": "[encoded data removed]",
      "text/html": [
       "\n",
       "            <div style=\"display: inline-block;\">\n",
       "                <div class=\"jupyter-widgets widget-label\" style=\"text-align: center;\">\n",
       "                    Figure\n",
       "                </div>\n",
       "                <img src='data:image/png;base64,iVBORw0KGgoAAAANSUhEUgAAAD4AAAAvCAYAAAC7S3l6AAAAOXRFWHRTb2Z0d2FyZQBNYXRwbG90bGliIHZlcnNpb24zLjcuMSwgaHR0cHM6Ly9tYXRwbG90bGliLm9yZy/bCgiHAAAACXBIWXMAAA9hAAAPYQGoP6dpAAAEIklEQVR4nO2aa2xTZRjH/y0rbUp6AVcytyyeVUpxOINbqFEj6gc2wUTFD2DIiCBGYzQxGCO4ELslXsIHs0QhsMXpmIkbmCgSjDIydbibddB0bCjMzmanbKtFtlO6rS9bz+MHM1BjT7r19L5fcj6d9/L8z/M/77k8r4KICFmIMtkBJItF4dlGjtRJURTh8XigUqmg0WigVqsTFZcsMMYQCoUwMzMDjuOgVP4jzyQBz/MEICMOnuf/pU0y4zqdDgDgcDhgs9nA8zz0ev08rnlyCAQCKCwshNvtBmMMxcXFN7XMISlcoVAAADiOg91uh8lkSgu7q9Vq2O12FBQUgDEG4JaWORRSz/FAIACDwQBBENIi0/9HJA1Zu6ovCs82FoVnG4vCs42MFX5t8obk+YwT/tuP59FdvhXv7HgLAyNCxHYZIVwUCa7PTsK5bgNWbSjD6q4zqCjSw7JSF7GP5Lt6qhOaCuGU6wrqur3YffQQbD4eXVUHULrvZZTrlv3dJkLftBQ+4fWhv+Z9WI59Auf9W7F8SyVWfnQYd5RyMC+J0sRS3+OCIBAAEgRBqlnC8PT2U8fm7RRUaSi0JId6HnmSfm3rluwTSUPKZ5xEEZ19w2hw/gHtiS/w9vencP7pZ2Gp2Yv7rEULHjdlFzcWYuh47zAumUsQ3LYdbv8kyvbshnqEx0MtR5AXg2gAqWd1/+hVan+pirzGPCKA+laXUu+hJpoNiwsaL+WtfnnIh/pzY+jsGMCZhlpcXP8opve/gZLHHo7LfEm1elgk/HT8NDrXb8Tye9agq28YT1Tci+khD2wdX2NVnEQDSI7VhSlGre/WkZMrIQLoym355HitmqaF67LOQ5QiVvcM+9Ho9OHzc140NdRimXYpBj78GHe9uAP5qsTedXG3OhGh62wfTj6+E0arGe4vv8WW0gKYOr+DZdCFta/sgjLBoucCm7dNomGKzdJXn35Dp8vKiSlzKKjWUv+25+j64NC8x4qFhFl9bHwKjT9cQssFP3a2NqFyyIXh1/fjzjdfxVqjUe7pFoxswvsHx+A6cBC2E03QWx9AxZ4qbK6sRW7hCuSqVHJNIx8LsckcN2bD1Np+gZo37SK/1kBhhYLcD24koa1dPq/GiKxWD7JZHD97GXU/jyD/Fxea25rBP/UMdDX7YF5jlTcz8WI+V8t7bZIaa+qp3VxGztst9MJRB/W4r5I4Ph63jMVKpIxHJbx34HdqeN5OF00cEUCjRVbyHawnCofjGrQcxGT1Yz0e7G35AMG71yHYeAR5m8qB/1Qf042oqqWj/j9hBKDJXZG4yGQiUrU0qoxrl+ZAk6Zl4khE9crKGEN1dfXNInuqE028klYXBAFGozEjtoJMTEzAYDDcaiS1Imby5h/JjGfydi9J4ZlMyv5ljTdZK/wvt9lT0/kdoS8AAAAASUVORK5CYII=' width=62.99212598425197/>\n",
       "            </div>\n",
       "        "
      ],
      "text/plain": [
       "Canvas(toolbar=Toolbar(toolitems=[('Home', 'Reset original view', 'home', 'home'), ('Back', 'Back to previous …"
      ]
     },
     "metadata": {},
     "output_type": "display_data"
    }
   ],
   "source": [
    "poss = np.argmax(n_xt,axis=1)\n",
    "x = np.linspace(0,sim.T,sim.nT)\n",
    "y = np.array(poss)*sim.Length/sim.nx\n",
    "fit_coeffs = np.polyfit(x[3*sim.nT//4:], y[3*sim.nT//4:], 1)\n",
    "fit_line = np.polyval(fit_coeffs, x)\n",
    "\n",
    "# Plot data and linear fit\n",
    "fig,ax = plt.subplots(figsize = (1.6*cm,1.2*cm))\n",
    "ax.plot(x, y)\n",
    "ax.plot(x, fit_line, 'r--')\n",
    "ax.set_xlabel('t (h)')\n",
    "# ax.set_ylabel('x ($mm$)')\n",
    "ax.set_ylim(0,50)\n",
    "ax.set_yticklabels([])\n",
    "plt.savefig(os.path.join(path_figure,f'FigureD2.pdf'), transparent=True, bbox_inches='tight')\n"
   ]
  },
  {
   "cell_type": "code",
   "execution_count": 29,
   "id": "b8f7e83f-d8b5-473d-9378-9bc8cac76dbd",
   "metadata": {
    "tags": []
   },
   "outputs": [
    {
     "data": {
      "text/plain": [
       "array([0.27262834, 5.8121188 ])"
      ]
     },
     "execution_count": 29,
     "metadata": {},
     "output_type": "execute_result"
    }
   ],
   "source": [
    "fit_coeffs"
   ]
  },
  {
   "cell_type": "code",
   "execution_count": 30,
   "id": "db0cae0e-0441-4d16-809b-e9e2a7bb0307",
   "metadata": {},
   "outputs": [
    {
     "ename": "NameError",
     "evalue": "name 'gzegzrb' is not defined",
     "output_type": "error",
     "traceback": [
      "\u001b[0;31m---------------------------------------------------------------------------\u001b[0m",
      "\u001b[0;31mNameError\u001b[0m                                 Traceback (most recent call last)",
      "Cell \u001b[0;32mIn[30], line 1\u001b[0m\n\u001b[0;32m----> 1\u001b[0m \u001b[43mgzegzrb\u001b[49m\n",
      "\u001b[0;31mNameError\u001b[0m: name 'gzegzrb' is not defined"
     ]
    }
   ],
   "source": [
    "gzegzrb"
   ]
  },
  {
   "cell_type": "code",
   "execution_count": null,
   "id": "614c37d8-7bc9-4a7e-bc00-c3b3e166853e",
   "metadata": {
    "tags": []
   },
   "outputs": [],
   "source": [
    "T = 300\n",
    "nT = 1200\n",
    "def get_rhosat(speed,C0=10,Pprice_ideal = 1/15):\n",
    "    sim = Simulation(speed = speed,C0=C0,T = T,nT=nT,Pprice_ideal = Pprice_ideal,Fmax = Vmax,adaptation_rate = 3e-4,drag = 0)\n",
    "    C_xt, rho_xt, n_xt,P_prices,_ = sim.integrate(plot=False)\n",
    "    rho_sat = np.median([rho for rho in rho_xt[-1] if rho>0.1])\n",
    "    poss = np.argmax(n_xt,axis=1)\n",
    "    x = np.linspace(0,sim.T,sim.nT)\n",
    "    y = np.array(poss)*sim.Length/sim.nx\n",
    "    fit_coeffs = np.polyfit(x[3*sim.nT//4:], y[3*sim.nT//4:], 1)\n",
    "    return(rho_sat,fit_coeffs[0])"
   ]
  },
  {
   "cell_type": "code",
   "execution_count": null,
   "id": "fc3ebd8e-d67b-47fb-ba6d-6dea3a4893b5",
   "metadata": {
    "tags": []
   },
   "outputs": [],
   "source": [
    "# plt.close('all')\n",
    "# speeds = np.linspace(0.16,0.26,3)\n",
    "# C0=0.05\n",
    "# Pprice_ideal = 1.5\n",
    "# rho_sats_speeds = [get_rhosat(speed,C0=C0,Pprice_ideal = Pprice_ideal) for speed in speeds]\n",
    "# speeds_observed = [speed for _,speed in rho_sats_speeds]\n",
    "# rho_sats = [rho for rho,_ in rho_sats_speeds]\n",
    "\n",
    "# import pandas as pd\n",
    "# import seaborn as sns\n",
    "# df = pd.read_csv(\"expexptradeoff.csv\")\n",
    "# df['instant_L_dens']=df['instant_L_dens']/1000\n",
    "# n_colors = len(df['strain'].unique())\n",
    "\n",
    "# palette = sns.color_palette(\"rainbow\", n_colors)\n",
    "# strain_to_color = dict(zip(df['strain'].unique(), palette))\n"
   ]
  },
  {
   "cell_type": "code",
   "execution_count": null,
   "id": "706c9f93-f22e-44e6-91ad-2be578c6c429",
   "metadata": {
    "tags": []
   },
   "outputs": [],
   "source": [
    "plt.style.use('presentation.mplstyle')\n",
    "cm = 1/2.54  # centimeters in inches\n",
    "\n",
    "fig,ax = plt.subplots(figsize = (6*cm,4*cm))\n",
    "# fig,ax = plt.subplots()\n",
    "\n",
    "ax.plot(np.array(speeds)*1000,rho_sats,color=\"black\")\n",
    "# sns.scatterplot(data = df,x='hull_speed',y='instant_L_dens',hue='strain',s=50,palette=strain_to_color)\n",
    "# ax.set_xscale(\"log\")\n",
    "# ax.set_yscale(\"log\")\n",
    "ax.set_xlabel('$v_{wave}$ (um/h)')\n",
    "ax.set_ylabel('$d_{L}$ \\n ($mm/mm^2$)')\n",
    "# plt.tight_layout()\n",
    "plt.legend().remove()\n",
    "\n",
    "plt.savefig(os.path.join(path_figure,'FigureModel.pdf'), transparent=True, bbox_inches='tight')\n"
   ]
  }
 ],
 "metadata": {
  "kernelspec": {
   "display_name": "Python 3 (ipykernel)",
   "language": "python",
   "name": "python3"
  },
  "language_info": {
   "codemirror_mode": {
    "name": "ipython",
    "version": 3
   },
   "file_extension": ".py",
   "mimetype": "text/x-python",
   "name": "python",
   "nbconvert_exporter": "python",
   "pygments_lexer": "ipython3",
   "version": "3.9.2"
  }
 },
 "nbformat": 4,
 "nbformat_minor": 5
}
