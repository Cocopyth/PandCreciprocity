{
 "cells": [
  {
   "cell_type": "code",
   "execution_count": 1,
   "id": "c0cea6e4-a16d-48df-8d2c-983c960b78f4",
   "metadata": {
    "tags": []
   },
   "outputs": [
    {
     "data": {
      "text/plain": [
       "(3.6, 0.0032500000000000003, 0.0035)"
      ]
     },
     "execution_count": 1,
     "metadata": {},
     "output_type": "execute_result"
    }
   ],
   "source": [
    "Vmax = 3.25e-9 #ugP/um2/hour\n",
    "Vmax = Vmax*1e6 #ugP.mm-2.hour-1\n",
    "DP = 1e-5 #cm**2-s-1, diffusion coefficient of small ions in water\n",
    "DP = DP*1e2*3600 #mm**2-h-1, diffusion coefficient of small ions in water\n",
    "C0 = 3.5 #ug/mL=ug/cm**-3\n",
    "C0 = 3.5*1e-3 #ug/mm**-3\n",
    "\n",
    "DP,Vmax,C0"
   ]
  },
  {
   "cell_type": "code",
   "execution_count": 2,
   "id": "9ac4c9da-9cbe-423a-a10c-39cf976c9f4e",
   "metadata": {
    "tags": []
   },
   "outputs": [
    {
     "data": {
      "text/plain": [
       "0.5"
      ]
     },
     "execution_count": 2,
     "metadata": {},
     "output_type": "execute_result"
    }
   ],
   "source": [
    "C0 = 500 #mg.L-1\n",
    "C0 = 500*1e3 #ug.L-1\n",
    "C0 = C0 * 1e-3 #ug.cm-3\n",
    "C0 = C0 *1e-3 #ug.mm-3\n",
    "C0"
   ]
  },
  {
   "cell_type": "code",
   "execution_count": 3,
   "id": "8fdbed0f-b80f-4c6d-bb04-328353da372d",
   "metadata": {
    "tags": []
   },
   "outputs": [],
   "source": [
    "def signed_sqrt(x,alpha = 1/2):\n",
    "    \"\"\"Return the signed square root of a number.\"\"\"\n",
    "    if x >= 0:\n",
    "        return x**alpha\n",
    "    else:\n",
    "        return -(-x)**alpha"
   ]
  },
  {
   "cell_type": "code",
   "execution_count": 4,
   "id": "9fb56d66-80a2-4548-8d6b-4a2369eb6564",
   "metadata": {
    "tags": []
   },
   "outputs": [
    {
     "name": "stdout",
     "output_type": "stream",
     "text": [
      "['/home/cocopyth/PandC', '/usr/lib/python39.zip', '/usr/lib/python3.9', '/usr/lib/python3.9/lib-dynload', '', '/home/cocopyth/.local/lib/python3.9/site-packages', '/usr/local/lib/python3.9/dist-packages', '/usr/lib/python3/dist-packages', '/usr/lib/petsc/lib/python3/dist-packages', '/usr/lib/mshr/python3/dist-packages', '/usr/lib/slepc/lib/python3/dist-packages', '/home/cocopyth/miniconda3/lib/python3.9/site-packages']\n"
     ]
    }
   ],
   "source": [
    "import sys\n",
    "sys.path.append('/home/cocopyth/miniconda3/lib/python3.9/site-packages')\n",
    "print(sys.path)\n"
   ]
  },
  {
   "cell_type": "code",
   "execution_count": 5,
   "id": "4aaec90a-7d42-4b63-9dba-e1367ac270c8",
   "metadata": {
    "tags": []
   },
   "outputs": [],
   "source": [
    "# !pip install tqdm\n",
    "from tqdm.notebook import tqdm  # Import tqdm\n",
    "import matplotlib.pyplot as plt\n",
    "path_figure = r\"/mnt/c/Users/coren/Documents/PhD/paper/PandC/Fig5\"\n",
    "plt.style.use('presentation.mplstyle')\n"
   ]
  },
  {
   "cell_type": "code",
   "execution_count": 7,
   "id": "04857000-8fff-429e-ae97-cb9dcdab7b02",
   "metadata": {
    "tags": []
   },
   "outputs": [
    {
     "name": "stderr",
     "output_type": "stream",
     "text": [
      "/tmp/ipykernel_65/2633464800.py:11: MatplotlibDeprecationWarning: The get_cmap function was deprecated in Matplotlib 3.7 and will be removed two minor releases later. Use ``matplotlib.colormaps[name]`` or ``matplotlib.colormaps.get_cmap(obj)`` instead.\n",
      "  cmap3 = mpl.cm.get_cmap(\"autumn\")\n",
      "/tmp/ipykernel_65/2633464800.py:12: MatplotlibDeprecationWarning: The get_cmap function was deprecated in Matplotlib 3.7 and will be removed two minor releases later. Use ``matplotlib.colormaps[name]`` or ``matplotlib.colormaps.get_cmap(obj)`` instead.\n",
      "  cmap4 = mpl.cm.get_cmap(\"summer\")\n",
      "/tmp/ipykernel_65/2633464800.py:168: MatplotlibDeprecationWarning: The get_cmap function was deprecated in Matplotlib 3.7 and will be removed two minor releases later. Use ``matplotlib.colormaps[name]`` or ``matplotlib.colormaps.get_cmap(obj)`` instead.\n",
      "  cmap = mpl.cm.get_cmap(\"winter\")\n",
      "/tmp/ipykernel_65/2633464800.py:169: MatplotlibDeprecationWarning: The get_cmap function was deprecated in Matplotlib 3.7 and will be removed two minor releases later. Use ``matplotlib.colormaps[name]`` or ``matplotlib.colormaps.get_cmap(obj)`` instead.\n",
      "  cmap2 = mpl.cm.get_cmap(\"spring\")\n"
     ]
    },
    {
     "data": {
      "application/vnd.jupyter.widget-view+json": {
       "model_id": "e9ba4bc562dd4725b78e7b54810c83d0",
       "version_major": 2,
       "version_minor": 0
      },
      "text/plain": [
       "Simulating:   0%|          | 0/1200 [00:00<?, ?it/s]"
      ]
     },
     "metadata": {},
     "output_type": "display_data"
    },
    {
     "data": {
      "application/vnd.jupyter.widget-view+json": {
       "model_id": "0b9560b63ceb4c729d465385874f4927",
       "version_major": 2,
       "version_minor": 0
      },
      "image/png": "[encoded data removed]",
      "text/html": [
       "\n",
       "            <div style=\"display: inline-block;\">\n",
       "                <div class=\"jupyter-widgets widget-label\" style=\"text-align: center;\">\n",
       "                    Figure\n",
       "                </div>\n",
       "                <img src='data:image/png;base64,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' width=118.11023622047243/>\n",
       "            </div>\n",
       "        "
      ],
      "text/plain": [
       "Canvas(toolbar=Toolbar(toolitems=[('Home', 'Reset original view', 'home', 'home'), ('Back', 'Back to previous …"
      ]
     },
     "metadata": {},
     "output_type": "display_data"
    }
   ],
   "source": [
    "cm = 1/2.54  # centimeters in inches\n",
    "%matplotlib widget\n",
    "from dolfin import *\n",
    "import numpy as np\n",
    "import matplotlib as mpl\n",
    "import os\n",
    "Length = 140*0.8\n",
    "nx = 350*15//10\n",
    "plt.close(\"all\")\n",
    "set_log_active(False)\n",
    "cmap3 = mpl.cm.get_cmap(\"autumn\")\n",
    "cmap4 = mpl.cm.get_cmap(\"summer\")\n",
    "\n",
    "class Simulation:\n",
    "    \"\"\"\n",
    "    A class for simulating a finite element problem using the FEniCS framework.\n",
    "\n",
    "    Attributes:\n",
    "    -----------\n",
    "    Length: float\n",
    "        Length of the interval domain.\n",
    "    nx: int\n",
    "        Number of subdivisions in the mesh.\n",
    "    nT: int\n",
    "        Number of time steps.\n",
    "    T: float\n",
    "        Total simulation time.\n",
    "    C0: float\n",
    "        Initial concentration value.\n",
    "    Fmax: float\n",
    "        Maximum flux value.\n",
    "    Pprice_ideal: float\n",
    "        Ideal price value.\n",
    "    width: float\n",
    "        Width of the plot.\n",
    "    height: float\n",
    "        Height of the plot.\n",
    "    \"\"\"\n",
    "    def __init__(self, Length=Length, nx=nx, nT=200, T=400, C0=10, Fmax=2, Pprice_ideal=20, width=3*cm, height=7*cm,speed = 0.230,adaptation_rate = 1e-4,drag = 0):\n",
    "        self.Length = Length\n",
    "        self.nx = nx\n",
    "        self.dx = Length/nx\n",
    "        self.nT = nT\n",
    "        self.T = T\n",
    "        self.dt = T/nT\n",
    "        self.C0 = C0 #ug.mm-3\n",
    "        self.Fmax = Fmax\n",
    "        self.Pprice_ideal = Pprice_ideal\n",
    "        self.width = width\n",
    "        self.height = height\n",
    "        self.speed = speed\n",
    "        self.adaptation_rate = adaptation_rate\n",
    "        self.speed_penalty = drag\n",
    "        self._setup_simulation()\n",
    "        self.r0 = 3e-3\n",
    "\n",
    "    def _setup_simulation(self):\n",
    "        # Set up the simulation: define mesh, function spaces, initial conditions, etc.\n",
    "        \"\"\"\n",
    "        Sets up the initial conditions and parameters for the simulation.\n",
    "        \"\"\"\n",
    "        # Create mesh and define function space\n",
    "        self.mesh = IntervalMesh(self.nx, 1, self.Length)\n",
    "        P1 = FiniteElement('P', interval, 1)\n",
    "        element = MixedElement([P1, P1, P1])\n",
    "        self.V = FunctionSpace(self.mesh, element)\n",
    "\n",
    "        # Define initial conditions\n",
    "        u0 = Expression(('1.5*exp(-1*pow(abs(x[0]-7),2))', \n",
    "                         f'(1-exp(-3*(x[0]-1)))*{self.C0}', '0*exp(-0.01*pow(abs(x[0]),2))'), degree=1)\n",
    "        rexp = Expression(('1/x[0]', '0', '0'), degree=1)\n",
    "        self.r = interpolate(rexp, self.V)\n",
    "        self.invr, _, _ = split(self.r)\n",
    "        self.u_n = interpolate(u0, self.V)\n",
    "\n",
    "        # Splitting functions for later use\n",
    "        self.u = Function(self.V)\n",
    "        self.n, self.C, self.rho = split(self.u)   #mm-3,ug.mm-3,mm2.mm-3\n",
    "        self.n_n, self.C_n, self.rho_n = split(self.u_n)\n",
    "        self.v_1, self.v_0, self.v_2 = TestFunctions(self.V)\n",
    "\n",
    "        # Set parameters and constants\n",
    "        self.dt = self.T / self.nT\n",
    "        self.alphval = 0.02 #.h-1\n",
    "        self.alphval0 = self.alphval\n",
    "        self.betaval = 0.005 #mm.h-1 length coefficient\n",
    "        # self.betaval = 0.022/(2.5e-3) #mm.h-1 SA coefficient\n",
    "        \n",
    "        self.beta = Constant(self.betaval) #mm**4.h-1\n",
    "        self.D = 0.0008 #mm**2.h-1\n",
    "        self.D0 = self.D #mm**2.h-1\n",
    "        \n",
    "        self.D2 = Constant(0.36) #mm**2.h-1\n",
    "        self.n_mid = 0.5*(self.n_n + self.n)\n",
    "        self.v_sval = self.speed #mm.h-1\n",
    "        self.s_scal = self.speed #mm.h-1\n",
    "        self.v_s = Constant((self.v_sval,)) #mm.h-1\n",
    "        self.Vmax = self.Fmax #ug.mm**-2.h-1\n",
    "        self.Kp = 0.001 #ug.mm-3\n",
    "        # Boundary conditions\n",
    "        u_L = (Constant(0.0), Constant(0.0), Constant(0.0))\n",
    "        u_R = (Constant(0.0), Constant(self.C0), Constant(0.0))\n",
    "        bc_L = DirichletBC(self.V, u_L, 'near(x[0], 1.0)')\n",
    "        bc_R = DirichletBC(self.V, u_R, f'near(x[0], {self.Length})')\n",
    "        self.bcs = [bc_L, bc_R]\n",
    "\n",
    "    def _make_F(self, alphval,D):\n",
    "        # Define the variational problem F\n",
    "        alpha = Constant(alphval)\n",
    "        D = Constant(D)\n",
    "        # dn/dt\n",
    "        F = self.n*self.v_1*dx - self.n_n*self.v_1*dx \n",
    "        # D lapplacian(n)\n",
    "        F += D*dot(grad(self.n), grad(self.v_1))*self.dt*dx\n",
    "        # To account for cylindrical coordinates\n",
    "        F += self.invr*D*dot(grad(self.n), Constant((1,)))*self.v_1*self.dt*dx\n",
    "        \n",
    "        #v.grad(n)\n",
    "        F += self.dt*dot(grad(self.n_mid),self.v_s)*self.v_1*dx\n",
    "        # To account for cylindrical coordinates\n",
    "        F += self.invr*self.dt*self.n_mid*Constant(self.v_sval)*self.v_1*dx\n",
    "        \n",
    "        #alpha*n - beta * n * rho\n",
    "        F += self.beta*self.v_1*self.rho*(self.n)*self.dt*dx\n",
    "        F -= alpha*(self.n)*self.v_1*self.dt*dx\n",
    "        #d rho/dt = vn\n",
    "        F -= self.dt*self.s_scal*self.n*self.v_2*dx-(self.rho-self.rho_n)*self.v_2*dx\n",
    "\n",
    "\n",
    "        # dC/dt\n",
    "        F += self.C*self.v_0*dx - self.C_n*self.v_0*dx #ug.mm-3\n",
    "        # Vmax * rho * C/(C+Kp)\n",
    "        F += 2*np.pi*self.Vmax*(self.rho)*self.r0*(self.C/(self.Kp+self.C))*self.v_0*self.dt*dx #ug\n",
    "        # Diffusion \n",
    "        F += self.D2*dot(grad(self.C), grad(self.v_0))*self.dt*dx\n",
    "        # To account for cylindrical coordinates\n",
    "        F += self.invr*self.D2*dot(grad(self.C), Constant((1,)))*self.v_0*self.dt*dx\n",
    "\n",
    "        return F\n",
    "    def integrate(self, plot=False,remove_ylabels = False):\n",
    "        \"\"\"\n",
    "        Integrate the problem over time and optionally plot the results.\n",
    "        Returns arrays of C(x, t), rho(x, t), and n(x, t) over the simulation.\n",
    "\n",
    "        Parameters:\n",
    "        -----------\n",
    "        plot: bool\n",
    "            If True, plot the results using matplotlib.\n",
    "\n",
    "        Returns:\n",
    "        --------\n",
    "        C_xt: list of arrays\n",
    "            Concentration C as a function of position x and time t.\n",
    "        rho_xt: list of arrays\n",
    "            Density rho as a function of position x and time t.\n",
    "        n_xt: list of arrays\n",
    "            Quantity n as a function of position x and time t.\n",
    "        \"\"\"\n",
    "        # Initialize arrays to store C(x, t), rho(x, t), and n(x, t)\n",
    "        C_xt = []\n",
    "        rho_xt = []\n",
    "        n_xt = []\n",
    "        P_prices = []\n",
    "        alphavals = []\n",
    "        # Initialize matplotlib plots if needed\n",
    "        if plot:\n",
    "            fig, axs = plt.subplots(4, 1, figsize=(self.width, self.height))\n",
    "            cmap = mpl.cm.get_cmap(\"winter\")\n",
    "            cmap2 = mpl.cm.get_cmap(\"spring\")\n",
    "\n",
    "        # Time-stepping loop\n",
    "        V2 = FunctionSpace(self.mesh, 'P', 1)\n",
    "        X = np.linspace(1, self.Length, self.nx)\n",
    "        i=0\n",
    "        for t in tqdm(np.linspace(0, self.T, self.nT), desc=\"Simulating\"):\n",
    "            F = self._make_F(self.alphval,self.D)\n",
    "            solve(F == 0, self.u, self.bcs)\n",
    "            self.u_n.assign(self.u)\n",
    "            _n, _C, _rho = self.u.split()\n",
    "\n",
    "            # Interpolate and store the results\n",
    "            n_field = interpolate(_n, V2)\n",
    "            rho_field = interpolate(_rho, V2)\n",
    "            C_field = interpolate(_C, V2)\n",
    "            Ccost = np.sum([n_field(x)*x*self.dx*self.v_sval for x in X]) #mm.h-1.mm-1\n",
    "            Ccost *= np.pi*(self.r0)**2 #mm**3.mm-1.h-1\n",
    "            Ccost *= 1e-3  #mL.mm-1.h-1=dm**3.mm-1.h-1\n",
    "            \n",
    "            Ccost *= 0.5*0.3 #g.mm-1.h-1\n",
    "            Ccost *= 1e6 #ug.mm-1.h-1\n",
    "            Ccost *= 2 #respiration\n",
    "            Ccost *= (self.v_sval/0.15)**(self.speed_penalty)\n",
    "            Pacquisition = np.sum([self.Vmax*(C_field(x)/(C_field(x)+self.Kp))*rho_field(x)*x*self.dx for x in X]) #ug.h-1.mm-2\n",
    "            Pacquisition *= 2*self.r0*np.pi #ug.h-1.mm-1\n",
    "            Pacquisition += 0.05*np.exp(-t/100)\n",
    "            \n",
    "            Pprice = Ccost/Pacquisition\n",
    "            alphavals.append(self.alphval)\n",
    "            self.alphval = max(0.001,self.alphval + self.dt*self.adaptation_rate*signed_sqrt((self.Pprice_ideal-Pprice)/self.Pprice_ideal,alpha = 1))\n",
    "            # print(self.alphval)\n",
    "            self.D = self.D0*self.alphval0/self.alphval\n",
    "            # print(2*(np.sqrt(self.D*self.alphval)))\n",
    "            n_xt.append([n_field(x) for x in X])\n",
    "            rho_xt.append([rho_field(x) for x in X])\n",
    "            C_xt.append([C_field(x) for x in X])\n",
    "            P_prices.append(Pprice)\n",
    "            # print(Pprice,self.alphval)\n",
    "            if plot and i % (self.nT//5) == 0:\n",
    "                axs[1].plot(X, n_xt[-1], color=cmap2(t / self.T))\n",
    "                axs[0].plot(X, rho_xt[-1], color=cmap(t / self.T))\n",
    "                axs[2].plot(X, C_xt[-1], color=cmap3(t / self.T))\n",
    "                axs[3].plot(X, [C_xt[-1][i] * rho_xt[-1][i] for i in range(len(X))], color=cmap4(t / self.T))\n",
    "                # break\n",
    "            i+=1\n",
    "            \n",
    "\n",
    "        # Finalize plot settings if plotting\n",
    "        if plot:\n",
    "            axs[1].plot(X, n_xt[-1], color=cmap2(t / self.T))\n",
    "            axs[0].plot(X, rho_xt[-1], color=cmap(t / self.T))\n",
    "            satrho = np.median([rho for rho in rho_xt[-1] if rho>1e-10])\n",
    "            \n",
    "            # axs[0].hlines(satrho,np.min(X),np.max(X), color=\"red\")\n",
    "            \n",
    "            axs[2].plot(X, C_xt[-1], color=cmap3(t / self.T))\n",
    "            axs[3].plot(X, [C_xt[-1][i] * rho_xt[-1][i] for i in range(len(X))], color=cmap4(t / self.T))\n",
    "            axs[0].set_ylabel(r'$\\rho$'+ '\\n $(mm^{-2})$')\n",
    "            axs[0].set_xticklabels([])\n",
    "            axs[0].set_ylim(0,6)\n",
    "            \n",
    "            axs[1].set_ylabel('$n$ \\n $(mm^{-3})$')\n",
    "            axs[1].set_xticklabels([])\n",
    "            axs[1].set_ylim(0,3)\n",
    "            \n",
    "            axs[2].set_ylabel('$[P]$ \\n ($\\mu g/ mL$)')\n",
    "            axs[2].set_xticklabels([])\n",
    "            \n",
    "            axs[3].set_ylabel('$\\Phi_P$')\n",
    "            \n",
    "            axs[3].set_xlabel('position \\n ($mm$)')\n",
    "            axs[3].set_ylim(0,0.25)\n",
    "            if remove_ylabels:\n",
    "                for ax in axs:\n",
    "                    ax.set_ylabel('')\n",
    "                    ax.set_yticklabels([])\n",
    "                    \n",
    "            \n",
    "            plt.show()\n",
    "\n",
    "        return C_xt, rho_xt, n_xt,P_prices,alphavals\n",
    "        \n",
    "\n",
    "# Example usage:\n",
    "C0=0.01\n",
    "Pprice_ideal = 3\n",
    "speed = 0.17\n",
    "sim = Simulation(speed = speed,C0=C0,T = 300,nT=1200,Pprice_ideal = Pprice_ideal,Fmax = Vmax,adaptation_rate = 3e-4,drag = 0)\n",
    "C_xt, rho_xt, n_xt,P_prices,alphavals = sim.integrate(plot=True)\n"
   ]
  },
  {
   "cell_type": "code",
   "execution_count": 7,
   "id": "94e2df48-b7b7-482e-ac39-d1df495a314d",
   "metadata": {
    "tags": []
   },
   "outputs": [],
   "source": [
    "plt.savefig(os.path.join(path_figure,f'FigureA.pdf'), transparent=True, bbox_inches='tight')\n"
   ]
  },
  {
   "cell_type": "code",
   "execution_count": 8,
   "id": "583b2306-f30b-4787-85eb-e3bd72ddda64",
   "metadata": {
    "tags": []
   },
   "outputs": [],
   "source": [
    "C_xt, rho_xt, n_xt = np.array(C_xt),np.array(rho_xt),np.array(n_xt)\n",
    "X = np.linspace(1, sim.Length, sim.nx)\n",
    "Pacquisitions = np.sum(Vmax*(C_xt/(C_xt+sim.Kp))*rho_xt*X*sim.dx,axis=1) #ug.h-1.mm-1\n",
    "Pacquisitions *= 2*sim.r0*np.pi\n",
    "Ccost = np.sum(n_xt*X*sim.dx*sim.v_sval,axis=1) #mm.h-1.mm-1\n",
    "Ccost *= np.pi*(sim.r0)**2 #mm**3.mm-1.h-1\n",
    "Ccost *= 0.5*0.3 *1e-3 #g.mm-1.h-1\n",
    "Ccost *= 1e6 #ug.mm-1.h-1\n",
    "Ccost *= 2 #respiration\n",
    "Ccost *= (sim.v_sval/0.15)**(sim.speed_penalty)"
   ]
  },
  {
   "cell_type": "code",
   "execution_count": 9,
   "id": "9f96c429-c1a4-4a20-8edf-352e0abf7e95",
   "metadata": {
    "tags": []
   },
   "outputs": [
    {
     "data": {
      "application/vnd.jupyter.widget-view+json": {
       "model_id": "67ac609357a94138a21ae50ba3ff54b9",
       "version_major": 2,
       "version_minor": 0
      },
      "image/png": "[encoded data removed]",
      "text/html": [
       "\n",
       "            <div style=\"display: inline-block;\">\n",
       "                <div class=\"jupyter-widgets widget-label\" style=\"text-align: center;\">\n",
       "                    Figure\n",
       "                </div>\n",
       "                <img src='data:image/png;base64,iVBORw0KGgoAAAANSUhEUgAAAD4AAAAvCAYAAAC7S3l6AAAAOXRFWHRTb2Z0d2FyZQBNYXRwbG90bGliIHZlcnNpb24zLjcuMSwgaHR0cHM6Ly9tYXRwbG90bGliLm9yZy/bCgiHAAAACXBIWXMAAA9hAAAPYQGoP6dpAAAEz0lEQVR4nO2ae2xTZRiHn/WSNhoaATtw6cphbB1MuUQ2LmYZC5Js0RCMeIWxEYNBgTmSERT5oyNG1MVtEIFAwgLEZF4miRg2JLiAZPeg3AIIo7NrY7RlgqvATreun3/gZkq3ZujpRcqT9I9zvrfn/T1927Tp+RKEEII4RBXtANFCdebMmWhniApxO3FNqEW/34/dbker1aLX69HpdJHKpQherxdZlunv70eSJFSqf+YcUtxutzNlypSwB4wETqcTk8k0dBxSXKvVAtDe3o4kSTE5cY/HQ3JyMk6nE4PBELDm9Xrp7u4mIyODMWPGBKyFFNfr9QBIkoTRaFQ4sjLodDqsVitGo3HYwQyeS0hICDgfUnzwSbE46UF0Oh1lZWX3/DxVXl4eqampyieKcTQulyvaGaJC3H6PPxCPNx6IxxsPxOON2Be/eRPWrIFjxxS9bGyLHz8O06fDgQOg8A+t2BS/dQuKi2HhQjCb4fx5KChQtEXsiZ88CTNmQHU1bN+O+9ARlje4sGyu57uLvynWJnbEb9+G9eshNxeSkuDcOWrmLGbOh8dpsl2nb0CwtuZHxdrFhnhjI8ycCXv2QGUlnDhBSdsN3v36YkDZzmVPKtYyuuK9vVBaCjk5YDTC2bPUzFuCtPlbDp13B5TmTR3PooyJirUO+UdEWGlpgZUroasLysuxr3idxTsa+bM/uLQ4N4XS/GmKto/8xGUZNm6E7GwYO5bb7afIYza5VcHSj+jVnNiwQHFpiPTE29ruTLmzE9cmKwv6ZiHXdA1bWrooleJF6WGLEhlxrxfKyqC8HHdaBssLqujwTRr2/bZ01kQqXpkd9kjhFz91Cl9hEeLKFaqyC9gzdykDKnVQ2bMZj7KzcG7Y4wwSPnGvl2+eX80zRz7lUuJkNhRt47JRCiqL1ITvRnHxV3c34mn9gYq6KvKv/8K27GXsnvsCPnVgq035FlbnpindftQoIl60t5nvr95AO9DPuuYvWdvyBZeNEkuKKrmUmDJU97RlHNWvzVei5X/mX4s3dlyjoLp96Hiau5OKuirSuh3seOplds5/iX61lsnj9BwuWcDDuuj9ZBiOe05zy+tj/ntH8fj+vsCAjzWttRQ3f87V8ck8V1iJa/JUmtbnkGjQK51XMe5JfPX+Vo7+9PvQcfo1OxV1VUx1/8yueS/y+K5y6maZFQ8ZDkYtvvCjY3Te6ANA7R/gjdavKGn6jF8TTWja23grMzNsIcPBqMRzPjjKH+IhANKudfFx/TaecNlQv/M2k6xWiOGbiiOhslgsZGVlceHChRGLrst3pvxmay2HD5Qwnj7UrS2wdev/UhoAIYSora0VmZmZ4m56enoEIHJWVIrTj1mEL0El6vOXC9HbG1Qbqww69PT0BJxHCCH8fr+YMGGC6OjoCFh0u90CEC6VRlwdZxIl6z6JXOJRIsuysFqtQpblYddHEtfAnd0CZrMZh8MRcK9clmUAqtOz2ZtTyOn3l+LxeCL/tgyBx+Nhy5YtrFq1asStIADi7n2Mg69AVlaWaGhoCHhVbDabAO6Lh9PpDJ64EAKHw4HZHPgdLEkSNpvtvtjulZSUFLCmATh48CAmkyloS4hKpSIlJYX7EY3FYsFgMLBv375oZ4koCSLoUx8f/AV+fooZZflwLgAAAABJRU5ErkJggg==' width=62.99212598425197/>\n",
       "            </div>\n",
       "        "
      ],
      "text/plain": [
       "Canvas(toolbar=Toolbar(toolitems=[('Home', 'Reset original view', 'home', 'home'), ('Back', 'Back to previous …"
      ]
     },
     "metadata": {},
     "output_type": "display_data"
    }
   ],
   "source": [
    "cm = 1/2.54  # centimeters in inches\n",
    "\n",
    "fig,ax = plt.subplots(figsize = (1.6*cm,1.2*cm))\n",
    "ax.scatter(Pacquisitions,Ccost,s=0.11)\n",
    "ax.plot(Pacquisitions,Pacquisitions*Pprice_ideal,color=\"red\")\n",
    "ax.set_ylabel('$\\Phi_C$ \\n ($\\mu g/h/mm$)')\n",
    "ax.set_xlabel('$\\Phi_P$ \\n($\\mu g/h/mm$)')\n",
    "ax.set_ylabel('$\\Phi_C$')\n",
    "ax.set_xlabel('$\\Phi_P$')\n",
    "ax.set_xlim(0,0.6)\n",
    "ax.set_ylim(0,1)\n",
    "\n",
    "plt.savefig(os.path.join(path_figure,f'FigureB.pdf'), transparent=True, bbox_inches='tight')\n"
   ]
  },
  {
   "cell_type": "code",
   "execution_count": 10,
   "id": "7107cfe6-1bb9-4497-9024-a20c0f330108",
   "metadata": {
    "tags": []
   },
   "outputs": [
    {
     "data": {
      "application/vnd.jupyter.widget-view+json": {
       "model_id": "c950d37460194c05885e734905ed7675",
       "version_major": 2,
       "version_minor": 0
      },
      "image/png": "[encoded data removed]",
      "text/html": [
       "\n",
       "            <div style=\"display: inline-block;\">\n",
       "                <div class=\"jupyter-widgets widget-label\" style=\"text-align: center;\">\n",
       "                    Figure\n",
       "                </div>\n",
       "                <img src='data:image/png;base64,iVBORw0KGgoAAAANSUhEUgAAAD4AAAAvCAYAAAC7S3l6AAAAOXRFWHRTb2Z0d2FyZQBNYXRwbG90bGliIHZlcnNpb24zLjcuMSwgaHR0cHM6Ly9tYXRwbG90bGliLm9yZy/bCgiHAAAACXBIWXMAAA9hAAAPYQGoP6dpAAAE6ElEQVR4nO2ae0xbVRzHv720KwVK6aA4mra8soCdhQy2LpuZwT/I8EFihCluiUoIgsbEP8wyMxNLYiTZ/lsQ1qBZNDFBQJ0uhA2TqVsWILjNMh7CYuVxWVl5395Be3fbHv8wSHi0tKU8pP0k/ev8zjnf7zn33PM7p1dACCEIQajtFrBdhI2HGkJvhW63GxaLBVKpFAKBYKs0BRVCCFiWhVKpBEVRywo8QtM0AbArfjRNL/PmdcalUikAoL+/H1qtFjRNIzY21o/x3jxsNhvUavW6mhbjFr0s4tX44uOdkJAAg8EAhUIBsVgcBNkbRywW+6Vp5VIVeNvHbTYbZDIZGIbZMTPtL548hN/qgXB3ZBbNd2gMWllECiOgT92LU0c0eCo2Mlj6No2AZtz+xIUzzd0outSOdvM0UhOiIZOIcPn2EI5f+BXGm2a43Ds7E/Z7xhk7j7Kvfkf/uA3ni3Q4masGRf374rA5eNT+8hfOXx9Ah3katadzECPe0EO1eWRnZ5OFhYU193GGYQgAwjAMIYQQjneR14ztJKuqjdwbmfG4/996MEGe+eQ6efHiLWJl7N5ShU1npYdFKJPJBIlE4tMgGa724t7oLL586xAOauQe447vV6Cp8iimHnMoNnZgZHo+OLMURHxe4y33LWjoovHZKzocTtm7bvzTSbH4/t1jEFICFF1qR+9DZkNCfcXBu/CT6SHevNwFxs57jKPq6urWbcxsmcLHV3rwki4JJw+pfBahkkehufIolHESlNR3osM87XNdfxl8xKLqah+OVN/AB9+awPEujM+wsNlsa1fQ6XSksbHR6/qQn3ifZJ79gcw85gJaZ6yDJ6e/6CT7z7WSaz2WgNpYC6fLTdp6x8kb9R0k+WwLyf30Z1Ld2k/MEywhhBCDwfBfrr5yjQuqq6uJxWJBTU3NqkFZzHruD/4NhzAah9MSA54RzunCh03daO0Zx5kTmXjnuTREUIGd+JgFHk13aHzdMYyxWTtyNHF4+9lUFBzYhz3CpdXLcRwmJyehVqtXZW7ClpYWlJWVee0oeV/8hlNWsTACF0sOQiWPwoW2Adz40wpD4QHoVDKf6rvdBJ1D0/ju7hiu9TyC0+1GYZYStadSkK2OW7tPsdijbmF+fj5KS0sD9eMXEZQAH72QieczFDh3pQeFn99GXoYCr+aocCw9HgkxS4cNQgisNg7dY3O4+WASvw1MwMI4kBIfhffy0vG6Xo1EaeAZ4rYdUpwuN340WfBN5whM9BwAICFmD2QSEZxugpn5J2AdTgBASnwU8jIS8XJWEnKT5X5dinjysG1plTCCQnGuCsW5KozNLuCP0TkMTc2DsfMQRVCQSURIV0RDq4yFSh4V/P6D3mIAqORRm2LOGyF7LA0bDzXCxkONsPFQI2w81AgbDzXCxkON0DVeXl4Onvd8DbtboaxWK+rr67dbx5ZDVVZWoqGhwWsQx3GoqqoCx3FbJGt9NqpJ0NfXRwoKCjA6OrqqkGEYxMXFoaurC3q9/n/3KQjHcZiamoJWq8Xc3BxksqUbXa9XTyzLAgD0ej0AQK1WB0t30PBVE8uyy40PDw9Do9GsGaxUKmE2myESiRAZGbljvn/xFY7j4HA4wPM8lErlsjKh0WhESUnJmhUpikJaWtpWaNxyKIVCgYqKiu3WseV4/UNhN/MPWqe5IOEKyl8AAAAASUVORK5CYII=' width=62.99212598425197/>\n",
       "            </div>\n",
       "        "
      ],
      "text/plain": [
       "Canvas(toolbar=Toolbar(toolitems=[('Home', 'Reset original view', 'home', 'home'), ('Back', 'Back to previous …"
      ]
     },
     "metadata": {},
     "output_type": "display_data"
    }
   ],
   "source": [
    "fig,ax = plt.subplots(figsize = (1.6*cm,1.2*cm))\n",
    "ts = np.linspace(1, sim.T, sim.nT)\n",
    "ax.plot(ts,np.array(alphavals)*24)\n",
    "ax.set_xlabel('t (h)')\n",
    "ax.set_ylabel(r'$\\alpha$'+ '\\n ($day^{-1}$)')\n",
    "ax.set_ylim(0,0.03*24)\n",
    "plt.savefig(os.path.join(path_figure,f'FigureC.pdf'), transparent=True, bbox_inches='tight')\n"
   ]
  },
  {
   "cell_type": "code",
   "execution_count": 11,
   "id": "bc78f7d3-a7c9-45af-9550-7e2d496fb947",
   "metadata": {
    "tags": []
   },
   "outputs": [
    {
     "data": {
      "application/vnd.jupyter.widget-view+json": {
       "model_id": "861025516d64443db88059c33530ac55",
       "version_major": 2,
       "version_minor": 0
      },
      "image/png": "[encoded data removed]",
      "text/html": [
       "\n",
       "            <div style=\"display: inline-block;\">\n",
       "                <div class=\"jupyter-widgets widget-label\" style=\"text-align: center;\">\n",
       "                    Figure\n",
       "                </div>\n",
       "                <img src='data:image/png;base64,iVBORw0KGgoAAAANSUhEUgAAAD4AAAAvCAYAAAC7S3l6AAAAOXRFWHRTb2Z0d2FyZQBNYXRwbG90bGliIHZlcnNpb24zLjcuMSwgaHR0cHM6Ly9tYXRwbG90bGliLm9yZy/bCgiHAAAACXBIWXMAAA9hAAAPYQGoP6dpAAAEcElEQVR4nO2abUxTVxjH/70WyyQUNsfYCiUdAVQUZwZ0M3Mzko25LVtk2eayxMlessxgTKaJSwyTEBdC5iRkZu4ly0hmgh+QzG+uIWxG0ChiiEhFx8sa7qK8FNZSaG9puf99MBCVtmApvYXyS/rpnPOc//85zz25N31UJIkoRFBagFIIZrNZaQ2KIBQXFyutQRHUoiiiu7sbGRkZMwZlWYbFYkFMTAxiY2Oh0WgUkBg8brcbkiTB4/HAYDBAEO55svPz89nY2EhfiKJIAEviJ4rifd7UgTIWHx8PAGhpaYHRaIQoitBqtQ+R84VjdHQUer0+oCa32w2r1Yrs7OxpL1Oo+/r6kJaW5nOhSqUCABgMBpSVlSEpKSliyl2j0cxJ09TYlJdpcnNzfZY5SdrtdgKg3W73OyfS8edBqKmpWbhjiWCEnJwcpTUoQvS+uSktQCmWjUcby8ajjWXj0caSNG691YOfTp2H5Jn0O2dJGe89ew6tW15HQvYaxFVXoXdo3P/kYF7wIwnvpMwGcz/rt39IAvz30SfZVFJK2x0rSf8eAn6PRzJjg8Mwlx9DnSsep5/YiLef2Qp94VZsKtmFlJUxswcIlM1IPHHx8jVeeuMDjq18hG5BzTPvlbDVMuJ3vj8Pi8K4LMu80D3E6v3VnISKw6sS2Pz+57zd2TPr2kVZ6tKYE+1Hf4S5tRPlOTuw7vE1yD9UiU0H9+CFhPjZAwQimGwtNINdFl7YtZfWuEQS4OXcbfzzRj9lWX7oWIui1NtFGw/9co5OtYbjMRpe3L6Tvc1X5xUzYktd9k6i7YeTcP1Wi93b9iIpMQ5bSr/F5k/exebU5IXbOJhshQLbwAib9x2muDqFBNhpWE+T6QonvJMh3SdiSr1n0MGvzlxnW8paelQCW58vZOfvppDFfxBFS52yjI7Tf8B1tAqlG4swkJaJzAOH8dQrucjdkBUOCT5EBZGtuSI5Xbx45Dhvpq0lAfYl6dnwfS2dbm9Q8YIhrKU+YHfxmOkmf31xJwnw+noj23+upewNn+EpFrzUSeLWXy0YqfgGphXJqHvuLXy8+1OIX+/HhpeModomdASTrXuZ8HjZdPwkr64zkgCt8Y+x6cAR2pwTITmx+RLyUh9ySKxu+Jt7iitJgL36LF6r+I5elxRa5fMkZKVuvnIDtyuqIHV148SOL1H02quwFD2Lp998GXjwH8lIJjMzk3l5eezo6PCbrTtDw2w+dZbnjYWcEFZwTLOKbe98xGG7M1wHFzQBS72uro55eXl+F31xwsSxmFj2r9ax42A5PSP/hUV0KAhoXJZlJicns6ury+eiS+Z/WPnZPkrj4+FTPAuSJLGsrIySFPhO8WdcRd5t8DMajaisrERBQcH0Y2C325GYmLgkWkFsNhsSEhKmxwJebg6HA8DdpACAXq8Ple6QMVdNDodjpnGS8NULo9Pp0NPTsyTavXQ63X1jagCor69HamrqjF43QRCQnp4ePqVhRJ2VlQWtVoto64WZvtyijf8BEFfMEmfFa84AAAAASUVORK5CYII=' width=62.99212598425197/>\n",
       "            </div>\n",
       "        "
      ],
      "text/plain": [
       "Canvas(toolbar=Toolbar(toolitems=[('Home', 'Reset original view', 'home', 'home'), ('Back', 'Back to previous …"
      ]
     },
     "metadata": {},
     "output_type": "display_data"
    }
   ],
   "source": [
    "poss = np.argmax(n_xt,axis=1)\n",
    "x = np.linspace(0,sim.T,sim.nT)\n",
    "y = np.array(poss)*sim.Length/sim.nx\n",
    "fit_coeffs = np.polyfit(x[3*sim.nT//4:], y[3*sim.nT//4:], 1)\n",
    "fit_line = np.polyval(fit_coeffs, x)\n",
    "\n",
    "# Plot data and linear fit\n",
    "fig,ax = plt.subplots(figsize = (1.6*cm,1.2*cm))\n",
    "ax.plot(x, y)\n",
    "ax.plot(x, fit_line, 'r--')\n",
    "ax.set_xlabel('t (h)')\n",
    "ax.set_ylabel('x \\n ($mm$)')\n",
    "ax.set_ylim(0,100)\n",
    "plt.savefig(os.path.join(path_figure,f'FigureD.pdf'), transparent=True, bbox_inches='tight')\n"
   ]
  },
  {
   "cell_type": "code",
   "execution_count": 12,
   "id": "afd2e903-5332-4979-aac4-392202b378d2",
   "metadata": {
    "tags": []
   },
   "outputs": [
    {
     "name": "stderr",
     "output_type": "stream",
     "text": [
      "/tmp/ipykernel_1417/3749905922.py:168: MatplotlibDeprecationWarning: The get_cmap function was deprecated in Matplotlib 3.7 and will be removed two minor releases later. Use ``matplotlib.colormaps[name]`` or ``matplotlib.colormaps.get_cmap(obj)`` instead.\n",
      "  cmap = mpl.cm.get_cmap(\"winter\")\n",
      "/tmp/ipykernel_1417/3749905922.py:169: MatplotlibDeprecationWarning: The get_cmap function was deprecated in Matplotlib 3.7 and will be removed two minor releases later. Use ``matplotlib.colormaps[name]`` or ``matplotlib.colormaps.get_cmap(obj)`` instead.\n",
      "  cmap2 = mpl.cm.get_cmap(\"spring\")\n"
     ]
    },
    {
     "data": {
      "application/vnd.jupyter.widget-view+json": {
       "model_id": "3f3aa3e8f4a44a498036e0a2e4a419c4",
       "version_major": 2,
       "version_minor": 0
      },
      "text/plain": [
       "Simulating:   0%|          | 0/1200 [00:00<?, ?it/s]"
      ]
     },
     "metadata": {},
     "output_type": "display_data"
    },
    {
     "data": {
      "application/vnd.jupyter.widget-view+json": {
       "model_id": "4fa44df351d04a44910e714cfe5836f0",
       "version_major": 2,
       "version_minor": 0
      },
      "image/png": "[encoded data removed]",
      "text/html": [
       "\n",
       "            <div style=\"display: inline-block;\">\n",
       "                <div class=\"jupyter-widgets widget-label\" style=\"text-align: center;\">\n",
       "                    Figure\n",
       "                </div>\n",
       "                <img src='data:image/png;base64,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' width=118.11023622047243/>\n",
       "            </div>\n",
       "        "
      ],
      "text/plain": [
       "Canvas(toolbar=Toolbar(toolitems=[('Home', 'Reset original view', 'home', 'home'), ('Back', 'Back to previous …"
      ]
     },
     "metadata": {},
     "output_type": "display_data"
    }
   ],
   "source": [
    "C0=0.05\n",
    "Pprice_ideal = 1.5\n",
    "speed = 0.26\n",
    "sim = Simulation(speed = speed,C0=C0,T = 300,nT=1200,Pprice_ideal = Pprice_ideal,Fmax = Vmax,adaptation_rate = 3e-4,drag = 0)\n",
    "C_xt, rho_xt, n_xt,P_prices,alphavals = sim.integrate(plot=True,remove_ylabels = True)"
   ]
  },
  {
   "cell_type": "code",
   "execution_count": 13,
   "id": "8fcaaeed-edc1-499d-ac84-96ea200af802",
   "metadata": {
    "tags": []
   },
   "outputs": [],
   "source": [
    "\n",
    "plt.savefig(os.path.join(path_figure,f'FigureA2.pdf'), transparent=True, bbox_inches='tight')\n"
   ]
  },
  {
   "cell_type": "code",
   "execution_count": 14,
   "id": "c976bd22-27b0-4b09-8657-a0ba4857c2ed",
   "metadata": {
    "tags": []
   },
   "outputs": [],
   "source": [
    "C_xt, rho_xt, n_xt = np.array(C_xt),np.array(rho_xt),np.array(n_xt)\n",
    "X = np.linspace(1, sim.Length, sim.nx)\n",
    "Pacquisitions = np.sum(Vmax*(C_xt/(C_xt+sim.Kp))*rho_xt*X*sim.dx,axis=1) #ug.h-1.mm-1\n",
    "Pacquisitions *= 2*sim.r0*np.pi\n",
    "Ccost = np.sum(n_xt*X*sim.dx*sim.v_sval,axis=1) #mm.h-1.mm-1\n",
    "Ccost *= np.pi*(sim.r0)**2 #mm**3.mm-1.h-1\n",
    "Ccost *= 0.5*0.3 *1e-3 #g.mm-1.h-1\n",
    "Ccost *= 1e6 #ug.mm-1.h-1\n",
    "Ccost *= 2 #respiration\n",
    "Ccost *= (sim.v_sval/0.15)**(sim.speed_penalty)"
   ]
  },
  {
   "cell_type": "code",
   "execution_count": 15,
   "id": "4b38cb2c-dd7a-49e9-a3e7-bd1bb4127e31",
   "metadata": {
    "tags": []
   },
   "outputs": [
    {
     "data": {
      "application/vnd.jupyter.widget-view+json": {
       "model_id": "443a44ea60fa4cc68d8f1c8351d7e4bc",
       "version_major": 2,
       "version_minor": 0
      },
      "image/png": "[encoded data removed]",
      "text/html": [
       "\n",
       "            <div style=\"display: inline-block;\">\n",
       "                <div class=\"jupyter-widgets widget-label\" style=\"text-align: center;\">\n",
       "                    Figure\n",
       "                </div>\n",
       "                <img src='data:image/png;base64,iVBORw0KGgoAAAANSUhEUgAAAD4AAAAvCAYAAAC7S3l6AAAAOXRFWHRTb2Z0d2FyZQBNYXRwbG90bGliIHZlcnNpb24zLjcuMSwgaHR0cHM6Ly9tYXRwbG90bGliLm9yZy/bCgiHAAAACXBIWXMAAA9hAAAPYQGoP6dpAAAFQElEQVR4nO2aa0xTZxyHn7aWNiPAYlZnnGBlGLVKHNGBeJkucV/MjG7ephFEVCQoC4sm4rXJFnVLrMVbAvOSaFx0c7qYUVEDIRpCAUfiotMZwZRVkRUstIi0A3r24YgDKaVICwX3S5q0fW//5/zOeS/nfSWCIAi8gZIOdAADpf/B3zQN85TocrkwmUzI5XKUSiUKhaK/4vKJnE4nDoeDlpYW1Go1UmkHnwUPqqysFIAh8TGbzZ3YPDoul8sBKCsrQ61WB6Tjdrud8PBwzGYzoaGhndKcTid1dXVoNBpCQkI6pXkEVyqVAKjValQqlY9D9o0UCgVarRaVSuXWmPb/JBJJ5wRPt7rNZhMAwWazecoWuKqrE2xLl7pl8Oj4oNalS7BhAzidbpOH3nBWXw+JibBoEcTGQmmp22xDy/HcXEhJgeZmOHUKEhKgsdFt1qHheEMDJCXBggUQEwN37oiuv9qhddDgdzwvD9avF509eVK8AB6A2zV4HbfZYN06mD8fJk8WXV6zphN0k7OVbRduuS0+OB2/dg3WrhXhjx0Tv7/icu7vj9l09hYu53O3VQwucLsdtmwRYefNgxMnICKiU5b8uzWsO13eY1WDB7ygAJKTwWqF7Gyx9+7gctGDWhJOlOHtW5XAf8afPYO0NNHhqCi4fVucmLyALjdZmZBpYJUb6JjwMAo3z3FbbWA7XlgoumyxwNGjkJoKL5aWd6ttrPi+CJuja7HhwXLOrI1DMyoMu93uturABG9qgsxMOHIE5swRb/PISEAE/iKnCLubmWhwkIzTybFMVQ/vsYnAA79xQxyWnjyBQ4dg40aQSik3WVmZbcTdzFsmgZyEqczTjPS6mcABf/4ctm8XYWfOhKtXISqKcpOVFdlG/nFTRAIcXvEBn055r9fNBQZ4UZHo8qNHcOAApKeTe6eGTZmGbovolkSzeFpEt+k9aWDBm5th507Q6yE+HgwGcqol7NtxpdsifQVu18CBG43ivLqqCue+70gKicN48kG32fcu0rBy+lifNd//4A4H7N4NOh1PNVNYlpBFZX041HddPr5Op+Wt+he8tJTWxNW4Kh+i+yiR4x9+RptU1iVbqFLGuZR4NKPC/BZK/4A7nRQsS2Xur6f549332Zx0kIp3uj6nyfER7F4Y3S8h+RX860u3uXmxgP2X9cy2VqObvYqcuMVdXPZVh9Ub+Rz8cP59dPkVBLW2kF58jl9KznNvxFgWJGVxX6V+mS8hdjTffD7F1817LZ+ANzlbma8vpKpBnGZMqqlAZ9ATaX1M1qyVZMctoVU2jPC3FVxIm8WIUKUvmu2T+gTevthvl7ythU3FP7HR+CP3VWoWrj7AnyMiOZbon565L3otcFPdMz7ef73TMnCi5SE6g55xdX9xZMZygrU7yPtkko/C9L16Db76eDHXK+r/q6CtlbSS86QXn6N65Bjkv90kIybGp0H6Q70Cn7Enj+pG18vf42tN6Ax6JtaakG3fxphduyAoyOdB+kNeg2syDbS/tpO52kgt+ZmM4rPIJ4yH3BKYNs1PIfpHXoFP1l5FqngLgHG1Vey/nEW0pRLp1q2g1UIAbh/3JK8dl7naSCm7SEbRD7SpI5EajeLe1CCVV+Bjnz7iYH420TUVOL7MIPjbPaAc+LG4T/K0vWyxWARA+Fs6TKgYPlq4d/GKX7ezX0cOh0PQarWCw+Fwm97dHr9EELo/4Gc2m4mIiGDvxLk0frWNzOXT+88RL+XtUZCGhgbCwjqs9jxdzaF8+Mej40P5uJdH8KGswN9C8pPeWPB/ATk6UfqNdKqvAAAAAElFTkSuQmCC' width=62.99212598425197/>\n",
       "            </div>\n",
       "        "
      ],
      "text/plain": [
       "Canvas(toolbar=Toolbar(toolitems=[('Home', 'Reset original view', 'home', 'home'), ('Back', 'Back to previous …"
      ]
     },
     "metadata": {},
     "output_type": "display_data"
    }
   ],
   "source": [
    "cm = 1/2.54  # centimeters in inches\n",
    "\n",
    "fig,ax = plt.subplots(figsize = (1.6*cm,1.2*cm))\n",
    "ax.scatter(Pacquisitions,Ccost,s=0.11)\n",
    "ax.plot(Pacquisitions,Pacquisitions*Pprice_ideal,color=\"red\")\n",
    "ax.set_ylabel('$\\Phi_C$ \\n ($\\mu g/h/mm$)')\n",
    "ax.set_xlabel('$\\Phi_P$ \\n ($\\mu g/h/mm$)')\n",
    "ax.set_ylabel('')\n",
    "ax.set_xlabel('$\\Phi_P$')\n",
    "ax.set_xlim(0,0.6)\n",
    "ax.set_ylim(0,1)\n",
    "\n",
    "\n",
    "ax.set_yticklabels([])\n",
    "\n",
    "plt.savefig(os.path.join(path_figure,f'FigureB2.pdf'), transparent=True, bbox_inches='tight')\n"
   ]
  },
  {
   "cell_type": "code",
   "execution_count": 16,
   "id": "356c9f38-ac46-48b8-8cec-4984f1a14bd1",
   "metadata": {
    "tags": []
   },
   "outputs": [
    {
     "data": {
      "application/vnd.jupyter.widget-view+json": {
       "model_id": "9682756502844cf39f01ca8ae0d452e1",
       "version_major": 2,
       "version_minor": 0
      },
      "image/png": "[encoded data removed]",
      "text/html": [
       "\n",
       "            <div style=\"display: inline-block;\">\n",
       "                <div class=\"jupyter-widgets widget-label\" style=\"text-align: center;\">\n",
       "                    Figure\n",
       "                </div>\n",
       "                <img src='data:image/png;base64,iVBORw0KGgoAAAANSUhEUgAAAD4AAAAvCAYAAAC7S3l6AAAAOXRFWHRTb2Z0d2FyZQBNYXRwbG90bGliIHZlcnNpb24zLjcuMSwgaHR0cHM6Ly9tYXRwbG90bGliLm9yZy/bCgiHAAAACXBIWXMAAA9hAAAPYQGoP6dpAAAEKUlEQVR4nO2aX2zbRBzHv3H+E6XOumTtsqbNgsZYSFtQtTBNGggBgkqUf5uEmIYA8e+FN4TaByAVQlN54GlDE7CHCh4m/mgMqLRNQxusIKRMhUZrkkKbpa3brFtDGztsieXYx1MKHY1xWJyGOh/JT3f2/T6+8/l3p9MRQgg0CLXWAawVdXGtYZArlCQJqVQKdrsdOp2uWjFVFEIIstks3G43KIpaUVAShmEIgHVxMQyzwk22x+12OwAgFovB7/eDYRg0NDSU8b7Vg+M4eDyef42pWK/oUkRWvDi8nU4nQqEQXC4XzGZzBcK+ecxmc1kx3fip6uT+4xzHgaZpsCxbMz1dLqUcNDur18W1Rl28XARRQl4QKxlLVZH9nd0IIQTfxq/i6PAljEwvoSARbHFY8didbry0x4cNNpNacVYcxeLX+AL6jl/EN5EUglsb8eYjftjMBkSYDD7+aRqfXmAwsLcDD/qb1Iy3csilrCzLEgAkPpkkjx8eJne8dYp8NTr3j3pXuBx5YfAC8fYNkffPTRBJkuQeWzXy+fxy2s2y7IoyReIbHnqVbOs9QUZnlkrWFUWJvHd6nLT1DpGBk/GakA+FQsu5+n8S/zmeIKNTC4oa++h8grT1DpF3hqJrLi/X44q+8VvdTsUp64t7fDDqKYS+jkIQCUI9/qovaUeZDAZ/TOLgk+0l4y5rVlfKs7u90FM6vHFiDAVJwtuPBkBR6suHk4s4dHYCwxNp+Fw2zC7l0Gxdva4q4gBwYFcbjHod+o5fREEkOPhEuyryhBD8MJnGobOTCCcXcXuzHYf334XuwGboKR04jlv1PtXEAeCpna3QUxRe/yKCnCDi3b0dsBj1FXm2KBGcjs7jg+8TiMyy6Gih8eEzXXhgR5OiF6yqOADs62qBxUjhtc8iSKav4ciBLmxxlBh/CsgLIj4fmcXR4UuY/v06dvkaMfj8Ttx7m6usuaRq6/GxORavfDICNieg9+HteDrYCoNeecb863wWx8Iz+PKXOWTzAroDm/HyPT50ehyy95VyqOpGBJsTMHByHMfCM/A0WvHc7q3oDjTDvcoI4Asi4pezODd+FWdiVxC7zGGjzYR9XS3Yf3cr2jbaFLVZE+JFoikWR75L4NTY/HK+73XeAqvRAL4gYiHLI7HwBwSRwG4x4L7tm9AdaMb9O5pgMpS3rqop8SJsTsD53xYQTXFgFq8jJ4gw6Sk47SZs22RHewuNgJsuW/bvlHJQfXKTg7Ya0dPpRk+nu+pt1zcitEZdXGvUxbVGXVxr1MW1Rl1cDp7n0d/fD57n1Y5HMTcbk+zqjGVZOBwOhMNhBIPB/91REJ7nkU6n4ff7kclkQNP0X4Vy+9Lr+fCPbI9LkoSpqSkYjUZYLJaaOf+iFJ7nkc/nIQgCvF7viuNesuLrmfqsrjX+BO+vBrafrL/2AAAAAElFTkSuQmCC' width=62.99212598425197/>\n",
       "            </div>\n",
       "        "
      ],
      "text/plain": [
       "Canvas(toolbar=Toolbar(toolitems=[('Home', 'Reset original view', 'home', 'home'), ('Back', 'Back to previous …"
      ]
     },
     "metadata": {},
     "output_type": "display_data"
    }
   ],
   "source": [
    "fig,ax = plt.subplots(figsize = (1.6*cm,1.2*cm))\n",
    "ts = np.linspace(1, sim.T, sim.nT)\n",
    "ax.plot(ts,np.array(alphavals)*24)\n",
    "ax.set_xlabel('t (h)')\n",
    "# ax.set_ylabel(r'$\\alpha$ ($day^{-1}$)')\n",
    "ax.set_ylim(0,0.03*24)\n",
    "ax.set_yticklabels([])\n",
    "plt.savefig(os.path.join(path_figure,f'FigureC2.pdf'), transparent=True, bbox_inches='tight')\n"
   ]
  },
  {
   "cell_type": "code",
   "execution_count": 17,
   "id": "e88dd690-80de-4e69-b38f-417e8e91417c",
   "metadata": {
    "tags": []
   },
   "outputs": [
    {
     "data": {
      "application/vnd.jupyter.widget-view+json": {
       "model_id": "d655a0fc08e640bf90309b863c1ae9ff",
       "version_major": 2,
       "version_minor": 0
      },
      "image/png": "[encoded data removed]",
      "text/html": [
       "\n",
       "            <div style=\"display: inline-block;\">\n",
       "                <div class=\"jupyter-widgets widget-label\" style=\"text-align: center;\">\n",
       "                    Figure\n",
       "                </div>\n",
       "                <img src='data:image/png;base64,iVBORw0KGgoAAAANSUhEUgAAAD4AAAAvCAYAAAC7S3l6AAAAOXRFWHRTb2Z0d2FyZQBNYXRwbG90bGliIHZlcnNpb24zLjcuMSwgaHR0cHM6Ly9tYXRwbG90bGliLm9yZy/bCgiHAAAACXBIWXMAAA9hAAAPYQGoP6dpAAAEYklEQVR4nO2afUwbdRjHv62UlgxoFwY4sbMoE9YZQGUdysRF3cTNl8Sh0f2xiGhiMvfHzFyMJoO4EDOiJJLonCxZHP9BFsyCGdPV8bINx4tj6wYjQHm5OSi2yB0gd956j38s+EpPSq/tUfwk99fv5Xm+9zzP/X5399MQEWEZog23A+Hif+HLjSi5RkmSMDQ0BJ1OB4PBAL1eHyq/FEEQBPA8D1EUYbFYoNX+Jc4kA8MwBCAiLoZh/qZNNuJxcXEAgLa2NthsNjAMg/j4eD/uefDgOA5ms1nWJ0EQ4Ha7YbVa/9Ayh6xwjUYDALBYLCgpKUFiYqJq0l2v1y/Ip7m2OS1zaOTWcY7jYDQawbKsaiLtL740ROxT/fLIL7LtESd8YsyDjrxncLJoP7qYSZ/9Ikr4KccoCr5oh+Aax9Yns5FtNvnsK/twWyq4+4cwvPMNHF63HZlPbEJa5zkkG2NkxyzpiJMkobOsElGZmUjt7sB7G5NQtSvnP0XfHiwDy7IEgFiWlesWFly9g9SVtYkIoIuPFpB78Ma8/XxpWHIRJyLUdDDYcbQNBtcoOj49Btv5U0iwpPg1z5Kq8dEr1zFc/DbKc19DXt56JB24hvTYRW6o5NJJLanuFW9R676DNB0dQ6PGRLpY07Dgsb40qF74SLuDHPc/RARQ65ZCmhxz+zV+ydW4VyJUNTux50gj4ifGceWrE8j9thbG5ARF5lel8MFznbA/9gLK6x3IenYzEob7kbnrRWWNLCZNgoUwK1BL8T7i79DRyKq76VLTjwHPqfoa7/3uAvWaM+iWRkutO4polp1SZF5fGsK+nPGiF5X2Ptw8XIe9v/Fwfn0auc8/FXS7Ya3x7vqzqN1WhC+bnVizuxirnT1YGwLRAMJT4zPcNDW/9CaJGi0NpKRRb9/8200lUE2Nd9U2kDNpDQnaKPrh9b0kzvKKzT0fYa9xjhdRVt+Dez45iq0xK+A6ex4b822hMv8vQiK8vfokTtc1of6BLXj/UBnuzU2FNloXCtO+WUyaLBTPmIcan36FvNDQ1YwcGvlZmSXKH0K6ZSUiXKiqwa/r1sNmr8Pldw7A6miFeVVsMMwtCsVT3cXx+KDuKl499DFmklNg+N6OB7OtSpsJGMWEExFaKqtR3fETutJzUHi8Gum5awGtKl8HlKlxZuAGNT2y7fZnoPznyDMtBFqaihGUddzrlejMR0doPHYlcYYVdO1gBZEkKee1AiguvM81RS9XNtLAyruo++F84voHFXVYKRTbwIheCfYPP0OFywDhvjR4Gs5gw4YM4B8/5VSPP3fr+qVeasl6nAigpp27aUYQgxYppQgo1cfGPfTN/nKaMMTRRKyJnJ8fU10t+yIg4e9W1NFUdAz1bN5O/M3RoDqqNAHt3AoLslHx1h6kNpyAfvWdwas7PxAEAaWlpRAEYVHjZQ8GsCwLk8kUEUdBJicnYTQa/2yUS5NIPvwjG/FIPu4lKzySUekbRPBZtsJ/B9DFrUl2hNfWAAAAAElFTkSuQmCC' width=62.99212598425197/>\n",
       "            </div>\n",
       "        "
      ],
      "text/plain": [
       "Canvas(toolbar=Toolbar(toolitems=[('Home', 'Reset original view', 'home', 'home'), ('Back', 'Back to previous …"
      ]
     },
     "metadata": {},
     "output_type": "display_data"
    }
   ],
   "source": [
    "poss = np.argmax(n_xt,axis=1)\n",
    "x = np.linspace(0,sim.T,sim.nT)\n",
    "y = np.array(poss)*sim.Length/sim.nx\n",
    "fit_coeffs = np.polyfit(x[3*sim.nT//4:], y[3*sim.nT//4:], 1)\n",
    "fit_line = np.polyval(fit_coeffs, x)\n",
    "\n",
    "# Plot data and linear fit\n",
    "fig,ax = plt.subplots(figsize = (1.6*cm,1.2*cm))\n",
    "ax.plot(x, y)\n",
    "ax.plot(x, fit_line, 'r--')\n",
    "ax.set_xlabel('t (h)')\n",
    "# ax.set_ylabel('x ($mm$)')\n",
    "ax.set_ylim(0,100)\n",
    "ax.set_yticklabels([])\n",
    "plt.savefig(os.path.join(path_figure,f'FigureD2.pdf'), transparent=True, bbox_inches='tight')\n"
   ]
  },
  {
   "cell_type": "code",
   "execution_count": 18,
   "id": "614c37d8-7bc9-4a7e-bc00-c3b3e166853e",
   "metadata": {
    "tags": []
   },
   "outputs": [],
   "source": [
    "T = 300\n",
    "nT = 1200\n",
    "def get_rhosat(speed,C0=10,Pprice_ideal = 1/15):\n",
    "    sim = Simulation(speed = speed,C0=C0,T = T,nT=nT,Pprice_ideal = Pprice_ideal,Fmax = Vmax,adaptation_rate = 3e-4,drag = 0)\n",
    "    C_xt, rho_xt, n_xt,P_prices,_ = sim.integrate(plot=False)\n",
    "    rho_sat = np.median([rho for rho in rho_xt[-1] if rho>0.1])\n",
    "    poss = np.argmax(n_xt,axis=1)\n",
    "    x = np.linspace(0,sim.T,sim.nT)\n",
    "    y = np.array(poss)*sim.Length/sim.nx\n",
    "    fit_coeffs = np.polyfit(x[3*sim.nT//4:], y[3*sim.nT//4:], 1)\n",
    "    return(rho_sat,fit_coeffs[0])"
   ]
  },
  {
   "cell_type": "code",
   "execution_count": 19,
   "id": "fc3ebd8e-d67b-47fb-ba6d-6dea3a4893b5",
   "metadata": {
    "tags": []
   },
   "outputs": [],
   "source": [
    "# plt.close('all')\n",
    "# speeds = np.linspace(0.16,0.26,3)\n",
    "# C0=0.05\n",
    "# Pprice_ideal = 1.5\n",
    "# rho_sats_speeds = [get_rhosat(speed,C0=C0,Pprice_ideal = Pprice_ideal) for speed in speeds]\n",
    "# speeds_observed = [speed for _,speed in rho_sats_speeds]\n",
    "# rho_sats = [rho for rho,_ in rho_sats_speeds]\n",
    "\n",
    "# import pandas as pd\n",
    "# import seaborn as sns\n",
    "# df = pd.read_csv(\"expexptradeoff.csv\")\n",
    "# df['instant_L_dens']=df['instant_L_dens']/1000\n",
    "# n_colors = len(df['strain'].unique())\n",
    "\n",
    "# palette = sns.color_palette(\"rainbow\", n_colors)\n",
    "# strain_to_color = dict(zip(df['strain'].unique(), palette))\n"
   ]
  },
  {
   "cell_type": "code",
   "execution_count": 20,
   "id": "706c9f93-f22e-44e6-91ad-2be578c6c429",
   "metadata": {
    "tags": []
   },
   "outputs": [
    {
     "ename": "NameError",
     "evalue": "name 'speeds' is not defined",
     "output_type": "error",
     "traceback": [
      "\u001b[0;31m---------------------------------------------------------------------------\u001b[0m",
      "\u001b[0;31mNameError\u001b[0m                                 Traceback (most recent call last)",
      "Cell \u001b[0;32mIn[20], line 7\u001b[0m\n\u001b[1;32m      4\u001b[0m fig,ax \u001b[38;5;241m=\u001b[39m plt\u001b[38;5;241m.\u001b[39msubplots(figsize \u001b[38;5;241m=\u001b[39m (\u001b[38;5;241m6\u001b[39m\u001b[38;5;241m*\u001b[39mcm,\u001b[38;5;241m4\u001b[39m\u001b[38;5;241m*\u001b[39mcm))\n\u001b[1;32m      5\u001b[0m \u001b[38;5;66;03m# fig,ax = plt.subplots()\u001b[39;00m\n\u001b[0;32m----> 7\u001b[0m ax\u001b[38;5;241m.\u001b[39mplot(np\u001b[38;5;241m.\u001b[39marray(\u001b[43mspeeds\u001b[49m)\u001b[38;5;241m*\u001b[39m\u001b[38;5;241m1000\u001b[39m,rho_sats,color\u001b[38;5;241m=\u001b[39m\u001b[38;5;124m\"\u001b[39m\u001b[38;5;124mblack\u001b[39m\u001b[38;5;124m\"\u001b[39m)\n\u001b[1;32m      8\u001b[0m \u001b[38;5;66;03m# sns.scatterplot(data = df,x='hull_speed',y='instant_L_dens',hue='strain',s=50,palette=strain_to_color)\u001b[39;00m\n\u001b[1;32m      9\u001b[0m \u001b[38;5;66;03m# ax.set_xscale(\"log\")\u001b[39;00m\n\u001b[1;32m     10\u001b[0m \u001b[38;5;66;03m# ax.set_yscale(\"log\")\u001b[39;00m\n\u001b[1;32m     11\u001b[0m ax\u001b[38;5;241m.\u001b[39mset_xlabel(\u001b[38;5;124m'\u001b[39m\u001b[38;5;124m$v_\u001b[39m\u001b[38;5;132;01m{wave}\u001b[39;00m\u001b[38;5;124m$ (um/h)\u001b[39m\u001b[38;5;124m'\u001b[39m)\n",
      "\u001b[0;31mNameError\u001b[0m: name 'speeds' is not defined"
     ]
    },
    {
     "data": {
      "application/vnd.jupyter.widget-view+json": {
       "model_id": "a4495a18091848938fc34bfa425dd8f2",
       "version_major": 2,
       "version_minor": 0
      },
      "image/png": "[encoded data removed]",
      "text/html": [
       "\n",
       "            <div style=\"display: inline-block;\">\n",
       "                <div class=\"jupyter-widgets widget-label\" style=\"text-align: center;\">\n",
       "                    Figure\n",
       "                </div>\n",
       "                <img src='data:image/png;base64,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' width=236.22047244094486/>\n",
       "            </div>\n",
       "        "
      ],
      "text/plain": [
       "Canvas(toolbar=Toolbar(toolitems=[('Home', 'Reset original view', 'home', 'home'), ('Back', 'Back to previous …"
      ]
     },
     "metadata": {},
     "output_type": "display_data"
    }
   ],
   "source": [
    "plt.style.use('presentation.mplstyle')\n",
    "cm = 1/2.54  # centimeters in inches\n",
    "\n",
    "fig,ax = plt.subplots(figsize = (6*cm,4*cm))\n",
    "# fig,ax = plt.subplots()\n",
    "\n",
    "ax.plot(np.array(speeds)*1000,rho_sats,color=\"black\")\n",
    "# sns.scatterplot(data = df,x='hull_speed',y='instant_L_dens',hue='strain',s=50,palette=strain_to_color)\n",
    "# ax.set_xscale(\"log\")\n",
    "# ax.set_yscale(\"log\")\n",
    "ax.set_xlabel('$v_{wave}$ (um/h)')\n",
    "ax.set_ylabel('$d_{L}$ \\n ($mm/mm^2$)')\n",
    "# plt.tight_layout()\n",
    "plt.legend().remove()\n",
    "\n",
    "plt.savefig(os.path.join(path_figure,'FigureModel.pdf'), transparent=True, bbox_inches='tight')\n"
   ]
  }
 ],
 "metadata": {
  "kernelspec": {
   "display_name": "Python 3 (ipykernel)",
   "language": "python",
   "name": "python3"
  },
  "language_info": {
   "codemirror_mode": {
    "name": "ipython",
    "version": 3
   },
   "file_extension": ".py",
   "mimetype": "text/x-python",
   "name": "python",
   "nbconvert_exporter": "python",
   "pygments_lexer": "ipython3",
   "version": "3.9.2"
  }
 },
 "nbformat": 4,
 "nbformat_minor": 5
}
