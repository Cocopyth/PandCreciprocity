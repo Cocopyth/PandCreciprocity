{
 "cells": [
  {
   "cell_type": "code",
   "execution_count": 1,
   "id": "c0cea6e4-a16d-48df-8d2c-983c960b78f4",
   "metadata": {
    "tags": []
   },
   "outputs": [
    {
     "data": {
      "text/plain": [
       "(3.6, 0.0032500000000000003, 0.0035)"
      ]
     },
     "execution_count": 1,
     "metadata": {},
     "output_type": "execute_result"
    }
   ],
   "source": [
    "Vmax = 3.25e-9 #ugP/um2/hour\n",
    "Vmax = Vmax*1e6 #ugP.mm-2.hour-1\n",
    "DP = 1e-5 #cm**2-s-1, diffusion coefficient of small ions in water\n",
    "DP = DP*1e2*3600 #mm**2-h-1, diffusion coefficient of small ions in water\n",
    "C0 = 3.5 #ug/mL=ug/cm**-3\n",
    "C0 = 3.5*1e-3 #ug/mm**-3\n",
    "\n",
    "DP,Vmax,C0"
   ]
  },
  {
   "cell_type": "markdown",
   "id": "e5d022ba-bab9-49a3-a6f0-8683dc42602f",
   "metadata": {},
   "source": [
    "r=5μm, K_m=10^(-4) μmol/cm^3, and V_max=3×10^(-6) μmol.cm-2/s-1."
   ]
  },
  {
   "cell_type": "code",
   "execution_count": 2,
   "id": "5222c4c8-933b-4778-8f2c-402e213171b2",
   "metadata": {
    "tags": []
   },
   "outputs": [
    {
     "data": {
      "text/plain": [
       "0.022320000000000003"
      ]
     },
     "execution_count": 2,
     "metadata": {},
     "output_type": "execute_result"
    }
   ],
   "source": [
    "Vmax = 2e-5 #umol.cm-2/s-1\n",
    "Vmax = Vmax*31 #ug.cm-2.s-1\n",
    "Vmax = Vmax * 3600 #ug.cm-2.h-1\n",
    "Vmax = Vmax *1e-2 #ug.mm-2.h-1\n",
    "r0 = 5e-3 #mm\n",
    "Vmax"
   ]
  },
  {
   "cell_type": "code",
   "execution_count": 3,
   "id": "d499db53-28f2-4e22-97d1-b6ffa8d84f6c",
   "metadata": {
    "tags": []
   },
   "outputs": [
    {
     "data": {
      "text/plain": [
       "0.000155"
      ]
     },
     "execution_count": 3,
     "metadata": {},
     "output_type": "execute_result"
    }
   ],
   "source": [
    "Km = 5e-3 #umol/cm3\n",
    "Km *= 31 #ug/cm3\n",
    "Km *=1e-3 #ug/mm3\n",
    "Km_snchepf = Km\n",
    "Km_snchepf"
   ]
  },
  {
   "cell_type": "code",
   "execution_count": 4,
   "id": "9ac4c9da-9cbe-423a-a10c-39cf976c9f4e",
   "metadata": {
    "tags": []
   },
   "outputs": [
    {
     "data": {
      "text/plain": [
       "0.5"
      ]
     },
     "execution_count": 4,
     "metadata": {},
     "output_type": "execute_result"
    }
   ],
   "source": [
    "C0 = 500 #mg.L-1\n",
    "C0 = 500*1e3 #ug.L-1\n",
    "C0 = C0 * 1e-3 #ug.cm-3\n",
    "C0 = C0 *1e-3 #ug.mm-3\n",
    "C0"
   ]
  },
  {
   "cell_type": "code",
   "execution_count": 5,
   "id": "8fdbed0f-b80f-4c6d-bb04-328353da372d",
   "metadata": {
    "tags": []
   },
   "outputs": [],
   "source": [
    "def signed_sqrt(x,alpha = 1/2):\n",
    "    \"\"\"Return the signed square root of a number.\"\"\"\n",
    "    if x >= 0:\n",
    "        return x**alpha\n",
    "    else:\n",
    "        return -(-x)**alpha"
   ]
  },
  {
   "cell_type": "code",
   "execution_count": 6,
   "id": "9fb56d66-80a2-4548-8d6b-4a2369eb6564",
   "metadata": {
    "tags": []
   },
   "outputs": [
    {
     "name": "stdout",
     "output_type": "stream",
     "text": [
      "['/home/cocopyth/PandC', '/usr/lib/python39.zip', '/usr/lib/python3.9', '/usr/lib/python3.9/lib-dynload', '', '/home/cocopyth/.local/lib/python3.9/site-packages', '/usr/local/lib/python3.9/dist-packages', '/usr/lib/python3/dist-packages', '/usr/lib/petsc/lib/python3/dist-packages', '/usr/lib/mshr/python3/dist-packages', '/usr/lib/slepc/lib/python3/dist-packages', '/home/cocopyth/miniconda3/lib/python3.9/site-packages']\n"
     ]
    }
   ],
   "source": [
    "import sys\n",
    "sys.path.append('/home/cocopyth/miniconda3/lib/python3.9/site-packages')\n",
    "print(sys.path)\n"
   ]
  },
  {
   "cell_type": "code",
   "execution_count": 7,
   "id": "4aaec90a-7d42-4b63-9dba-e1367ac270c8",
   "metadata": {
    "tags": []
   },
   "outputs": [],
   "source": [
    "# !pip install tqdm\n",
    "from tqdm.notebook import tqdm  # Import tqdm\n"
   ]
  },
  {
   "cell_type": "code",
   "execution_count": 8,
   "id": "39b1dae6-b853-4b11-ac3a-f964800cc4fd",
   "metadata": {
    "tags": []
   },
   "outputs": [],
   "source": [
    "import matplotlib.ticker as ticker"
   ]
  },
  {
   "cell_type": "code",
   "execution_count": 9,
   "id": "4db622ed-c147-463e-b2ba-e87c476f3099",
   "metadata": {
    "tags": []
   },
   "outputs": [
    {
     "data": {
      "text/plain": [
       "0.000155"
      ]
     },
     "execution_count": 9,
     "metadata": {},
     "output_type": "execute_result"
    }
   ],
   "source": [
    "Km_snchepf"
   ]
  },
  {
   "cell_type": "code",
   "execution_count": 10,
   "id": "04857000-8fff-429e-ae97-cb9dcdab7b02",
   "metadata": {
    "tags": []
   },
   "outputs": [
    {
     "name": "stderr",
     "output_type": "stream",
     "text": [
      "/tmp/ipykernel_168/2767213380.py:12: MatplotlibDeprecationWarning: The get_cmap function was deprecated in Matplotlib 3.7 and will be removed two minor releases later. Use ``matplotlib.colormaps[name]`` or ``matplotlib.colormaps.get_cmap(obj)`` instead.\n",
      "  cmap3 = mpl.cm.get_cmap(\"autumn\")\n",
      "/tmp/ipykernel_168/2767213380.py:13: MatplotlibDeprecationWarning: The get_cmap function was deprecated in Matplotlib 3.7 and will be removed two minor releases later. Use ``matplotlib.colormaps[name]`` or ``matplotlib.colormaps.get_cmap(obj)`` instead.\n",
      "  cmap4 = mpl.cm.get_cmap(\"summer\")\n",
      "/tmp/ipykernel_168/2767213380.py:177: MatplotlibDeprecationWarning: The get_cmap function was deprecated in Matplotlib 3.7 and will be removed two minor releases later. Use ``matplotlib.colormaps[name]`` or ``matplotlib.colormaps.get_cmap(obj)`` instead.\n",
      "  cmap = mpl.cm.get_cmap(\"winter\")\n",
      "/tmp/ipykernel_168/2767213380.py:178: MatplotlibDeprecationWarning: The get_cmap function was deprecated in Matplotlib 3.7 and will be removed two minor releases later. Use ``matplotlib.colormaps[name]`` or ``matplotlib.colormaps.get_cmap(obj)`` instead.\n",
      "  cmap2 = mpl.cm.get_cmap(\"spring\")\n"
     ]
    },
    {
     "data": {
      "application/vnd.jupyter.widget-view+json": {
       "model_id": "beea3d648b5a421f8bc54c842a0094cb",
       "version_major": 2,
       "version_minor": 0
      },
      "text/plain": [
       "Simulating:   0%|          | 0/600 [00:00<?, ?it/s]"
      ]
     },
     "metadata": {},
     "output_type": "display_data"
    },
    {
     "data": {
      "application/vnd.jupyter.widget-view+json": {
       "model_id": "e18e1405f56b47768430393825a0c494",
       "version_major": 2,
       "version_minor": 0
      },
      "image/png": "[encoded data removed]",
      "text/html": [
       "\n",
       "            <div style=\"display: inline-block;\">\n",
       "                <div class=\"jupyter-widgets widget-label\" style=\"text-align: center;\">\n",
       "                    Figure\n",
       "                </div>\n",
       "                <img src='data:image/png;base64,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' width=236.22047244094486/>\n",
       "            </div>\n",
       "        "
      ],
      "text/plain": [
       "Canvas(toolbar=Toolbar(toolitems=[('Home', 'Reset original view', 'home', 'home'), ('Back', 'Back to previous …"
      ]
     },
     "metadata": {},
     "output_type": "display_data"
    }
   ],
   "source": [
    "cm = 1/2.54  # centimeters in inches\n",
    "bp = 239\n",
    "path_figure = r\"/mnt/c/Users/coren/AMOLF-SHIMIZU Dropbox/HFSP_symbiotic-networks/Article_TravellingWave/rebutal/FigModelP\"\n",
    "import matplotlib.pyplot as plt\n",
    "\n",
    "plt.style.use('presentation.mplstyle')\n",
    "\n",
    "%matplotlib widget\n",
    "from dolfin import *\n",
    "import numpy as np\n",
    "import matplotlib as mpl\n",
    "cmap3 = mpl.cm.get_cmap(\"autumn\")\n",
    "cmap4 = mpl.cm.get_cmap(\"summer\")\n",
    "\n",
    "import os\n",
    "Length = 140*1.5\n",
    "nx = 350*15//10\n",
    "plt.close(\"all\")\n",
    "set_log_active(False)\n",
    "rho_value = 5\n",
    "class Simulation:\n",
    "    \"\"\"\n",
    "    A class for simulating a finite element problem using the FEniCS framework.\n",
    "\n",
    "    Attributes:\n",
    "    -----------\n",
    "    Length: float\n",
    "        Length of the interval domain.\n",
    "    nx: int\n",
    "        Number of subdivisions in the mesh.\n",
    "    nT: int\n",
    "        Number of time steps.\n",
    "    T: float\n",
    "        Total simulation time.\n",
    "    C0: float\n",
    "        Initial concentration value.\n",
    "    Fmax: float\n",
    "        Maximum flux value.\n",
    "    Pprice_ideal: float\n",
    "        Ideal price value.\n",
    "    width: float\n",
    "        Width of the plot.\n",
    "    height: float\n",
    "        Height of the plot.\n",
    "    \"\"\"\n",
    "    def __init__(self, Length=Length, nx=nx, nT=200, T=400, C0=10, Fmax=2, Pprice_ideal=20, width=3*cm, height=7*cm,speed = 0.230,adaptation_rate = 1e-4,drag = 0):\n",
    "        self.Length = Length\n",
    "        self.nx = nx\n",
    "        self.dx = Length/nx\n",
    "        self.nT = nT\n",
    "        self.T = T\n",
    "        self.dt = T/nT\n",
    "        self.C0 = C0 #ug.mm-3\n",
    "        self.Fmax = Fmax\n",
    "        self.Pprice_ideal = Pprice_ideal\n",
    "        self.width = width\n",
    "        self.height = height\n",
    "        self.speed = speed\n",
    "        self.adaptation_rate = adaptation_rate\n",
    "        self.speed_penalty = drag\n",
    "        self._setup_simulation()\n",
    "        self.r0 = 3e-3\n",
    "\n",
    "    def _setup_simulation(self):\n",
    "        # Set up the simulation: define mesh, function spaces, initial conditions, etc.\n",
    "        \"\"\"\n",
    "        Sets up the initial conditions and parameters for the simulation.\n",
    "        \"\"\"\n",
    "        # Create mesh and define function space\n",
    "        self.mesh = IntervalMesh(self.nx, 1, self.Length)\n",
    "        P1 = FiniteElement('P', interval, 1)\n",
    "        element = MixedElement([P1, P1, P1])\n",
    "        self.V = FunctionSpace(self.mesh, element)\n",
    "\n",
    "        # Define initial conditions\n",
    "        u0 = Expression(('0.3*exp(-0.2*pow(abs(x[0]-7),2))', \n",
    "                         f'(1-exp(-0.1*(x[0]-1)))*{self.C0}', '0*exp(-0.01*pow(abs(x[0]),2))'), degree=1)\n",
    "        rexp = Expression(('1/x[0]', '0', '0'), degree=1)\n",
    "        self.r = interpolate(rexp, self.V)\n",
    "        self.invr, _, _ = split(self.r)\n",
    "        self.u_n = interpolate(u0, self.V)\n",
    "\n",
    "        # Splitting functions for later use\n",
    "        self.u = Function(self.V)\n",
    "        self.n, self.C, self.rho = split(self.u)   #mm-3,ug.mm-3,mm2.mm-3\n",
    "        self.n_n, self.C_n, self.rho_n = split(self.u_n)\n",
    "        self.v_1, self.v_0, self.v_2 = TestFunctions(self.V)\n",
    "\n",
    "        # Set parameters and constants\n",
    "        self.dt = self.T / self.nT\n",
    "        self.alphval = 0.039 #.h-1\n",
    "        self.alphval0 = self.alphval\n",
    "        self.betaval = 0.022 #mm.h-1 length coefficient\n",
    "        # self.betaval = 0.022/(2.5e-3) #mm.h-1 SA coefficient\n",
    "        \n",
    "        self.beta = Constant(self.betaval) #mm**4.h-1\n",
    "        self.D = 0.0008 #mm**2.h-1\n",
    "        self.D0 = self.D #mm**2.h-1\n",
    "        \n",
    "        self.D2 = Constant(3.6) #mm**2.h-1\n",
    "        self.n_mid = 0.5*(self.n_n + self.n)\n",
    "        self.v_sval = self.speed #mm.h-1\n",
    "        self.s_scal = self.speed #mm.h-1\n",
    "        self.v_s = Constant((self.v_sval,)) #mm.h-1\n",
    "        self.Vmax = self.Fmax #ug.mm**-2.h-1\n",
    "        self.Kp = Km_snchepf #ug.mm-3\n",
    "        # Boundary conditions\n",
    "        u_L = (Constant(0.0), Constant(0.0), Constant(0.0))\n",
    "        u_R = (Constant(0.0), Constant(self.C0), Constant(0.0))\n",
    "        bc_L = DirichletBC(self.V, u_L, 'near(x[0], 1.0)')\n",
    "        bc_R = DirichletBC(self.V, u_R, f'near(x[0], {self.Length})')\n",
    "        self.bcs = [bc_L, bc_R]\n",
    "\n",
    "    def _make_F(self, alphval,D,sval):\n",
    "        # Define the variational problem F\n",
    "        alpha = Constant(alphval)\n",
    "        D = Constant(D)\n",
    "        s_scal = Constant(sval)\n",
    "        \n",
    "        # dn/dt\n",
    "        F = self.n*self.v_1*dx - self.n_n*self.v_1*dx \n",
    "        # D lapplacian(n)\n",
    "        F += D*dot(grad(self.n), grad(self.v_1))*self.dt*dx\n",
    "        # To account for cylindrical coordinates\n",
    "        F += self.invr*D*dot(grad(self.n), Constant((1,)))*self.v_1*self.dt*dx\n",
    "        \n",
    "        #v.grad(n)\n",
    "        F += self.dt*dot(grad(self.n_mid),self.v_s)*self.v_1*dx\n",
    "        # To account for cylindrical coordinates\n",
    "        F += self.invr*self.dt*self.n_mid*Constant(self.v_sval)*self.v_1*dx\n",
    "        \n",
    "        #alpha*n - beta * n * rho\n",
    "        F += self.beta*self.v_1*self.rho*(self.n)*self.dt*dx\n",
    "        F -= alpha*(self.n)*self.v_1*self.dt*dx\n",
    "        #d rho/dt = vn\n",
    "        F -= self.dt*s_scal*self.n*self.v_2*dx-(self.rho-self.rho_n)*self.v_2*dx\n",
    "\n",
    "\n",
    "        # dC/dt\n",
    "        F += self.C*self.v_0*dx - self.C_n*self.v_0*dx #ug.mm-3\n",
    "        # Vmax * rho * C/(C+Kp)\n",
    "        F += 2*np.pi*self.Vmax*(self.rho)*self.r0*(self.C/bp/(self.Kp+self.C/bp))*self.v_0*self.dt*dx #ug\n",
    "        # Diffusion \n",
    "        F += self.D2*dot(grad(self.C/bp), grad(self.v_0))*self.dt*dx\n",
    "        # To account for cylindrical coordinates\n",
    "        F += self.invr*self.D2*dot(grad(self.C/bp), Constant((1,)))*self.v_0*self.dt*dx\n",
    "\n",
    "        return F\n",
    "    def integrate(self, plot=False,remove_ylabels = False):\n",
    "        \"\"\"\n",
    "        Integrate the problem over time and optionally plot the results.\n",
    "        Returns arrays of C(x, t), rho(x, t), and n(x, t) over the simulation.\n",
    "\n",
    "        Parameters:\n",
    "        -----------\n",
    "        plot: bool\n",
    "            If True, plot the results using matplotlib.\n",
    "\n",
    "        Returns:\n",
    "        --------\n",
    "        C_xt: list of arrays\n",
    "            Concentration C as a function of position x and time t.\n",
    "        rho_xt: list of arrays\n",
    "            Density rho as a function of position x and time t.\n",
    "        n_xt: list of arrays\n",
    "            Quantity n as a function of position x and time t.\n",
    "        \"\"\"\n",
    "        # Initialize arrays to store C(x, t), rho(x, t), and n(x, t)\n",
    "        C_xt = []\n",
    "        rho_xt = []\n",
    "        n_xt = []\n",
    "        P_prices = []\n",
    "        alphavals = []\n",
    "        # Initialize matplotlib plots if needed\n",
    "        if plot:\n",
    "            fig, axs = plt.subplots(4, 1, figsize=(self.width, self.height*1.5))\n",
    "            cmap = mpl.cm.get_cmap(\"winter\")\n",
    "            cmap2 = mpl.cm.get_cmap(\"spring\")\n",
    "\n",
    "        # Time-stepping loop\n",
    "        V2 = FunctionSpace(self.mesh, 'P', 1)\n",
    "        X = np.linspace(1, self.Length, self.nx)\n",
    "        i=0\n",
    "        for t in tqdm(np.linspace(0, self.T, self.nT), desc=\"Simulating\"):\n",
    "            F = self._make_F(self.alphval,self.D,self.s_scal)\n",
    "            solve(F == 0, self.u, self.bcs)\n",
    "            self.u_n.assign(self.u)\n",
    "            _n, _C, _rho = self.u.split()\n",
    "\n",
    "            # Interpolate and store the results\n",
    "            n_field = interpolate(_n, V2)\n",
    "            rho_field = interpolate(_rho, V2)\n",
    "            C_field = interpolate(_C, V2)\n",
    "            Ccost = np.sum([n_field(x)*x*self.dx*self.v_sval for x in X]) #mm.h-1.mm-1\n",
    "            Ccost *= np.pi*(self.r0)**2 #mm**3.mm-1.h-1\n",
    "            Ccost *= 1e-3  #mL.mm-1.h-1=dm**3.mm-1.h-1\n",
    "            \n",
    "            Ccost *= 0.5*0.21*1.1 #g.mm-1.h-1\n",
    "            Ccost *= 1e6 #ug.mm-1.h-1\n",
    "            Ccost *= 2 #respiration\n",
    "            Ccost *= (self.v_sval/0.25)**(self.speed_penalty)\n",
    "            Pacquisition = np.sum([self.Vmax*(C_field(x)/bp/(C_field(x)/bp+self.Kp))*rho_field(x)*x*self.dx for x in X]) #ug.h-1.mm-2\n",
    "            Pacquisition *= 2*self.r0*np.pi #ug.h-1.mm-1\n",
    "            # Pacquisition += 5e-4*np.exp(-t/100)\n",
    "            \n",
    "            Pprice = Ccost/Pacquisition\n",
    "\n",
    "            alphavals.append(self.alphval)\n",
    "            # if t>=10:\n",
    "                # self.s_scal = self.Pprice_ideal/Pprice*self.speed\n",
    "                # self.alphval = max(0.001,self.alphval + self.dt*self.adaptation_rate*signed_sqrt((self.Pprice_ideal-Pprice)/self.Pprice_ideal,alpha = 1))\n",
    "            # print(self.alphval)\n",
    "            self.D = self.D0*self.alphval0/self.alphval\n",
    "            # print(2*(np.sqrt(self.D*self.alphval)))\n",
    "            n_xt.append([n_field(x) for x in X])\n",
    "            rho_xt.append([rho_field(x) for x in X])\n",
    "            C_xt.append([C_field(x) for x in X])\n",
    "            P_prices.append(Pprice)\n",
    "            # print(Pprice,self.alphval)\n",
    "            if plot and i % (self.nT//5) == 0:\n",
    "                axs[1].plot(X, n_xt[-1], color=cmap2(t / self.T))\n",
    "                axs[0].plot(X, rho_xt[-1], color=cmap(t / self.T))\n",
    "                axs[2].plot(X, np.array(C_xt[-1])*1000, color=cmap3(t / self.T))\n",
    "                Pacq =  [2*self.r0*np.pi*C_xt[-1][i]/bp/(C_xt[-1][i]/bp+self.Kp) * rho_xt[-1][i]*Vmax*1000 for i in range(len(X))]\n",
    "                \n",
    "                axs[3].plot(X, Pacq, color=cmap4(t / self.T))\n",
    "                # break\n",
    "            i+=1\n",
    "            \n",
    "\n",
    "        # Finalize plot settings if plotting\n",
    "        if plot:\n",
    "            axs[1].plot(X, n_xt[-1], color=cmap2(t / self.T))\n",
    "            axs[0].plot(X, rho_xt[-1], color=cmap(t / self.T))\n",
    "            satrho = np.median([rho for rho in rho_xt[-1] if rho>1e-10])\n",
    "            \n",
    "            # axs[0].hlines(satrho,np.min(X),np.max(X), color=\"red\")\n",
    "            \n",
    "            axs[2].plot(X, np.array(C_xt[-1])*1000, color=cmap3(t / self.T))\n",
    "            Pacq =  [2*self.r0*np.pi*C_xt[-1][i]/bp/(C_xt[-1][i]/bp+self.Kp) * rho_xt[-1][i]*Vmax*1000 for i in range(len(X))]\n",
    "            axs[3].plot(X, Pacq, color=cmap4(t / self.T))\n",
    "            axs[0].set_ylabel(r'$\\rho$'+ '\\n $(mm^{-2})$')\n",
    "            axs[0].set_xticklabels([])\n",
    "            # axs[0].set_ylim(0,3.5)\n",
    "            \n",
    "            axs[1].set_ylabel('$n$ \\n $(mm^{-3})$')\n",
    "            axs[1].set_xticklabels([])\n",
    "            # axs[1].set_ylim(0,1.5)\n",
    "            \n",
    "            axs[2].set_ylabel('$[P]$ \\n ($ng/ mm^{3}$)')\n",
    "            axs[2].set_xticklabels([])\n",
    "            \n",
    "            axs[3].set_ylabel('$\\phi_P$ \\n ($ng/mm^{3}/h$)')\n",
    "\n",
    "            axs[3].set_xlabel('position \\n ($mm$)')\n",
    "            # axs[3].set_ylim(0,0.60)\n",
    "\n",
    "            formatter = ticker.FormatStrFormatter('%.2f')  # Adjust format as needed\n",
    "\n",
    "            for ax in axs:\n",
    "                ax.yaxis.set_major_formatter(formatter)\n",
    "            if remove_ylabels:\n",
    "                for ax in axs:\n",
    "                    ax.set_ylabel('')\n",
    "                    ax.set_yticklabels([])\n",
    "\n",
    "            plt.show()\n",
    "\n",
    "        return C_xt, rho_xt, n_xt,P_prices,alphavals\n",
    "    \n",
    "cm = 1/2.54  # centimeters in inches\n",
    "\n",
    "\n",
    "# Example usage:\n",
    "C0=0.02 #ug.mm-3\n",
    "Pprice_ideal = C0/C0**(1/3)\n",
    "speed = 0.10\n",
    "sim = Simulation(speed = speed,C0=C0,T = 600,nT=600,Pprice_ideal = Pprice_ideal,Fmax = Vmax,adaptation_rate = 3e-4,drag = 1, width=6*cm, height=4*cm)\n",
    "C_xt, rho_xt, n_xt,P_prices,alphavals = sim.integrate(plot=True)\n",
    "# plt.savefig(os.path.join(path_figure,f'FigureA.pdf'), transparent=True, bbox_inches='tight')\n"
   ]
  },
  {
   "cell_type": "code",
   "execution_count": 11,
   "id": "08603cc0-1980-4b2a-b3c4-2171146718b9",
   "metadata": {
    "tags": []
   },
   "outputs": [],
   "source": [
    "path_figure = r\"/mnt/c/Users/coren/AMOLF-SHIMIZU Dropbox/HFSP_symbiotic-networks/Article_TravellingWave/rebuttal/Material4Rebuttal/FigModelP\"\n",
    "\n",
    "# plt.savefig(os.path.join(path_figure,f'FigureA.pdf'), transparent=True, bbox_inches='tight')\n"
   ]
  },
  {
   "cell_type": "code",
   "execution_count": 12,
   "id": "f52d4ccd-cd56-40c0-9881-51b278003b63",
   "metadata": {
    "tags": []
   },
   "outputs": [
    {
     "data": {
      "text/plain": [
       "0.022320000000000003"
      ]
     },
     "execution_count": 12,
     "metadata": {},
     "output_type": "execute_result"
    }
   ],
   "source": [
    "Vmax"
   ]
  },
  {
   "cell_type": "code",
   "execution_count": 13,
   "id": "5787dddd-9ede-4490-900d-15e39f387230",
   "metadata": {
    "tags": []
   },
   "outputs": [],
   "source": [
    "def get_P_cost(C_xt, rho_xt, n_xt,sim):\n",
    "    C_xt, rho_xt, n_xt = np.array(C_xt),np.array(rho_xt),np.array(n_xt)    \n",
    "    X = np.linspace(1, sim.Length, sim.nx)\n",
    "    dx = Length/nx\n",
    "    Pacquisitions = np.sum(Vmax*(C_xt/bp/(C_xt/bp+sim.Kp))*rho_xt*X*sim.dx,axis=1) #ug.h-1.mm-1\n",
    "    Pacquisitions *= 2*sim.r0*np.pi\n",
    "    Ccost = np.sum(n_xt*X*sim.dx*sim.v_sval,axis=1) #mm.h-1.mm-1\n",
    "    Ccost *= np.pi*(sim.r0)**2 #mm**3.mm-1.h-1\n",
    "    Ccost *= 0.5*0.21 *1e-3 #g.mm-1.h-1\n",
    "    Ccost *= 1.1e6 #ug.mm-1.h-1\n",
    "    Ccost *= 2 #respiration\n",
    "    return(np.sum(Ccost)/np.sum(Pacquisitions))"
   ]
  },
  {
   "cell_type": "code",
   "execution_count": 14,
   "id": "0d186c56-9441-480b-8edc-3f95bbb67764",
   "metadata": {
    "tags": []
   },
   "outputs": [],
   "source": [
    "def get_P_acqu(C_xt, rho_xt, n_xt,sim):\n",
    "    C_xt, rho_xt, n_xt = np.array(C_xt),np.array(rho_xt),np.array(n_xt)    \n",
    "    X = np.linspace(1, sim.Length, sim.nx)\n",
    "    dx = Length/nx\n",
    "    Pacquisitions = np.sum(Vmax*(C_xt/bp/(C_xt/bp+sim.Kp))*rho_xt*X*sim.dx,axis=1) #ug.h-1.mm-2\n",
    "    Pacquisitions *= 2*sim.r0*np.pi*sim.dt\n",
    "    return(np.sum(Pacquisitions))"
   ]
  },
  {
   "cell_type": "code",
   "execution_count": 15,
   "id": "248bf1b2-fdf6-4eca-88bf-9c471f3367db",
   "metadata": {
    "tags": []
   },
   "outputs": [
    {
     "data": {
      "text/plain": [
       "1.1878845266346505"
      ]
     },
     "execution_count": 15,
     "metadata": {},
     "output_type": "execute_result"
    }
   ],
   "source": [
    "get_P_cost(C_xt, rho_xt, n_xt,sim)"
   ]
  },
  {
   "cell_type": "code",
   "execution_count": 16,
   "id": "98e043b8-f084-4649-b8bc-ea18ceca7669",
   "metadata": {
    "tags": []
   },
   "outputs": [
    {
     "data": {
      "text/plain": [
       "54.94261541566664"
      ]
     },
     "execution_count": 16,
     "metadata": {},
     "output_type": "execute_result"
    }
   ],
   "source": [
    "get_P_acqu(C_xt, rho_xt, n_xt,sim)"
   ]
  },
  {
   "cell_type": "code",
   "execution_count": 17,
   "id": "b04645b1-4b61-47d2-bf19-0a48de67c8e0",
   "metadata": {
    "tags": []
   },
   "outputs": [
    {
     "data": {
      "application/vnd.jupyter.widget-view+json": {
       "model_id": "d290a3ba373141bf93d3a8bbbab2a797",
       "version_major": 2,
       "version_minor": 0
      },
      "text/plain": [
       "Simulating:   0%|          | 0/600 [00:00<?, ?it/s]"
      ]
     },
     "metadata": {},
     "output_type": "display_data"
    },
    {
     "data": {
      "application/vnd.jupyter.widget-view+json": {
       "model_id": "ea2a9f94a4be4ebb9003b39254243f0e",
       "version_major": 2,
       "version_minor": 0
      },
      "text/plain": [
       "Simulating:   0%|          | 0/600 [00:00<?, ?it/s]"
      ]
     },
     "metadata": {},
     "output_type": "display_data"
    },
    {
     "data": {
      "application/vnd.jupyter.widget-view+json": {
       "model_id": "7e2bb88d322b402b911aeba34bbb6151",
       "version_major": 2,
       "version_minor": 0
      },
      "text/plain": [
       "Simulating:   0%|          | 0/600 [00:00<?, ?it/s]"
      ]
     },
     "metadata": {},
     "output_type": "display_data"
    },
    {
     "data": {
      "application/vnd.jupyter.widget-view+json": {
       "model_id": "dbb9bc987a884af3a4f48a3e3ae5b154",
       "version_major": 2,
       "version_minor": 0
      },
      "text/plain": [
       "Simulating:   0%|          | 0/600 [00:00<?, ?it/s]"
      ]
     },
     "metadata": {},
     "output_type": "display_data"
    },
    {
     "data": {
      "application/vnd.jupyter.widget-view+json": {
       "model_id": "1629e8227049469f98a2831318465797",
       "version_major": 2,
       "version_minor": 0
      },
      "text/plain": [
       "Simulating:   0%|          | 0/600 [00:00<?, ?it/s]"
      ]
     },
     "metadata": {},
     "output_type": "display_data"
    },
    {
     "data": {
      "application/vnd.jupyter.widget-view+json": {
       "model_id": "43ed0874866c481e9ffb2a606fcc0f39",
       "version_major": 2,
       "version_minor": 0
      },
      "text/plain": [
       "Simulating:   0%|          | 0/600 [00:00<?, ?it/s]"
      ]
     },
     "metadata": {},
     "output_type": "display_data"
    },
    {
     "data": {
      "application/vnd.jupyter.widget-view+json": {
       "model_id": "8fcc5aae43fb40599a8da07a3d3b5434",
       "version_major": 2,
       "version_minor": 0
      },
      "text/plain": [
       "Simulating:   0%|          | 0/600 [00:00<?, ?it/s]"
      ]
     },
     "metadata": {},
     "output_type": "display_data"
    },
    {
     "data": {
      "application/vnd.jupyter.widget-view+json": {
       "model_id": "057d8f3b658b4570a5fcac43c0a2b6e3",
       "version_major": 2,
       "version_minor": 0
      },
      "text/plain": [
       "Simulating:   0%|          | 0/600 [00:00<?, ?it/s]"
      ]
     },
     "metadata": {},
     "output_type": "display_data"
    },
    {
     "data": {
      "application/vnd.jupyter.widget-view+json": {
       "model_id": "68d5673345d54e0581fc628babd42e32",
       "version_major": 2,
       "version_minor": 0
      },
      "text/plain": [
       "Simulating:   0%|          | 0/600 [00:00<?, ?it/s]"
      ]
     },
     "metadata": {},
     "output_type": "display_data"
    },
    {
     "data": {
      "application/vnd.jupyter.widget-view+json": {
       "model_id": "e6b910e492c5493d856d0605dbfdb966",
       "version_major": 2,
       "version_minor": 0
      },
      "text/plain": [
       "Simulating:   0%|          | 0/600 [00:00<?, ?it/s]"
      ]
     },
     "metadata": {},
     "output_type": "display_data"
    }
   ],
   "source": [
    "mini = 0.05\n",
    "maxi = 0.3\n",
    "resolution = 10\n",
    "speeds = np.exp(np.linspace(np.log(mini),np.log(maxi),resolution))\n",
    "Pcosts = []\n",
    "Pacqus = []\n",
    "\n",
    "for speed in speeds:\n",
    "    sim = Simulation(speed = speed,C0=C0,T = 600,nT=600,Pprice_ideal = Pprice_ideal,Fmax = Vmax,adaptation_rate = 3e-4,drag = 1, width=6*cm, height=4*cm)\n",
    "    C_xt, rho_xt, n_xt,P_prices,alphavals = sim.integrate(plot=False)\n",
    "    Pcosts.append(get_P_cost(C_xt, rho_xt, n_xt,sim))\n",
    "    Pacqus.append(get_P_acqu(C_xt, rho_xt, n_xt,sim))                "
   ]
  },
  {
   "cell_type": "code",
   "execution_count": 18,
   "id": "dec8c389-89c9-4835-ba54-28eed977776d",
   "metadata": {
    "tags": []
   },
   "outputs": [
    {
     "data": {
      "text/plain": [
       "Text(0, 0.5, '$m_P$ ($\\\\mu gP/mm$)')"
      ]
     },
     "execution_count": 18,
     "metadata": {},
     "output_type": "execute_result"
    },
    {
     "data": {
      "application/vnd.jupyter.widget-view+json": {
       "model_id": "c61816a08148400e8dd2a8fec3f7657e",
       "version_major": 2,
       "version_minor": 0
      },
      "image/png": "[encoded data removed]",
      "text/html": [
       "\n",
       "            <div style=\"display: inline-block;\">\n",
       "                <div class=\"jupyter-widgets widget-label\" style=\"text-align: center;\">\n",
       "                    Figure\n",
       "                </div>\n",
       "                <img src='data:image/png;base64,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' width=157.4803149606299/>\n",
       "            </div>\n",
       "        "
      ],
      "text/plain": [
       "Canvas(toolbar=Toolbar(toolitems=[('Home', 'Reset original view', 'home', 'home'), ('Back', 'Back to previous …"
      ]
     },
     "metadata": {},
     "output_type": "display_data"
    }
   ],
   "source": [
    "fig,ax = plt.subplots(figsize = (4*cm,1.8))\n",
    "# fig,ax = plt.subplots(2,1,sharex=True)\n",
    "\n",
    "ax.plot(1000*speeds,Pacqus)\n",
    "ax.set_xlabel('$v_{wave}$ ($\\mu m/h$)')\n",
    "\n",
    "ax.set_ylabel('$m_P$ ($\\mu gP/mm$)')\n",
    "# plt.savefig(os.path.join(path_figure,f'FigureB.pdf'), transparent=True, bbox_inches='tight')\n"
   ]
  },
  {
   "cell_type": "code",
   "execution_count": 19,
   "id": "5afb3201-5c76-413e-a14a-1ef90748e54e",
   "metadata": {
    "tags": []
   },
   "outputs": [
    {
     "data": {
      "text/plain": [
       "Text(0, 0.5, '$\\\\pi$ ($\\\\mu gC/ \\\\mu gP$)')"
      ]
     },
     "execution_count": 19,
     "metadata": {},
     "output_type": "execute_result"
    },
    {
     "data": {
      "application/vnd.jupyter.widget-view+json": {
       "model_id": "39e92ce3acfe4ae8a093223b12affe94",
       "version_major": 2,
       "version_minor": 0
      },
      "image/png": "[encoded data removed]",
      "text/html": [
       "\n",
       "            <div style=\"display: inline-block;\">\n",
       "                <div class=\"jupyter-widgets widget-label\" style=\"text-align: center;\">\n",
       "                    Figure\n",
       "                </div>\n",
       "                <img src='data:image/png;base64,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' width=157.4803149606299/>\n",
       "            </div>\n",
       "        "
      ],
      "text/plain": [
       "Canvas(toolbar=Toolbar(toolitems=[('Home', 'Reset original view', 'home', 'home'), ('Back', 'Back to previous …"
      ]
     },
     "metadata": {},
     "output_type": "display_data"
    }
   ],
   "source": [
    "fig,ax = plt.subplots(figsize = (4*cm,1.8))\n",
    "\n",
    "ax.plot(1000*speeds,Pcosts)\n",
    "ax.set_xlabel('$v_{wave}$ ($\\mu m/h$)')\n",
    "\n",
    "ax.set_ylabel('$\\pi$ ($\\mu gC/ \\mu gP$)')\n",
    "# plt.savefig(os.path.join(path_figure,f'FigureC.pdf'), transparent=True, bbox_inches='tight')\n"
   ]
  },
  {
   "cell_type": "code",
   "execution_count": 20,
   "id": "fbbbc80f-9f6d-49fd-ac86-26046fcf663f",
   "metadata": {
    "tags": []
   },
   "outputs": [
    {
     "ename": "FileNotFoundError",
     "evalue": "[Errno 2] No such file or directory: '/mnt/c/Users/coren/AMOLF-SHIMIZU Dropbox/HFSP_symbiotic-networks/Article_TravellingWave/rebuttal/Material4Rebuttal/FigModelP/FigureB.pdf'",
     "output_type": "error",
     "traceback": [
      "\u001b[0;31m---------------------------------------------------------------------------\u001b[0m",
      "\u001b[0;31mFileNotFoundError\u001b[0m                         Traceback (most recent call last)",
      "Cell \u001b[0;32mIn[20], line 9\u001b[0m\n\u001b[1;32m      7\u001b[0m ax[\u001b[38;5;241m1\u001b[39m]\u001b[38;5;241m.\u001b[39mset_ylabel(\u001b[38;5;124m'\u001b[39m\u001b[38;5;124m$\u001b[39m\u001b[38;5;124m\\\u001b[39m\u001b[38;5;124mpi$ ($\u001b[39m\u001b[38;5;124m\\\u001b[39m\u001b[38;5;124mmu gC/ \u001b[39m\u001b[38;5;124m\\\u001b[39m\u001b[38;5;124mmu gP$)\u001b[39m\u001b[38;5;124m'\u001b[39m)\n\u001b[1;32m      8\u001b[0m ax[\u001b[38;5;241m0\u001b[39m]\u001b[38;5;241m.\u001b[39mset_ylabel(\u001b[38;5;124m'\u001b[39m\u001b[38;5;124m$m_P$ ($\u001b[39m\u001b[38;5;124m\\\u001b[39m\u001b[38;5;124mmu gP/mm$)\u001b[39m\u001b[38;5;124m'\u001b[39m)\n\u001b[0;32m----> 9\u001b[0m \u001b[43mplt\u001b[49m\u001b[38;5;241;43m.\u001b[39;49m\u001b[43msavefig\u001b[49m\u001b[43m(\u001b[49m\u001b[43mos\u001b[49m\u001b[38;5;241;43m.\u001b[39;49m\u001b[43mpath\u001b[49m\u001b[38;5;241;43m.\u001b[39;49m\u001b[43mjoin\u001b[49m\u001b[43m(\u001b[49m\u001b[43mpath_figure\u001b[49m\u001b[43m,\u001b[49m\u001b[38;5;124;43mf\u001b[39;49m\u001b[38;5;124;43m'\u001b[39;49m\u001b[38;5;124;43mFigureB.pdf\u001b[39;49m\u001b[38;5;124;43m'\u001b[39;49m\u001b[43m)\u001b[49m\u001b[43m,\u001b[49m\u001b[43m \u001b[49m\u001b[43mtransparent\u001b[49m\u001b[38;5;241;43m=\u001b[39;49m\u001b[38;5;28;43;01mTrue\u001b[39;49;00m\u001b[43m,\u001b[49m\u001b[43m \u001b[49m\u001b[43mbbox_inches\u001b[49m\u001b[38;5;241;43m=\u001b[39;49m\u001b[38;5;124;43m'\u001b[39;49m\u001b[38;5;124;43mtight\u001b[39;49m\u001b[38;5;124;43m'\u001b[39;49m\u001b[43m)\u001b[49m\n",
      "File \u001b[0;32m~/.local/lib/python3.9/site-packages/matplotlib/pyplot.py:1023\u001b[0m, in \u001b[0;36msavefig\u001b[0;34m(*args, **kwargs)\u001b[0m\n\u001b[1;32m   1020\u001b[0m \u001b[38;5;129m@_copy_docstring_and_deprecators\u001b[39m(Figure\u001b[38;5;241m.\u001b[39msavefig)\n\u001b[1;32m   1021\u001b[0m \u001b[38;5;28;01mdef\u001b[39;00m \u001b[38;5;21msavefig\u001b[39m(\u001b[38;5;241m*\u001b[39margs, \u001b[38;5;241m*\u001b[39m\u001b[38;5;241m*\u001b[39mkwargs):\n\u001b[1;32m   1022\u001b[0m     fig \u001b[38;5;241m=\u001b[39m gcf()\n\u001b[0;32m-> 1023\u001b[0m     res \u001b[38;5;241m=\u001b[39m \u001b[43mfig\u001b[49m\u001b[38;5;241;43m.\u001b[39;49m\u001b[43msavefig\u001b[49m\u001b[43m(\u001b[49m\u001b[38;5;241;43m*\u001b[39;49m\u001b[43margs\u001b[49m\u001b[43m,\u001b[49m\u001b[43m \u001b[49m\u001b[38;5;241;43m*\u001b[39;49m\u001b[38;5;241;43m*\u001b[39;49m\u001b[43mkwargs\u001b[49m\u001b[43m)\u001b[49m\n\u001b[1;32m   1024\u001b[0m     fig\u001b[38;5;241m.\u001b[39mcanvas\u001b[38;5;241m.\u001b[39mdraw_idle()  \u001b[38;5;66;03m# Need this if 'transparent=True', to reset colors.\u001b[39;00m\n\u001b[1;32m   1025\u001b[0m     \u001b[38;5;28;01mreturn\u001b[39;00m res\n",
      "File \u001b[0;32m~/.local/lib/python3.9/site-packages/matplotlib/figure.py:3343\u001b[0m, in \u001b[0;36mFigure.savefig\u001b[0;34m(self, fname, transparent, **kwargs)\u001b[0m\n\u001b[1;32m   3339\u001b[0m     \u001b[38;5;28;01mfor\u001b[39;00m ax \u001b[38;5;129;01min\u001b[39;00m \u001b[38;5;28mself\u001b[39m\u001b[38;5;241m.\u001b[39maxes:\n\u001b[1;32m   3340\u001b[0m         stack\u001b[38;5;241m.\u001b[39menter_context(\n\u001b[1;32m   3341\u001b[0m             ax\u001b[38;5;241m.\u001b[39mpatch\u001b[38;5;241m.\u001b[39m_cm_set(facecolor\u001b[38;5;241m=\u001b[39m\u001b[38;5;124m'\u001b[39m\u001b[38;5;124mnone\u001b[39m\u001b[38;5;124m'\u001b[39m, edgecolor\u001b[38;5;241m=\u001b[39m\u001b[38;5;124m'\u001b[39m\u001b[38;5;124mnone\u001b[39m\u001b[38;5;124m'\u001b[39m))\n\u001b[0;32m-> 3343\u001b[0m \u001b[38;5;28;43mself\u001b[39;49m\u001b[38;5;241;43m.\u001b[39;49m\u001b[43mcanvas\u001b[49m\u001b[38;5;241;43m.\u001b[39;49m\u001b[43mprint_figure\u001b[49m\u001b[43m(\u001b[49m\u001b[43mfname\u001b[49m\u001b[43m,\u001b[49m\u001b[43m \u001b[49m\u001b[38;5;241;43m*\u001b[39;49m\u001b[38;5;241;43m*\u001b[39;49m\u001b[43mkwargs\u001b[49m\u001b[43m)\u001b[49m\n",
      "File \u001b[0;32m~/.local/lib/python3.9/site-packages/matplotlib/backend_bases.py:2366\u001b[0m, in \u001b[0;36mFigureCanvasBase.print_figure\u001b[0;34m(self, filename, dpi, facecolor, edgecolor, orientation, format, bbox_inches, pad_inches, bbox_extra_artists, backend, **kwargs)\u001b[0m\n\u001b[1;32m   2362\u001b[0m \u001b[38;5;28;01mtry\u001b[39;00m:\n\u001b[1;32m   2363\u001b[0m     \u001b[38;5;66;03m# _get_renderer may change the figure dpi (as vector formats\u001b[39;00m\n\u001b[1;32m   2364\u001b[0m     \u001b[38;5;66;03m# force the figure dpi to 72), so we need to set it again here.\u001b[39;00m\n\u001b[1;32m   2365\u001b[0m     \u001b[38;5;28;01mwith\u001b[39;00m cbook\u001b[38;5;241m.\u001b[39m_setattr_cm(\u001b[38;5;28mself\u001b[39m\u001b[38;5;241m.\u001b[39mfigure, dpi\u001b[38;5;241m=\u001b[39mdpi):\n\u001b[0;32m-> 2366\u001b[0m         result \u001b[38;5;241m=\u001b[39m \u001b[43mprint_method\u001b[49m\u001b[43m(\u001b[49m\n\u001b[1;32m   2367\u001b[0m \u001b[43m            \u001b[49m\u001b[43mfilename\u001b[49m\u001b[43m,\u001b[49m\n\u001b[1;32m   2368\u001b[0m \u001b[43m            \u001b[49m\u001b[43mfacecolor\u001b[49m\u001b[38;5;241;43m=\u001b[39;49m\u001b[43mfacecolor\u001b[49m\u001b[43m,\u001b[49m\n\u001b[1;32m   2369\u001b[0m \u001b[43m            \u001b[49m\u001b[43medgecolor\u001b[49m\u001b[38;5;241;43m=\u001b[39;49m\u001b[43medgecolor\u001b[49m\u001b[43m,\u001b[49m\n\u001b[1;32m   2370\u001b[0m \u001b[43m            \u001b[49m\u001b[43morientation\u001b[49m\u001b[38;5;241;43m=\u001b[39;49m\u001b[43morientation\u001b[49m\u001b[43m,\u001b[49m\n\u001b[1;32m   2371\u001b[0m \u001b[43m            \u001b[49m\u001b[43mbbox_inches_restore\u001b[49m\u001b[38;5;241;43m=\u001b[39;49m\u001b[43m_bbox_inches_restore\u001b[49m\u001b[43m,\u001b[49m\n\u001b[1;32m   2372\u001b[0m \u001b[43m            \u001b[49m\u001b[38;5;241;43m*\u001b[39;49m\u001b[38;5;241;43m*\u001b[39;49m\u001b[43mkwargs\u001b[49m\u001b[43m)\u001b[49m\n\u001b[1;32m   2373\u001b[0m \u001b[38;5;28;01mfinally\u001b[39;00m:\n\u001b[1;32m   2374\u001b[0m     \u001b[38;5;28;01mif\u001b[39;00m bbox_inches \u001b[38;5;129;01mand\u001b[39;00m restore_bbox:\n",
      "File \u001b[0;32m~/.local/lib/python3.9/site-packages/matplotlib/backend_bases.py:2232\u001b[0m, in \u001b[0;36mFigureCanvasBase._switch_canvas_and_return_print_method.<locals>.<lambda>\u001b[0;34m(*args, **kwargs)\u001b[0m\n\u001b[1;32m   2228\u001b[0m     optional_kws \u001b[38;5;241m=\u001b[39m {  \u001b[38;5;66;03m# Passed by print_figure for other renderers.\u001b[39;00m\n\u001b[1;32m   2229\u001b[0m         \u001b[38;5;124m\"\u001b[39m\u001b[38;5;124mdpi\u001b[39m\u001b[38;5;124m\"\u001b[39m, \u001b[38;5;124m\"\u001b[39m\u001b[38;5;124mfacecolor\u001b[39m\u001b[38;5;124m\"\u001b[39m, \u001b[38;5;124m\"\u001b[39m\u001b[38;5;124medgecolor\u001b[39m\u001b[38;5;124m\"\u001b[39m, \u001b[38;5;124m\"\u001b[39m\u001b[38;5;124morientation\u001b[39m\u001b[38;5;124m\"\u001b[39m,\n\u001b[1;32m   2230\u001b[0m         \u001b[38;5;124m\"\u001b[39m\u001b[38;5;124mbbox_inches_restore\u001b[39m\u001b[38;5;124m\"\u001b[39m}\n\u001b[1;32m   2231\u001b[0m     skip \u001b[38;5;241m=\u001b[39m optional_kws \u001b[38;5;241m-\u001b[39m {\u001b[38;5;241m*\u001b[39minspect\u001b[38;5;241m.\u001b[39msignature(meth)\u001b[38;5;241m.\u001b[39mparameters}\n\u001b[0;32m-> 2232\u001b[0m     print_method \u001b[38;5;241m=\u001b[39m functools\u001b[38;5;241m.\u001b[39mwraps(meth)(\u001b[38;5;28;01mlambda\u001b[39;00m \u001b[38;5;241m*\u001b[39margs, \u001b[38;5;241m*\u001b[39m\u001b[38;5;241m*\u001b[39mkwargs: \u001b[43mmeth\u001b[49m\u001b[43m(\u001b[49m\n\u001b[1;32m   2233\u001b[0m \u001b[43m        \u001b[49m\u001b[38;5;241;43m*\u001b[39;49m\u001b[43margs\u001b[49m\u001b[43m,\u001b[49m\u001b[43m \u001b[49m\u001b[38;5;241;43m*\u001b[39;49m\u001b[38;5;241;43m*\u001b[39;49m\u001b[43m{\u001b[49m\u001b[43mk\u001b[49m\u001b[43m:\u001b[49m\u001b[43m \u001b[49m\u001b[43mv\u001b[49m\u001b[43m \u001b[49m\u001b[38;5;28;43;01mfor\u001b[39;49;00m\u001b[43m \u001b[49m\u001b[43mk\u001b[49m\u001b[43m,\u001b[49m\u001b[43m \u001b[49m\u001b[43mv\u001b[49m\u001b[43m \u001b[49m\u001b[38;5;129;43;01min\u001b[39;49;00m\u001b[43m \u001b[49m\u001b[43mkwargs\u001b[49m\u001b[38;5;241;43m.\u001b[39;49m\u001b[43mitems\u001b[49m\u001b[43m(\u001b[49m\u001b[43m)\u001b[49m\u001b[43m \u001b[49m\u001b[38;5;28;43;01mif\u001b[39;49;00m\u001b[43m \u001b[49m\u001b[43mk\u001b[49m\u001b[43m \u001b[49m\u001b[38;5;129;43;01mnot\u001b[39;49;00m\u001b[43m \u001b[49m\u001b[38;5;129;43;01min\u001b[39;49;00m\u001b[43m \u001b[49m\u001b[43mskip\u001b[49m\u001b[43m}\u001b[49m\u001b[43m)\u001b[49m)\n\u001b[1;32m   2234\u001b[0m \u001b[38;5;28;01melse\u001b[39;00m:  \u001b[38;5;66;03m# Let third-parties do as they see fit.\u001b[39;00m\n\u001b[1;32m   2235\u001b[0m     print_method \u001b[38;5;241m=\u001b[39m meth\n",
      "File \u001b[0;32m~/.local/lib/python3.9/site-packages/matplotlib/backends/backend_pdf.py:2808\u001b[0m, in \u001b[0;36mFigureCanvasPdf.print_pdf\u001b[0;34m(self, filename, bbox_inches_restore, metadata)\u001b[0m\n\u001b[1;32m   2806\u001b[0m     file \u001b[38;5;241m=\u001b[39m filename\u001b[38;5;241m.\u001b[39m_file\n\u001b[1;32m   2807\u001b[0m \u001b[38;5;28;01melse\u001b[39;00m:\n\u001b[0;32m-> 2808\u001b[0m     file \u001b[38;5;241m=\u001b[39m \u001b[43mPdfFile\u001b[49m\u001b[43m(\u001b[49m\u001b[43mfilename\u001b[49m\u001b[43m,\u001b[49m\u001b[43m \u001b[49m\u001b[43mmetadata\u001b[49m\u001b[38;5;241;43m=\u001b[39;49m\u001b[43mmetadata\u001b[49m\u001b[43m)\u001b[49m\n\u001b[1;32m   2809\u001b[0m \u001b[38;5;28;01mtry\u001b[39;00m:\n\u001b[1;32m   2810\u001b[0m     file\u001b[38;5;241m.\u001b[39mnewPage(width, height)\n",
      "File \u001b[0;32m~/.local/lib/python3.9/site-packages/matplotlib/backends/backend_pdf.py:713\u001b[0m, in \u001b[0;36mPdfFile.__init__\u001b[0;34m(self, filename, metadata)\u001b[0m\n\u001b[1;32m    711\u001b[0m \u001b[38;5;28mself\u001b[39m\u001b[38;5;241m.\u001b[39moriginal_file_like \u001b[38;5;241m=\u001b[39m \u001b[38;5;28;01mNone\u001b[39;00m\n\u001b[1;32m    712\u001b[0m \u001b[38;5;28mself\u001b[39m\u001b[38;5;241m.\u001b[39mtell_base \u001b[38;5;241m=\u001b[39m \u001b[38;5;241m0\u001b[39m\n\u001b[0;32m--> 713\u001b[0m fh, opened \u001b[38;5;241m=\u001b[39m \u001b[43mcbook\u001b[49m\u001b[38;5;241;43m.\u001b[39;49m\u001b[43mto_filehandle\u001b[49m\u001b[43m(\u001b[49m\u001b[43mfilename\u001b[49m\u001b[43m,\u001b[49m\u001b[43m \u001b[49m\u001b[38;5;124;43m\"\u001b[39;49m\u001b[38;5;124;43mwb\u001b[39;49m\u001b[38;5;124;43m\"\u001b[39;49m\u001b[43m,\u001b[49m\u001b[43m \u001b[49m\u001b[43mreturn_opened\u001b[49m\u001b[38;5;241;43m=\u001b[39;49m\u001b[38;5;28;43;01mTrue\u001b[39;49;00m\u001b[43m)\u001b[49m\n\u001b[1;32m    714\u001b[0m \u001b[38;5;28;01mif\u001b[39;00m \u001b[38;5;129;01mnot\u001b[39;00m opened:\n\u001b[1;32m    715\u001b[0m     \u001b[38;5;28;01mtry\u001b[39;00m:\n",
      "File \u001b[0;32m~/.local/lib/python3.9/site-packages/matplotlib/cbook/__init__.py:489\u001b[0m, in \u001b[0;36mto_filehandle\u001b[0;34m(fname, flag, return_opened, encoding)\u001b[0m\n\u001b[1;32m    487\u001b[0m         fh \u001b[38;5;241m=\u001b[39m bz2\u001b[38;5;241m.\u001b[39mBZ2File(fname, flag)\n\u001b[1;32m    488\u001b[0m     \u001b[38;5;28;01melse\u001b[39;00m:\n\u001b[0;32m--> 489\u001b[0m         fh \u001b[38;5;241m=\u001b[39m \u001b[38;5;28;43mopen\u001b[39;49m\u001b[43m(\u001b[49m\u001b[43mfname\u001b[49m\u001b[43m,\u001b[49m\u001b[43m \u001b[49m\u001b[43mflag\u001b[49m\u001b[43m,\u001b[49m\u001b[43m \u001b[49m\u001b[43mencoding\u001b[49m\u001b[38;5;241;43m=\u001b[39;49m\u001b[43mencoding\u001b[49m\u001b[43m)\u001b[49m\n\u001b[1;32m    490\u001b[0m     opened \u001b[38;5;241m=\u001b[39m \u001b[38;5;28;01mTrue\u001b[39;00m\n\u001b[1;32m    491\u001b[0m \u001b[38;5;28;01melif\u001b[39;00m \u001b[38;5;28mhasattr\u001b[39m(fname, \u001b[38;5;124m'\u001b[39m\u001b[38;5;124mseek\u001b[39m\u001b[38;5;124m'\u001b[39m):\n",
      "\u001b[0;31mFileNotFoundError\u001b[0m: [Errno 2] No such file or directory: '/mnt/c/Users/coren/AMOLF-SHIMIZU Dropbox/HFSP_symbiotic-networks/Article_TravellingWave/rebuttal/Material4Rebuttal/FigModelP/FigureB.pdf'"
     ]
    },
    {
     "data": {
      "application/vnd.jupyter.widget-view+json": {
       "model_id": "8b6828b11114473a83ea9e91c0bf47e2",
       "version_major": 2,
       "version_minor": 0
      },
      "image/png": "[encoded data removed]",
      "text/html": [
       "\n",
       "            <div style=\"display: inline-block;\">\n",
       "                <div class=\"jupyter-widgets widget-label\" style=\"text-align: center;\">\n",
       "                    Figure\n",
       "                </div>\n",
       "                <img src='data:image/png;base64,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' width=157.4803149606299/>\n",
       "            </div>\n",
       "        "
      ],
      "text/plain": [
       "Canvas(toolbar=Toolbar(toolitems=[('Home', 'Reset original view', 'home', 'home'), ('Back', 'Back to previous …"
      ]
     },
     "metadata": {},
     "output_type": "display_data"
    }
   ],
   "source": [
    "fig,ax = plt.subplots(2,1,sharex=True,figsize = (4*cm,4.396))\n",
    "# fig,ax = plt.subplots(2,1,sharex=True)\n",
    "\n",
    "ax[0].plot(1000*speeds,Pacqus)\n",
    "ax[1].plot(1000*speeds,Pcosts)\n",
    "ax[1].set_xlabel('$v_{wave}$ ($\\mu m/h$)')\n",
    "ax[1].set_ylabel('$\\pi$ ($\\mu gC/ \\mu gP$)')\n",
    "ax[0].set_ylabel('$m_P$ ($\\mu gP/mm$)')\n",
    "# plt.savefig(os.path.join(path_figure,f'FigureB.pdf'), transparent=True, bbox_inches='tight')\n"
   ]
  },
  {
   "cell_type": "code",
   "execution_count": null,
   "id": "f156d250-6694-47a4-be44-e9696704f34d",
   "metadata": {},
   "outputs": [],
   "source": [
    "dvaev"
   ]
  },
  {
   "cell_type": "code",
   "execution_count": null,
   "id": "16325e19-2988-49fd-bb44-5990d10eedcd",
   "metadata": {
    "tags": []
   },
   "outputs": [],
   "source": [
    "fig,ax = plt.subplots()\n",
    "ts = np.linspace(1, sim.T, sim.nT)\n",
    "ax.plot(ts,P_prices)\n",
    "ax.hlines(Pprice_ideal,np.min(ts),np.max(ts),color=\"red\")\n",
    "# ax.set_yscale(\"log\")"
   ]
  },
  {
   "cell_type": "code",
   "execution_count": null,
   "id": "7107cfe6-1bb9-4497-9024-a20c0f330108",
   "metadata": {
    "tags": []
   },
   "outputs": [],
   "source": [
    "fig,ax = plt.subplots()\n",
    "ts = np.linspace(1, sim.T, sim.nT)\n",
    "ax.plot(ts,alphavals)\n",
    "# ax.set_yscale(\"log\")"
   ]
  },
  {
   "cell_type": "code",
   "execution_count": null,
   "id": "d492964c-90a7-42e3-a700-5ee405c68fef",
   "metadata": {
    "tags": []
   },
   "outputs": [],
   "source": [
    "speed+2*np.sqrt(sim.D*sim.alphval)"
   ]
  },
  {
   "cell_type": "code",
   "execution_count": null,
   "id": "bc78f7d3-a7c9-45af-9550-7e2d496fb947",
   "metadata": {
    "tags": []
   },
   "outputs": [],
   "source": [
    "poss = np.argmax(n_xt,axis=1)\n",
    "x = np.linspace(0,sim.T,sim.nT)\n",
    "y = np.array(poss)*sim.Length/sim.nx\n",
    "fit_coeffs = np.polyfit(x[3*sim.nT//4:], y[3*sim.nT//4:], 1)\n",
    "fit_line = np.polyval(fit_coeffs, x)\n",
    "\n",
    "# Plot data and linear fit\n",
    "fig, ax = plt.subplots()\n",
    "ax.plot(x, y)\n",
    "ax.plot(x, fit_line, 'r--')\n",
    "ax.set_xlabel('t (h)')\n",
    "ax.set_ylabel('x ($mm$)')\n",
    "print(fit_coeffs[0])"
   ]
  },
  {
   "cell_type": "code",
   "execution_count": null,
   "id": "f7d3698b-580c-42af-b8d0-636848d82a47",
   "metadata": {
    "tags": []
   },
   "outputs": [],
   "source": [
    "T = 600\n",
    "nT = 1200\n",
    "def get_rhosat(speed,C0=10,Pprice_ideal = 1/15):\n",
    "    sim = Simulation(speed = speed,C0=C0,T = T,nT=nT,Pprice_ideal = Pprice_ideal,Fmax = Vmax,adaptation_rate = 3e-4,drag = 1)\n",
    "    C_xt, rho_xt, n_xt,P_prices,_ = sim.integrate(plot=False)\n",
    "    rho_sat = np.median([rho for rho in rho_xt[-1] if rho>0.1])\n",
    "    poss = np.argmax(n_xt,axis=1)\n",
    "    x = np.linspace(0,sim.T,sim.nT)\n",
    "    y = np.array(poss)*sim.Length/sim.nx\n",
    "    fit_coeffs = np.polyfit(x[3*sim.nT//4:], y[3*sim.nT//4:], 1)\n",
    "    return(rho_sat,fit_coeffs[0])"
   ]
  },
  {
   "cell_type": "code",
   "execution_count": null,
   "id": "7c153168-f874-4fc8-8e85-ee3e685f8154",
   "metadata": {
    "tags": []
   },
   "outputs": [],
   "source": [
    "plt.close('all')\n",
    "speeds = np.linspace(0.16,0.26,15)\n",
    "C0=0.5\n",
    "Pprice_ideal = 0.8\n",
    "rho_sats_speeds = [get_rhosat(speed,C0=C0,Pprice_ideal = Pprice_ideal) for speed in speeds]\n",
    "    "
   ]
  },
  {
   "cell_type": "code",
   "execution_count": null,
   "id": "8885c3cd-b865-4481-8513-b5c61d819868",
   "metadata": {
    "tags": []
   },
   "outputs": [],
   "source": [
    "speeds_observed = [speed for _,speed in rho_sats_speeds]\n",
    "rho_sats = [rho for rho,_ in rho_sats_speeds]"
   ]
  },
  {
   "cell_type": "code",
   "execution_count": null,
   "id": "237c05fd-798e-4390-a90a-92cd48a8333b",
   "metadata": {
    "tags": []
   },
   "outputs": [],
   "source": [
    "path_figure = r\"/mnt/c/Users/coren/Documents/PhD/paper/PandC/Fig4\"\n"
   ]
  },
  {
   "cell_type": "code",
   "execution_count": null,
   "id": "66e4c59c-57b2-44a3-ae15-ce93773edf46",
   "metadata": {
    "tags": []
   },
   "outputs": [],
   "source": [
    "\n",
    "import pandas as pd\n",
    "import seaborn as sns\n",
    "df = pd.read_csv(\"expexptradeoff.csv\")\n",
    "df['instant_L_dens']=df['instant_L_dens']/1000\n",
    "n_colors = len(df['strain'].unique())\n",
    "\n",
    "palette = sns.color_palette(\"rainbow\", n_colors)\n",
    "strain_to_color = dict(zip(df['strain'].unique(), palette))"
   ]
  },
  {
   "cell_type": "code",
   "execution_count": null,
   "id": "32baa754-c101-4639-8f42-7f4eec17f228",
   "metadata": {
    "tags": []
   },
   "outputs": [],
   "source": [
    "plt.style.use('presentation.mplstyle')\n",
    "cm = 1/2.54  # centimeters in inches\n",
    "\n",
    "fig,ax = plt.subplots(figsize = (6*cm,4*cm))\n",
    "# fig,ax = plt.subplots()\n",
    "\n",
    "ax.plot(np.array(speeds)*1000,rho_sats,color=\"black\")\n",
    "sns.scatterplot(data = df,x='hull_speed',y='instant_L_dens',hue='strain',s=50,palette=strain_to_color)\n",
    "# ax.set_xscale(\"log\")\n",
    "# ax.set_yscale(\"log\")\n",
    "ax.set_xlabel('$v_{wave}$ (um/h)')\n",
    "ax.set_ylabel('$d_{L}$ \\n ($mm/mm^2$)')\n",
    "# plt.tight_layout()\n",
    "plt.legend().remove()\n",
    "\n",
    "plt.savefig(os.path.join(path_figure,'Figure4modelA.pdf'), transparent=True, bbox_inches='tight')\n"
   ]
  },
  {
   "cell_type": "code",
   "execution_count": null,
   "id": "07e57e7a-c8c3-4d5b-90c1-53e0e5586f9c",
   "metadata": {
    "tags": []
   },
   "outputs": [],
   "source": [
    "fig,ax = plt.subplots()\n",
    "ax.scatter(speeds,speeds_observed)\n",
    "fit_coeffs = np.polyfit(speeds, speeds_observed, 1)\n",
    "x = [0,0.30]\n",
    "fit_line = np.polyval(fit_coeffs, x)\n",
    "\n",
    "# Plot data and linear fit\n",
    "ax.plot(x, fit_line, 'r--')\n",
    "# ax.set_xscale(\"log\")\n",
    "# ax.set_yscale(\"log\")"
   ]
  }
 ],
 "metadata": {
  "kernelspec": {
   "display_name": "Python 3 (ipykernel)",
   "language": "python",
   "name": "python3"
  },
  "language_info": {
   "codemirror_mode": {
    "name": "ipython",
    "version": 3
   },
   "file_extension": ".py",
   "mimetype": "text/x-python",
   "name": "python",
   "nbconvert_exporter": "python",
   "pygments_lexer": "ipython3",
   "version": "3.9.18"
  }
 },
 "nbformat": 4,
 "nbformat_minor": 5
}
