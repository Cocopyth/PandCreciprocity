{
 "cells": [
  {
   "cell_type": "code",
   "execution_count": 1,
   "id": "c0cea6e4-a16d-48df-8d2c-983c960b78f4",
   "metadata": {
    "tags": []
   },
   "outputs": [
    {
     "data": {
      "text/plain": [
       "(3.6, 0.0032500000000000003, 0.0035)"
      ]
     },
     "execution_count": 1,
     "metadata": {},
     "output_type": "execute_result"
    }
   ],
   "source": [
    "Vmax = 3.25e-9 #ugP/um2/hour\n",
    "Vmax = Vmax*1e6 #ugP.mm-2.hour-1\n",
    "DP = 1e-5 #cm**2-s-1, diffusion coefficient of small ions in water\n",
    "DP = DP*1e2*3600 #mm**2-h-1, diffusion coefficient of small ions in water\n",
    "C0 = 3.5 #ug/mL=ug/cm**-3\n",
    "C0 = 3.5*1e-3 #ug/mm**-3\n",
    "\n",
    "DP,Vmax,C0"
   ]
  },
  {
   "cell_type": "code",
   "execution_count": 2,
   "id": "f1689dce-37e5-422f-b0e8-d0c0660ecbcc",
   "metadata": {
    "tags": []
   },
   "outputs": [
    {
     "data": {
      "text/plain": [
       "8.173883497065242"
      ]
     },
     "execution_count": 2,
     "metadata": {},
     "output_type": "execute_result"
    }
   ],
   "source": [
    "import numpy as np\n",
    "V = 26*1e3 #mm3\n",
    "r = 45 #mm\n",
    "V/(np.pi*r**2/2)"
   ]
  },
  {
   "cell_type": "code",
   "execution_count": 3,
   "id": "9ac4c9da-9cbe-423a-a10c-39cf976c9f4e",
   "metadata": {
    "tags": []
   },
   "outputs": [
    {
     "data": {
      "text/plain": [
       "0.5"
      ]
     },
     "execution_count": 3,
     "metadata": {},
     "output_type": "execute_result"
    }
   ],
   "source": [
    "C0 = 500 #mg.L-1\n",
    "C0 = 500*1e3 #ug.L-1\n",
    "C0 = C0 * 1e-3 #ug.cm-3\n",
    "C0 = C0 *1e-3 #ug.mm-3\n",
    "C0"
   ]
  },
  {
   "cell_type": "code",
   "execution_count": 4,
   "id": "8fdbed0f-b80f-4c6d-bb04-328353da372d",
   "metadata": {
    "tags": []
   },
   "outputs": [],
   "source": [
    "def signed_sqrt(x,alpha = 1/2):\n",
    "    \"\"\"Return the signed square root of a number.\"\"\"\n",
    "    if x >= 0:\n",
    "        return x**alpha\n",
    "    else:\n",
    "        return -(-x)**alpha"
   ]
  },
  {
   "cell_type": "code",
   "execution_count": 5,
   "id": "9fb56d66-80a2-4548-8d6b-4a2369eb6564",
   "metadata": {
    "tags": []
   },
   "outputs": [
    {
     "name": "stdout",
     "output_type": "stream",
     "text": [
      "['/home/cocopyth/PandC', '/home/cocopyth/miniconda3/envs/bvpy_manu/lib/python39.zip', '/home/cocopyth/miniconda3/envs/bvpy_manu/lib/python3.9', '/home/cocopyth/miniconda3/envs/bvpy_manu/lib/python3.9/lib-dynload', '', '/home/cocopyth/.local/lib/python3.9/site-packages', '/home/cocopyth/miniconda3/envs/bvpy_manu/lib/python3.9/site-packages', '/home/cocopyth/miniconda3/envs/bvpy_manu/lib/python3.9/site-packages/setuptools/_vendor', '/home/cocopyth/miniconda3/lib/python3.9/site-packages']\n"
     ]
    }
   ],
   "source": [
    "import sys\n",
    "sys.path.append('/home/cocopyth/miniconda3/lib/python3.9/site-packages')\n",
    "print(sys.path)\n"
   ]
  },
  {
   "cell_type": "code",
   "execution_count": 6,
   "id": "4aaec90a-7d42-4b63-9dba-e1367ac270c8",
   "metadata": {
    "tags": []
   },
   "outputs": [],
   "source": [
    "# !pip install tqdm\n",
    "from tqdm.notebook import tqdm  # Import tqdm\n"
   ]
  },
  {
   "cell_type": "code",
   "execution_count": 7,
   "id": "a44d3f13-6ff6-45fc-951c-708ff189310f",
   "metadata": {
    "tags": []
   },
   "outputs": [],
   "source": [
    "bp = 8.8"
   ]
  },
  {
   "cell_type": "code",
   "execution_count": 8,
   "id": "77d28f0f-4038-42cf-9919-dd194dd21bc6",
   "metadata": {
    "tags": []
   },
   "outputs": [
    {
     "data": {
      "text/plain": [
       "3.1e-05"
      ]
     },
     "execution_count": 8,
     "metadata": {},
     "output_type": "execute_result"
    }
   ],
   "source": [
    "Km = 1e-3 #umol/cm3\n",
    "Km *= 31 #ug/cm3\n",
    "Km *=1e-3 #ug/mm3\n",
    "Km_snchepf = Km \n",
    "Km_snchepf"
   ]
  },
  {
   "cell_type": "code",
   "execution_count": 9,
   "id": "04857000-8fff-429e-ae97-cb9dcdab7b02",
   "metadata": {
    "tags": []
   },
   "outputs": [
    {
     "name": "stderr",
     "output_type": "stream",
     "text": [
      "/tmp/ipykernel_11754/2281798834.py:20: MatplotlibDeprecationWarning: The get_cmap function was deprecated in Matplotlib 3.7 and will be removed two minor releases later. Use ``matplotlib.colormaps[name]`` or ``matplotlib.colormaps.get_cmap(obj)`` instead.\n",
      "  cmap3 = mpl.cm.get_cmap(\"autumn\")\n",
      "/tmp/ipykernel_11754/2281798834.py:21: MatplotlibDeprecationWarning: The get_cmap function was deprecated in Matplotlib 3.7 and will be removed two minor releases later. Use ``matplotlib.colormaps[name]`` or ``matplotlib.colormaps.get_cmap(obj)`` instead.\n",
      "  cmap4 = mpl.cm.get_cmap(\"summer\")\n"
     ]
    }
   ],
   "source": [
    "# !pip install tqdm\n",
    "from tqdm.notebook import tqdm  # Import tqdm\n",
    "import matplotlib.pyplot as plt\n",
    "path_figure = r\"/mnt/c/Users/coren/Documents/PhD/paper/PandC/Fig5\"\n",
    "plt.style.use('presentation.mplstyle')\n",
    "\n",
    "cm = 1/2.54  # centimeters in inches\n",
    "%matplotlib widget\n",
    "from dolfin import *\n",
    "import numpy as np\n",
    "import matplotlib as mpl\n",
    "import os\n",
    "import matplotlib.ticker as ticker\n",
    "import pandas as pd\n",
    "import seaborn as sns\n",
    "Length = 140*0.8\n",
    "nx = 350*15//10\n",
    "plt.close(\"all\")\n",
    "set_log_active(False)\n",
    "cmap3 = mpl.cm.get_cmap(\"autumn\")\n",
    "cmap4 = mpl.cm.get_cmap(\"summer\")\n",
    "\n",
    "class Simulation:\n",
    "    \"\"\"\n",
    "    A class for simulating a finite element problem using the FEniCS framework.\n",
    "\n",
    "    Attributes:\n",
    "    -----------\n",
    "    Length: float\n",
    "        Length of the interval domain.\n",
    "    nx: int\n",
    "        Number of subdivisions in the mesh.\n",
    "    nT: int\n",
    "        Number of time steps.\n",
    "    T: float\n",
    "        Total simulation time.\n",
    "    C0: float\n",
    "        Initial concentration value.\n",
    "    Fmax: float\n",
    "        Maximum flux value.\n",
    "    Pprice_ideal: float\n",
    "        Ideal price value.\n",
    "    width: float\n",
    "        Width of the plot.\n",
    "    height: float\n",
    "        Height of the plot.\n",
    "    \"\"\"\n",
    "    def __init__(self, Length=Length, nx=nx, nT=200, T=400, C0=10, Fmax=2, Pprice_ideal=20, width=3*cm, height=7*cm,speed = 0.230,adaptation_rate = 1e-4,drag = 0,D2 =3.6):\n",
    "        self.Length = Length\n",
    "        self.nx = nx\n",
    "        self.dx = Length/nx\n",
    "        self.nT = nT\n",
    "        self.T = T\n",
    "        self.dt = T/nT\n",
    "        self.C0 = C0 #ug.mm-3\n",
    "        self.Fmax = Fmax\n",
    "        self.Pprice_ideal = Pprice_ideal\n",
    "        self.width = width\n",
    "        self.height = height\n",
    "        self.speed = speed\n",
    "        self.adaptation_rate = adaptation_rate\n",
    "        self.speed_penalty = drag\n",
    "        self.r0 = 3e-3\n",
    "        self.D2 = D2\n",
    "        self._setup_simulation()\n",
    "        \n",
    "\n",
    "    def _setup_simulation(self):\n",
    "        # Set up the simulation: define mesh, function spaces, initial conditions, etc.\n",
    "        \"\"\"\n",
    "        Sets up the initial conditions and parameters for the simulation.\n",
    "        \"\"\"\n",
    "        # Create mesh and define function space\n",
    "        self.mesh = IntervalMesh(self.nx, 1, self.Length)\n",
    "        P1 = FiniteElement('P', interval, 1)\n",
    "        element = MixedElement([P1, P1, P1])\n",
    "        self.V = FunctionSpace(self.mesh, element)\n",
    "\n",
    "        # Define initial conditions\n",
    "        u0 = Expression(('0.9*exp(-1.2*pow(abs(x[0]-7),2))', \n",
    "                         f'(1-exp(-3*(x[0]-1)))*{self.C0}', '0*exp(-0.01*pow(abs(x[0]),2))'), degree=1)\n",
    "        rexp = Expression(('1/x[0]', '0', '0'), degree=1)\n",
    "        self.r = interpolate(rexp, self.V)\n",
    "        self.invr, _, _ = split(self.r)\n",
    "        self.u_n = interpolate(u0, self.V)\n",
    "\n",
    "        # Splitting functions for later use\n",
    "        self.u = Function(self.V)\n",
    "        self.n, self.C, self.rho = split(self.u)   #mm-3,ug.mm-3,mm2.mm-3\n",
    "        self.n_n, self.C_n, self.rho_n = split(self.u_n)\n",
    "        self.v_1, self.v_0, self.v_2 = TestFunctions(self.V)\n",
    "\n",
    "        # Set parameters and constants\n",
    "        self.dt = self.T / self.nT\n",
    "        self.alphval = 0.039 #.h-1\n",
    "        self.alphval0 = self.alphval\n",
    "        self.betaval = 0.022 #mm.h-1 length coefficient\n",
    "        # self.betaval = 0.022/(2.5e-3) #mm.h-1 SA coefficient\n",
    "        \n",
    "        self.beta = Constant(self.betaval) #mm**4.h-1\n",
    "        self.D = 0.0008 #mm**2.h-1\n",
    "        self.D0 = self.D #mm**2.h-1\n",
    "        \n",
    "        self.D2 = Constant(self.D2) #mm**2.h-1\n",
    "        self.n_mid = 0.5*(self.n_n + self.n)\n",
    "        self.v_sval = self.speed #mm.h-1\n",
    "        self.s_scal = self.speed #mm.h-1\n",
    "        self.v_s = Constant((self.v_sval,)) #mm.h-1\n",
    "        self.Vmax = self.Fmax #ug.mm**-2.h-1\n",
    "        self.Kp = Km_snchepf #ug.mm-3\n",
    "        # Boundary conditions\n",
    "        u_L = (Constant(0.0), Constant(0.0), Constant(0.0))\n",
    "        u_R = (Constant(0.0), Constant(self.C0), Constant(0.0))\n",
    "        bc_L0 = DirichletBC(self.V.sub(0), Constant(0.0), 'near(x[0], 1.0)')\n",
    "        bc_L2 = DirichletBC(self.V.sub(2), Constant(0.0), 'near(x[0], 1.0)')\n",
    "        # bc_L = DirichletBC(self.V, u_L, 'near(x[0], 1.0)')\n",
    "        bc_R = DirichletBC(self.V, u_R, f'near(x[0], {self.Length})')\n",
    "        self.bcs = [bc_L0,bc_L2, bc_R]\n",
    "\n",
    "    def _make_F(self, alphval,D,sval):\n",
    "        # Define the variational problem F\n",
    "        alpha = Constant(alphval)\n",
    "        D = Constant(D)\n",
    "        s_scal = Constant(sval)\n",
    "        # C_L =  self.C/bp\n",
    "        \n",
    "        # dn/dt\n",
    "        F = self.n*self.v_1*dx - self.n_n*self.v_1*dx \n",
    "        # D lapplacian(n)\n",
    "        F += D*dot(grad(self.n), grad(self.v_1))*self.dt*dx\n",
    "        # To account for cylindrical coordinates\n",
    "        F += self.invr*D*dot(grad(self.n), Constant((1,)))*self.v_1*self.dt*dx\n",
    "        \n",
    "        #v.grad(n)\n",
    "        F += self.dt*dot(grad(self.n_mid),self.v_s)*self.v_1*dx\n",
    "        # To account for cylindrical coordinates\n",
    "        F += self.invr*self.dt*self.n_mid*Constant(self.v_sval)*self.v_1*dx\n",
    "        \n",
    "        #alpha*n - beta * n * rho\n",
    "        F += self.beta*self.v_1*self.rho*(self.n)*self.dt*dx\n",
    "        F -= alpha*(self.n)*self.v_1*self.dt*dx\n",
    "        #d rho/dt = vn\n",
    "        F -= self.dt*s_scal*self.n*self.v_2*dx-(self.rho-self.rho_n)*self.v_2*dx\n",
    "\n",
    "\n",
    "        # dC/dt\n",
    "        F += self.C*self.v_0*dx - self.C_n*self.v_0*dx #ug.mm-3\n",
    "        # Vmax * rho * C/(C+Kp)\n",
    "        #Expression without any radius change\n",
    "        # F += 2*np.pi*self.Vmax*(self.rho/bp)*self.r0*(self.C/(self.Kp+self.C))*self.v_0*self.dt*dx #ug\n",
    "        #Expression with radius change\n",
    "        F += (self.v_sval/0.25)**(self.speed_penalty)*2*np.pi*self.Vmax*(self.rho/bp)*self.r0*(self.C/(self.Kp+self.C))*self.v_0*self.dt*dx #ug\n",
    "        # Diffusion \n",
    "        F += self.D2*dot(grad(self.C), grad(self.v_0))*self.dt*dx\n",
    "        # To account for cylindrical coordinates\n",
    "        F += self.invr*self.D2*dot(grad(self.C), Constant((1,)))*self.v_0*self.dt*dx\n",
    "        return F\n",
    "    \n",
    "    def integrate(self, plot=False,remove_ylabels = False):\n",
    "        \"\"\"\n",
    "        Integrate the problem over time and optionally plot the results.\n",
    "        Returns arrays of C(x, t), rho(x, t), and n(x, t) over the simulation.\n",
    "\n",
    "        Parameters:\n",
    "        -----------\n",
    "        plot: bool\n",
    "            If True, plot the results using matplotlib.\n",
    "\n",
    "        Returns:\n",
    "        --------\n",
    "        C_xt: list of arrays\n",
    "            Concentration C as a function of position x and time t.\n",
    "        rho_xt: list of arrays\n",
    "            Density rho as a function of position x and time t.\n",
    "        n_xt: list of arrays\n",
    "            Quantity n as a function of position x and time t.\n",
    "        \"\"\"\n",
    "        # Initialize arrays to store C(x, t), rho(x, t), and n(x, t)\n",
    "        C_xt = []\n",
    "        rho_xt = []\n",
    "        n_xt = []\n",
    "        P_prices = []\n",
    "        alphavals = []\n",
    "        # Initialize matplotlib plots if needed\n",
    "        if plot:\n",
    "            fig, axs = plt.subplots(3, 1, figsize=(self.width, self.height*0.75))\n",
    "            cmap = mpl.cm.get_cmap(\"winter\")\n",
    "            cmap2 = mpl.cm.get_cmap(\"spring\")\n",
    "\n",
    "        # Time-stepping loop\n",
    "        V2 = FunctionSpace(self.mesh, 'P', 1)\n",
    "        X = np.linspace(1, self.Length, self.nx)\n",
    "        i=0\n",
    "        tot_CCosts= [] \n",
    "        tot_Pacqus = []\n",
    "        for t in tqdm(np.linspace(0, self.T, self.nT), desc=\"Simulating\"):\n",
    "            F = self._make_F(self.alphval,self.D,self.s_scal)\n",
    "            solve(F == 0, self.u, self.bcs)\n",
    "            self.u_n.assign(self.u)\n",
    "            _n, _C, _rho = self.u.split()\n",
    "\n",
    "            # Interpolate and store the results\n",
    "            n_field = interpolate(_n, V2)\n",
    "            rho_field = interpolate(_rho, V2)\n",
    "            C_field = interpolate(_C, V2)\n",
    "            Ccost = np.pi*np.sum([n_field(x)*x*self.dx*self.v_sval for x in X]) #mm.h-1\n",
    "            Ccost *= np.pi*(self.r0)**2 #mm**3.h-1\n",
    "            Ccost *= 1e-3  #mL.mm-1.h-1=dm**3.h-1\n",
    "            \n",
    "            Ccost *= 0.5*0.21*1.1 #g.h-1\n",
    "            Ccost *= 1e6 #ug.h-1\n",
    "            Ccost *= 2 #respiration\n",
    "            \n",
    "            Ccost *= (self.v_sval/0.25)**(self.speed_penalty)\n",
    "            Pacquisition = np.pi*np.sum([self.Vmax*(C_field(x)/(C_field(x)+self.Kp))*rho_field(x)*x*self.dx for x in X]) #ug.h-1.mm-2\n",
    "            Pacquisition *= 2*self.r0*np.pi #ug.mm-1\n",
    "            # Pacquisition += 5e-4*np.exp(-t/100)\n",
    "            tot_CCosts.append(Ccost) \n",
    "            tot_Pacqus.append(Pacquisition)\n",
    "            # Pprice = Ccost/Pacquisition\n",
    "            integrated_CCost = np.sum(tot_CCosts[-10*self.T//self.nT:])\n",
    "            integrated_Pacqu = np.sum(tot_Pacqus[-10*self.T//self.nT:])\n",
    "            \n",
    "            Pprice = integrated_CCost/integrated_Pacqu\n",
    "\n",
    "            alphavals.append(self.alphval)\n",
    "            if t>=0:\n",
    "                # self.s_scal = self.Pprice_ideal/Pprice*self.speed\n",
    "                self.alphval = max(0.001,self.alphval + self.dt*self.adaptation_rate*(t/50)**2*signed_sqrt((self.Pprice_ideal-Pprice)/self.Pprice_ideal,alpha = 1))\n",
    "            # print(self.alphval)\n",
    "            self.D = self.D0*self.alphval0/self.alphval\n",
    "            # print(2*(np.sqrt(self.D*self.alphval)))\n",
    "            n_xt.append([n_field(x) for x in X])\n",
    "            rho_xt.append([rho_field(x) for x in X])\n",
    "            C_xt.append([C_field(x) for x in X])\n",
    "            P_prices.append(Pprice)\n",
    "            # print(Pprice,self.alphval)\n",
    "            if plot and i % (self.nT//5) == 0:\n",
    "                axs[1].plot(X, n_xt[-1], color=cmap2(t / self.T))\n",
    "                axs[0].plot(X, rho_xt[-1], color=cmap(t / self.T))\n",
    "                axs[2].plot(X, np.array(C_xt[-1])*1000, color=cmap3(t / self.T))\n",
    "                # Pacq =  [2*self.r0*np.pi*C_xt[-1][i]/(C_xt[-1][i]+self.Kp) * rho_xt[-1][i]*Vmax*1000 for i in range(len(X))]\n",
    "\n",
    "                # axs[3].plot(X, Pacq, color=cmap4(t / self.T))\n",
    "                # break\n",
    "            i+=1\n",
    "            \n",
    "\n",
    "        # Finalize plot settings if plotting\n",
    "        if plot:\n",
    "            axs[1].plot(X, n_xt[-1], color=cmap2(t / self.T))\n",
    "            axs[0].plot(X, rho_xt[-1], color=cmap(t / self.T))\n",
    "            satrho = np.median([rho for rho in rho_xt[-1] if rho>1e-10])\n",
    "            \n",
    "            # axs[0].hlines(satrho,np.min(X),np.max(X), color=\"red\")\n",
    "            \n",
    "            # axs[2].plot(X, np.array(C_xt[-1])*1000/bp, color=cmap3(t / self.T))\n",
    "            Pacq =  [2*self.r0*np.pi*C_xt[-1][i]/(C_xt[-1][i]+self.Kp) * rho_xt[-1][i]*Vmax*1000 for i in range(len(X))]\n",
    "            # axs[3].plot(X, Pacq, color=cmap4(t / self.T))\n",
    "            axs[0].set_ylabel(r'$\\rho$'+ '\\n $(mm^{-1})$')\n",
    "            axs[0].set_xticklabels([])\n",
    "            axs[0].set_ylim(0,8)\n",
    "            \n",
    "            axs[1].set_ylabel('$n$ \\n $(mm^{-2})$')\n",
    "            axs[1].set_xticklabels([])\n",
    "            axs[1].set_ylim(0,4)\n",
    "            \n",
    "#             axs[2].set_ylabel('$[P]$ \\n ($ng/ mm^{3}$)')\n",
    "#             axs[2].set_xticklabels([])\n",
    "#             axs[2].set_ylim(0,2)\n",
    "            \n",
    "#             axs[3].set_ylabel('$\\phi_P$ \\n ($ng/mm^{3}/h$)')\n",
    "\n",
    "            axs[1].set_xlabel('position \\n ($mm$)')\n",
    "#             axs[3].set_ylim(0,0.30)\n",
    "\n",
    "            formatter = ticker.FormatStrFormatter('%.2f')  # Adjust format as needed\n",
    "\n",
    "            for ax in axs:\n",
    "                ax.yaxis.set_major_formatter(formatter)\n",
    "            if remove_ylabels:\n",
    "                for ax in axs:\n",
    "                    ax.set_ylabel('')\n",
    "                    ax.set_yticklabels([])\n",
    "\n",
    "            plt.show()\n",
    "\n",
    "        return C_xt, rho_xt, n_xt,P_prices,alphavals\n",
    "        \n",
    "\n",
    "# Example usage:\n",
    "adaptation_rate = 8e-3\n",
    "C0=0.0014 #ug/mm2\n",
    "Pprice_ideal = 3\n",
    "speed = 0.17\n",
    "T = 100\n",
    "nT= 200\n",
    "# sim = Simulation(speed = speed,C0=C0,T = T,nT=nT,Pprice_ideal = Pprice_ideal,Fmax = Vmax,adaptation_rate = adaptation_rate,drag = 1)\n",
    "# C_xt, rho_xt, n_xt,P_prices,alphavals = sim.integrate(plot=True)\n",
    "# speed = 0.26\n",
    "\n",
    "# sim = Simulation(speed = speed,C0=C0,T = T,nT=nT,Pprice_ideal = Pprice_ideal,Fmax = Vmax,adaptation_rate = adaptation_rate,drag = 1)\n",
    "# C_xt, rho_xt, n_xt,P_prices,alphavals = sim.integrate(plot=True)"
   ]
  },
  {
   "cell_type": "code",
   "execution_count": 30,
   "id": "f7d3698b-580c-42af-b8d0-636848d82a47",
   "metadata": {
    "tags": []
   },
   "outputs": [],
   "source": [
    "D2 = 3.6\n",
    "def get_rhosat(speed,C0=10,Pprice_ideal = 1/15):\n",
    "    sim = Simulation(speed = speed,C0=C0,T = T,nT=nT,Pprice_ideal = Pprice_ideal,Fmax = Vmax,adaptation_rate = adaptation_rate,drag = 1,D2=D2)\n",
    "    C_xt, rho_xt, n_xt,P_prices,_ = sim.integrate(plot=False)\n",
    "    rho_sat = np.median([rho for rho in rho_xt[-1] if rho>0.1])\n",
    "    poss = np.argmax(n_xt,axis=1)\n",
    "    x = np.linspace(0,sim.T,sim.nT)\n",
    "    y = np.array(poss)*sim.Length/sim.nx\n",
    "    fit_coeffs = np.polyfit(x[3*sim.nT//4:], y[3*sim.nT//4:], 1)\n",
    "    return(rho_sat,fit_coeffs[0],[rho for rho in rho_xt[-1] if rho>0.1])"
   ]
  },
  {
   "cell_type": "code",
   "execution_count": 31,
   "id": "0a337024-d031-4bab-9e59-757f8a67b825",
   "metadata": {
    "tags": []
   },
   "outputs": [
    {
     "data": {
      "text/plain": [
       "1e-05"
      ]
     },
     "execution_count": 31,
     "metadata": {},
     "output_type": "execute_result"
    }
   ],
   "source": []
  },
  {
   "cell_type": "code",
   "execution_count": 32,
   "id": "7c153168-f874-4fc8-8e85-ee3e685f8154",
   "metadata": {
    "tags": []
   },
   "outputs": [
    {
     "data": {
      "application/vnd.jupyter.widget-view+json": {
       "model_id": "6a61e3168cbc4f7f8cd4f18d5671f8f6",
       "version_major": 2,
       "version_minor": 0
      },
      "text/plain": [
       "Simulating:   0%|          | 0/200 [00:00<?, ?it/s]"
      ]
     },
     "metadata": {},
     "output_type": "display_data"
    },
    {
     "data": {
      "application/vnd.jupyter.widget-view+json": {
       "model_id": "79514c3e373741a49edc06dc51615ec2",
       "version_major": 2,
       "version_minor": 0
      },
      "text/plain": [
       "Simulating:   0%|          | 0/200 [00:00<?, ?it/s]"
      ]
     },
     "metadata": {},
     "output_type": "display_data"
    },
    {
     "data": {
      "application/vnd.jupyter.widget-view+json": {
       "model_id": "65919e5127bd4163a8920b7d48526b5f",
       "version_major": 2,
       "version_minor": 0
      },
      "text/plain": [
       "Simulating:   0%|          | 0/200 [00:00<?, ?it/s]"
      ]
     },
     "metadata": {},
     "output_type": "display_data"
    },
    {
     "data": {
      "application/vnd.jupyter.widget-view+json": {
       "model_id": "3c57fadd677e4cd79fe64ebb7e0c1391",
       "version_major": 2,
       "version_minor": 0
      },
      "text/plain": [
       "Simulating:   0%|          | 0/200 [00:00<?, ?it/s]"
      ]
     },
     "metadata": {},
     "output_type": "display_data"
    },
    {
     "data": {
      "application/vnd.jupyter.widget-view+json": {
       "model_id": "21b52406833147aab1af0241b7c3b9cb",
       "version_major": 2,
       "version_minor": 0
      },
      "text/plain": [
       "Simulating:   0%|          | 0/200 [00:00<?, ?it/s]"
      ]
     },
     "metadata": {},
     "output_type": "display_data"
    },
    {
     "data": {
      "application/vnd.jupyter.widget-view+json": {
       "model_id": "b92ba5b67ed9435493d798dee251ac6e",
       "version_major": 2,
       "version_minor": 0
      },
      "text/plain": [
       "Simulating:   0%|          | 0/200 [00:00<?, ?it/s]"
      ]
     },
     "metadata": {},
     "output_type": "display_data"
    },
    {
     "data": {
      "application/vnd.jupyter.widget-view+json": {
       "model_id": "4ce79f256d394266a7b0e5dec648fafa",
       "version_major": 2,
       "version_minor": 0
      },
      "text/plain": [
       "Simulating:   0%|          | 0/200 [00:00<?, ?it/s]"
      ]
     },
     "metadata": {},
     "output_type": "display_data"
    },
    {
     "data": {
      "application/vnd.jupyter.widget-view+json": {
       "model_id": "739500ad45dc4ac381f0065376387e87",
       "version_major": 2,
       "version_minor": 0
      },
      "text/plain": [
       "Simulating:   0%|          | 0/200 [00:00<?, ?it/s]"
      ]
     },
     "metadata": {},
     "output_type": "display_data"
    },
    {
     "data": {
      "application/vnd.jupyter.widget-view+json": {
       "model_id": "b4fd1716de6843858cf56e036c7f4f14",
       "version_major": 2,
       "version_minor": 0
      },
      "text/plain": [
       "Simulating:   0%|          | 0/200 [00:00<?, ?it/s]"
      ]
     },
     "metadata": {},
     "output_type": "display_data"
    },
    {
     "data": {
      "application/vnd.jupyter.widget-view+json": {
       "model_id": "165fbb8a06504e61abbddc260aa2a95f",
       "version_major": 2,
       "version_minor": 0
      },
      "text/plain": [
       "Simulating:   0%|          | 0/200 [00:00<?, ?it/s]"
      ]
     },
     "metadata": {},
     "output_type": "display_data"
    }
   ],
   "source": [
    "plt.close('all')\n",
    "speeds = np.linspace(0.11,0.26,10)\n",
    "\n",
    "rho_sats_speeds = [get_rhosat(speed,C0=C0,Pprice_ideal = Pprice_ideal) for speed in speeds]\n",
    "    "
   ]
  },
  {
   "cell_type": "code",
   "execution_count": 33,
   "id": "8885c3cd-b865-4481-8513-b5c61d819868",
   "metadata": {
    "tags": []
   },
   "outputs": [],
   "source": [
    "speeds_observed = [speed for _,speed,_ in rho_sats_speeds]\n",
    "rho_sats = [rho for rho,_,_ in rho_sats_speeds]\n",
    "\n",
    "rho_all = [(speed,rho) for _,speed,rhos in rho_sats_speeds for rho in rhos]"
   ]
  },
  {
   "cell_type": "code",
   "execution_count": 34,
   "id": "df5335ad-100e-4d10-b91c-0521b9be1397",
   "metadata": {
    "tags": []
   },
   "outputs": [],
   "source": [
    "speeds_observed2 = [speed for speed,_ in rho_all]\n",
    "rho_observed2 = [rho for _,rho in rho_all]\n"
   ]
  },
  {
   "cell_type": "code",
   "execution_count": 35,
   "id": "83868a99-6109-4500-a164-28e858b0e6d6",
   "metadata": {
    "tags": []
   },
   "outputs": [],
   "source": [
    "data = pd.DataFrame({\n",
    "    'speed': speeds_observed2,\n",
    "    'rho': rho_observed2\n",
    "})\n",
    "data['speed']=data['speed']*1000"
   ]
  },
  {
   "cell_type": "code",
   "execution_count": 36,
   "id": "237c05fd-798e-4390-a90a-92cd48a8333b",
   "metadata": {
    "tags": []
   },
   "outputs": [],
   "source": [
    "path_figure = r\"/mnt/c/Users/coren/Documents/PhD/paper/PandC/Fig5\"\n"
   ]
  },
  {
   "cell_type": "code",
   "execution_count": 11,
   "id": "66e4c59c-57b2-44a3-ae15-ce93773edf46",
   "metadata": {
    "tags": []
   },
   "outputs": [],
   "source": [
    "\n",
    "\n",
    "df = pd.read_csv(\"expexptradeoff.csv\")\n",
    "df['instant_L_dens']=df['instant_L_dens']/1000\n",
    "strain_to_color = {'C2': (0.17058823529411765, 0.4946558433997788, 0.9667184042691874),\n",
    " 'A5': (0.16666666666666663, 0.8660254037844386, 0.8660254037844387),\n",
    " 'Agg': (0.503921568627451, 0.9999810273487268, 0.7049255469061472),\n",
    " 'Clarum': (0.8333333333333333, 0.8660254037844387, 0.5000000000000001),\n",
    " 'C3': (1.0, 0.4946558433997788, 0.2558427775944356)}"
   ]
  },
  {
   "cell_type": "code",
   "execution_count": 39,
   "id": "32baa754-c101-4639-8f42-7f4eec17f228",
   "metadata": {
    "tags": []
   },
   "outputs": [
    {
     "data": {
      "text/plain": [
       "Text(0.5, 1.0, 'Diffusion coefficient=1e-05')"
      ]
     },
     "execution_count": 39,
     "metadata": {},
     "output_type": "execute_result"
    },
    {
     "data": {
      "application/vnd.jupyter.widget-view+json": {
       "model_id": "80c4134dc4d4486d949a87acf4b6655c",
       "version_major": 2,
       "version_minor": 0
      },
      "image/png": "[encoded data removed]",
      "text/html": [
       "\n",
       "            <div style=\"display: inline-block;\">\n",
       "                <div class=\"jupyter-widgets widget-label\" style=\"text-align: center;\">\n",
       "                    Figure\n",
       "                </div>\n",
       "                <img src='data:image/png;base64,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' width=800.0/>\n",
       "            </div>\n",
       "        "
      ],
      "text/plain": [
       "Canvas(toolbar=Toolbar(toolitems=[('Home', 'Reset original view', 'home', 'home'), ('Back', 'Back to previous …"
      ]
     },
     "metadata": {},
     "output_type": "display_data"
    }
   ],
   "source": [
    "plt.style.use('presentation.mplstyle')\n",
    "cm = 1/2.54  # centimeters in inches\n",
    "cm = 2  # centimeters in inches\n",
    "\n",
    "fig,ax = plt.subplots(figsize = (4*cm,3*cm))\n",
    "# fig,ax = plt.subplots()\n",
    "\n",
    "# ax.plot(np.array(speeds_observed)*1000,rho_sats,color=\"black\")\n",
    "# ax.scatter(np.array(speeds_observed2)*1000,rho_observed2,color=\"black\")\n",
    "lineplot = sns.lineplot(x='speed', y='rho', data=data, errorbar=('ci', 95), estimator='mean',color = \"black\")\n",
    "# ax.plot(np.array(speeds)*1000,rho_sats2,color=\"black\",linestyle = \"dashed\")\n",
    "select = df[df['instant_L_dens']>0]\n",
    "select = select[select['hull_speed']<280]\n",
    "\n",
    "sns.scatterplot(data = select,x='hull_speed',y='instant_L_dens',hue='strain',s=50,palette=strain_to_color)\n",
    "# ax.set_xscale(\"log\")\n",
    "# ax.set_yscale(\"log\")\n",
    "ax.set_xlabel('$v_{wave}$ (um/h)')\n",
    "ax.set_ylabel('$d_{L}$ \\n ($mm/mm^2$)')\n",
    "# plt.tight_layout()\n",
    "plt.legend().remove()\n",
    "plt.title(F\"Diffusion coefficient={D2/1e2/3600}\")\n",
    "# plt.savefig(os.path.join(path_figure,'Figure5tradeoff.pdf'), transparent=True, bbox_inches='tight')\n"
   ]
  },
  {
   "cell_type": "code",
   "execution_count": null,
   "id": "800531df-780c-480c-906e-b82077f13f04",
   "metadata": {},
   "outputs": [],
   "source": []
  },
  {
   "cell_type": "code",
   "execution_count": 19,
   "id": "1fe56b4e-e7d4-49c6-898d-f60f8874ca67",
   "metadata": {
    "tags": []
   },
   "outputs": [
    {
     "ename": "NameError",
     "evalue": "name 'rgzega' is not defined",
     "output_type": "error",
     "traceback": [
      "\u001b[0;31m---------------------------------------------------------------------------\u001b[0m",
      "\u001b[0;31mNameError\u001b[0m                                 Traceback (most recent call last)",
      "Cell \u001b[0;32mIn[19], line 1\u001b[0m\n\u001b[0;32m----> 1\u001b[0m \u001b[43mrgzega\u001b[49m\n",
      "\u001b[0;31mNameError\u001b[0m: name 'rgzega' is not defined"
     ]
    }
   ],
   "source": [
    "rgzega"
   ]
  },
  {
   "cell_type": "code",
   "execution_count": null,
   "id": "07e57e7a-c8c3-4d5b-90c1-53e0e5586f9c",
   "metadata": {
    "tags": []
   },
   "outputs": [],
   "source": [
    "fig,ax = plt.subplots()\n",
    "ax.scatter(speeds,speeds_observed)\n",
    "fit_coeffs = np.polyfit(speeds, speeds_observed, 1)\n",
    "x = [0,0.30]\n",
    "fit_line = np.polyval(fit_coeffs, x)\n",
    "\n",
    "# Plot data and linear fit\n",
    "ax.plot(x, fit_line, 'r--')\n",
    "# ax.set_xscale(\"log\")\n",
    "# ax.set_yscale(\"log\")"
   ]
  },
  {
   "cell_type": "code",
   "execution_count": 52,
   "id": "9904f56a-1921-4699-b9fa-7c845b52e669",
   "metadata": {
    "tags": []
   },
   "outputs": [
    {
     "data": {
      "application/vnd.jupyter.widget-view+json": {
       "model_id": "7e31326863874e98a1499ffc57a736fa",
       "version_major": 2,
       "version_minor": 0
      },
      "text/plain": [
       "Simulating:   0%|          | 0/200 [00:00<?, ?it/s]"
      ]
     },
     "metadata": {},
     "output_type": "display_data"
    },
    {
     "data": {
      "application/vnd.jupyter.widget-view+json": {
       "model_id": "c5972bd38ec1439e9446b56f15c4223c",
       "version_major": 2,
       "version_minor": 0
      },
      "text/plain": [
       "Simulating:   0%|          | 0/200 [00:00<?, ?it/s]"
      ]
     },
     "metadata": {},
     "output_type": "display_data"
    },
    {
     "data": {
      "application/vnd.jupyter.widget-view+json": {
       "model_id": "2e5a2a9b897f4feeb8d5c4923535a004",
       "version_major": 2,
       "version_minor": 0
      },
      "text/plain": [
       "Simulating:   0%|          | 0/200 [00:00<?, ?it/s]"
      ]
     },
     "metadata": {},
     "output_type": "display_data"
    },
    {
     "data": {
      "application/vnd.jupyter.widget-view+json": {
       "model_id": "d89b1a0c71644937b79c828990550341",
       "version_major": 2,
       "version_minor": 0
      },
      "text/plain": [
       "Simulating:   0%|          | 0/200 [00:00<?, ?it/s]"
      ]
     },
     "metadata": {},
     "output_type": "display_data"
    },
    {
     "data": {
      "application/vnd.jupyter.widget-view+json": {
       "model_id": "3c8b3b11a9f94d22bf10baa4c9e2bbde",
       "version_major": 2,
       "version_minor": 0
      },
      "text/plain": [
       "Simulating:   0%|          | 0/200 [00:00<?, ?it/s]"
      ]
     },
     "metadata": {},
     "output_type": "display_data"
    },
    {
     "data": {
      "application/vnd.jupyter.widget-view+json": {
       "model_id": "2dae042e55de4d0685503d26a373d6fd",
       "version_major": 2,
       "version_minor": 0
      },
      "text/plain": [
       "Simulating:   0%|          | 0/200 [00:00<?, ?it/s]"
      ]
     },
     "metadata": {},
     "output_type": "display_data"
    },
    {
     "data": {
      "application/vnd.jupyter.widget-view+json": {
       "model_id": "93be416769864837abfe28cd4128fa55",
       "version_major": 2,
       "version_minor": 0
      },
      "text/plain": [
       "Simulating:   0%|          | 0/200 [00:00<?, ?it/s]"
      ]
     },
     "metadata": {},
     "output_type": "display_data"
    },
    {
     "data": {
      "application/vnd.jupyter.widget-view+json": {
       "model_id": "53d64c730f404b4eb9b797ba7a8336a3",
       "version_major": 2,
       "version_minor": 0
      },
      "text/plain": [
       "Simulating:   0%|          | 0/200 [00:00<?, ?it/s]"
      ]
     },
     "metadata": {},
     "output_type": "display_data"
    },
    {
     "data": {
      "application/vnd.jupyter.widget-view+json": {
       "model_id": "8290e9253e064f15b8a0c580e5c376aa",
       "version_major": 2,
       "version_minor": 0
      },
      "text/plain": [
       "Simulating:   0%|          | 0/200 [00:00<?, ?it/s]"
      ]
     },
     "metadata": {},
     "output_type": "display_data"
    },
    {
     "data": {
      "application/vnd.jupyter.widget-view+json": {
       "model_id": "216fe21ed8c84969b5ade474345a77ab",
       "version_major": 2,
       "version_minor": 0
      },
      "text/plain": [
       "Simulating:   0%|          | 0/200 [00:00<?, ?it/s]"
      ]
     },
     "metadata": {},
     "output_type": "display_data"
    },
    {
     "data": {
      "application/vnd.jupyter.widget-view+json": {
       "model_id": "3bdf27bdc0a44dfab909fdec800c9009",
       "version_major": 2,
       "version_minor": 0
      },
      "text/plain": [
       "Simulating:   0%|          | 0/200 [00:00<?, ?it/s]"
      ]
     },
     "metadata": {},
     "output_type": "display_data"
    },
    {
     "data": {
      "application/vnd.jupyter.widget-view+json": {
       "model_id": "65df862ac00840adb4181a0d7260664f",
       "version_major": 2,
       "version_minor": 0
      },
      "text/plain": [
       "Simulating:   0%|          | 0/200 [00:00<?, ?it/s]"
      ]
     },
     "metadata": {},
     "output_type": "display_data"
    },
    {
     "data": {
      "application/vnd.jupyter.widget-view+json": {
       "model_id": "272988058ce44a29a0a1401722350770",
       "version_major": 2,
       "version_minor": 0
      },
      "text/plain": [
       "Simulating:   0%|          | 0/200 [00:00<?, ?it/s]"
      ]
     },
     "metadata": {},
     "output_type": "display_data"
    },
    {
     "data": {
      "application/vnd.jupyter.widget-view+json": {
       "model_id": "1f853257aa50432e9b2488b6e1084c40",
       "version_major": 2,
       "version_minor": 0
      },
      "text/plain": [
       "Simulating:   0%|          | 0/200 [00:00<?, ?it/s]"
      ]
     },
     "metadata": {},
     "output_type": "display_data"
    },
    {
     "data": {
      "application/vnd.jupyter.widget-view+json": {
       "model_id": "1120afe9f9a54c86a516744b6722ee9f",
       "version_major": 2,
       "version_minor": 0
      },
      "text/plain": [
       "Simulating:   0%|          | 0/200 [00:00<?, ?it/s]"
      ]
     },
     "metadata": {},
     "output_type": "display_data"
    },
    {
     "data": {
      "application/vnd.jupyter.widget-view+json": {
       "model_id": "68a45af20a284e0a996ce06b238cd72e",
       "version_major": 2,
       "version_minor": 0
      },
      "text/plain": [
       "Simulating:   0%|          | 0/200 [00:00<?, ?it/s]"
      ]
     },
     "metadata": {},
     "output_type": "display_data"
    },
    {
     "data": {
      "application/vnd.jupyter.widget-view+json": {
       "model_id": "97e9bb37723d445caf31b50d498c3b77",
       "version_major": 2,
       "version_minor": 0
      },
      "text/plain": [
       "Simulating:   0%|          | 0/200 [00:00<?, ?it/s]"
      ]
     },
     "metadata": {},
     "output_type": "display_data"
    },
    {
     "data": {
      "application/vnd.jupyter.widget-view+json": {
       "model_id": "6de9164be11c457f80970cf5c0944cd5",
       "version_major": 2,
       "version_minor": 0
      },
      "text/plain": [
       "Simulating:   0%|          | 0/200 [00:00<?, ?it/s]"
      ]
     },
     "metadata": {},
     "output_type": "display_data"
    },
    {
     "data": {
      "application/vnd.jupyter.widget-view+json": {
       "model_id": "cf3039c6a46f4c198685f21561d91ece",
       "version_major": 2,
       "version_minor": 0
      },
      "text/plain": [
       "Simulating:   0%|          | 0/200 [00:00<?, ?it/s]"
      ]
     },
     "metadata": {},
     "output_type": "display_data"
    },
    {
     "data": {
      "application/vnd.jupyter.widget-view+json": {
       "model_id": "22de189f2c1f44c8a9dc396a8300bd89",
       "version_major": 2,
       "version_minor": 0
      },
      "text/plain": [
       "Simulating:   0%|          | 0/200 [00:00<?, ?it/s]"
      ]
     },
     "metadata": {},
     "output_type": "display_data"
    },
    {
     "data": {
      "application/vnd.jupyter.widget-view+json": {
       "model_id": "1b5da7111bf54ebf8d25e67904068277",
       "version_major": 2,
       "version_minor": 0
      },
      "text/plain": [
       "Simulating:   0%|          | 0/200 [00:00<?, ?it/s]"
      ]
     },
     "metadata": {},
     "output_type": "display_data"
    },
    {
     "data": {
      "application/vnd.jupyter.widget-view+json": {
       "model_id": "3259c902041b453a98ca12e362847216",
       "version_major": 2,
       "version_minor": 0
      },
      "text/plain": [
       "Simulating:   0%|          | 0/200 [00:00<?, ?it/s]"
      ]
     },
     "metadata": {},
     "output_type": "display_data"
    },
    {
     "data": {
      "application/vnd.jupyter.widget-view+json": {
       "model_id": "25e40d3c7af64b15b17a1de457def436",
       "version_major": 2,
       "version_minor": 0
      },
      "text/plain": [
       "Simulating:   0%|          | 0/200 [00:00<?, ?it/s]"
      ]
     },
     "metadata": {},
     "output_type": "display_data"
    },
    {
     "data": {
      "application/vnd.jupyter.widget-view+json": {
       "model_id": "691523c64fd34bb4849e0133fb01cf8c",
       "version_major": 2,
       "version_minor": 0
      },
      "text/plain": [
       "Simulating:   0%|          | 0/200 [00:00<?, ?it/s]"
      ]
     },
     "metadata": {},
     "output_type": "display_data"
    },
    {
     "data": {
      "application/vnd.jupyter.widget-view+json": {
       "model_id": "ba3c6833dc8a4fc1bab4bc81e351ac77",
       "version_major": 2,
       "version_minor": 0
      },
      "text/plain": [
       "Simulating:   0%|          | 0/200 [00:00<?, ?it/s]"
      ]
     },
     "metadata": {},
     "output_type": "display_data"
    },
    {
     "data": {
      "application/vnd.jupyter.widget-view+json": {
       "model_id": "1baaf809fd874987a4b6ce2886369e6b",
       "version_major": 2,
       "version_minor": 0
      },
      "text/plain": [
       "Simulating:   0%|          | 0/200 [00:00<?, ?it/s]"
      ]
     },
     "metadata": {},
     "output_type": "display_data"
    },
    {
     "data": {
      "application/vnd.jupyter.widget-view+json": {
       "model_id": "ea9c8ed04ef54ec8b5db7a438e28838b",
       "version_major": 2,
       "version_minor": 0
      },
      "text/plain": [
       "Simulating:   0%|          | 0/200 [00:00<?, ?it/s]"
      ]
     },
     "metadata": {},
     "output_type": "display_data"
    },
    {
     "data": {
      "application/vnd.jupyter.widget-view+json": {
       "model_id": "a8c08925d99d464198a670637f779f47",
       "version_major": 2,
       "version_minor": 0
      },
      "text/plain": [
       "Simulating:   0%|          | 0/200 [00:00<?, ?it/s]"
      ]
     },
     "metadata": {},
     "output_type": "display_data"
    },
    {
     "data": {
      "application/vnd.jupyter.widget-view+json": {
       "model_id": "d746f4dc581449aea635fd1a4a415640",
       "version_major": 2,
       "version_minor": 0
      },
      "text/plain": [
       "Simulating:   0%|          | 0/200 [00:00<?, ?it/s]"
      ]
     },
     "metadata": {},
     "output_type": "display_data"
    },
    {
     "data": {
      "application/vnd.jupyter.widget-view+json": {
       "model_id": "d991ad9fa5ad45fa928e8bab050d4c2d",
       "version_major": 2,
       "version_minor": 0
      },
      "text/plain": [
       "Simulating:   0%|          | 0/200 [00:00<?, ?it/s]"
      ]
     },
     "metadata": {},
     "output_type": "display_data"
    },
    {
     "data": {
      "application/vnd.jupyter.widget-view+json": {
       "model_id": "03a3b1da69da45f095b4e751c937ccfb",
       "version_major": 2,
       "version_minor": 0
      },
      "text/plain": [
       "Simulating:   0%|          | 0/200 [00:00<?, ?it/s]"
      ]
     },
     "metadata": {},
     "output_type": "display_data"
    },
    {
     "data": {
      "application/vnd.jupyter.widget-view+json": {
       "model_id": "c798a6dc03cb4e4ea2e59646b07d8557",
       "version_major": 2,
       "version_minor": 0
      },
      "text/plain": [
       "Simulating:   0%|          | 0/200 [00:00<?, ?it/s]"
      ]
     },
     "metadata": {},
     "output_type": "display_data"
    },
    {
     "data": {
      "application/vnd.jupyter.widget-view+json": {
       "model_id": "bf36a83785024d979c5764eea8dd7a99",
       "version_major": 2,
       "version_minor": 0
      },
      "text/plain": [
       "Simulating:   0%|          | 0/200 [00:00<?, ?it/s]"
      ]
     },
     "metadata": {},
     "output_type": "display_data"
    },
    {
     "data": {
      "application/vnd.jupyter.widget-view+json": {
       "model_id": "26c8192d50734db79cd8438415cb98a5",
       "version_major": 2,
       "version_minor": 0
      },
      "text/plain": [
       "Simulating:   0%|          | 0/200 [00:00<?, ?it/s]"
      ]
     },
     "metadata": {},
     "output_type": "display_data"
    },
    {
     "data": {
      "application/vnd.jupyter.widget-view+json": {
       "model_id": "c6502a6f0cb94166a75892e7c3fd394b",
       "version_major": 2,
       "version_minor": 0
      },
      "text/plain": [
       "Simulating:   0%|          | 0/200 [00:00<?, ?it/s]"
      ]
     },
     "metadata": {},
     "output_type": "display_data"
    },
    {
     "data": {
      "application/vnd.jupyter.widget-view+json": {
       "model_id": "14b3835e1a874768834d3d31bb5bb5a5",
       "version_major": 2,
       "version_minor": 0
      },
      "text/plain": [
       "Simulating:   0%|          | 0/200 [00:00<?, ?it/s]"
      ]
     },
     "metadata": {},
     "output_type": "display_data"
    },
    {
     "data": {
      "application/vnd.jupyter.widget-view+json": {
       "model_id": "e435f8ffa24f4fde8f7fde56b695bc4d",
       "version_major": 2,
       "version_minor": 0
      },
      "text/plain": [
       "Simulating:   0%|          | 0/200 [00:00<?, ?it/s]"
      ]
     },
     "metadata": {},
     "output_type": "display_data"
    },
    {
     "data": {
      "application/vnd.jupyter.widget-view+json": {
       "model_id": "66613936b0584a4280d60ab70e739c4d",
       "version_major": 2,
       "version_minor": 0
      },
      "text/plain": [
       "Simulating:   0%|          | 0/200 [00:00<?, ?it/s]"
      ]
     },
     "metadata": {},
     "output_type": "display_data"
    },
    {
     "data": {
      "application/vnd.jupyter.widget-view+json": {
       "model_id": "79de6d47ec50403f868cdac0aee1c1be",
       "version_major": 2,
       "version_minor": 0
      },
      "text/plain": [
       "Simulating:   0%|          | 0/200 [00:00<?, ?it/s]"
      ]
     },
     "metadata": {},
     "output_type": "display_data"
    },
    {
     "data": {
      "application/vnd.jupyter.widget-view+json": {
       "model_id": "df249d0f2b6143c1af00b412b26c21d7",
       "version_major": 2,
       "version_minor": 0
      },
      "text/plain": [
       "Simulating:   0%|          | 0/200 [00:00<?, ?it/s]"
      ]
     },
     "metadata": {},
     "output_type": "display_data"
    },
    {
     "data": {
      "application/vnd.jupyter.widget-view+json": {
       "model_id": "39184380520347599515e92aa838cdee",
       "version_major": 2,
       "version_minor": 0
      },
      "image/png": "[encoded data removed]",
      "text/html": [
       "\n",
       "            <div style=\"display: inline-block;\">\n",
       "                <div class=\"jupyter-widgets widget-label\" style=\"text-align: center;\">\n",
       "                    Figure\n",
       "                </div>\n",
       "                <img src='data:image/png;base64,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' width=166.66666666666669/>\n",
       "            </div>\n",
       "        "
      ],
      "text/plain": [
       "Canvas(toolbar=Toolbar(toolitems=[('Home', 'Reset original view', 'home', 'home'), ('Back', 'Back to previous …"
      ]
     },
     "metadata": {},
     "output_type": "display_data"
    }
   ],
   "source": [
    "import numpy as np\n",
    "import pandas as pd\n",
    "import matplotlib.pyplot as plt\n",
    "import seaborn as sns\n",
    "import matplotlib.colors as mcolors\n",
    "\n",
    "cm = 1/2.4\n",
    "fig, ax = plt.subplots(figsize=(4*cm, 3*cm))\n",
    "\n",
    "select = df[df['instant_L_dens'] > 0]\n",
    "select = select[select['hull_speed'] < 280]\n",
    "\n",
    "sns.scatterplot(data=select, x='hull_speed', y='instant_L_dens', hue='strain', s=50, palette=strain_to_color)\n",
    "\n",
    "D2s = [0.036, 0.36, 3.6, 36]\n",
    "# D2s = [3.6]\n",
    "\n",
    "colors = plt.cm.viridis(np.linspace(0, 1, len(D2s)))  # Use a colormap\n",
    "\n",
    "norm = mcolors.LogNorm(vmin=min(D2s)/1e2/3600, vmax=max(D2s)/1e2/3600)  # Logarithmic normalization\n",
    "sm = plt.cm.ScalarMappable(cmap=plt.cm.viridis, norm=norm)\n",
    "sm.set_array([])  # For the colorbar\n",
    "\n",
    "for D2, color in zip(D2s, colors):\n",
    "    def get_rhosat(speed, C0=10, Pprice_ideal=1/15):\n",
    "        sim = Simulation(speed=speed, C0=C0, T=T, nT=nT, Pprice_ideal=Pprice_ideal, Fmax=Vmax, \n",
    "                         adaptation_rate=adaptation_rate, drag=1, D2=D2)\n",
    "        C_xt, rho_xt, n_xt, P_prices, _ = sim.integrate(plot=False)\n",
    "        rho_sat = np.median([rho for rho in rho_xt[-1] if rho > 0.1])\n",
    "        poss = np.argmax(n_xt, axis=1)\n",
    "        x = np.linspace(0, sim.T, sim.nT)\n",
    "        y = np.array(poss) * sim.Length / sim.nx\n",
    "        fit_coeffs = np.polyfit(x[3*sim.nT//4:], y[3*sim.nT//4:], 1)\n",
    "        return rho_sat, fit_coeffs[0], [rho for rho in rho_xt[-1] if rho > 0.1]\n",
    "\n",
    "    rho_sats_speeds = [get_rhosat(speed, C0=C0, Pprice_ideal=Pprice_ideal) for speed in speeds]\n",
    "    speeds_observed = [speed for _, speed, _ in rho_sats_speeds]\n",
    "    rho_sats = [rho for rho, _, _ in rho_sats_speeds]\n",
    "\n",
    "    rho_all = [(speed, rho) for _, speed, rhos in rho_sats_speeds for rho in rhos]\n",
    "    speeds_observed2 = [speed for speed, _ in rho_all]\n",
    "    rho_observed2 = [rho for _, rho in rho_all]\n",
    "\n",
    "    data = pd.DataFrame({'speed': np.array(speeds_observed2) * 1000, 'rho': rho_observed2})\n",
    "\n",
    "    sns.lineplot(x='speed', y='rho', data=data, errorbar=('ci', 95), estimator='mean', color=color, label=f\"D2={D2}\")\n",
    "\n",
    "plt.legend().remove()\n",
    "\n",
    "ax.set_xlabel('$v_{wave}$ (um/h)')\n",
    "ax.set_ylabel('$d_{L}$ \\n ($mm/mm^2$)')\n",
    "\n",
    "# Add colorbar for D2 values\n",
    "cbar = fig.colorbar(sm, ax=ax)\n",
    "cbar.set_label(\"$D_2$\")\n",
    "\n",
    "plt.show()\n"
   ]
  },
  {
   "cell_type": "code",
   "execution_count": 20,
   "id": "1b370668-2788-46fb-a0e6-54522ef543f3",
   "metadata": {
    "tags": []
   },
   "outputs": [
    {
     "data": {
      "text/plain": [
       "3"
      ]
     },
     "execution_count": 20,
     "metadata": {},
     "output_type": "execute_result"
    }
   ],
   "source": [
    "Pprice_ideal"
   ]
  },
  {
   "cell_type": "code",
   "execution_count": 21,
   "id": "8c210fd8-2ba3-4add-9e30-a199f06a2f53",
   "metadata": {
    "tags": []
   },
   "outputs": [
    {
     "data": {
      "application/vnd.jupyter.widget-view+json": {
       "model_id": "c84fcfa74ce04aab9e6a312cf21beb5c",
       "version_major": 2,
       "version_minor": 0
      },
      "text/plain": [
       "Simulating:   0%|          | 0/200 [00:00<?, ?it/s]"
      ]
     },
     "metadata": {},
     "output_type": "display_data"
    },
    {
     "data": {
      "application/vnd.jupyter.widget-view+json": {
       "model_id": "44ea236544064c4eb20b954a8b8c7652",
       "version_major": 2,
       "version_minor": 0
      },
      "text/plain": [
       "Simulating:   0%|          | 0/200 [00:00<?, ?it/s]"
      ]
     },
     "metadata": {},
     "output_type": "display_data"
    },
    {
     "data": {
      "application/vnd.jupyter.widget-view+json": {
       "model_id": "1ebb7af5bce840109f89c281414d64c4",
       "version_major": 2,
       "version_minor": 0
      },
      "text/plain": [
       "Simulating:   0%|          | 0/200 [00:00<?, ?it/s]"
      ]
     },
     "metadata": {},
     "output_type": "display_data"
    },
    {
     "data": {
      "application/vnd.jupyter.widget-view+json": {
       "model_id": "81b9b48a413947bea3c7f0304c770fe3",
       "version_major": 2,
       "version_minor": 0
      },
      "text/plain": [
       "Simulating:   0%|          | 0/200 [00:00<?, ?it/s]"
      ]
     },
     "metadata": {},
     "output_type": "display_data"
    },
    {
     "data": {
      "application/vnd.jupyter.widget-view+json": {
       "model_id": "e865765024334f5eb211685a1d596874",
       "version_major": 2,
       "version_minor": 0
      },
      "text/plain": [
       "Simulating:   0%|          | 0/200 [00:00<?, ?it/s]"
      ]
     },
     "metadata": {},
     "output_type": "display_data"
    },
    {
     "data": {
      "application/vnd.jupyter.widget-view+json": {
       "model_id": "26d9cdf075464a728c0881f6745f12d6",
       "version_major": 2,
       "version_minor": 0
      },
      "text/plain": [
       "Simulating:   0%|          | 0/200 [00:00<?, ?it/s]"
      ]
     },
     "metadata": {},
     "output_type": "display_data"
    },
    {
     "data": {
      "application/vnd.jupyter.widget-view+json": {
       "model_id": "8b0700e058ba41379c649042d3c476da",
       "version_major": 2,
       "version_minor": 0
      },
      "text/plain": [
       "Simulating:   0%|          | 0/200 [00:00<?, ?it/s]"
      ]
     },
     "metadata": {},
     "output_type": "display_data"
    },
    {
     "data": {
      "application/vnd.jupyter.widget-view+json": {
       "model_id": "322aac01186346f0a44c69753bcb5fb4",
       "version_major": 2,
       "version_minor": 0
      },
      "text/plain": [
       "Simulating:   0%|          | 0/200 [00:00<?, ?it/s]"
      ]
     },
     "metadata": {},
     "output_type": "display_data"
    },
    {
     "data": {
      "application/vnd.jupyter.widget-view+json": {
       "model_id": "6b9401bd160f454fa25624ce43e6e720",
       "version_major": 2,
       "version_minor": 0
      },
      "text/plain": [
       "Simulating:   0%|          | 0/200 [00:00<?, ?it/s]"
      ]
     },
     "metadata": {},
     "output_type": "display_data"
    },
    {
     "data": {
      "application/vnd.jupyter.widget-view+json": {
       "model_id": "578dd6385a314bb1b508c1dc3c1be781",
       "version_major": 2,
       "version_minor": 0
      },
      "text/plain": [
       "Simulating:   0%|          | 0/200 [00:00<?, ?it/s]"
      ]
     },
     "metadata": {},
     "output_type": "display_data"
    },
    {
     "data": {
      "application/vnd.jupyter.widget-view+json": {
       "model_id": "a46121ad2b5d40d885b5e15fd722bc41",
       "version_major": 2,
       "version_minor": 0
      },
      "text/plain": [
       "Simulating:   0%|          | 0/200 [00:00<?, ?it/s]"
      ]
     },
     "metadata": {},
     "output_type": "display_data"
    },
    {
     "data": {
      "application/vnd.jupyter.widget-view+json": {
       "model_id": "9ce4426829124864a24cbb2f598653e2",
       "version_major": 2,
       "version_minor": 0
      },
      "text/plain": [
       "Simulating:   0%|          | 0/200 [00:00<?, ?it/s]"
      ]
     },
     "metadata": {},
     "output_type": "display_data"
    },
    {
     "data": {
      "application/vnd.jupyter.widget-view+json": {
       "model_id": "2446aea0ceed4eaea6956f0442635f89",
       "version_major": 2,
       "version_minor": 0
      },
      "text/plain": [
       "Simulating:   0%|          | 0/200 [00:00<?, ?it/s]"
      ]
     },
     "metadata": {},
     "output_type": "display_data"
    },
    {
     "data": {
      "application/vnd.jupyter.widget-view+json": {
       "model_id": "e789f19c1552466b8a427bb0dff71943",
       "version_major": 2,
       "version_minor": 0
      },
      "text/plain": [
       "Simulating:   0%|          | 0/200 [00:00<?, ?it/s]"
      ]
     },
     "metadata": {},
     "output_type": "display_data"
    },
    {
     "data": {
      "application/vnd.jupyter.widget-view+json": {
       "model_id": "1604159ac3c54c97b765a7fb34239dfb",
       "version_major": 2,
       "version_minor": 0
      },
      "text/plain": [
       "Simulating:   0%|          | 0/200 [00:00<?, ?it/s]"
      ]
     },
     "metadata": {},
     "output_type": "display_data"
    },
    {
     "data": {
      "application/vnd.jupyter.widget-view+json": {
       "model_id": "e23461f2d76f42aab5ffb646d5757a7c",
       "version_major": 2,
       "version_minor": 0
      },
      "text/plain": [
       "Simulating:   0%|          | 0/200 [00:00<?, ?it/s]"
      ]
     },
     "metadata": {},
     "output_type": "display_data"
    },
    {
     "data": {
      "application/vnd.jupyter.widget-view+json": {
       "model_id": "8411468d94404ee9b64e95946faf160f",
       "version_major": 2,
       "version_minor": 0
      },
      "image/png": "[encoded data removed]",
      "text/html": [
       "\n",
       "            <div style=\"display: inline-block;\">\n",
       "                <div class=\"jupyter-widgets widget-label\" style=\"text-align: center;\">\n",
       "                    Figure\n",
       "                </div>\n",
       "                <img src='data:image/png;base64,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' width=166.66666666666669/>\n",
       "            </div>\n",
       "        "
      ],
      "text/plain": [
       "Canvas(toolbar=Toolbar(toolitems=[('Home', 'Reset original view', 'home', 'home'), ('Back', 'Back to previous …"
      ]
     },
     "metadata": {},
     "output_type": "display_data"
    }
   ],
   "source": [
    "import numpy as np\n",
    "import pandas as pd\n",
    "import matplotlib.pyplot as plt\n",
    "import seaborn as sns\n",
    "import matplotlib.colors as mcolors\n",
    "\n",
    "cm = 1/2.4\n",
    "fig, ax = plt.subplots(figsize=(4*cm, 3*cm))\n",
    "\n",
    "select = df[df['instant_L_dens'] > 0]\n",
    "select = select[select['hull_speed'] < 280]\n",
    "\n",
    "sns.scatterplot(data=select, x='hull_speed', y='instant_L_dens', hue='strain', s=50, palette=strain_to_color)\n",
    "\n",
    "Ts = [80, 100, 120, 140]\n",
    "# Ts = [100]\n",
    "speeds = np.linspace(0.11,0.26,4)\n",
    "\n",
    "colors = plt.cm.viridis(np.linspace(0, 1, len(Ts)))  # Use a colormap\n",
    "Pprice_ideal = 2.6\n",
    "norm = mcolors.Normalize(vmin=min(Ts), vmax=max(Ts))\n",
    "sm = plt.cm.ScalarMappable(cmap=plt.cm.viridis, norm=norm)\n",
    "sm.set_array([])  # For the colorbar\n",
    "\n",
    "for T, color in zip(Ts, colors):\n",
    "    def get_rhosat(speed, C0=10, Pprice_ideal=1/15):\n",
    "        sim = Simulation(speed=speed, C0=C0, T=T, nT=nT, Pprice_ideal=Pprice_ideal, Fmax=Vmax, \n",
    "                         adaptation_rate=adaptation_rate, drag=1, D2=0.036)\n",
    "        C_xt, rho_xt, n_xt, P_prices, _ = sim.integrate(plot=False)\n",
    "        rho_sat = np.median([rho for rho in rho_xt[-1] if rho > 0.1])\n",
    "        poss = np.argmax(n_xt, axis=1)\n",
    "        x = np.linspace(0, sim.T, sim.nT)\n",
    "        y = np.array(poss) * sim.Length / sim.nx\n",
    "        fit_coeffs = np.polyfit(x[3*sim.nT//4:], y[3*sim.nT//4:], 1)\n",
    "        return rho_sat, fit_coeffs[0], [rho for rho in rho_xt[-1] if rho > 0.1]\n",
    "\n",
    "    rho_sats_speeds = [get_rhosat(speed, C0=C0, Pprice_ideal=Pprice_ideal) for speed in speeds]\n",
    "    speeds_observed = [speed for _, speed, _ in rho_sats_speeds]\n",
    "    rho_sats = [rho for rho, _, _ in rho_sats_speeds]\n",
    "\n",
    "    rho_all = [(speed, rho) for _, speed, rhos in rho_sats_speeds for rho in rhos]\n",
    "    speeds_observed2 = [speed for speed, _ in rho_all]\n",
    "    rho_observed2 = [rho for _, rho in rho_all]\n",
    "\n",
    "    data = pd.DataFrame({'speed': np.array(speeds_observed2) * 1000, 'rho': rho_observed2})\n",
    "\n",
    "    sns.lineplot(x='speed', y='rho', data=data, errorbar=('ci', 95), estimator='mean', color=color)\n",
    "\n",
    "plt.legend().remove()\n",
    "\n",
    "ax.set_xlabel('$v_{wave}$ (um/h)')\n",
    "ax.set_ylabel('$d_{L}$ \\n ($mm/mm^2$)')\n",
    "\n",
    "# Add colorbar for D2 values\n",
    "cbar = fig.colorbar(sm, ax=ax)\n",
    "cbar.set_label(\"$D_2$\")\n",
    "\n",
    "plt.show()\n"
   ]
  },
  {
   "cell_type": "code",
   "execution_count": 22,
   "id": "32c5dc20-33c6-4be6-85e1-359e73b73376",
   "metadata": {},
   "outputs": [],
   "source": [
    "cbar.set_label(\"max time (h)\")\n"
   ]
  }
 ],
 "metadata": {
  "kernelspec": {
   "display_name": "Python 3 (ipykernel)",
   "language": "python",
   "name": "python3"
  },
  "language_info": {
   "codemirror_mode": {
    "name": "ipython",
    "version": 3
   },
   "file_extension": ".py",
   "mimetype": "text/x-python",
   "name": "python",
   "nbconvert_exporter": "python",
   "pygments_lexer": "ipython3",
   "version": "3.9.18"
  }
 },
 "nbformat": 4,
 "nbformat_minor": 5
}
