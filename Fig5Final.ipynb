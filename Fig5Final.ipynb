{
 "cells": [
  {
   "cell_type": "code",
   "execution_count": 1,
   "id": "9c8a795c-5b44-4167-8135-f329ce10c251",
   "metadata": {
    "tags": []
   },
   "outputs": [],
   "source": [
    "%load_ext autoreload\n",
    "%autoreload 2\n",
    "from simulator import Simulation, Simulation_soil\n",
    "import numpy as np\n",
    "import matplotlib.pyplot as plt\n",
    "import os"
   ]
  },
  {
   "cell_type": "code",
   "execution_count": 2,
   "id": "d90dc61f-2c92-4078-83db-4f8aa8c36f93",
   "metadata": {},
   "outputs": [],
   "source": [
    "path_figure = r\"/mnt/c/Users/coren/Documents/PhD/paper/PandC/Fig5\"\n",
    "plt.style.use('presentation.mplstyle')\n"
   ]
  },
  {
   "cell_type": "code",
   "execution_count": 3,
   "id": "f332e54e-751a-4dbe-973d-560131e5e248",
   "metadata": {
    "tags": []
   },
   "outputs": [],
   "source": [
    "affine_r = [0.00334669*1e-3, 1.09854485*1e-3]\n"
   ]
  },
  {
   "cell_type": "code",
   "execution_count": 4,
   "id": "5d8e110d-b0bd-419f-a2a3-abac9326038e",
   "metadata": {
    "tags": []
   },
   "outputs": [
    {
     "name": "stdout",
     "output_type": "stream",
     "text": [
      "0.12929163703175361\n"
     ]
    },
    {
     "data": {
      "application/vnd.jupyter.widget-view+json": {
       "model_id": "56e4aa80359243e88d82e14b92e036a2",
       "version_major": 2,
       "version_minor": 0
      },
      "text/plain": [
       "Simulating:   0%|          | 0/900 [00:00<?, ?it/s]"
      ]
     },
     "metadata": {},
     "output_type": "display_data"
    },
    {
     "data": {
      "application/vnd.jupyter.widget-view+json": {
       "model_id": "6ca0a151c07e4422830039859d5fb351",
       "version_major": 2,
       "version_minor": 0
      },
      "image/png": "[encoded data removed]",
      "text/html": [
       "\n",
       "            <div style=\"display: inline-block;\">\n",
       "                <div class=\"jupyter-widgets widget-label\" style=\"text-align: center;\">\n",
       "                    Figure\n",
       "                </div>\n",
       "                <img src='data:image/png;base64,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' width=118.11023622047243/>\n",
       "            </div>\n",
       "        "
      ],
      "text/plain": [
       "Canvas(toolbar=Toolbar(toolitems=[('Home', 'Reset original view', 'home', 'home'), ('Back', 'Back to previous …"
      ]
     },
     "metadata": {},
     "output_type": "display_data"
    }
   ],
   "source": [
    "%matplotlib widget\n",
    "\n",
    "adaptation_rate = 8e-4*15\n",
    "length_scaling = 1.8\n",
    "Length = 140*length_scaling\n",
    "nx = int(350*15//10*length_scaling/0.8)\n",
    "T= int(400*1.5*1.5)\n",
    "nT=int(500*1.8)\n",
    "# nT=1000\n",
    "\n",
    "C0=0.004\n",
    "Pprice_ideal = 3\n",
    "speed = 0.1\n",
    "D = 0.055*1e-1/3\n",
    "D2 = 3.6\n",
    "\n",
    "Vmax = 3.25e-9 #ugP/um2/hour\n",
    "Vmax = Vmax*1e6 #ugP.mm-2.hour-1\n",
    "ylims = [(0,10),(0,4),(0,C0*1000*1.3)]\n",
    "speed_aim = speed + 2*np.sqrt(0.039*D*3)\n",
    "print(speed_aim)\n",
    "speed_aim = 0.15\n",
    "r = affine_r[0]*speed_aim*1000 + affine_r[1] \n",
    "\n",
    "\n",
    "sim = Simulation_soil(\n",
    "    Length,\n",
    "    nx,\n",
    "    T,\n",
    "    nT,\n",
    "    speed=speed,\n",
    "    C0=C0,\n",
    "    Pprice_ideal=Pprice_ideal,\n",
    "    Fmax=Vmax,\n",
    "    adaptation_rate=adaptation_rate,\n",
    "    D2=D2,\n",
    "    D=D*3,\n",
    "    ylims=ylims,\n",
    "    r=r,\n",
    "    speed_dens = 0.15\n",
    ")\n",
    "C_xt, rho_xt, n_xt,P_prices,alphavals,Ds = sim.integrate(plot=True,plot_axes = (0,1,2))\n",
    "# plt.savefig(os.path.join(path_figure,f'FigureAnew.pdf'), transparent=True, bbox_inches='tight')\n"
   ]
  },
  {
   "cell_type": "code",
   "execution_count": 5,
   "id": "c48fa6ba-68b9-4ad4-9c4b-051623f8f1de",
   "metadata": {
    "tags": []
   },
   "outputs": [
    {
     "data": {
      "application/vnd.jupyter.widget-view+json": {
       "model_id": "35882980343c42c0b97c09fa4d4fcc80",
       "version_major": 2,
       "version_minor": 0
      },
      "image/png": "[encoded data removed]",
      "text/html": [
       "\n",
       "            <div style=\"display: inline-block;\">\n",
       "                <div class=\"jupyter-widgets widget-label\" style=\"text-align: center;\">\n",
       "                    Figure\n",
       "                </div>\n",
       "                <img src='data:image/png;base64,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' width=98.42519685039369/>\n",
       "            </div>\n",
       "        "
      ],
      "text/plain": [
       "Canvas(toolbar=Toolbar(toolitems=[('Home', 'Reset original view', 'home', 'home'), ('Back', 'Back to previous …"
      ]
     },
     "metadata": {},
     "output_type": "display_data"
    }
   ],
   "source": [
    "import numpy as np\n",
    "import matplotlib.pyplot as plt\n",
    "bp = 239\n",
    "C_xt, rho_xt, n_xt = np.array(C_xt),np.array(rho_xt),np.array(n_xt)\n",
    "X = np.linspace(1, sim.Length, sim.nx)\n",
    "Pacquisitions = np.sum(Vmax*(C_xt/bp/(C_xt/bp+sim.Kp))*rho_xt*X*sim.dx,axis=1)*np.pi/2 #ug.h-1.mm-2\n",
    "\n",
    "Pacquisitions *= 2*sim.r*np.pi #ug.h-1\n",
    "Ccost = np.sum(n_xt*X*sim.dx*sim.s_scal,axis=1)*np.pi/2 #mm.h-1\n",
    "Ccost *= np.pi*(sim.r)**2 #mm**3.h-1\n",
    "\n",
    "Ccost *= 0.5*0.21*1.1 *1e-3 #g.mm-1.h-1\n",
    "Ccost *= 1e6 #ug.mm-1.h-1\n",
    "Ccost *= 2 #respiration\n",
    "cm = 1/2.54  # centimeters in inches\n",
    "\n",
    "fig,ax = plt.subplots(figsize = (2.5*cm,1.5*cm))\n",
    "ax.scatter(Pacquisitions,Ccost,s=0.11)\n",
    "ax.plot(Pacquisitions,Pacquisitions*Pprice_ideal,color=\"red\")\n",
    "# ax.plot([0,0.2],[0,0.2*Pprice_ideal],color=\"red\")\n",
    "\n",
    "ax.set_ylabel('$\\Phi_C$  \\n ($\\mu g/h/mm$)')\n",
    "ax.set_xlabel('$\\Phi_P$ ($\\mu g/h/mm$)')\n",
    "ax.set_ylim(0,1)\n",
    "ax.set_xlim(0,0.35)\n",
    "\n",
    "plt.savefig(os.path.join(path_figure,f'FigureAsub.pdf'), transparent=True, bbox_inches='tight')\n",
    "\n",
    "# ax.set_ylabel('$\\Phi_C$')\n",
    "# ax.set_xlabel('$\\Phi_P$')\n",
    "# ax.set_xlim(0,0.1)\n"
   ]
  },
  {
   "cell_type": "code",
   "execution_count": null,
   "id": "92bceec9-2846-476f-9734-ed6726aa406a",
   "metadata": {
    "tags": []
   },
   "outputs": [
    {
     "data": {
      "application/vnd.jupyter.widget-view+json": {
       "model_id": "09ef10ad2c57434abab16575a83e4ac2",
       "version_major": 2,
       "version_minor": 0
      },
      "text/plain": [
       "Simulating:   0%|          | 0/900 [00:00<?, ?it/s]"
      ]
     },
     "metadata": {},
     "output_type": "display_data"
    }
   ],
   "source": [
    "%matplotlib widget\n",
    "\n",
    "speed = 0.18\n",
    "speed_aim = speed + 2*np.sqrt(0.039*D)\n",
    "speed_aim = 0.24\n",
    "\n",
    "# r = r0 * (speed_aim/0.25)**(drag)\n",
    "r = affine_r[0]*speed_aim*1000 + affine_r[1] \n",
    "\n",
    "sim = Simulation_soil(\n",
    "    Length,\n",
    "    nx,\n",
    "    T,\n",
    "    nT,\n",
    "    speed=speed,\n",
    "    C0=C0,\n",
    "    Pprice_ideal=Pprice_ideal,\n",
    "    Fmax=Vmax,\n",
    "    adaptation_rate=adaptation_rate,\n",
    "    D2=D2,\n",
    "    D=D,\n",
    "    ylims=ylims,\n",
    "    r=r,\n",
    "    speed_dens = speed_aim\n",
    "    \n",
    ")\n",
    "C_xt, rho_xt, n_xt,P_prices,alphavals,Ds = sim.integrate(plot=True,plot_axes = (0,1,2),remove_ylabels=True)\n",
    "plt.savefig(os.path.join(path_figure,f'FigureBnew.pdf'), transparent=True, bbox_inches='tight')\n"
   ]
  },
  {
   "cell_type": "code",
   "execution_count": null,
   "id": "de07de72-bb00-4dad-8aa6-ad5d6c6be0cd",
   "metadata": {
    "tags": []
   },
   "outputs": [],
   "source": [
    "import numpy as np\n",
    "import matplotlib.pyplot as plt\n",
    "bp = 239\n",
    "C_xt, rho_xt, n_xt = np.array(C_xt),np.array(rho_xt),np.array(n_xt)\n",
    "X = np.linspace(1, sim.Length, sim.nx)\n",
    "Pacquisitions = np.sum(Vmax*(C_xt/bp/(C_xt/bp+sim.Kp))*rho_xt*X*sim.dx,axis=1)*np.pi/2 #ug.h-1.mm-2\n",
    "\n",
    "Pacquisitions *= 2*sim.r*np.pi #ug.h-1\n",
    "Ccost = np.sum(n_xt*X*sim.dx*sim.s_scal,axis=1)*np.pi/2 #mm.h-1\n",
    "Ccost *= np.pi*(sim.r)**2 #mm**3.h-1\n",
    "\n",
    "Ccost *= 0.5*0.21*1.1 *1e-3 #g.mm-1.h-1\n",
    "Ccost *= 1e6 #ug.mm-1.h-1\n",
    "Ccost *= 2 #respiration\n",
    "cm = 1/2.54  # centimeters in inches\n",
    "\n",
    "fig,ax = plt.subplots(figsize = (2.5*cm,1.5*cm))\n",
    "ax.scatter(Pacquisitions,Ccost,s=0.11)\n",
    "ax.plot(Pacquisitions,Pacquisitions*Pprice_ideal,color=\"red\")\n",
    "# ax.plot([0,0.2],[0,0.2*Pprice_ideal],color=\"red\")\n",
    "\n",
    "# ax.set_ylabel('$\\Phi_C$  \\n ($\\mu g/h$)')\n",
    "ax.set_xlabel('$\\Phi_P$ ($\\mu g/h/mm$)')\n",
    "ax.set_ylim(0,1)\n",
    "ax.set_xlim(0,0.35)\n",
    "\n",
    "plt.savefig(os.path.join(path_figure,f'FigureBsub.pdf'), transparent=True, bbox_inches='tight')\n"
   ]
  },
  {
   "cell_type": "code",
   "execution_count": null,
   "id": "1aa79cf8-04e7-4867-920e-b548847cf7df",
   "metadata": {
    "tags": []
   },
   "outputs": [],
   "source": [
    "def get_dynamics(speed,C0,Pprice_ideal = Pprice_ideal,D = D,speed_aim=False):\n",
    "    # if not speed_aim:\n",
    "    speed_aim = speed + 2*np.sqrt(0.039*D)\n",
    "    r = affine_r[0]*speed_aim*1000 + affine_r[1] \n",
    "    sim = Simulation_soil(\n",
    "        Length,\n",
    "        nx,\n",
    "        T,\n",
    "        nT,\n",
    "        speed=speed,\n",
    "        C0=C0,\n",
    "        Pprice_ideal=Pprice_ideal,\n",
    "        Fmax=Vmax,\n",
    "        adaptation_rate=adaptation_rate,\n",
    "        D2=D2,\n",
    "        D=D,\n",
    "        ylims=ylims,\n",
    "        r=r,\n",
    "        speed_dens = 0.15\n",
    "    )\n",
    "    C_xt, rho_xt, n_xt,P_prices,_,_ = sim.integrate(plot=False,plot_axes = (0,1,2))\n",
    "    poss = np.argmax(n_xt,axis=1)\n",
    "    x = np.linspace(0,sim.T,sim.nT)\n",
    "    y = np.array(poss)*sim.Length/sim.nx\n",
    "    fit_coeffs = np.polyfit(x[3*sim.nT//4:], y[3*sim.nT//4:], 1)\n",
    "    slope = y[-1]/x[-1]\n",
    "    C_xt, rho_xt, n_xt = np.array(C_xt),np.array(rho_xt),np.array(n_xt)\n",
    "    Pacquisitions = np.sum(Vmax*(C_xt/bp/(C_xt/bp+sim.Kp))*rho_xt*X*sim.dx,axis=1) #ug.h-1.mm-1\n",
    "    Pacquisitions *= 2*sim.r*np.pi\n",
    "    print(np.mean(Pacquisitions))\n",
    "    return(np.mean(Pacquisitions),slope)\n",
    "\n"
   ]
  },
  {
   "cell_type": "code",
   "execution_count": null,
   "id": "8cec2cd1-58a4-429c-af23-d25f640974a4",
   "metadata": {
    "tags": []
   },
   "outputs": [],
   "source": [
    "n =5\n",
    "speeds_aim = np.linspace(0.15,0.32,n)\n",
    "C0_values = np.exp(np.linspace(np.log(0.002), np.log(0.02),n))  # Adjust the number of points as needed\n",
    "# speeds_aim = [0.1]\n",
    "\n",
    "# C0_values = [0.06]\n",
    "# dynamics = {(speed, C0): get_dynamics(speed, C0=C0, Pprice_ideal=2*(0.02/C0),D=D) \n",
    "#             for C0 in C0_values for speed in speeds}\n",
    "# dynamics = {(speed_aim, C0): get_dynamics(get_base_speed(C0,speed_aim), C0=C0, Pprice_ideal=Pprice_ideal,D=D,speed_aim = speed_aim) \n",
    "#             for C0 in C0_values for speed_aim in speeds_aim}\n",
    "dynamics = {(speed_aim, C0): get_dynamics(speed_aim, C0=C0, Pprice_ideal=Pprice_ideal,D=D) \n",
    "            for C0 in C0_values for speed_aim in speeds_aim}"
   ]
  },
  {
   "cell_type": "code",
   "execution_count": null,
   "id": "0d6a00fb-37f6-4905-b1f3-37d6277a31f5",
   "metadata": {
    "tags": []
   },
   "outputs": [],
   "source": [
    "bp = 239\n",
    "X = np.linspace(1, Length, nx)\n",
    "dx = Length/nx\n",
    "Pacqu = {}\n",
    "\n",
    "for speed in speeds_aim:\n",
    "    for C0 in C0_values:\n",
    "        Pacquis,speed_observed = dynamics[(speed,C0)]\n",
    "        # Pacquisitions = np.sum(Vmax*(C_xt/bp/(C_xt/bp+sim.Kp))*rho_xt*X*sim.dx,axis=1) #ug.h-1.mm-1\n",
    "        # Pacquisitions *= 2*sim.r*np.pi\n",
    "        Pacqu[(speed,speed_observed,C0)] = Pacquis"
   ]
  },
  {
   "cell_type": "code",
   "execution_count": null,
   "id": "d1625cd0-2b88-475c-b2b3-ffbd1ac36589",
   "metadata": {
    "tags": []
   },
   "outputs": [],
   "source": [
    "import pandas as pd\n",
    "\n",
    "# Your existing code\n",
    "# X, dx, Pacqu, etc.\n",
    "\n",
    "# Convert your data into a list of dictionaries\n",
    "data_for_df = []\n",
    "for key, value in Pacqu.items():\n",
    "    speed_imposed,speed_observed, C0 = key\n",
    "    data_for_df.append({'speed_imposed': speed_imposed,'speed_observed': speed_observed, 'C0': C0, 'MeanPacquisition': value})\n",
    "\n",
    "# Create DataFrame\n",
    "df = pd.DataFrame(data_for_df)\n",
    "\n",
    "# Display the DataFrame\n",
    "\n",
    "\n",
    "df.to_csv('speedC0.csv')\n",
    "\n",
    "average_p_rate = df.groupby('C0')['MeanPacquisition'].mean()\n",
    "\n",
    "# Merge the averages back into the original DataFrame\n",
    "df['average_P_rate'] = df['C0'].map(average_p_rate)\n",
    "df['normalized_P_rate'] = df['MeanPacquisition']/df['average_P_rate']\n",
    "\n",
    "\n",
    "def to_two_significant_digits(x):\n",
    "    return float(f'{x:.2g}')\n",
    "\n",
    "def to_three_significant_digits(x):\n",
    "    return float(f'{x:.2g}')\n",
    "\n",
    "# Create new columns with values formatted to two significant digits\n",
    "df['speed_imposed'] = (df['speed_imposed'].apply(to_two_significant_digits)*1000).astype(int)\n",
    "df['speed_observed'] = (df['speed_observed'].apply(to_two_significant_digits)*1000).astype(int)\n",
    "\n",
    "df['C0'] = ((df['C0']*1000).apply(to_three_significant_digits))\n",
    "\n"
   ]
  },
  {
   "cell_type": "code",
   "execution_count": null,
   "id": "f5ba5b2f-01d3-40ad-8d9e-3e65e3aa6feb",
   "metadata": {
    "tags": []
   },
   "outputs": [],
   "source": [
    "path_figure = r\"/mnt/c/Users/coren/Documents/PhD/paper/PandC/Fig5\"\n",
    "cm = 1/2.54  # centimeters in inches\n",
    "\n",
    "import seaborn as sns\n",
    "from matplotlib.ticker import FuncFormatter\n",
    "fig,ax = plt.subplots(figsize = (4*cm,3*cm))\n",
    "\n",
    "pivot_df = df.pivot_table(index='C0', columns='speed_imposed', values='normalized_P_rate')\n",
    "max_value = pivot_df.abs().max().max()  # Find the maximum absolute value\n",
    "vmin, vmax = 2-max_value, max_value  # Set vmin and vmax for the colorbar\n",
    "\n",
    "# Create the heatmap with symmetric colorbar\n",
    "sns.heatmap(pivot_df, annot=False, cmap=\"seismic\", ax=ax, vmin=vmin, vmax=vmax)\n",
    "\n",
    "# sns.heatmap(pivot_df, annot=False, cmap=\"YlGnBu\",cbar_kws={'label': 'relative \\n P transfer'})\n",
    "ax.set_xticklabels(ax.get_xticklabels(), rotation=0)\n",
    "\n",
    "n = 2  # Set n to desired interval\n",
    "for index, label in enumerate(ax.xaxis.get_ticklabels()):\n",
    "    if index % n != 0:\n",
    "        label.set_visible(False)\n",
    "# n = 2  # Set n to desired interval\n",
    "# for index, label in enumerate(ax.yaxis.get_ticklabels()):\n",
    "#     if index % n != 0:\n",
    "        # label.set_visible(False)\n",
    "ax.set_xlabel('$v_{wave}$ ($\\mu m/h$)')\n",
    "ax.set_ylabel('$[P]_{0}$ \\n ($n g/mm^3$)')\n",
    "# plt.tight_layout()\n",
    "# plt.savefig(os.path.join(path_figure,'Figure4modelB_new.pdf'), transparent=True, bbox_inches='tight')\n"
   ]
  }
 ],
 "metadata": {
  "kernelspec": {
   "display_name": "Python 3 (ipykernel)",
   "language": "python",
   "name": "python3"
  },
  "language_info": {
   "codemirror_mode": {
    "name": "ipython",
    "version": 3
   },
   "file_extension": ".py",
   "mimetype": "text/x-python",
   "name": "python",
   "nbconvert_exporter": "python",
   "pygments_lexer": "ipython3",
   "version": "3.9.21"
  }
 },
 "nbformat": 4,
 "nbformat_minor": 5
}
