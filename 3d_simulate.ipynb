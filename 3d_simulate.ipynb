{
 "cells": [
  {
   "cell_type": "code",
   "execution_count": 3,
   "id": "8e361325-bc45-48ec-a3ed-213bc5bd8c23",
   "metadata": {
    "tags": []
   },
   "outputs": [
    {
     "name": "stdout",
     "output_type": "stream",
     "text": [
      "The autoreload extension is already loaded. To reload it, use:\n",
      "  %reload_ext autoreload\n"
     ]
    }
   ],
   "source": [
    "%load_ext autoreload\n",
    "%autoreload 2\n",
    "from simulator import Simulation, Simulation_soil,Simulation_3d\n",
    "import numpy as np\n",
    "import matplotlib.pyplot as plt\n",
    "import os"
   ]
  },
  {
   "cell_type": "code",
   "execution_count": 5,
   "id": "c606e563-3ba6-4424-858d-b761dfd7ea4e",
   "metadata": {
    "tags": []
   },
   "outputs": [
    {
     "name": "stdout",
     "output_type": "stream",
     "text": [
      "0.1526282894152753\n"
     ]
    },
    {
     "data": {
      "application/vnd.jupyter.widget-view+json": {
       "model_id": "6a99d8f15fa54cff8b993ce403f1685d",
       "version_major": 2,
       "version_minor": 0
      },
      "text/plain": [
       "Simulating:   0%|          | 0/900 [00:00<?, ?it/s]"
      ]
     },
     "metadata": {},
     "output_type": "display_data"
    },
    {
     "ename": "AttributeError",
     "evalue": "'Simulation_3d' object has no attribute 'alphval'",
     "output_type": "error",
     "traceback": [
      "\u001b[0;31m---------------------------------------------------------------------------\u001b[0m",
      "\u001b[0;31mAttributeError\u001b[0m                            Traceback (most recent call last)",
      "Cell \u001b[0;32mIn[5], line 38\u001b[0m\n\u001b[1;32m     21\u001b[0m r \u001b[38;5;241m=\u001b[39m r0 \u001b[38;5;241m*\u001b[39m (speed_aim\u001b[38;5;241m/\u001b[39m\u001b[38;5;241m0.25\u001b[39m)\u001b[38;5;241m*\u001b[39m\u001b[38;5;241m*\u001b[39m(drag)\n\u001b[1;32m     23\u001b[0m sim \u001b[38;5;241m=\u001b[39m Simulation_3d(\n\u001b[1;32m     24\u001b[0m     Length,\n\u001b[1;32m     25\u001b[0m     nx,\n\u001b[0;32m   (...)\u001b[0m\n\u001b[1;32m     36\u001b[0m     r\u001b[38;5;241m=\u001b[39mr\n\u001b[1;32m     37\u001b[0m )\n\u001b[0;32m---> 38\u001b[0m C_xt, rho_xt, n_xt,P_prices,alphavals \u001b[38;5;241m=\u001b[39m \u001b[43msim\u001b[49m\u001b[38;5;241;43m.\u001b[39;49m\u001b[43mintegrate\u001b[49m\u001b[43m(\u001b[49m\u001b[43mplot\u001b[49m\u001b[38;5;241;43m=\u001b[39;49m\u001b[38;5;28;43;01mTrue\u001b[39;49;00m\u001b[43m)\u001b[49m\n",
      "File \u001b[0;32m~/PandC/simulator.py:642\u001b[0m, in \u001b[0;36mSimulation_3d.integrate\u001b[0;34m(self, plot, z_levels)\u001b[0m\n\u001b[1;32m    639\u001b[0m V2 \u001b[38;5;241m=\u001b[39m FunctionSpace(\u001b[38;5;28mself\u001b[39m\u001b[38;5;241m.\u001b[39mmesh, \u001b[38;5;124m'\u001b[39m\u001b[38;5;124mP\u001b[39m\u001b[38;5;124m'\u001b[39m, \u001b[38;5;241m1\u001b[39m)\n\u001b[1;32m    641\u001b[0m \u001b[38;5;28;01mfor\u001b[39;00m t \u001b[38;5;129;01min\u001b[39;00m tqdm(np\u001b[38;5;241m.\u001b[39mlinspace(\u001b[38;5;241m0\u001b[39m, \u001b[38;5;28mself\u001b[39m\u001b[38;5;241m.\u001b[39mT, \u001b[38;5;28mself\u001b[39m\u001b[38;5;241m.\u001b[39mnT), desc\u001b[38;5;241m=\u001b[39m\u001b[38;5;124m\"\u001b[39m\u001b[38;5;124mSimulating\u001b[39m\u001b[38;5;124m\"\u001b[39m):\n\u001b[0;32m--> 642\u001b[0m     F \u001b[38;5;241m=\u001b[39m \u001b[38;5;28mself\u001b[39m\u001b[38;5;241m.\u001b[39m_make_F(\u001b[38;5;28;43mself\u001b[39;49m\u001b[38;5;241;43m.\u001b[39;49m\u001b[43malphval\u001b[49m, \u001b[38;5;28mself\u001b[39m\u001b[38;5;241m.\u001b[39mD, \u001b[38;5;28mself\u001b[39m\u001b[38;5;241m.\u001b[39ms_scal)\n\u001b[1;32m    643\u001b[0m     solve(F \u001b[38;5;241m==\u001b[39m \u001b[38;5;241m0\u001b[39m, \u001b[38;5;28mself\u001b[39m\u001b[38;5;241m.\u001b[39mu)\n\u001b[1;32m    645\u001b[0m     \u001b[38;5;28mself\u001b[39m\u001b[38;5;241m.\u001b[39mu_n\u001b[38;5;241m.\u001b[39massign(\u001b[38;5;28mself\u001b[39m\u001b[38;5;241m.\u001b[39mu)\n",
      "\u001b[0;31mAttributeError\u001b[0m: 'Simulation_3d' object has no attribute 'alphval'"
     ]
    }
   ],
   "source": [
    "%matplotlib widget\n",
    "\n",
    "adaptation_rate = 8e-3\n",
    "length_scaling = 1.2\n",
    "Length = 140*length_scaling\n",
    "nx = int(350*15//10*length_scaling/0.8)\n",
    "T= int(400*1.5)\n",
    "nT=int(600*1.5)\n",
    "C0=0.001\n",
    "Pprice_ideal = 2*(0.02/C0)**(1/1.2)\n",
    "speed = 0.06\n",
    "D = 0.055\n",
    "\n",
    "Vmax = 3.25e-9 #ugP/um2/hour\n",
    "Vmax = Vmax*1e6 #ugP.mm-2.hour-1\n",
    "ylims = [(0,12),(0,8),(0,C0*1000*1.3)]\n",
    "speed_aim = speed + 2*np.sqrt(0.039*D)\n",
    "print(speed_aim)\n",
    "drag = 1\n",
    "r0 = 3e-3#mm \n",
    "r = r0 * (speed_aim/0.25)**(drag)\n",
    "\n",
    "sim = Simulation_3d(\n",
    "    Length,\n",
    "    nx,\n",
    "    T,\n",
    "    nT,\n",
    "    speed=speed,\n",
    "    C0=C0,\n",
    "    Pprice_ideal=Pprice_ideal,\n",
    "    Fmax=Vmax,\n",
    "    adaptation_rate=adaptation_rate,\n",
    "    D2=3.6,\n",
    "    D=D,\n",
    "    ylims=ylims,\n",
    "    r=r\n",
    ")\n",
    "C_xt, rho_xt, n_xt,P_prices,alphavals = sim.integrate(plot=True)\n"
   ]
  }
 ],
 "metadata": {
  "kernelspec": {
   "display_name": "Python 3 (ipykernel)",
   "language": "python",
   "name": "python3"
  },
  "language_info": {
   "codemirror_mode": {
    "name": "ipython",
    "version": 3
   },
   "file_extension": ".py",
   "mimetype": "text/x-python",
   "name": "python",
   "nbconvert_exporter": "python",
   "pygments_lexer": "ipython3",
   "version": "3.9.21"
  }
 },
 "nbformat": 4,
 "nbformat_minor": 5
}
