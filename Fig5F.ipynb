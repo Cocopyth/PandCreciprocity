{
 "cells": [
  {
   "cell_type": "code",
   "execution_count": 2,
   "id": "90a22330-8744-4c21-b0e6-4728e45e8a8d",
   "metadata": {
    "tags": []
   },
   "outputs": [
    {
     "name": "stdout",
     "output_type": "stream",
     "text": [
      "['/home/cocopyth/PandC', '/usr/lib/python39.zip', '/usr/lib/python3.9', '/usr/lib/python3.9/lib-dynload', '', '/home/cocopyth/.local/lib/python3.9/site-packages', '/usr/local/lib/python3.9/dist-packages', '/usr/lib/python3/dist-packages', '/usr/lib/petsc/lib/python3/dist-packages', '/usr/lib/mshr/python3/dist-packages', '/usr/lib/slepc/lib/python3/dist-packages', '/home/cocopyth/miniconda3/lib/python3.9/site-packages']\n"
     ]
    },
    {
     "name": "stderr",
     "output_type": "stream",
     "text": [
      "/tmp/ipykernel_76/7479857.py:69: MatplotlibDeprecationWarning: The get_cmap function was deprecated in Matplotlib 3.7 and will be removed two minor releases later. Use ``matplotlib.colormaps[name]`` or ``matplotlib.colormaps.get_cmap(obj)`` instead.\n",
      "  cmap3 = mpl.cm.get_cmap(\"autumn\")\n",
      "/tmp/ipykernel_76/7479857.py:70: MatplotlibDeprecationWarning: The get_cmap function was deprecated in Matplotlib 3.7 and will be removed two minor releases later. Use ``matplotlib.colormaps[name]`` or ``matplotlib.colormaps.get_cmap(obj)`` instead.\n",
      "  cmap4 = mpl.cm.get_cmap(\"summer\")\n"
     ]
    }
   ],
   "source": [
    "def plot_price(C_xt, rho_xt, n_xt,P_prices,alphavals):\n",
    "    C_xt, rho_xt, n_xt = np.array(C_xt),np.array(rho_xt),np.array(n_xt)\n",
    "    X = np.linspace(1, sim.Length, sim.nx)\n",
    "    Pacquisitions = np.sum(Vmax*(C_xt/bp/(C_xt/bp+sim.Kp))*rho_xt*X*sim.dx,axis=1) #ug.h-1.mm-2\n",
    "\n",
    "    Pacquisitions *= 2*sim.r0*np.pi #ug.h-1\n",
    "    print(np.mean(Pacquisitions))\n",
    "    Ccost = np.sum(n_xt*X*sim.dx*sim.v_sval,axis=1) #mm.h-1\n",
    "    Ccost *= np.pi*(sim.r0)**2 #mm**3.h-1\n",
    "    Ccost *= (sim.v_sval/0.25)**(sim.speed_penalty)\n",
    "\n",
    "    Ccost *= 0.5*0.21*1.1 *1e-3 #g.mm-1.h-1\n",
    "    Ccost *= 1e6 #ug.mm-1.h-1\n",
    "    Ccost *= 2 #respiration# centimeters in inches\n",
    "\n",
    "    fig,ax = plt.subplots()\n",
    "    ax.scatter(Pacquisitions,Ccost,s=0.11)\n",
    "    ax.plot(Pacquisitions,Pacquisitions*Pprice_ideal,color=\"red\")\n",
    "\n",
    "Vmax = 3.25e-9 #ugP/um2/hour\n",
    "Vmax = Vmax*1e6 #ugP.mm-2.hour-1\n",
    "DP = 1e-5 #cm**2-s-1, diffusion coefficient of small ions in water\n",
    "DP = DP*1e2*3600 #mm**2-h-1, diffusion coefficient of small ions in water\n",
    "C0 = 3.5 #ug/mL=ug/cm**-3\n",
    "C0 = 3.5*1e-3 #ug/mm**-3\n",
    "\n",
    "DP,Vmax,C0\n",
    "\n",
    "C0 = 500 #mg.L-1\n",
    "C0 = 500*1e3 #ug.L-1\n",
    "C0 = C0 * 1e-3 #ug.cm-3\n",
    "C0 = C0 *1e-3 #ug.cm-3\n",
    "Km = 1e-3 #umol/cm3\n",
    "Km *= 31 #ug/cm3\n",
    "Km *=1e-3 #ug/mm3\n",
    "Km_snchepf = Km #to avoid very low timestep \n",
    "bp = 239\n",
    "def signed_sqrt(x,alpha = 1/2):\n",
    "    \"\"\"Return the signed square root of a number.\"\"\"\n",
    "    if x >= 0:\n",
    "        return x**alpha\n",
    "    else:\n",
    "        return -(-x)**alpha\n",
    "\n",
    "import sys\n",
    "sys.path.append('/home/cocopyth/miniconda3/lib/python3.9/site-packages')\n",
    "print(sys.path)\n",
    "\n",
    "\n",
    "# !pip install tqdm\n",
    "from tqdm.notebook import tqdm  # Import tqdm\n",
    "\n",
    "cm = 1/2.54  # centimeters in inches\n",
    "\n",
    "%matplotlib widget\n",
    "from dolfin import *\n",
    "import numpy as np\n",
    "import matplotlib as mpl\n",
    "import matplotlib.pyplot as plt\n",
    "import os\n",
    "import matplotlib.ticker as ticker\n",
    "\n",
    "Length = 140*1.5\n",
    "nx = 350*15//10\n",
    "Length = 140*0.6\n",
    "nx = int(350*15//10*0.6/0.8)\n",
    "plt.close(\"all\")\n",
    "set_log_active(False)\n",
    "cmap3 = mpl.cm.get_cmap(\"autumn\")\n",
    "cmap4 = mpl.cm.get_cmap(\"summer\")\n",
    "\n",
    "class Simulation:\n",
    "    \"\"\"\n",
    "    A class for simulating a finite element problem using the FEniCS framework.\n",
    "\n",
    "    Attributes:\n",
    "    -----------\n",
    "    Length: float\n",
    "        Length of the interval domain.\n",
    "    nx: int\n",
    "        Number of subdivisions in the mesh.\n",
    "    nT: int\n",
    "        Number of time steps.\n",
    "    T: float\n",
    "        Total simulation time.\n",
    "    C0: float\n",
    "        Initial concentration value.\n",
    "    Fmax: float\n",
    "        Maximum flux value.\n",
    "    Pprice_ideal: float\n",
    "        Ideal price value.\n",
    "    width: float\n",
    "        Width of the plot.\n",
    "    height: float\n",
    "        Height of the plot.\n",
    "    \"\"\"\n",
    "    def __init__(self, Length=Length, nx=nx, nT=200, T=400, C0=10, Fmax=2, Pprice_ideal=20, width=3*cm, height=7*cm,speed = 0.230,adaptation_rate = 1e-4,drag = 0):\n",
    "        self.Length = Length\n",
    "        self.nx = nx\n",
    "        self.dx = Length/nx\n",
    "        self.nT = nT\n",
    "        self.T = T\n",
    "        self.dt = T/nT\n",
    "        self.C0 = C0 #ug.mm-3\n",
    "        self.Fmax = Fmax\n",
    "        self.Pprice_ideal = Pprice_ideal\n",
    "        self.width = width\n",
    "        self.height = height\n",
    "        self.speed = speed\n",
    "        self.adaptation_rate = adaptation_rate\n",
    "        self.speed_penalty = drag\n",
    "        self._setup_simulation()\n",
    "        self.r0 = 3e-3\n",
    "\n",
    "    def _setup_simulation(self):\n",
    "        # Set up the simulation: define mesh, function spaces, initial conditions, etc.\n",
    "        \"\"\"\n",
    "        Sets up the initial conditions and parameters for the simulation.\n",
    "        \"\"\"\n",
    "        # Create mesh and define function space\n",
    "        self.mesh = IntervalMesh(self.nx, 1, self.Length)\n",
    "        P1 = FiniteElement('P', interval, 1)\n",
    "        element = MixedElement([P1, P1, P1])\n",
    "        self.V = FunctionSpace(self.mesh, element)\n",
    "\n",
    "        # Define initial conditions\n",
    "        u0 = Expression(('1*exp(-1.2*pow(abs(x[0]-7),2))', \n",
    "                         f'(1-exp(-0.1*(x[0]-1)))*{self.C0}', '0*exp(-0.03*pow(abs(x[0]),2))'), degree=1)\n",
    "        rexp = Expression(('1/x[0]', '0', '0'), degree=1)\n",
    "        self.r = interpolate(rexp, self.V)\n",
    "        self.invr, _, _ = split(self.r)\n",
    "        self.u_n = interpolate(u0, self.V)\n",
    "\n",
    "        # Splitting functions for later use\n",
    "        self.u = Function(self.V)\n",
    "        self.n, self.C, self.rho = split(self.u)   #mm-3,ug.mm-3,mm2.mm-3\n",
    "        self.n_n, self.C_n, self.rho_n = split(self.u_n)\n",
    "        self.v_1, self.v_0, self.v_2 = TestFunctions(self.V)\n",
    "\n",
    "        # Set parameters and constants\n",
    "        self.dt = self.T / self.nT\n",
    "        self.alphval = 0.039 #.h-1\n",
    "        self.alphval0 = self.alphval\n",
    "        self.betaval = 0.022 #mm.h-1 length coefficient\n",
    "        # self.betaval = 0.022/(2.5e-3) #mm.h-1 SA coefficient\n",
    "        \n",
    "        self.beta = Constant(self.betaval) #mm**4.h-1\n",
    "        self.D = 0.00008 #mm**2.h-1\n",
    "        self.D0 = self.D #mm**2.h-1\n",
    "        \n",
    "        self.D2 = Constant(3.6) #mm**2.h-1\n",
    "        self.n_mid = 0.5*(self.n_n + self.n)\n",
    "        self.v_sval = self.speed #mm.h-1\n",
    "        self.s_scal = self.speed #mm.h-1\n",
    "        self.v_s = Constant((self.v_sval,)) #mm.h-1\n",
    "        self.Vmax = self.Fmax #ug.mm**-2.h-1\n",
    "        self.Kp = Km_snchepf #ug.mm-3\n",
    "        # Boundary conditions\n",
    "        u_L = (Constant(0.0), Constant(0.0), Constant(0.0))\n",
    "        u_R = (Constant(0.0), Constant(self.C0), Constant(0.0))\n",
    "        bc_L = DirichletBC(self.V, u_L, 'near(x[0], 1.0)')\n",
    "        bc_R = DirichletBC(self.V, u_R, f'near(x[0], {self.Length})')\n",
    "        self.bcs = [bc_L, bc_R]\n",
    "\n",
    "    def _make_F(self, alphval,D,sval):\n",
    "        # Define the variational problem F\n",
    "        alpha = Constant(alphval)\n",
    "        D = Constant(D)\n",
    "        s_scal = Constant(sval)\n",
    "        C_L =  self.C/bp\n",
    "        \n",
    "        # dn/dt\n",
    "        F = self.n*self.v_1*dx - self.n_n*self.v_1*dx \n",
    "        # D lapplacian(n)\n",
    "        F += D*dot(grad(self.n), grad(self.v_1))*self.dt*dx\n",
    "        # To account for cylindrical coordinates\n",
    "        F += self.invr*D*dot(grad(self.n), Constant((1,)))*self.v_1*self.dt*dx\n",
    "        \n",
    "        #v.grad(n)\n",
    "        F += self.dt*dot(grad(self.n_mid),self.v_s)*self.v_1*dx\n",
    "        # To account for cylindrical coordinates\n",
    "        F += self.invr*self.dt*self.n_mid*Constant(self.v_sval)*self.v_1*dx\n",
    "        \n",
    "        #alpha*n - beta * n * rho\n",
    "        F += self.beta*self.v_1*self.rho*(self.n)*self.dt*dx\n",
    "        F -= alpha*(self.n)*self.v_1*self.dt*dx\n",
    "        #d rho/dt = vn\n",
    "        F -= self.dt*s_scal*self.n*self.v_2*dx-(self.rho-self.rho_n)*self.v_2*dx\n",
    "\n",
    "\n",
    "        # dC/dt\n",
    "        F += self.C*self.v_0*dx - self.C_n*self.v_0*dx #ug.mm-3\n",
    "        # Vmax * rho * C/(C+Kp)\n",
    "        F += 2*np.pi*self.Vmax*(self.rho)*self.r0*(self.C/bp/(self.Kp+self.C/bp))*self.v_0*self.dt*dx #ug\n",
    "        # Diffusion \n",
    "        F += self.D2*dot(grad(self.C/bp), grad(self.v_0))*self.dt*dx\n",
    "        # To account for cylindrical coordinates\n",
    "        F += self.invr*self.D2*dot(grad(self.C/bp), Constant((1,)))*self.v_0*self.dt*dx\n",
    "\n",
    "        return F\n",
    "    def integrate(self, plot=False,remove_ylabels = False):\n",
    "        \"\"\"\n",
    "        Integrate the problem over time and optionally plot the results.\n",
    "        Returns arrays of C(x, t), rho(x, t), and n(x, t) over the simulation.\n",
    "\n",
    "        Parameters:\n",
    "        -----------\n",
    "        plot: bool\n",
    "            If True, plot the results using matplotlib.\n",
    "\n",
    "        Returns:\n",
    "        --------\n",
    "        C_xt: list of arrays\n",
    "            Concentration C as a function of position x and time t.\n",
    "        rho_xt: list of arrays\n",
    "            Density rho as a function of position x and time t.\n",
    "        n_xt: list of arrays\n",
    "            Quantity n as a function of position x and time t.\n",
    "        \"\"\"\n",
    "        # Initialize arrays to store C(x, t), rho(x, t), and n(x, t)\n",
    "        C_xt = []\n",
    "        rho_xt = []\n",
    "        n_xt = []\n",
    "        P_prices = []\n",
    "        alphavals = []\n",
    "        # Initialize matplotlib plots if needed\n",
    "        if plot:\n",
    "            fig, axs = plt.subplots(4, 1, figsize=(self.width, self.height*1.5))\n",
    "            cmap = mpl.cm.get_cmap(\"winter\")\n",
    "            cmap2 = mpl.cm.get_cmap(\"spring\")\n",
    "\n",
    "        # Time-stepping loop\n",
    "        V2 = FunctionSpace(self.mesh, 'P', 1)\n",
    "        X = np.linspace(1, self.Length, self.nx)\n",
    "        i=0\n",
    "        tot_CCosts= [] \n",
    "        tot_Pacqus = []\n",
    "        for t in tqdm(np.linspace(0, self.T, self.nT), desc=\"Simulating\"):\n",
    "            F = self._make_F(self.alphval,self.D,self.s_scal)\n",
    "            solve(F == 0, self.u, self.bcs)\n",
    "            self.u_n.assign(self.u)\n",
    "            _n, _C, _rho = self.u.split()\n",
    "\n",
    "            # Interpolate and store the results\n",
    "            n_field = interpolate(_n, V2)\n",
    "            rho_field = interpolate(_rho, V2)\n",
    "            C_field = interpolate(_C, V2)\n",
    "            Ccost = np.pi*np.sum([n_field(x)*x*self.dx*self.v_sval for x in X]) #mm.h-1\n",
    "            Ccost *= np.pi*(self.r0)**2 #mm**3.h-1\n",
    "            Ccost *= 1e-3  #mL.mm-1.h-1=dm**3.h-1\n",
    "            \n",
    "            Ccost *= 0.5*0.21*1.1 #g.h-1\n",
    "            Ccost *= 1e6 #ug.h-1\n",
    "            Ccost *= 2 #respiration\n",
    "            \n",
    "            Ccost *= (self.v_sval/0.25)**(self.speed_penalty)\n",
    "            Pacquisition = np.pi*np.sum([self.Vmax*(C_field(x)/bp/(C_field(x)/bp+self.Kp))*rho_field(x)*x*self.dx for x in X]) #ug.h-1.mm-2\n",
    "            Pacquisition *= 2*self.r0*np.pi #ug.mm-1\n",
    "            # Pacquisition += 5e-4*np.exp(-t/100)\n",
    "            tot_CCosts.append(Ccost) \n",
    "            tot_Pacqus.append(Pacquisition)\n",
    "            # Pprice = Ccost/Pacquisition\n",
    "            integrated_CCost = np.sum(tot_CCosts[-10*self.T//self.nT:])\n",
    "            integrated_Pacqu = np.sum(tot_Pacqus[-10*self.T//self.nT:])\n",
    "            \n",
    "            Pprice = integrated_CCost/integrated_Pacqu\n",
    "\n",
    "            alphavals.append(self.alphval)\n",
    "            if t>=0:\n",
    "                # self.s_scal = self.Pprice_ideal/Pprice*self.speed\n",
    "                self.alphval = max(0.001,self.alphval + self.dt*self.adaptation_rate*(t/50)**2*signed_sqrt((self.Pprice_ideal-Pprice)/self.Pprice_ideal,alpha = 1))\n",
    "            # print(self.alphval)\n",
    "            self.D = self.D0*self.alphval0/self.alphval\n",
    "            # print(2*(np.sqrt(self.D*self.alphval)))\n",
    "            n_xt.append([n_field(x) for x in X])\n",
    "            rho_xt.append([rho_field(x) for x in X])\n",
    "            C_xt.append([C_field(x) for x in X])\n",
    "            P_prices.append(Pprice)\n",
    "            # print(Pprice,self.alphval)\n",
    "            if plot and i % (self.nT//5) == 0:\n",
    "                axs[1].plot(X, n_xt[-1], color=cmap2(t / self.T))\n",
    "                axs[0].plot(X, rho_xt[-1], color=cmap(t / self.T))\n",
    "                axs[2].plot(X, np.array(C_xt[-1])*1000, color=cmap3(t / self.T))\n",
    "                Pacq =  [2*self.r0*np.pi*C_xt[-1][i]/bp/(C_xt[-1][i]/bp+self.Kp) * rho_xt[-1][i]*Vmax*1000 for i in range(len(X))]\n",
    "\n",
    "                axs[3].plot(X, Pacq, color=cmap4(t / self.T))\n",
    "                # break\n",
    "            i+=1\n",
    "            \n",
    "\n",
    "        # Finalize plot settings if plotting\n",
    "        if plot:\n",
    "            axs[1].plot(X, n_xt[-1], color=cmap2(t / self.T))\n",
    "            axs[0].plot(X, rho_xt[-1], color=cmap(t / self.T))\n",
    "            satrho = np.median([rho for rho in rho_xt[-1] if rho>1e-10])\n",
    "            \n",
    "            # axs[0].hlines(satrho,np.min(X),np.max(X), color=\"red\")\n",
    "            \n",
    "            axs[2].plot(X, np.array(C_xt[-1])*1000, color=cmap3(t / self.T))\n",
    "            Pacq =  [2*self.r0*np.pi*C_xt[-1][i]/bp/(C_xt[-1][i]/bp+self.Kp) * rho_xt[-1][i]*Vmax*1000 for i in range(len(X))]\n",
    "            axs[3].plot(X, Pacq, color=cmap4(t / self.T))\n",
    "            axs[0].set_ylabel(r'$\\rho$'+ '\\n $(mm^{-2})$')\n",
    "            axs[0].set_xticklabels([])\n",
    "            # axs[0].set_ylim(0,8)\n",
    "            \n",
    "            axs[1].set_ylabel('$n$ \\n $(mm^{-3})$')\n",
    "            axs[1].set_xticklabels([])\n",
    "            # axs[1].set_ylim(0,3)\n",
    "            \n",
    "            axs[2].set_ylabel('$[P]$ \\n ($ng/ mm^{3}$)')\n",
    "            axs[2].set_xticklabels([])\n",
    "            # axs[2].set_ylim(0,13)\n",
    "            \n",
    "            axs[3].set_ylabel('$\\phi_P$ \\n ($ng/mm^{3}/h$)')\n",
    "\n",
    "            axs[3].set_xlabel('position \\n ($mm$)')\n",
    "            # axs[3].set_ylim(0,0.05)\n",
    "\n",
    "            formatter = ticker.FormatStrFormatter('%.2f')  # Adjust format as needed\n",
    "\n",
    "            for ax in axs:\n",
    "                ax.yaxis.set_major_formatter(formatter)\n",
    "            if remove_ylabels:\n",
    "                for ax in axs:\n",
    "                    ax.set_ylabel('')\n",
    "                    ax.set_yticklabels([])\n",
    "\n",
    "            plt.show()\n",
    "\n",
    "        return C_xt, rho_xt, n_xt,P_prices,alphavals\n",
    "        \n",
    "\n",
    "# Example usage:\n",
    "C0=0.02\n",
    "Pprice_ideal = 2*(0.02/C0)**(1/1.2)\n",
    "speed = 0.10\n",
    "T = 200\n",
    "nT = 400\n",
    "adaptation_rate = 8e-2\n",
    "\n",
    "sim = Simulation(speed = speed,C0=C0,T = T,nT=nT,Pprice_ideal = Pprice_ideal,Fmax = Vmax,adaptation_rate = adaptation_rate,drag = 1)\n",
    "# C_xt, rho_xt, n_xt,P_prices,alphavals = sim.integrate(plot=True)\n",
    "# plot_price(C_xt, rho_xt, n_xt,P_prices,alphavals)\n",
    "# speed = 0.26\n",
    "# sim = Simulation(speed = speed,C0=C0,T = T,nT=nT,Pprice_ideal = Pprice_ideal,Fmax = Vmax,adaptation_rate = adaptation_rate,drag = 1)\n",
    "# C_xt, rho_xt, n_xt,P_prices,alphavals = sim.integrate(plot=True)\n",
    "# plot_price(C_xt, rho_xt, n_xt,P_prices,alphavals)\n",
    "\n",
    "# speed = 0.17\n",
    "# sim = Simulation(speed = speed,C0=C0,T = T,nT=nT,Pprice_ideal = Pprice_ideal,Fmax = Vmax,adaptation_rate = adaptation_rate,drag = 1)\n",
    "# C_xt, rho_xt, n_xt,P_prices,alphavals = sim.integrate(plot=True)\n",
    "# plot_price(C_xt, rho_xt, n_xt,P_prices,alphavals)\n",
    "\n",
    "# C0=0.05\n",
    "# sim = Simulation(speed = speed,C0=C0,T = T,nT=nT,Pprice_ideal = Pprice_ideal,Fmax = Vmax,adaptation_rate = adaptation_rate,drag = 1)\n",
    "# C_xt, rho_xt, n_xt,P_prices,alphavals = sim.integrate(plot=True)\n",
    "# plot_price(C_xt, rho_xt, n_xt,P_prices,alphavals)\n",
    "\n",
    "# speed = 0.10\n",
    "# sim = Simulation(speed = speed,C0=C0,T = T,nT=nT,Pprice_ideal = Pprice_ideal,Fmax = Vmax,adaptation_rate = adaptation_rate,drag = 1)\n",
    "\n",
    "# C_xt, rho_xt, n_xt,P_prices,alphavals = sim.integrate(plot=True)\n",
    "# plot_price(C_xt, rho_xt, n_xt,P_prices,alphavals)\n"
   ]
  },
  {
   "cell_type": "code",
   "execution_count": 5,
   "id": "b579eb84-6824-4e25-b2e1-4bb9e1741027",
   "metadata": {
    "tags": []
   },
   "outputs": [
    {
     "data": {
      "text/plain": [
       "84.0"
      ]
     },
     "execution_count": 5,
     "metadata": {},
     "output_type": "execute_result"
    }
   ],
   "source": [
    "Length"
   ]
  },
  {
   "cell_type": "code",
   "execution_count": 2,
   "id": "73d5b11f-a08f-4a52-9b3d-22d4c5e346ac",
   "metadata": {
    "tags": []
   },
   "outputs": [
    {
     "data": {
      "text/plain": [
       "2.0"
      ]
     },
     "execution_count": 2,
     "metadata": {},
     "output_type": "execute_result"
    }
   ],
   "source": [
    "Pprice_ideal = 2*(0.02/C0)**(1/3)\n",
    "Pprice_ideal"
   ]
  },
  {
   "cell_type": "code",
   "execution_count": 3,
   "id": "d1c4f8f4-6e1e-48d1-a819-64617e1e1404",
   "metadata": {
    "tags": []
   },
   "outputs": [],
   "source": [
    "def get_dynamics(speed,C0=10,Pprice_ideal = 1/15):\n",
    "    sim = Simulation(speed = speed,C0=C0,T = T,nT=nT,Pprice_ideal = Pprice_ideal,Fmax = Vmax,adaptation_rate = adaptation_rate,drag = 1)\n",
    "    C_xt, rho_xt, n_xt,P_prices,_ = sim.integrate(plot=False)\n",
    "    poss = np.argmax(n_xt,axis=1)\n",
    "    x = np.linspace(0,sim.T,sim.nT)\n",
    "    y = np.array(poss)*sim.Length/sim.nx\n",
    "    fit_coeffs = np.polyfit(x[3*sim.nT//4:], y[3*sim.nT//4:], 1)\n",
    "    return(np.array(C_xt),np.array(rho_xt),np.array(n_xt),fit_coeffs[0])\n"
   ]
  },
  {
   "cell_type": "code",
   "execution_count": 4,
   "id": "7a110c08-9729-4ecc-91e0-be73d088fb99",
   "metadata": {
    "collapsed": true,
    "jupyter": {
     "outputs_hidden": true
    },
    "tags": []
   },
   "outputs": [
    {
     "data": {
      "application/vnd.jupyter.widget-view+json": {
       "model_id": "a28b3c95bf014366966282dd9e32fade",
       "version_major": 2,
       "version_minor": 0
      },
      "text/plain": [
       "Simulating:   0%|          | 0/400 [00:00<?, ?it/s]"
      ]
     },
     "metadata": {},
     "output_type": "display_data"
    },
    {
     "data": {
      "application/vnd.jupyter.widget-view+json": {
       "model_id": "76a6935afadb49eeac968251ceee1a69",
       "version_major": 2,
       "version_minor": 0
      },
      "text/plain": [
       "Simulating:   0%|          | 0/400 [00:00<?, ?it/s]"
      ]
     },
     "metadata": {},
     "output_type": "display_data"
    },
    {
     "data": {
      "application/vnd.jupyter.widget-view+json": {
       "model_id": "69cea13afcd04448b3facb78d6ee51f2",
       "version_major": 2,
       "version_minor": 0
      },
      "text/plain": [
       "Simulating:   0%|          | 0/400 [00:00<?, ?it/s]"
      ]
     },
     "metadata": {},
     "output_type": "display_data"
    },
    {
     "data": {
      "application/vnd.jupyter.widget-view+json": {
       "model_id": "587039d221f04c59891d2ecde3bf9de9",
       "version_major": 2,
       "version_minor": 0
      },
      "text/plain": [
       "Simulating:   0%|          | 0/400 [00:00<?, ?it/s]"
      ]
     },
     "metadata": {},
     "output_type": "display_data"
    },
    {
     "data": {
      "application/vnd.jupyter.widget-view+json": {
       "model_id": "27f38b235a0f4b9fbbb5e77fca16f133",
       "version_major": 2,
       "version_minor": 0
      },
      "text/plain": [
       "Simulating:   0%|          | 0/400 [00:00<?, ?it/s]"
      ]
     },
     "metadata": {},
     "output_type": "display_data"
    },
    {
     "data": {
      "application/vnd.jupyter.widget-view+json": {
       "model_id": "4e2891f49d514634bafd57060a8c9010",
       "version_major": 2,
       "version_minor": 0
      },
      "text/plain": [
       "Simulating:   0%|          | 0/400 [00:00<?, ?it/s]"
      ]
     },
     "metadata": {},
     "output_type": "display_data"
    },
    {
     "data": {
      "application/vnd.jupyter.widget-view+json": {
       "model_id": "16d930306c20438db48105e0af536d75",
       "version_major": 2,
       "version_minor": 0
      },
      "text/plain": [
       "Simulating:   0%|          | 0/400 [00:00<?, ?it/s]"
      ]
     },
     "metadata": {},
     "output_type": "display_data"
    },
    {
     "data": {
      "application/vnd.jupyter.widget-view+json": {
       "model_id": "3afd5badb32e4be4a116a9cb0cef2556",
       "version_major": 2,
       "version_minor": 0
      },
      "text/plain": [
       "Simulating:   0%|          | 0/400 [00:00<?, ?it/s]"
      ]
     },
     "metadata": {},
     "output_type": "display_data"
    },
    {
     "data": {
      "application/vnd.jupyter.widget-view+json": {
       "model_id": "ba9ba1d40849433aad854dbfdadfcac4",
       "version_major": 2,
       "version_minor": 0
      },
      "text/plain": [
       "Simulating:   0%|          | 0/400 [00:00<?, ?it/s]"
      ]
     },
     "metadata": {},
     "output_type": "display_data"
    },
    {
     "data": {
      "application/vnd.jupyter.widget-view+json": {
       "model_id": "e018d304aa744c7dbf04b614386ad332",
       "version_major": 2,
       "version_minor": 0
      },
      "text/plain": [
       "Simulating:   0%|          | 0/400 [00:00<?, ?it/s]"
      ]
     },
     "metadata": {},
     "output_type": "display_data"
    },
    {
     "data": {
      "application/vnd.jupyter.widget-view+json": {
       "model_id": "24c08c9e142c41ccaab89b410453d943",
       "version_major": 2,
       "version_minor": 0
      },
      "text/plain": [
       "Simulating:   0%|          | 0/400 [00:00<?, ?it/s]"
      ]
     },
     "metadata": {},
     "output_type": "display_data"
    },
    {
     "data": {
      "application/vnd.jupyter.widget-view+json": {
       "model_id": "64bb6702760e4ae8869fec37455f6d6d",
       "version_major": 2,
       "version_minor": 0
      },
      "text/plain": [
       "Simulating:   0%|          | 0/400 [00:00<?, ?it/s]"
      ]
     },
     "metadata": {},
     "output_type": "display_data"
    },
    {
     "data": {
      "application/vnd.jupyter.widget-view+json": {
       "model_id": "d073ea7104cb4203836cb0b4f8f4506d",
       "version_major": 2,
       "version_minor": 0
      },
      "text/plain": [
       "Simulating:   0%|          | 0/400 [00:00<?, ?it/s]"
      ]
     },
     "metadata": {},
     "output_type": "display_data"
    },
    {
     "data": {
      "application/vnd.jupyter.widget-view+json": {
       "model_id": "8428ea1db2f24f6ca6aa3946681f85e3",
       "version_major": 2,
       "version_minor": 0
      },
      "text/plain": [
       "Simulating:   0%|          | 0/400 [00:00<?, ?it/s]"
      ]
     },
     "metadata": {},
     "output_type": "display_data"
    },
    {
     "data": {
      "application/vnd.jupyter.widget-view+json": {
       "model_id": "5a6c009b6bad45dc81a57f36e9668e80",
       "version_major": 2,
       "version_minor": 0
      },
      "text/plain": [
       "Simulating:   0%|          | 0/400 [00:00<?, ?it/s]"
      ]
     },
     "metadata": {},
     "output_type": "display_data"
    },
    {
     "data": {
      "application/vnd.jupyter.widget-view+json": {
       "model_id": "411b43b0a31d4111901a3f7600a0c762",
       "version_major": 2,
       "version_minor": 0
      },
      "text/plain": [
       "Simulating:   0%|          | 0/400 [00:00<?, ?it/s]"
      ]
     },
     "metadata": {},
     "output_type": "display_data"
    },
    {
     "data": {
      "application/vnd.jupyter.widget-view+json": {
       "model_id": "fe94cac9abf5482eada111daa161ddbf",
       "version_major": 2,
       "version_minor": 0
      },
      "text/plain": [
       "Simulating:   0%|          | 0/400 [00:00<?, ?it/s]"
      ]
     },
     "metadata": {},
     "output_type": "display_data"
    },
    {
     "data": {
      "application/vnd.jupyter.widget-view+json": {
       "model_id": "d8bc6d11df28417c9032e9f3e3fe9829",
       "version_major": 2,
       "version_minor": 0
      },
      "text/plain": [
       "Simulating:   0%|          | 0/400 [00:00<?, ?it/s]"
      ]
     },
     "metadata": {},
     "output_type": "display_data"
    },
    {
     "data": {
      "application/vnd.jupyter.widget-view+json": {
       "model_id": "252a5810aa2a44c299a248408dc8434a",
       "version_major": 2,
       "version_minor": 0
      },
      "text/plain": [
       "Simulating:   0%|          | 0/400 [00:00<?, ?it/s]"
      ]
     },
     "metadata": {},
     "output_type": "display_data"
    },
    {
     "data": {
      "application/vnd.jupyter.widget-view+json": {
       "model_id": "f65a65c090d64604afd8bed2a3066a84",
       "version_major": 2,
       "version_minor": 0
      },
      "text/plain": [
       "Simulating:   0%|          | 0/400 [00:00<?, ?it/s]"
      ]
     },
     "metadata": {},
     "output_type": "display_data"
    },
    {
     "data": {
      "application/vnd.jupyter.widget-view+json": {
       "model_id": "05f37736875a4833b0ae6a28015f4a74",
       "version_major": 2,
       "version_minor": 0
      },
      "text/plain": [
       "Simulating:   0%|          | 0/400 [00:00<?, ?it/s]"
      ]
     },
     "metadata": {},
     "output_type": "display_data"
    },
    {
     "data": {
      "application/vnd.jupyter.widget-view+json": {
       "model_id": "be7194dcb33a4e29b3f2dadabb76b6ee",
       "version_major": 2,
       "version_minor": 0
      },
      "text/plain": [
       "Simulating:   0%|          | 0/400 [00:00<?, ?it/s]"
      ]
     },
     "metadata": {},
     "output_type": "display_data"
    },
    {
     "data": {
      "application/vnd.jupyter.widget-view+json": {
       "model_id": "b0039bcd1b0249b8b097827d1a96ff72",
       "version_major": 2,
       "version_minor": 0
      },
      "text/plain": [
       "Simulating:   0%|          | 0/400 [00:00<?, ?it/s]"
      ]
     },
     "metadata": {},
     "output_type": "display_data"
    },
    {
     "data": {
      "application/vnd.jupyter.widget-view+json": {
       "model_id": "4dea0567a841410686e15fff77b96bd0",
       "version_major": 2,
       "version_minor": 0
      },
      "text/plain": [
       "Simulating:   0%|          | 0/400 [00:00<?, ?it/s]"
      ]
     },
     "metadata": {},
     "output_type": "display_data"
    },
    {
     "data": {
      "application/vnd.jupyter.widget-view+json": {
       "model_id": "5c7ac2019d2d402db62eba5e47ffc925",
       "version_major": 2,
       "version_minor": 0
      },
      "text/plain": [
       "Simulating:   0%|          | 0/400 [00:00<?, ?it/s]"
      ]
     },
     "metadata": {},
     "output_type": "display_data"
    },
    {
     "data": {
      "application/vnd.jupyter.widget-view+json": {
       "model_id": "d6a3af8ab1c8452c8729b29b0f60d402",
       "version_major": 2,
       "version_minor": 0
      },
      "text/plain": [
       "Simulating:   0%|          | 0/400 [00:00<?, ?it/s]"
      ]
     },
     "metadata": {},
     "output_type": "display_data"
    },
    {
     "data": {
      "application/vnd.jupyter.widget-view+json": {
       "model_id": "3c8e547aa38c41f6b98f20c21b5e0bba",
       "version_major": 2,
       "version_minor": 0
      },
      "text/plain": [
       "Simulating:   0%|          | 0/400 [00:00<?, ?it/s]"
      ]
     },
     "metadata": {},
     "output_type": "display_data"
    },
    {
     "data": {
      "application/vnd.jupyter.widget-view+json": {
       "model_id": "ffa2d0d82f404c82b63d657af3f8ac79",
       "version_major": 2,
       "version_minor": 0
      },
      "text/plain": [
       "Simulating:   0%|          | 0/400 [00:00<?, ?it/s]"
      ]
     },
     "metadata": {},
     "output_type": "display_data"
    },
    {
     "data": {
      "application/vnd.jupyter.widget-view+json": {
       "model_id": "6198566fd6714b04add20652f9af8e1b",
       "version_major": 2,
       "version_minor": 0
      },
      "text/plain": [
       "Simulating:   0%|          | 0/400 [00:00<?, ?it/s]"
      ]
     },
     "metadata": {},
     "output_type": "display_data"
    },
    {
     "data": {
      "application/vnd.jupyter.widget-view+json": {
       "model_id": "337040080ef846bc9927e4d4282c163d",
       "version_major": 2,
       "version_minor": 0
      },
      "text/plain": [
       "Simulating:   0%|          | 0/400 [00:00<?, ?it/s]"
      ]
     },
     "metadata": {},
     "output_type": "display_data"
    },
    {
     "data": {
      "application/vnd.jupyter.widget-view+json": {
       "model_id": "8601884550e541b0a44a4a13a8f39c2b",
       "version_major": 2,
       "version_minor": 0
      },
      "text/plain": [
       "Simulating:   0%|          | 0/400 [00:00<?, ?it/s]"
      ]
     },
     "metadata": {},
     "output_type": "display_data"
    },
    {
     "data": {
      "application/vnd.jupyter.widget-view+json": {
       "model_id": "32f16b6e80da4e2795e8d7fe41f2e759",
       "version_major": 2,
       "version_minor": 0
      },
      "text/plain": [
       "Simulating:   0%|          | 0/400 [00:00<?, ?it/s]"
      ]
     },
     "metadata": {},
     "output_type": "display_data"
    },
    {
     "data": {
      "application/vnd.jupyter.widget-view+json": {
       "model_id": "cc98654a0e554f2bb37fbb3a546549d0",
       "version_major": 2,
       "version_minor": 0
      },
      "text/plain": [
       "Simulating:   0%|          | 0/400 [00:00<?, ?it/s]"
      ]
     },
     "metadata": {},
     "output_type": "display_data"
    },
    {
     "data": {
      "application/vnd.jupyter.widget-view+json": {
       "model_id": "527ee31702e6474e954943f6f3fe672b",
       "version_major": 2,
       "version_minor": 0
      },
      "text/plain": [
       "Simulating:   0%|          | 0/400 [00:00<?, ?it/s]"
      ]
     },
     "metadata": {},
     "output_type": "display_data"
    },
    {
     "data": {
      "application/vnd.jupyter.widget-view+json": {
       "model_id": "c0734c30643a4f38acf04e26cc524c0a",
       "version_major": 2,
       "version_minor": 0
      },
      "text/plain": [
       "Simulating:   0%|          | 0/400 [00:00<?, ?it/s]"
      ]
     },
     "metadata": {},
     "output_type": "display_data"
    },
    {
     "data": {
      "application/vnd.jupyter.widget-view+json": {
       "model_id": "4f02521f6eef48d394356329a864e684",
       "version_major": 2,
       "version_minor": 0
      },
      "text/plain": [
       "Simulating:   0%|          | 0/400 [00:00<?, ?it/s]"
      ]
     },
     "metadata": {},
     "output_type": "display_data"
    },
    {
     "data": {
      "application/vnd.jupyter.widget-view+json": {
       "model_id": "ccc95e81472d478a85d6d7a06245709c",
       "version_major": 2,
       "version_minor": 0
      },
      "text/plain": [
       "Simulating:   0%|          | 0/400 [00:00<?, ?it/s]"
      ]
     },
     "metadata": {},
     "output_type": "display_data"
    },
    {
     "data": {
      "application/vnd.jupyter.widget-view+json": {
       "model_id": "fb65bb05bed34fb7a20a8c111e3450e4",
       "version_major": 2,
       "version_minor": 0
      },
      "text/plain": [
       "Simulating:   0%|          | 0/400 [00:00<?, ?it/s]"
      ]
     },
     "metadata": {},
     "output_type": "display_data"
    },
    {
     "data": {
      "application/vnd.jupyter.widget-view+json": {
       "model_id": "10d11d27d8f24498a77bcf7b52bc443e",
       "version_major": 2,
       "version_minor": 0
      },
      "text/plain": [
       "Simulating:   0%|          | 0/400 [00:00<?, ?it/s]"
      ]
     },
     "metadata": {},
     "output_type": "display_data"
    },
    {
     "data": {
      "application/vnd.jupyter.widget-view+json": {
       "model_id": "39eeac8ac3bd4ad89d3664e1ba074e44",
       "version_major": 2,
       "version_minor": 0
      },
      "text/plain": [
       "Simulating:   0%|          | 0/400 [00:00<?, ?it/s]"
      ]
     },
     "metadata": {},
     "output_type": "display_data"
    },
    {
     "data": {
      "application/vnd.jupyter.widget-view+json": {
       "model_id": "111ca6234aca4748a7e825bdc58ed841",
       "version_major": 2,
       "version_minor": 0
      },
      "text/plain": [
       "Simulating:   0%|          | 0/400 [00:00<?, ?it/s]"
      ]
     },
     "metadata": {},
     "output_type": "display_data"
    },
    {
     "data": {
      "application/vnd.jupyter.widget-view+json": {
       "model_id": "2b195fda4ae54abe9a574c1faa5ca65b",
       "version_major": 2,
       "version_minor": 0
      },
      "text/plain": [
       "Simulating:   0%|          | 0/400 [00:00<?, ?it/s]"
      ]
     },
     "metadata": {},
     "output_type": "display_data"
    },
    {
     "data": {
      "application/vnd.jupyter.widget-view+json": {
       "model_id": "77d423bb189e48b2b250b1fcf1d83d18",
       "version_major": 2,
       "version_minor": 0
      },
      "text/plain": [
       "Simulating:   0%|          | 0/400 [00:00<?, ?it/s]"
      ]
     },
     "metadata": {},
     "output_type": "display_data"
    },
    {
     "data": {
      "application/vnd.jupyter.widget-view+json": {
       "model_id": "ee96f00d614e41718c484c1e607565ca",
       "version_major": 2,
       "version_minor": 0
      },
      "text/plain": [
       "Simulating:   0%|          | 0/400 [00:00<?, ?it/s]"
      ]
     },
     "metadata": {},
     "output_type": "display_data"
    },
    {
     "data": {
      "application/vnd.jupyter.widget-view+json": {
       "model_id": "42fa1dc7394149f4addb85130d445bde",
       "version_major": 2,
       "version_minor": 0
      },
      "text/plain": [
       "Simulating:   0%|          | 0/400 [00:00<?, ?it/s]"
      ]
     },
     "metadata": {},
     "output_type": "display_data"
    },
    {
     "data": {
      "application/vnd.jupyter.widget-view+json": {
       "model_id": "28a9bd5b8c304b869b8d48a9a69ddbd1",
       "version_major": 2,
       "version_minor": 0
      },
      "text/plain": [
       "Simulating:   0%|          | 0/400 [00:00<?, ?it/s]"
      ]
     },
     "metadata": {},
     "output_type": "display_data"
    },
    {
     "data": {
      "application/vnd.jupyter.widget-view+json": {
       "model_id": "88ed2b2b00b24a7a9488f2c56dfea4d2",
       "version_major": 2,
       "version_minor": 0
      },
      "text/plain": [
       "Simulating:   0%|          | 0/400 [00:00<?, ?it/s]"
      ]
     },
     "metadata": {},
     "output_type": "display_data"
    },
    {
     "data": {
      "application/vnd.jupyter.widget-view+json": {
       "model_id": "045d41c2f1444187b171e4e195efb7b7",
       "version_major": 2,
       "version_minor": 0
      },
      "text/plain": [
       "Simulating:   0%|          | 0/400 [00:00<?, ?it/s]"
      ]
     },
     "metadata": {},
     "output_type": "display_data"
    },
    {
     "data": {
      "application/vnd.jupyter.widget-view+json": {
       "model_id": "5ce3d2c51e844a289cc06f1177265f8f",
       "version_major": 2,
       "version_minor": 0
      },
      "text/plain": [
       "Simulating:   0%|          | 0/400 [00:00<?, ?it/s]"
      ]
     },
     "metadata": {},
     "output_type": "display_data"
    },
    {
     "data": {
      "application/vnd.jupyter.widget-view+json": {
       "model_id": "0731f39479db4d9e83a4ea9d8fde0d9e",
       "version_major": 2,
       "version_minor": 0
      },
      "text/plain": [
       "Simulating:   0%|          | 0/400 [00:00<?, ?it/s]"
      ]
     },
     "metadata": {},
     "output_type": "display_data"
    },
    {
     "data": {
      "application/vnd.jupyter.widget-view+json": {
       "model_id": "aaaa5e6bf77246c7a3a5cb0de80ff42b",
       "version_major": 2,
       "version_minor": 0
      },
      "text/plain": [
       "Simulating:   0%|          | 0/400 [00:00<?, ?it/s]"
      ]
     },
     "metadata": {},
     "output_type": "display_data"
    },
    {
     "data": {
      "application/vnd.jupyter.widget-view+json": {
       "model_id": "9968fe4efc9c4b4e999781b1b0eee686",
       "version_major": 2,
       "version_minor": 0
      },
      "text/plain": [
       "Simulating:   0%|          | 0/400 [00:00<?, ?it/s]"
      ]
     },
     "metadata": {},
     "output_type": "display_data"
    },
    {
     "data": {
      "application/vnd.jupyter.widget-view+json": {
       "model_id": "c53d07ee213e47a388833df92a791cb5",
       "version_major": 2,
       "version_minor": 0
      },
      "text/plain": [
       "Simulating:   0%|          | 0/400 [00:00<?, ?it/s]"
      ]
     },
     "metadata": {},
     "output_type": "display_data"
    },
    {
     "data": {
      "application/vnd.jupyter.widget-view+json": {
       "model_id": "0be9e6233e7b445ba9ff96b1ba97f2d0",
       "version_major": 2,
       "version_minor": 0
      },
      "text/plain": [
       "Simulating:   0%|          | 0/400 [00:00<?, ?it/s]"
      ]
     },
     "metadata": {},
     "output_type": "display_data"
    },
    {
     "data": {
      "application/vnd.jupyter.widget-view+json": {
       "model_id": "4d054cd3929a4028a899641eadaa7850",
       "version_major": 2,
       "version_minor": 0
      },
      "text/plain": [
       "Simulating:   0%|          | 0/400 [00:00<?, ?it/s]"
      ]
     },
     "metadata": {},
     "output_type": "display_data"
    },
    {
     "data": {
      "application/vnd.jupyter.widget-view+json": {
       "model_id": "bc58996d43bd418a8590ccbf51faedc4",
       "version_major": 2,
       "version_minor": 0
      },
      "text/plain": [
       "Simulating:   0%|          | 0/400 [00:00<?, ?it/s]"
      ]
     },
     "metadata": {},
     "output_type": "display_data"
    },
    {
     "data": {
      "application/vnd.jupyter.widget-view+json": {
       "model_id": "eb52b057637647a6941f9fd10acbf32f",
       "version_major": 2,
       "version_minor": 0
      },
      "text/plain": [
       "Simulating:   0%|          | 0/400 [00:00<?, ?it/s]"
      ]
     },
     "metadata": {},
     "output_type": "display_data"
    },
    {
     "data": {
      "application/vnd.jupyter.widget-view+json": {
       "model_id": "b5d146c24abf4b499139f127e5afd05d",
       "version_major": 2,
       "version_minor": 0
      },
      "text/plain": [
       "Simulating:   0%|          | 0/400 [00:00<?, ?it/s]"
      ]
     },
     "metadata": {},
     "output_type": "display_data"
    },
    {
     "data": {
      "application/vnd.jupyter.widget-view+json": {
       "model_id": "3761c675b53f4b64869a7dcff3748c4e",
       "version_major": 2,
       "version_minor": 0
      },
      "text/plain": [
       "Simulating:   0%|          | 0/400 [00:00<?, ?it/s]"
      ]
     },
     "metadata": {},
     "output_type": "display_data"
    },
    {
     "data": {
      "application/vnd.jupyter.widget-view+json": {
       "model_id": "0e6a550520b040f088868931c34b4548",
       "version_major": 2,
       "version_minor": 0
      },
      "text/plain": [
       "Simulating:   0%|          | 0/400 [00:00<?, ?it/s]"
      ]
     },
     "metadata": {},
     "output_type": "display_data"
    },
    {
     "data": {
      "application/vnd.jupyter.widget-view+json": {
       "model_id": "fdb2489560b8434ebd7254c6d873c802",
       "version_major": 2,
       "version_minor": 0
      },
      "text/plain": [
       "Simulating:   0%|          | 0/400 [00:00<?, ?it/s]"
      ]
     },
     "metadata": {},
     "output_type": "display_data"
    },
    {
     "data": {
      "application/vnd.jupyter.widget-view+json": {
       "model_id": "296b15a8197c443cbec04b4ce5bc96b7",
       "version_major": 2,
       "version_minor": 0
      },
      "text/plain": [
       "Simulating:   0%|          | 0/400 [00:00<?, ?it/s]"
      ]
     },
     "metadata": {},
     "output_type": "display_data"
    },
    {
     "data": {
      "application/vnd.jupyter.widget-view+json": {
       "model_id": "0ccf7b122b9649caa5a8ffc5590cb1aa",
       "version_major": 2,
       "version_minor": 0
      },
      "text/plain": [
       "Simulating:   0%|          | 0/400 [00:00<?, ?it/s]"
      ]
     },
     "metadata": {},
     "output_type": "display_data"
    },
    {
     "data": {
      "application/vnd.jupyter.widget-view+json": {
       "model_id": "248826fa15f34d19b76af22f15d2e9b3",
       "version_major": 2,
       "version_minor": 0
      },
      "text/plain": [
       "Simulating:   0%|          | 0/400 [00:00<?, ?it/s]"
      ]
     },
     "metadata": {},
     "output_type": "display_data"
    },
    {
     "data": {
      "application/vnd.jupyter.widget-view+json": {
       "model_id": "95927635bfda4196a139ab1a43e53452",
       "version_major": 2,
       "version_minor": 0
      },
      "text/plain": [
       "Simulating:   0%|          | 0/400 [00:00<?, ?it/s]"
      ]
     },
     "metadata": {},
     "output_type": "display_data"
    },
    {
     "data": {
      "application/vnd.jupyter.widget-view+json": {
       "model_id": "ee7cbf18231445ddaa165196ea15b592",
       "version_major": 2,
       "version_minor": 0
      },
      "text/plain": [
       "Simulating:   0%|          | 0/400 [00:00<?, ?it/s]"
      ]
     },
     "metadata": {},
     "output_type": "display_data"
    },
    {
     "data": {
      "application/vnd.jupyter.widget-view+json": {
       "model_id": "806d47f4ca8b430493f107912a9d0bca",
       "version_major": 2,
       "version_minor": 0
      },
      "text/plain": [
       "Simulating:   0%|          | 0/400 [00:00<?, ?it/s]"
      ]
     },
     "metadata": {},
     "output_type": "display_data"
    },
    {
     "data": {
      "application/vnd.jupyter.widget-view+json": {
       "model_id": "c51af6b74d9d426d9e6845c97e7f6c9a",
       "version_major": 2,
       "version_minor": 0
      },
      "text/plain": [
       "Simulating:   0%|          | 0/400 [00:00<?, ?it/s]"
      ]
     },
     "metadata": {},
     "output_type": "display_data"
    },
    {
     "data": {
      "application/vnd.jupyter.widget-view+json": {
       "model_id": "d445cf20f72b44ddaea5ffc3cd00a05d",
       "version_major": 2,
       "version_minor": 0
      },
      "text/plain": [
       "Simulating:   0%|          | 0/400 [00:00<?, ?it/s]"
      ]
     },
     "metadata": {},
     "output_type": "display_data"
    },
    {
     "data": {
      "application/vnd.jupyter.widget-view+json": {
       "model_id": "c516af1b1b1f49d58abb889896c57637",
       "version_major": 2,
       "version_minor": 0
      },
      "text/plain": [
       "Simulating:   0%|          | 0/400 [00:00<?, ?it/s]"
      ]
     },
     "metadata": {},
     "output_type": "display_data"
    },
    {
     "data": {
      "application/vnd.jupyter.widget-view+json": {
       "model_id": "b4dd21ea877842f9bcf1e020aaf8fe98",
       "version_major": 2,
       "version_minor": 0
      },
      "text/plain": [
       "Simulating:   0%|          | 0/400 [00:00<?, ?it/s]"
      ]
     },
     "metadata": {},
     "output_type": "display_data"
    },
    {
     "data": {
      "application/vnd.jupyter.widget-view+json": {
       "model_id": "f4b9c709e9554d9e9022c3494dcee69a",
       "version_major": 2,
       "version_minor": 0
      },
      "text/plain": [
       "Simulating:   0%|          | 0/400 [00:00<?, ?it/s]"
      ]
     },
     "metadata": {},
     "output_type": "display_data"
    },
    {
     "data": {
      "application/vnd.jupyter.widget-view+json": {
       "model_id": "1efd592f6bfc4039be6fb4708bb0d1a2",
       "version_major": 2,
       "version_minor": 0
      },
      "text/plain": [
       "Simulating:   0%|          | 0/400 [00:00<?, ?it/s]"
      ]
     },
     "metadata": {},
     "output_type": "display_data"
    },
    {
     "data": {
      "application/vnd.jupyter.widget-view+json": {
       "model_id": "7a460bc743a644edb040033656b5e5c9",
       "version_major": 2,
       "version_minor": 0
      },
      "text/plain": [
       "Simulating:   0%|          | 0/400 [00:00<?, ?it/s]"
      ]
     },
     "metadata": {},
     "output_type": "display_data"
    },
    {
     "data": {
      "application/vnd.jupyter.widget-view+json": {
       "model_id": "dab3aee1b4514582a8597422f62e95e3",
       "version_major": 2,
       "version_minor": 0
      },
      "text/plain": [
       "Simulating:   0%|          | 0/400 [00:00<?, ?it/s]"
      ]
     },
     "metadata": {},
     "output_type": "display_data"
    },
    {
     "data": {
      "application/vnd.jupyter.widget-view+json": {
       "model_id": "589d1a22bb624356bfa73fb3bfdc6ee4",
       "version_major": 2,
       "version_minor": 0
      },
      "text/plain": [
       "Simulating:   0%|          | 0/400 [00:00<?, ?it/s]"
      ]
     },
     "metadata": {},
     "output_type": "display_data"
    },
    {
     "data": {
      "application/vnd.jupyter.widget-view+json": {
       "model_id": "f426690fc47147a997be0908b91af8bb",
       "version_major": 2,
       "version_minor": 0
      },
      "text/plain": [
       "Simulating:   0%|          | 0/400 [00:00<?, ?it/s]"
      ]
     },
     "metadata": {},
     "output_type": "display_data"
    },
    {
     "data": {
      "application/vnd.jupyter.widget-view+json": {
       "model_id": "21e4c2b4025d4d3bb3ca31682925ba40",
       "version_major": 2,
       "version_minor": 0
      },
      "text/plain": [
       "Simulating:   0%|          | 0/400 [00:00<?, ?it/s]"
      ]
     },
     "metadata": {},
     "output_type": "display_data"
    },
    {
     "data": {
      "application/vnd.jupyter.widget-view+json": {
       "model_id": "9784bb8f6c98499381e6b2081194d9db",
       "version_major": 2,
       "version_minor": 0
      },
      "text/plain": [
       "Simulating:   0%|          | 0/400 [00:00<?, ?it/s]"
      ]
     },
     "metadata": {},
     "output_type": "display_data"
    },
    {
     "data": {
      "application/vnd.jupyter.widget-view+json": {
       "model_id": "ed8cc8c43daa42d3b0ed655ea2cdd8b1",
       "version_major": 2,
       "version_minor": 0
      },
      "text/plain": [
       "Simulating:   0%|          | 0/400 [00:00<?, ?it/s]"
      ]
     },
     "metadata": {},
     "output_type": "display_data"
    },
    {
     "data": {
      "application/vnd.jupyter.widget-view+json": {
       "model_id": "1882ecec43c945ca898e8849dd895230",
       "version_major": 2,
       "version_minor": 0
      },
      "text/plain": [
       "Simulating:   0%|          | 0/400 [00:00<?, ?it/s]"
      ]
     },
     "metadata": {},
     "output_type": "display_data"
    },
    {
     "data": {
      "application/vnd.jupyter.widget-view+json": {
       "model_id": "f45297eef48148eaa07014a44e217948",
       "version_major": 2,
       "version_minor": 0
      },
      "text/plain": [
       "Simulating:   0%|          | 0/400 [00:00<?, ?it/s]"
      ]
     },
     "metadata": {},
     "output_type": "display_data"
    },
    {
     "data": {
      "application/vnd.jupyter.widget-view+json": {
       "model_id": "3e025062b5bc4d7eb14f12648eed17be",
       "version_major": 2,
       "version_minor": 0
      },
      "text/plain": [
       "Simulating:   0%|          | 0/400 [00:00<?, ?it/s]"
      ]
     },
     "metadata": {},
     "output_type": "display_data"
    },
    {
     "data": {
      "application/vnd.jupyter.widget-view+json": {
       "model_id": "533c1e37959a4ae69c3e6357c91071cf",
       "version_major": 2,
       "version_minor": 0
      },
      "text/plain": [
       "Simulating:   0%|          | 0/400 [00:00<?, ?it/s]"
      ]
     },
     "metadata": {},
     "output_type": "display_data"
    },
    {
     "data": {
      "application/vnd.jupyter.widget-view+json": {
       "model_id": "42c0243ada3847f29962da2ab3e8da4d",
       "version_major": 2,
       "version_minor": 0
      },
      "text/plain": [
       "Simulating:   0%|          | 0/400 [00:00<?, ?it/s]"
      ]
     },
     "metadata": {},
     "output_type": "display_data"
    },
    {
     "data": {
      "application/vnd.jupyter.widget-view+json": {
       "model_id": "7a7718668de045698fd39f8a12fb5825",
       "version_major": 2,
       "version_minor": 0
      },
      "text/plain": [
       "Simulating:   0%|          | 0/400 [00:00<?, ?it/s]"
      ]
     },
     "metadata": {},
     "output_type": "display_data"
    },
    {
     "data": {
      "application/vnd.jupyter.widget-view+json": {
       "model_id": "dfd2ca39d5c7465bb4f6b89d203cd07b",
       "version_major": 2,
       "version_minor": 0
      },
      "text/plain": [
       "Simulating:   0%|          | 0/400 [00:00<?, ?it/s]"
      ]
     },
     "metadata": {},
     "output_type": "display_data"
    },
    {
     "data": {
      "application/vnd.jupyter.widget-view+json": {
       "model_id": "5cff38156995484bb5e235890c40ea59",
       "version_major": 2,
       "version_minor": 0
      },
      "text/plain": [
       "Simulating:   0%|          | 0/400 [00:00<?, ?it/s]"
      ]
     },
     "metadata": {},
     "output_type": "display_data"
    },
    {
     "data": {
      "application/vnd.jupyter.widget-view+json": {
       "model_id": "674c3f64661847b0be41b80b2bff90b7",
       "version_major": 2,
       "version_minor": 0
      },
      "text/plain": [
       "Simulating:   0%|          | 0/400 [00:00<?, ?it/s]"
      ]
     },
     "metadata": {},
     "output_type": "display_data"
    },
    {
     "data": {
      "application/vnd.jupyter.widget-view+json": {
       "model_id": "24e5f4da21dd471da22b9083025c5e4c",
       "version_major": 2,
       "version_minor": 0
      },
      "text/plain": [
       "Simulating:   0%|          | 0/400 [00:00<?, ?it/s]"
      ]
     },
     "metadata": {},
     "output_type": "display_data"
    },
    {
     "data": {
      "application/vnd.jupyter.widget-view+json": {
       "model_id": "46850218fee742489b93c1207c0ee2bf",
       "version_major": 2,
       "version_minor": 0
      },
      "text/plain": [
       "Simulating:   0%|          | 0/400 [00:00<?, ?it/s]"
      ]
     },
     "metadata": {},
     "output_type": "display_data"
    },
    {
     "data": {
      "application/vnd.jupyter.widget-view+json": {
       "model_id": "5583e5968cbf4809bbee9b6607d01ce7",
       "version_major": 2,
       "version_minor": 0
      },
      "text/plain": [
       "Simulating:   0%|          | 0/400 [00:00<?, ?it/s]"
      ]
     },
     "metadata": {},
     "output_type": "display_data"
    },
    {
     "data": {
      "application/vnd.jupyter.widget-view+json": {
       "model_id": "2ec15fc176b84d549989620cc966a639",
       "version_major": 2,
       "version_minor": 0
      },
      "text/plain": [
       "Simulating:   0%|          | 0/400 [00:00<?, ?it/s]"
      ]
     },
     "metadata": {},
     "output_type": "display_data"
    },
    {
     "data": {
      "application/vnd.jupyter.widget-view+json": {
       "model_id": "a6366bd11fed4dad9cbf7e2f354b9e48",
       "version_major": 2,
       "version_minor": 0
      },
      "text/plain": [
       "Simulating:   0%|          | 0/400 [00:00<?, ?it/s]"
      ]
     },
     "metadata": {},
     "output_type": "display_data"
    },
    {
     "data": {
      "application/vnd.jupyter.widget-view+json": {
       "model_id": "4cfee042b8064753a15bb1801bf99569",
       "version_major": 2,
       "version_minor": 0
      },
      "text/plain": [
       "Simulating:   0%|          | 0/400 [00:00<?, ?it/s]"
      ]
     },
     "metadata": {},
     "output_type": "display_data"
    },
    {
     "data": {
      "application/vnd.jupyter.widget-view+json": {
       "model_id": "6515ba6820d64c5c9bd5de71e2a22a27",
       "version_major": 2,
       "version_minor": 0
      },
      "text/plain": [
       "Simulating:   0%|          | 0/400 [00:00<?, ?it/s]"
      ]
     },
     "metadata": {},
     "output_type": "display_data"
    },
    {
     "data": {
      "application/vnd.jupyter.widget-view+json": {
       "model_id": "2ffd819a885046348e67773ed6c05b8f",
       "version_major": 2,
       "version_minor": 0
      },
      "text/plain": [
       "Simulating:   0%|          | 0/400 [00:00<?, ?it/s]"
      ]
     },
     "metadata": {},
     "output_type": "display_data"
    },
    {
     "data": {
      "application/vnd.jupyter.widget-view+json": {
       "model_id": "cc9507c122b54966a4284c7d2b9ad5ca",
       "version_major": 2,
       "version_minor": 0
      },
      "text/plain": [
       "Simulating:   0%|          | 0/400 [00:00<?, ?it/s]"
      ]
     },
     "metadata": {},
     "output_type": "display_data"
    },
    {
     "data": {
      "application/vnd.jupyter.widget-view+json": {
       "model_id": "d21026f384694b5ea8129955c43b578c",
       "version_major": 2,
       "version_minor": 0
      },
      "text/plain": [
       "Simulating:   0%|          | 0/400 [00:00<?, ?it/s]"
      ]
     },
     "metadata": {},
     "output_type": "display_data"
    },
    {
     "data": {
      "application/vnd.jupyter.widget-view+json": {
       "model_id": "db7767e53a904791ab89efae071be0c6",
       "version_major": 2,
       "version_minor": 0
      },
      "text/plain": [
       "Simulating:   0%|          | 0/400 [00:00<?, ?it/s]"
      ]
     },
     "metadata": {},
     "output_type": "display_data"
    }
   ],
   "source": [
    "plt.close(\"all\")\n",
    "\n",
    "speeds = np.linspace(0.10,0.26,10)\n",
    "C0_values = np.exp(np.linspace(np.log(0.001), np.log(0.02), 10))  # Adjust the number of points as needed\n",
    "\n",
    "dynamics = {(speed, C0): get_dynamics(speed, C0=C0, Pprice_ideal=2*(0.02/C0)**(1/1.2)) \n",
    "            for C0 in C0_values for speed in speeds}"
   ]
  },
  {
   "cell_type": "code",
   "execution_count": 5,
   "id": "fe5ce63e-6005-4198-8166-c2c24f12cbd1",
   "metadata": {
    "tags": []
   },
   "outputs": [],
   "source": [
    "X = np.linspace(1, Length, nx)\n",
    "dx = Length/nx\n",
    "Pacqu = {}\n",
    "\n",
    "for speed in speeds:\n",
    "    for C0 in C0_values:\n",
    "        C_xt, rho_xt, n_xt,speed_observed = dynamics[(speed,C0)]\n",
    "        Pacquisitions = np.sum(Vmax*(C_xt/bp/(C_xt/bp+sim.Kp))*rho_xt*X*sim.dx,axis=1) #ug.h-1.mm-1\n",
    "        Pacquisitions *= 2*sim.r0*np.pi\n",
    "        Pacqu[(speed,C0)] = np.mean(Pacquisitions)"
   ]
  },
  {
   "cell_type": "code",
   "execution_count": 6,
   "id": "56f65845-d98f-47d2-a496-9cfdf394154d",
   "metadata": {
    "tags": []
   },
   "outputs": [],
   "source": [
    "import pandas as pd\n",
    "\n",
    "# Your existing code\n",
    "# X, dx, Pacqu, etc.\n",
    "\n",
    "# Convert your data into a list of dictionaries\n",
    "data_for_df = []\n",
    "for key, value in Pacqu.items():\n",
    "    speed, C0 = key\n",
    "    data_for_df.append({'speed': speed, 'C0': C0, 'MeanPacquisition': value})\n",
    "\n",
    "# Create DataFrame\n",
    "df = pd.DataFrame(data_for_df)\n",
    "\n",
    "# Display the DataFrame\n",
    "\n",
    "\n",
    "df.to_csv('speedC0.csv')\n",
    "\n",
    "average_p_rate = df.groupby('C0')['MeanPacquisition'].mean()\n",
    "\n",
    "# Merge the averages back into the original DataFrame\n",
    "df['average_P_rate'] = df['C0'].map(average_p_rate)\n",
    "df['normalized_P_rate'] = df['MeanPacquisition']/df['average_P_rate']\n",
    "\n",
    "\n",
    "def to_two_significant_digits(x):\n",
    "    return float(f'{x:.2g}')\n",
    "\n",
    "# Create new columns with values formatted to two significant digits\n",
    "df['speed'] = (df['speed'].apply(to_two_significant_digits)*1000).astype(int)\n",
    "df['C0'] = (df['C0'].apply(to_two_significant_digits)*1000).astype(int)\n",
    "\n"
   ]
  },
  {
   "cell_type": "code",
   "execution_count": 7,
   "id": "4dab2e26-a15f-4c3a-9d71-d501e3ce336b",
   "metadata": {
    "tags": []
   },
   "outputs": [
    {
     "data": {
      "application/vnd.jupyter.widget-view+json": {
       "model_id": "c9a385c913c44bdebdf9bf3135acb1d2",
       "version_major": 2,
       "version_minor": 0
      },
      "image/png": "[encoded data removed]",
      "text/html": [
       "\n",
       "            <div style=\"display: inline-block;\">\n",
       "                <div class=\"jupyter-widgets widget-label\" style=\"text-align: center;\">\n",
       "                    Figure\n",
       "                </div>\n",
       "                <img src='data:image/png;base64,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' width=157.4803149606299/>\n",
       "            </div>\n",
       "        "
      ],
      "text/plain": [
       "Canvas(toolbar=Toolbar(toolitems=[('Home', 'Reset original view', 'home', 'home'), ('Back', 'Back to previous …"
      ]
     },
     "metadata": {},
     "output_type": "display_data"
    }
   ],
   "source": [
    "path_figure = r\"/mnt/c/Users/coren/Documents/PhD/paper/PandC/Fig5\"\n",
    "cm = 1/2.54  # centimeters in inches\n",
    "\n",
    "import seaborn as sns\n",
    "from matplotlib.ticker import FuncFormatter\n",
    "fig,ax = plt.subplots(figsize = (4*cm,3*cm))\n",
    "\n",
    "pivot_df = df.pivot_table(index='C0', columns='speed', values='normalized_P_rate')\n",
    "max_value = pivot_df.abs().max().max()  # Find the maximum absolute value\n",
    "vmin, vmax = 2-max_value, max_value  # Set vmin and vmax for the colorbar\n",
    "\n",
    "# Create the heatmap with symmetric colorbar\n",
    "sns.heatmap(pivot_df, annot=False, cmap=\"seismic\", ax=ax, vmin=vmin, vmax=vmax)\n",
    "\n",
    "# sns.heatmap(pivot_df, annot=False, cmap=\"YlGnBu\",cbar_kws={'label': 'relative \\n P transfer'})\n",
    "ax.set_xticklabels(ax.get_xticklabels(), rotation=0)\n",
    "\n",
    "n = 2  # Set n to desired interval\n",
    "for index, label in enumerate(ax.xaxis.get_ticklabels()):\n",
    "    if index % n != 0:\n",
    "        label.set_visible(False)\n",
    "# n = 2  # Set n to desired interval\n",
    "# for index, label in enumerate(ax.yaxis.get_ticklabels()):\n",
    "#     if index % n != 0:\n",
    "        # label.set_visible(False)\n",
    "ax.set_xlabel('$v_{wave}$ ($\\mu m/h$)')\n",
    "ax.set_ylabel('$[P]_{0}$ \\n ($n g/mm^3$)')\n",
    "# plt.tight_layout()\n",
    "plt.savefig(os.path.join(path_figure,'Figure4modelB.pdf'), transparent=True, bbox_inches='tight')\n"
   ]
  },
  {
   "cell_type": "code",
   "execution_count": 8,
   "id": "dafaffc4-a730-4eb7-86e2-932a4d246506",
   "metadata": {},
   "outputs": [
    {
     "ename": "NameError",
     "evalue": "name 'ggégé' is not defined",
     "output_type": "error",
     "traceback": [
      "\u001b[0;31m---------------------------------------------------------------------------\u001b[0m",
      "\u001b[0;31mNameError\u001b[0m                                 Traceback (most recent call last)",
      "Cell \u001b[0;32mIn[8], line 1\u001b[0m\n\u001b[0;32m----> 1\u001b[0m \u001b[43mggégé\u001b[49m\n",
      "\u001b[0;31mNameError\u001b[0m: name 'ggégé' is not defined"
     ]
    }
   ],
   "source": [
    "ggégé"
   ]
  },
  {
   "cell_type": "code",
   "execution_count": null,
   "id": "c9480db4-0ccb-4066-867c-c26e69ad1c66",
   "metadata": {
    "tags": []
   },
   "outputs": [],
   "source": [
    "X = np.linspace(1, Length, nx)\n",
    "dx = Length/nx\n",
    "Pacqu = {}\n",
    "for speed in speeds:\n",
    "    C_xt, rho_xt, n_xt = dynamics[speed] \n",
    "    Pacquisitions = np.sum(Vmax*(C_xt/(C_xt+sim.Kp))*rho_xt*X*sim.dx,axis=1) #ug.h-1.mm-1\n",
    "    Pacquisitions *= 2*sim.r0*np.pi\n",
    "    Pacqu[speed] = Pacquisitions"
   ]
  },
  {
   "cell_type": "code",
   "execution_count": null,
   "id": "4f584ca0-42bc-4f8d-8aaa-a9326126f066",
   "metadata": {
    "tags": []
   },
   "outputs": [],
   "source": [
    "import matplotlib.pyplot as plt\n",
    "import numpy as np\n",
    "from matplotlib.cm import get_cmap\n",
    "\n",
    "# Your data setup\n",
    "\n",
    "ts = np.linspace(0, T, nT)\n",
    "\n",
    "# Choose a colormap\n",
    "cmap = get_cmap('viridis')  # You can choose other colormaps like 'plasma', 'inferno', 'magma', 'cividis'\n",
    "\n",
    "# Normalize your speeds for the colormap\n",
    "norm_speeds = (speeds - min(speeds)) / (max(speeds) - min(speeds))\n",
    "\n",
    "# Create the plot\n",
    "fig, ax = plt.subplots()\n",
    "\n",
    "# Plot each line with color based on speed\n",
    "for i, speed in enumerate(speeds):\n",
    "    ax.plot(ts, Pacqu[speed], label=f'{speed}', color=cmap(norm_speeds[i]))\n",
    "    print(np.mean(Pacqu[speed]))\n"
   ]
  },
  {
   "cell_type": "code",
   "execution_count": null,
   "id": "860b2714-ae1f-4a2e-ba94-93aed8431582",
   "metadata": {
    "tags": []
   },
   "outputs": [],
   "source": [
    "import matplotlib.pyplot as plt\n",
    "import numpy as np\n",
    "from matplotlib.cm import get_cmap\n",
    "\n",
    "# Your data setup\n",
    "\n",
    "ts = np.linspace(0, T, nT)\n",
    "\n",
    "# Choose a colormap\n",
    "cmap = get_cmap('viridis')  # You can choose other colormaps like 'plasma', 'inferno', 'magma', 'cividis'\n",
    "\n",
    "# Normalize your speeds for the colormap\n",
    "norm_speeds = (speeds - min(speeds)) / (max(speeds) - min(speeds))\n",
    "\n",
    "# Create the plot\n",
    "fig, ax = plt.subplots()\n",
    "\n",
    "# Plot each line with color based on speed\n",
    "for i, speed in enumerate(speeds):\n",
    "    ax.plot(ts, Pacqu[speed], label=f'{speed}', color=cmap(norm_speeds[i]))\n",
    "    print(np.mean(Pacqu[speed]))\n"
   ]
  },
  {
   "cell_type": "code",
   "execution_count": null,
   "id": "237c05fd-798e-4390-a90a-92cd48a8333b",
   "metadata": {
    "tags": []
   },
   "outputs": [],
   "source": [
    "path_figure = r\"/mnt/c/Users/coren/Documents/PhD/paper/PandC/Fig4\"\n"
   ]
  },
  {
   "cell_type": "code",
   "execution_count": null,
   "id": "32baa754-c101-4639-8f42-7f4eec17f228",
   "metadata": {
    "tags": []
   },
   "outputs": [],
   "source": [
    "plt.style.use('presentation.mplstyle')\n",
    "cm = 1/2.54  # centimeters in inches\n",
    "\n",
    "fig,ax = plt.subplots(figsize = (6*cm,4*cm))\n",
    "ax.plot(np.array(speeds)*1000,rho_sats)\n",
    "fit_coeffs = np.polyfit(speeds, rho_sats, 1)\n",
    "# ax.set_xscale(\"log\")\n",
    "# ax.set_yscale(\"log\")\n",
    "ax.set_xlabel('$v_{wave}$ (um/h)')\n",
    "ax.set_ylabel('$d_{L}$ \\n ($mm/mm^2$)')\n",
    "# plt.tight_layout()\n",
    "plt.savefig(os.path.join(path_figure,'Figure4modelA.pdf'), transparent=True, bbox_inches='tight')\n"
   ]
  },
  {
   "cell_type": "code",
   "execution_count": null,
   "id": "07e57e7a-c8c3-4d5b-90c1-53e0e5586f9c",
   "metadata": {
    "tags": []
   },
   "outputs": [],
   "source": [
    "fig,ax = plt.subplots()\n",
    "ax.scatter(speeds,speeds_observed)\n",
    "fit_coeffs = np.polyfit(speeds, speeds_observed, 1)\n",
    "x = [0,0.30]\n",
    "fit_line = np.polyval(fit_coeffs, x)\n",
    "\n",
    "# Plot data and linear fit\n",
    "ax.plot(x, fit_line, 'r--')\n",
    "# ax.set_xscale(\"log\")\n",
    "# ax.set_yscale(\"log\")"
   ]
  }
 ],
 "metadata": {
  "kernelspec": {
   "display_name": "Python 3 (ipykernel)",
   "language": "python",
   "name": "python3"
  },
  "language_info": {
   "codemirror_mode": {
    "name": "ipython",
    "version": 3
   },
   "file_extension": ".py",
   "mimetype": "text/x-python",
   "name": "python",
   "nbconvert_exporter": "python",
   "pygments_lexer": "ipython3",
   "version": "3.9.2"
  }
 },
 "nbformat": 4,
 "nbformat_minor": 5
}
