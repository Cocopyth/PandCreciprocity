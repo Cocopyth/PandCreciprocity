{
 "cells": [
  {
   "cell_type": "code",
   "execution_count": 8,
   "id": "c1baf5f8-74ea-4489-b46a-72fe8664bfcf",
   "metadata": {
    "tags": []
   },
   "outputs": [
    {
     "name": "stdout",
     "output_type": "stream",
     "text": [
      "['/home/cocopyth/PandC', '/usr/lib/python39.zip', '/usr/lib/python3.9', '/usr/lib/python3.9/lib-dynload', '', '/home/cocopyth/.local/lib/python3.9/site-packages', '/usr/local/lib/python3.9/dist-packages', '/usr/lib/python3/dist-packages', '/usr/lib/petsc/lib/python3/dist-packages', '/usr/lib/mshr/python3/dist-packages', '/usr/lib/slepc/lib/python3/dist-packages', '/home/cocopyth/miniconda3/lib/python3.9/site-packages', '/home/cocopyth/miniconda3/lib/python3.9/site-packages']\n"
     ]
    }
   ],
   "source": [
    "Vmax = 3.25e-9 #ugP/um2/hour\n",
    "Vmax = Vmax*1e6 #ugP.mm-2.hour-1\n",
    "DP = 1e-5 #cm**2-s-1, diffusion coefficient of small ions in water\n",
    "DP = DP*1e2*3600 #mm**2-h-1, diffusion coefficient of small ions in water\n",
    "C0 = 3.5 #ug/mL=ug/cm**-3\n",
    "C0 = 3.5*1e-3 #ug/mm**-3\n",
    "\n",
    "DP,Vmax,C0\n",
    "\n",
    "C0 = 500 #mg.L-1\n",
    "C0 = 500*1e3 #ug.L-1\n",
    "C0 = C0 * 1e-3 #ug.cm-3\n",
    "C0 = C0 *1e-3 #ug.cm-3\n",
    "C0\n",
    "\n",
    "def signed_sqrt(x,alpha = 1/2):\n",
    "    \"\"\"Return the signed square root of a number.\"\"\"\n",
    "    if x >= 0:\n",
    "        return x**alpha\n",
    "    else:\n",
    "        return -(-x)**alpha\n",
    "\n",
    "import sys\n",
    "sys.path.append('/home/cocopyth/miniconda3/lib/python3.9/site-packages')\n",
    "print(sys.path)\n",
    "\n",
    "\n",
    "# !pip install tqdm\n",
    "from tqdm.notebook import tqdm  # Import tqdm\n",
    "\n",
    "\n",
    "%matplotlib widget\n",
    "from dolfin import *\n",
    "import numpy as np\n",
    "import matplotlib as mpl\n",
    "import matplotlib.pyplot as plt\n",
    "import os\n",
    "Length = 140*1.5\n",
    "nx = 350*15//10\n",
    "plt.close(\"all\")\n",
    "set_log_active(False)\n",
    "class Simulation:\n",
    "    \"\"\"\n",
    "    A class for simulating a finite element problem using the FEniCS framework.\n",
    "\n",
    "    Attributes:\n",
    "    -----------\n",
    "    Length: float\n",
    "        Length of the interval domain.\n",
    "    nx: int\n",
    "        Number of subdivisions in the mesh.\n",
    "    nT: int\n",
    "        Number of time steps.\n",
    "    T: float\n",
    "        Total simulation time.\n",
    "    C0: float\n",
    "        Initial concentration value.\n",
    "    Fmax: float\n",
    "        Maximum flux value.\n",
    "    Pprice_ideal: float\n",
    "        Ideal price value.\n",
    "    width: float\n",
    "        Width of the plot.\n",
    "    height: float\n",
    "        Height of the plot.\n",
    "    \"\"\"\n",
    "    def __init__(self, Length=Length, nx=nx, nT=200, T=400, C0=10, Fmax=2, Pprice_ideal=20, width=3.2, height=2,speed = 0.230,adaptation_rate = 1e-4,drag = 0):\n",
    "        self.Length = Length\n",
    "        self.nx = nx\n",
    "        self.dx = Length/nx\n",
    "        self.nT = nT\n",
    "        self.T = T\n",
    "        self.dt = T/nT\n",
    "        self.C0 = C0 #ug.mm-3\n",
    "        self.Fmax = Fmax\n",
    "        self.Pprice_ideal = Pprice_ideal\n",
    "        self.width = width\n",
    "        self.height = height\n",
    "        self.speed = speed\n",
    "        self.adaptation_rate = adaptation_rate\n",
    "        self.speed_penalty = drag\n",
    "        self._setup_simulation()\n",
    "        self.r0 = 3e-3\n",
    "\n",
    "    def _setup_simulation(self):\n",
    "        # Set up the simulation: define mesh, function spaces, initial conditions, etc.\n",
    "        \"\"\"\n",
    "        Sets up the initial conditions and parameters for the simulation.\n",
    "        \"\"\"\n",
    "        # Create mesh and define function space\n",
    "        self.mesh = IntervalMesh(self.nx, 1, self.Length)\n",
    "        P1 = FiniteElement('P', interval, 1)\n",
    "        element = MixedElement([P1, P1, P1])\n",
    "        self.V = FunctionSpace(self.mesh, element)\n",
    "        # Define initial conditions\n",
    "        u0 = Expression(('1.5*exp(-1*pow(abs(x[0]-7),2))', \n",
    "                         f'(1-exp(-3*(x[0]-1)))*{self.C0}', '0*exp(-0.01*pow(abs(x[0]),2))'), degree=1)\n",
    "        rexp = Expression(('1/x[0]', '0', '0'), degree=1)\n",
    "        self.r = interpolate(rexp, self.V)\n",
    "        self.invr, _, _ = split(self.r)\n",
    "        self.u_n = interpolate(u0, self.V)\n",
    "\n",
    "        # Splitting functions for later use\n",
    "        self.u = Function(self.V)\n",
    "        self.n, self.C, self.rho = split(self.u)   #mm-3,ug.mm-3,mm2.mm-3\n",
    "        self.n_n, self.C_n, self.rho_n = split(self.u_n)\n",
    "        self.v_1, self.v_0, self.v_2 = TestFunctions(self.V)\n",
    "\n",
    "        # Set parameters and constants\n",
    "        self.dt = self.T / self.nT\n",
    "        self.alphval = 0.01 #.h-1\n",
    "        self.alphval0 = self.alphval\n",
    "        self.betaval = 0.005 #mm.h-1 length coefficient\n",
    "        # self.betaval = 0.022/(2.5e-3) #mm.h-1 SA coefficient\n",
    "        \n",
    "        self.beta = Constant(self.betaval) #mm**4.h-1\n",
    "        self.D = 0.0008 #mm**2.h-1\n",
    "        self.D0 = self.D #mm**2.h-1\n",
    "        \n",
    "        self.D2 = Constant(0.36) #mm**2.h-1\n",
    "        self.n_mid = 0.5*(self.n_n + self.n)\n",
    "        self.v_sval = self.speed #mm.h-1\n",
    "        self.s_scal = self.speed #mm.h-1\n",
    "        self.v_s = Constant((self.v_sval,)) #mm.h-1\n",
    "        self.Vmax = self.Fmax #ug.mm**-2.h-1\n",
    "        self.Kp = 0.001 #ug.mm-3\n",
    "        # Boundary conditions\n",
    "        u_L = (Constant(0.0), Constant(0.0), Constant(0.0))\n",
    "        u_R = (Constant(0.0), Constant(self.C0), Constant(0.0))\n",
    "        bc_L = DirichletBC(self.V, u_L, 'near(x[0], 1.0)')\n",
    "        bc_R = DirichletBC(self.V, u_R, f'near(x[0], {self.Length})')\n",
    "        self.bcs = [bc_L, bc_R]\n",
    "\n",
    "    def _make_F(self, alphval,D):\n",
    "        # Define the variational problem F\n",
    "        alpha = Constant(alphval)\n",
    "        D = Constant(D)\n",
    "        # dn/dt\n",
    "        F = self.n*self.v_1*dx - self.n_n*self.v_1*dx \n",
    "        # D lapplacian(n)\n",
    "        F += D*dot(grad(self.n), grad(self.v_1))*self.dt*dx\n",
    "        # To account for cylindrical coordinates\n",
    "        F += self.invr*D*dot(grad(self.n), Constant((1,)))*self.v_1*self.dt*dx\n",
    "        \n",
    "        #v.grad(n)\n",
    "        F += self.dt*dot(grad(self.n_mid),self.v_s)*self.v_1*dx\n",
    "        # To account for cylindrical coordinates\n",
    "        F += self.invr*self.dt*self.n_mid*Constant(self.v_sval)*self.v_1*dx\n",
    "        \n",
    "        #alpha*n - beta * n * rho\n",
    "        F += self.beta*self.v_1*self.rho*(self.n)*self.dt*dx\n",
    "        F -= alpha*(self.n)*self.v_1*self.dt*dx\n",
    "        \n",
    "        #d rho/dt = vn\n",
    "        F -= self.dt*self.s_scal*self.n*self.v_2*dx-(self.rho-self.rho_n)*self.v_2*dx\n",
    "\n",
    "\n",
    "        # dC/dt\n",
    "        F += self.C*self.v_0*dx - self.C_n*self.v_0*dx #ug.mm-3\n",
    "        # Vmax * rho * C/(C+Kp)\n",
    "        F += 2*np.pi*self.Vmax*(self.rho)*self.r0*(self.C/(self.Kp+self.C))*self.v_0*self.dt*dx #ug\n",
    "        # Diffusion \n",
    "        F += self.D2*dot(grad(self.C), grad(self.v_0))*self.dt*dx\n",
    "        # To account for cylindrical coordinates\n",
    "        F += self.invr*self.D2*dot(grad(self.C), Constant((1,)))*self.v_0*self.dt*dx\n",
    "\n",
    "        return F\n",
    "    def integrate(self, plot=False):\n",
    "        \"\"\"\n",
    "        Integrate the problem over time and optionally plot the results.\n",
    "        Returns arrays of C(x, t), rho(x, t), and n(x, t) over the simulation.\n",
    "\n",
    "        Parameters:\n",
    "        -----------\n",
    "        plot: bool\n",
    "            If True, plot the results using matplotlib.\n",
    "\n",
    "        Returns:\n",
    "        --------\n",
    "        C_xt: list of arrays\n",
    "            Concentration C as a function of position x and time t.\n",
    "        rho_xt: list of arrays\n",
    "            Density rho as a function of position x and time t.\n",
    "        n_xt: list of arrays\n",
    "            Quantity n as a function of position x and time t.\n",
    "        \"\"\"\n",
    "        # Initialize arrays to store C(x, t), rho(x, t), and n(x, t)\n",
    "        C_xt = []\n",
    "        rho_xt = []\n",
    "        n_xt = []\n",
    "        P_prices = []\n",
    "        alphavals = []\n",
    "        # Initialize matplotlib plots if needed\n",
    "        if plot:\n",
    "            fig, axs = plt.subplots(4, 1, figsize=(self.width*2, self.height * 3.35))\n",
    "            cmap = mpl.cm.get_cmap(\"winter\")\n",
    "            cmap2 = mpl.cm.get_cmap(\"spring\")\n",
    "\n",
    "        # Time-stepping loop\n",
    "        V2 = FunctionSpace(self.mesh, 'P', 1)\n",
    "        X = np.linspace(1, self.Length, self.nx)\n",
    "        i=0\n",
    "        for t in tqdm(np.linspace(0, self.T, self.nT), desc=\"Simulating\"):\n",
    "            F = self._make_F(self.alphval,self.D)\n",
    "            solve(F == 0, self.u, self.bcs)\n",
    "            self.u_n.assign(self.u)\n",
    "            _n, _C, _rho = self.u.split()\n",
    "\n",
    "            # Interpolate and store the results\n",
    "            n_field = interpolate(_n, V2)\n",
    "            rho_field = interpolate(_rho, V2)\n",
    "            C_field = interpolate(_C, V2)\n",
    "            Ccost = np.sum([n_field(x)*x*self.dx*self.v_sval for x in X]) #mm.h-1.mm-1\n",
    "            Ccost *= np.pi*(self.r0)**2 #mm**3.mm-1.h-1\n",
    "            Ccost *= 0.5*0.3 *1e-3 #g.mm-1.h-1\n",
    "            Ccost *= 1e6 #ug.mm-1.h-1\n",
    "            Ccost *= 2 #respiration\n",
    "            Ccost *= (self.v_sval/0.15)**(self.speed_penalty)\n",
    "            Pacquisition = np.sum([self.Vmax*(C_field(x)/(C_field(x)+self.Kp))*rho_field(x)*x*self.dx for x in X]) #ug.h-1.mm-1\n",
    "            Pacquisition *= 2*self.r0*np.pi\n",
    "            Pacquisition += 0.05\n",
    "            \n",
    "            Pprice = Ccost/Pacquisition\n",
    "            alphavals.append(self.alphval)\n",
    "            self.alphval = max(0.001,self.alphval + self.dt*self.adaptation_rate*signed_sqrt((self.Pprice_ideal-Pprice)/self.Pprice_ideal,alpha = 1))\n",
    "            # print(self.alphval)\n",
    "            self.D = self.D0*self.alphval0/self.alphval\n",
    "            # print(2*(np.sqrt(self.D*self.alphval)))\n",
    "            n_xt.append([n_field(x) for x in X])\n",
    "            rho_xt.append([rho_field(x) for x in X])\n",
    "            C_xt.append([C_field(x) for x in X])\n",
    "            P_prices.append(Pprice)\n",
    "            # print(Pprice,self.alphval)\n",
    "            if plot and i % (self.nT//10) == 0:\n",
    "                axs[1].plot(X, n_xt[-1], color=cmap2(t / self.T))\n",
    "                axs[0].plot(X, rho_xt[-1], color=cmap(t / self.T))\n",
    "                axs[2].plot(X, C_xt[-1], color=cmap2(t / self.T))\n",
    "                axs[3].plot(X, [C_xt[-1][i] * rho_xt[-1][i] for i in range(len(X))], color=cmap2(t / self.T))\n",
    "                # break\n",
    "            i+=1\n",
    "            \n",
    "\n",
    "        # Finalize plot settings if plotting\n",
    "        if plot:\n",
    "            axs[1].plot(X, n_xt[-1], color=cmap2(t / self.T))\n",
    "            axs[0].plot(X, rho_xt[-1], color=cmap(t / self.T))\n",
    "            satrho = np.median([rho for rho in rho_xt[-1] if rho>1e-10])\n",
    "            \n",
    "            axs[0].hlines(satrho,np.min(X),np.max(X), color=\"red\")\n",
    "            \n",
    "            axs[2].plot(X, C_xt[-1], color=cmap2(t / self.T))\n",
    "            axs[3].plot(X, [C_xt[-1][i] * rho_xt[-1][i] for i in range(len(X))], color=cmap2(t / self.T))\n",
    "            axs[0].set_ylabel(r'$\\rho (mm \\cdot mm^{-3})$')\n",
    "            axs[1].set_ylabel('$n (mm^{-3})$')\n",
    "            axs[2].set_ylabel('$C$')\n",
    "            axs[3].set_ylabel('$\\Phi_P$')\n",
    "            \n",
    "            axs[3].set_xlabel('position ($mm$)')\n",
    "            plt.show()\n",
    "\n",
    "        return C_xt, rho_xt, n_xt,P_prices,alphavals\n",
    "        \n",
    "\n",
    "# Example usage:\n",
    "C0=0.01\n",
    "Pprice_ideal = 0.25/C0**(1/3)\n",
    "speed = 0.10\n",
    "\n",
    "sim = Simulation(speed = speed,C0=C0,T = 600,nT=1200,Pprice_ideal = Pprice_ideal,Fmax = Vmax,adaptation_rate = 3e-4,drag = 1)\n",
    "# C_xt, rho_xt, n_xt,P_prices,alphavals = sim.integrate(plot=True)\n"
   ]
  },
  {
   "cell_type": "code",
   "execution_count": 2,
   "id": "d1c4f8f4-6e1e-48d1-a819-64617e1e1404",
   "metadata": {
    "tags": []
   },
   "outputs": [],
   "source": [
    "T = 600\n",
    "nT = 1200\n",
    "def get_dynamics(speed,C0=10,Pprice_ideal = 1/15):\n",
    "    sim = Simulation(speed = speed,C0=C0,T = T,nT=nT,Pprice_ideal = Pprice_ideal,Fmax = Vmax,adaptation_rate = 3e-4,drag = 1)\n",
    "    C_xt, rho_xt, n_xt,P_prices,_ = sim.integrate(plot=False)\n",
    "    return(np.array(C_xt),np.array(rho_xt),np.array(n_xt))\n"
   ]
  },
  {
   "cell_type": "code",
   "execution_count": 3,
   "id": "faeb368f-e956-4859-838f-d4c3fd3c3d7b",
   "metadata": {
    "tags": []
   },
   "outputs": [
    {
     "data": {
      "text/plain": [
       "0.894427190999916"
      ]
     },
     "execution_count": 3,
     "metadata": {},
     "output_type": "execute_result"
    }
   ],
   "source": [
    "0.4/np.sqrt(0.2)"
   ]
  },
  {
   "cell_type": "code",
   "execution_count": 4,
   "id": "7a110c08-9729-4ecc-91e0-be73d088fb99",
   "metadata": {
    "collapsed": true,
    "jupyter": {
     "outputs_hidden": true
    },
    "tags": []
   },
   "outputs": [
    {
     "data": {
      "application/vnd.jupyter.widget-view+json": {
       "model_id": "77d6225fdf1d492cbabcc98bab70bf18",
       "version_major": 2,
       "version_minor": 0
      },
      "text/plain": [
       "Simulating:   0%|          | 0/1200 [00:00<?, ?it/s]"
      ]
     },
     "metadata": {},
     "output_type": "display_data"
    },
    {
     "data": {
      "application/vnd.jupyter.widget-view+json": {
       "model_id": "81608b9b227c4b988c11874f9f26d428",
       "version_major": 2,
       "version_minor": 0
      },
      "text/plain": [
       "Simulating:   0%|          | 0/1200 [00:00<?, ?it/s]"
      ]
     },
     "metadata": {},
     "output_type": "display_data"
    },
    {
     "data": {
      "application/vnd.jupyter.widget-view+json": {
       "model_id": "644089f359ce45d2a8ff68ded7dc67f2",
       "version_major": 2,
       "version_minor": 0
      },
      "text/plain": [
       "Simulating:   0%|          | 0/1200 [00:00<?, ?it/s]"
      ]
     },
     "metadata": {},
     "output_type": "display_data"
    },
    {
     "data": {
      "application/vnd.jupyter.widget-view+json": {
       "model_id": "0cf0ed8b489b4ec8aec2db6032d4941e",
       "version_major": 2,
       "version_minor": 0
      },
      "text/plain": [
       "Simulating:   0%|          | 0/1200 [00:00<?, ?it/s]"
      ]
     },
     "metadata": {},
     "output_type": "display_data"
    },
    {
     "data": {
      "application/vnd.jupyter.widget-view+json": {
       "model_id": "04733fd1e4524773b090ce011a3f34f8",
       "version_major": 2,
       "version_minor": 0
      },
      "text/plain": [
       "Simulating:   0%|          | 0/1200 [00:00<?, ?it/s]"
      ]
     },
     "metadata": {},
     "output_type": "display_data"
    },
    {
     "data": {
      "application/vnd.jupyter.widget-view+json": {
       "model_id": "e35b045db83349b19cb6df6ecc027ff5",
       "version_major": 2,
       "version_minor": 0
      },
      "text/plain": [
       "Simulating:   0%|          | 0/1200 [00:00<?, ?it/s]"
      ]
     },
     "metadata": {},
     "output_type": "display_data"
    },
    {
     "data": {
      "application/vnd.jupyter.widget-view+json": {
       "model_id": "b61ab05ecbdc4bbb80f781b237cb11c8",
       "version_major": 2,
       "version_minor": 0
      },
      "text/plain": [
       "Simulating:   0%|          | 0/1200 [00:00<?, ?it/s]"
      ]
     },
     "metadata": {},
     "output_type": "display_data"
    },
    {
     "data": {
      "application/vnd.jupyter.widget-view+json": {
       "model_id": "4f3b3796bff04c67b97745c2358a431b",
       "version_major": 2,
       "version_minor": 0
      },
      "text/plain": [
       "Simulating:   0%|          | 0/1200 [00:00<?, ?it/s]"
      ]
     },
     "metadata": {},
     "output_type": "display_data"
    },
    {
     "data": {
      "application/vnd.jupyter.widget-view+json": {
       "model_id": "204c6c76e64041b389efa654a2fd1438",
       "version_major": 2,
       "version_minor": 0
      },
      "text/plain": [
       "Simulating:   0%|          | 0/1200 [00:00<?, ?it/s]"
      ]
     },
     "metadata": {},
     "output_type": "display_data"
    },
    {
     "data": {
      "application/vnd.jupyter.widget-view+json": {
       "model_id": "8299bee0deae4b09babbb6be73f93929",
       "version_major": 2,
       "version_minor": 0
      },
      "text/plain": [
       "Simulating:   0%|          | 0/1200 [00:00<?, ?it/s]"
      ]
     },
     "metadata": {},
     "output_type": "display_data"
    },
    {
     "data": {
      "application/vnd.jupyter.widget-view+json": {
       "model_id": "6069a52b5c8a4b25b0b8a0383ffaabd3",
       "version_major": 2,
       "version_minor": 0
      },
      "text/plain": [
       "Simulating:   0%|          | 0/1200 [00:00<?, ?it/s]"
      ]
     },
     "metadata": {},
     "output_type": "display_data"
    },
    {
     "data": {
      "application/vnd.jupyter.widget-view+json": {
       "model_id": "f95955ca2c8b4d8080233bda1a03fe2c",
       "version_major": 2,
       "version_minor": 0
      },
      "text/plain": [
       "Simulating:   0%|          | 0/1200 [00:00<?, ?it/s]"
      ]
     },
     "metadata": {},
     "output_type": "display_data"
    },
    {
     "data": {
      "application/vnd.jupyter.widget-view+json": {
       "model_id": "40488123afb546d28587c2107723c068",
       "version_major": 2,
       "version_minor": 0
      },
      "text/plain": [
       "Simulating:   0%|          | 0/1200 [00:00<?, ?it/s]"
      ]
     },
     "metadata": {},
     "output_type": "display_data"
    },
    {
     "data": {
      "application/vnd.jupyter.widget-view+json": {
       "model_id": "334914a1c3504f469bc6667cf6ad63f1",
       "version_major": 2,
       "version_minor": 0
      },
      "text/plain": [
       "Simulating:   0%|          | 0/1200 [00:00<?, ?it/s]"
      ]
     },
     "metadata": {},
     "output_type": "display_data"
    },
    {
     "data": {
      "application/vnd.jupyter.widget-view+json": {
       "model_id": "e12e3eb5084a4c32949f5de0ff98d17a",
       "version_major": 2,
       "version_minor": 0
      },
      "text/plain": [
       "Simulating:   0%|          | 0/1200 [00:00<?, ?it/s]"
      ]
     },
     "metadata": {},
     "output_type": "display_data"
    },
    {
     "data": {
      "application/vnd.jupyter.widget-view+json": {
       "model_id": "ba78e7c0f5824669a4a836d27636f905",
       "version_major": 2,
       "version_minor": 0
      },
      "text/plain": [
       "Simulating:   0%|          | 0/1200 [00:00<?, ?it/s]"
      ]
     },
     "metadata": {},
     "output_type": "display_data"
    },
    {
     "data": {
      "application/vnd.jupyter.widget-view+json": {
       "model_id": "7f3384f54dfd47b587f8077d52e76944",
       "version_major": 2,
       "version_minor": 0
      },
      "text/plain": [
       "Simulating:   0%|          | 0/1200 [00:00<?, ?it/s]"
      ]
     },
     "metadata": {},
     "output_type": "display_data"
    },
    {
     "data": {
      "application/vnd.jupyter.widget-view+json": {
       "model_id": "2b901fdfd5564dd8a36c83142d408f4d",
       "version_major": 2,
       "version_minor": 0
      },
      "text/plain": [
       "Simulating:   0%|          | 0/1200 [00:00<?, ?it/s]"
      ]
     },
     "metadata": {},
     "output_type": "display_data"
    },
    {
     "data": {
      "application/vnd.jupyter.widget-view+json": {
       "model_id": "280cc439a8874a658ad11e7cdfc01694",
       "version_major": 2,
       "version_minor": 0
      },
      "text/plain": [
       "Simulating:   0%|          | 0/1200 [00:00<?, ?it/s]"
      ]
     },
     "metadata": {},
     "output_type": "display_data"
    },
    {
     "data": {
      "application/vnd.jupyter.widget-view+json": {
       "model_id": "bb60bd9ceb9e4874a78981a24ccb8669",
       "version_major": 2,
       "version_minor": 0
      },
      "text/plain": [
       "Simulating:   0%|          | 0/1200 [00:00<?, ?it/s]"
      ]
     },
     "metadata": {},
     "output_type": "display_data"
    },
    {
     "data": {
      "application/vnd.jupyter.widget-view+json": {
       "model_id": "c0e210766b1840daabbadbc009024b93",
       "version_major": 2,
       "version_minor": 0
      },
      "text/plain": [
       "Simulating:   0%|          | 0/1200 [00:00<?, ?it/s]"
      ]
     },
     "metadata": {},
     "output_type": "display_data"
    },
    {
     "data": {
      "application/vnd.jupyter.widget-view+json": {
       "model_id": "73304197df274229bd3cc80b5b220199",
       "version_major": 2,
       "version_minor": 0
      },
      "text/plain": [
       "Simulating:   0%|          | 0/1200 [00:00<?, ?it/s]"
      ]
     },
     "metadata": {},
     "output_type": "display_data"
    },
    {
     "data": {
      "application/vnd.jupyter.widget-view+json": {
       "model_id": "7b42fad381e14b78856c707324a96c55",
       "version_major": 2,
       "version_minor": 0
      },
      "text/plain": [
       "Simulating:   0%|          | 0/1200 [00:00<?, ?it/s]"
      ]
     },
     "metadata": {},
     "output_type": "display_data"
    },
    {
     "data": {
      "application/vnd.jupyter.widget-view+json": {
       "model_id": "5281d46942ea41e8863510819781c20b",
       "version_major": 2,
       "version_minor": 0
      },
      "text/plain": [
       "Simulating:   0%|          | 0/1200 [00:00<?, ?it/s]"
      ]
     },
     "metadata": {},
     "output_type": "display_data"
    },
    {
     "data": {
      "application/vnd.jupyter.widget-view+json": {
       "model_id": "d6b7104b5d8742fa9d0747b83ba9eb6c",
       "version_major": 2,
       "version_minor": 0
      },
      "text/plain": [
       "Simulating:   0%|          | 0/1200 [00:00<?, ?it/s]"
      ]
     },
     "metadata": {},
     "output_type": "display_data"
    },
    {
     "data": {
      "application/vnd.jupyter.widget-view+json": {
       "model_id": "00159ef3d9c147349060e7ff2aca087b",
       "version_major": 2,
       "version_minor": 0
      },
      "text/plain": [
       "Simulating:   0%|          | 0/1200 [00:00<?, ?it/s]"
      ]
     },
     "metadata": {},
     "output_type": "display_data"
    },
    {
     "data": {
      "application/vnd.jupyter.widget-view+json": {
       "model_id": "72eb52e253cf40c9a90676693a335c00",
       "version_major": 2,
       "version_minor": 0
      },
      "text/plain": [
       "Simulating:   0%|          | 0/1200 [00:00<?, ?it/s]"
      ]
     },
     "metadata": {},
     "output_type": "display_data"
    },
    {
     "data": {
      "application/vnd.jupyter.widget-view+json": {
       "model_id": "11b1d1552a914b4ea9f63e280d5381c6",
       "version_major": 2,
       "version_minor": 0
      },
      "text/plain": [
       "Simulating:   0%|          | 0/1200 [00:00<?, ?it/s]"
      ]
     },
     "metadata": {},
     "output_type": "display_data"
    },
    {
     "data": {
      "application/vnd.jupyter.widget-view+json": {
       "model_id": "77b2df7ac4e84312938dfb64e757f61f",
       "version_major": 2,
       "version_minor": 0
      },
      "text/plain": [
       "Simulating:   0%|          | 0/1200 [00:00<?, ?it/s]"
      ]
     },
     "metadata": {},
     "output_type": "display_data"
    },
    {
     "data": {
      "application/vnd.jupyter.widget-view+json": {
       "model_id": "0c2b1653366b4ecea03768410d91e768",
       "version_major": 2,
       "version_minor": 0
      },
      "text/plain": [
       "Simulating:   0%|          | 0/1200 [00:00<?, ?it/s]"
      ]
     },
     "metadata": {},
     "output_type": "display_data"
    },
    {
     "data": {
      "application/vnd.jupyter.widget-view+json": {
       "model_id": "c1829801459b4121a1b35f3dcab40507",
       "version_major": 2,
       "version_minor": 0
      },
      "text/plain": [
       "Simulating:   0%|          | 0/1200 [00:00<?, ?it/s]"
      ]
     },
     "metadata": {},
     "output_type": "display_data"
    },
    {
     "data": {
      "application/vnd.jupyter.widget-view+json": {
       "model_id": "9b02e32df13840219c3682380005f51c",
       "version_major": 2,
       "version_minor": 0
      },
      "text/plain": [
       "Simulating:   0%|          | 0/1200 [00:00<?, ?it/s]"
      ]
     },
     "metadata": {},
     "output_type": "display_data"
    },
    {
     "data": {
      "application/vnd.jupyter.widget-view+json": {
       "model_id": "0781fa880e2a48ecbd0f81d8216b14d6",
       "version_major": 2,
       "version_minor": 0
      },
      "text/plain": [
       "Simulating:   0%|          | 0/1200 [00:00<?, ?it/s]"
      ]
     },
     "metadata": {},
     "output_type": "display_data"
    },
    {
     "data": {
      "application/vnd.jupyter.widget-view+json": {
       "model_id": "0ef5106902b542d38189cdb598e6c5bd",
       "version_major": 2,
       "version_minor": 0
      },
      "text/plain": [
       "Simulating:   0%|          | 0/1200 [00:00<?, ?it/s]"
      ]
     },
     "metadata": {},
     "output_type": "display_data"
    },
    {
     "data": {
      "application/vnd.jupyter.widget-view+json": {
       "model_id": "356b4a51126b44e998ec2fd187b43d1b",
       "version_major": 2,
       "version_minor": 0
      },
      "text/plain": [
       "Simulating:   0%|          | 0/1200 [00:00<?, ?it/s]"
      ]
     },
     "metadata": {},
     "output_type": "display_data"
    },
    {
     "data": {
      "application/vnd.jupyter.widget-view+json": {
       "model_id": "40c24883f3a343a9b85cdd6bf6a8b2f2",
       "version_major": 2,
       "version_minor": 0
      },
      "text/plain": [
       "Simulating:   0%|          | 0/1200 [00:00<?, ?it/s]"
      ]
     },
     "metadata": {},
     "output_type": "display_data"
    },
    {
     "data": {
      "application/vnd.jupyter.widget-view+json": {
       "model_id": "b7f891fc2f2048caabcdfb7c21356988",
       "version_major": 2,
       "version_minor": 0
      },
      "text/plain": [
       "Simulating:   0%|          | 0/1200 [00:00<?, ?it/s]"
      ]
     },
     "metadata": {},
     "output_type": "display_data"
    },
    {
     "data": {
      "application/vnd.jupyter.widget-view+json": {
       "model_id": "d72d4b1a77234d0abee9aacb6252eadf",
       "version_major": 2,
       "version_minor": 0
      },
      "text/plain": [
       "Simulating:   0%|          | 0/1200 [00:00<?, ?it/s]"
      ]
     },
     "metadata": {},
     "output_type": "display_data"
    },
    {
     "data": {
      "application/vnd.jupyter.widget-view+json": {
       "model_id": "d0321b7d09d94f378b5e2bc16e790903",
       "version_major": 2,
       "version_minor": 0
      },
      "text/plain": [
       "Simulating:   0%|          | 0/1200 [00:00<?, ?it/s]"
      ]
     },
     "metadata": {},
     "output_type": "display_data"
    },
    {
     "data": {
      "application/vnd.jupyter.widget-view+json": {
       "model_id": "1ec9d73f17144200accf235ff5e79ef2",
       "version_major": 2,
       "version_minor": 0
      },
      "text/plain": [
       "Simulating:   0%|          | 0/1200 [00:00<?, ?it/s]"
      ]
     },
     "metadata": {},
     "output_type": "display_data"
    },
    {
     "data": {
      "application/vnd.jupyter.widget-view+json": {
       "model_id": "3c8ecc70da9b49e3a520351ccceb720c",
       "version_major": 2,
       "version_minor": 0
      },
      "text/plain": [
       "Simulating:   0%|          | 0/1200 [00:00<?, ?it/s]"
      ]
     },
     "metadata": {},
     "output_type": "display_data"
    },
    {
     "data": {
      "application/vnd.jupyter.widget-view+json": {
       "model_id": "34ad9df4b6634bac91d1d2183574ba86",
       "version_major": 2,
       "version_minor": 0
      },
      "text/plain": [
       "Simulating:   0%|          | 0/1200 [00:00<?, ?it/s]"
      ]
     },
     "metadata": {},
     "output_type": "display_data"
    },
    {
     "data": {
      "application/vnd.jupyter.widget-view+json": {
       "model_id": "c071ab2c104c4e3ebe55134e376770b5",
       "version_major": 2,
       "version_minor": 0
      },
      "text/plain": [
       "Simulating:   0%|          | 0/1200 [00:00<?, ?it/s]"
      ]
     },
     "metadata": {},
     "output_type": "display_data"
    },
    {
     "data": {
      "application/vnd.jupyter.widget-view+json": {
       "model_id": "c7d888f9e00e4c7290fae5085d329be3",
       "version_major": 2,
       "version_minor": 0
      },
      "text/plain": [
       "Simulating:   0%|          | 0/1200 [00:00<?, ?it/s]"
      ]
     },
     "metadata": {},
     "output_type": "display_data"
    },
    {
     "data": {
      "application/vnd.jupyter.widget-view+json": {
       "model_id": "b3a9a1ea950142199a0311b17e0a9afb",
       "version_major": 2,
       "version_minor": 0
      },
      "text/plain": [
       "Simulating:   0%|          | 0/1200 [00:00<?, ?it/s]"
      ]
     },
     "metadata": {},
     "output_type": "display_data"
    },
    {
     "data": {
      "application/vnd.jupyter.widget-view+json": {
       "model_id": "7921850a1d4a4879919567e0b843b7d3",
       "version_major": 2,
       "version_minor": 0
      },
      "text/plain": [
       "Simulating:   0%|          | 0/1200 [00:00<?, ?it/s]"
      ]
     },
     "metadata": {},
     "output_type": "display_data"
    },
    {
     "data": {
      "application/vnd.jupyter.widget-view+json": {
       "model_id": "730ae316824b4cf4bd56ff8465617053",
       "version_major": 2,
       "version_minor": 0
      },
      "text/plain": [
       "Simulating:   0%|          | 0/1200 [00:00<?, ?it/s]"
      ]
     },
     "metadata": {},
     "output_type": "display_data"
    },
    {
     "data": {
      "application/vnd.jupyter.widget-view+json": {
       "model_id": "fe2c4bbeff4d4a0fbc9174238ca835ae",
       "version_major": 2,
       "version_minor": 0
      },
      "text/plain": [
       "Simulating:   0%|          | 0/1200 [00:00<?, ?it/s]"
      ]
     },
     "metadata": {},
     "output_type": "display_data"
    },
    {
     "data": {
      "application/vnd.jupyter.widget-view+json": {
       "model_id": "915f352caaa24e2593d503987976ce6b",
       "version_major": 2,
       "version_minor": 0
      },
      "text/plain": [
       "Simulating:   0%|          | 0/1200 [00:00<?, ?it/s]"
      ]
     },
     "metadata": {},
     "output_type": "display_data"
    },
    {
     "data": {
      "application/vnd.jupyter.widget-view+json": {
       "model_id": "a5a0e2763b3d4beca4fe86b124f87484",
       "version_major": 2,
       "version_minor": 0
      },
      "text/plain": [
       "Simulating:   0%|          | 0/1200 [00:00<?, ?it/s]"
      ]
     },
     "metadata": {},
     "output_type": "display_data"
    },
    {
     "data": {
      "application/vnd.jupyter.widget-view+json": {
       "model_id": "a46b23a2e8bc44d988603cd57b854aaa",
       "version_major": 2,
       "version_minor": 0
      },
      "text/plain": [
       "Simulating:   0%|          | 0/1200 [00:00<?, ?it/s]"
      ]
     },
     "metadata": {},
     "output_type": "display_data"
    },
    {
     "data": {
      "application/vnd.jupyter.widget-view+json": {
       "model_id": "705ba3aecc4a407eaadadb69f6fded57",
       "version_major": 2,
       "version_minor": 0
      },
      "text/plain": [
       "Simulating:   0%|          | 0/1200 [00:00<?, ?it/s]"
      ]
     },
     "metadata": {},
     "output_type": "display_data"
    },
    {
     "data": {
      "application/vnd.jupyter.widget-view+json": {
       "model_id": "c65312e6a1bb4476956c578779861139",
       "version_major": 2,
       "version_minor": 0
      },
      "text/plain": [
       "Simulating:   0%|          | 0/1200 [00:00<?, ?it/s]"
      ]
     },
     "metadata": {},
     "output_type": "display_data"
    },
    {
     "data": {
      "application/vnd.jupyter.widget-view+json": {
       "model_id": "fcfb45b708b440269c6e474d6b93d580",
       "version_major": 2,
       "version_minor": 0
      },
      "text/plain": [
       "Simulating:   0%|          | 0/1200 [00:00<?, ?it/s]"
      ]
     },
     "metadata": {},
     "output_type": "display_data"
    },
    {
     "data": {
      "application/vnd.jupyter.widget-view+json": {
       "model_id": "badade0142454892a4461cc05142daf7",
       "version_major": 2,
       "version_minor": 0
      },
      "text/plain": [
       "Simulating:   0%|          | 0/1200 [00:00<?, ?it/s]"
      ]
     },
     "metadata": {},
     "output_type": "display_data"
    },
    {
     "data": {
      "application/vnd.jupyter.widget-view+json": {
       "model_id": "44a32ad6eecb453ca032ce2d7010641e",
       "version_major": 2,
       "version_minor": 0
      },
      "text/plain": [
       "Simulating:   0%|          | 0/1200 [00:00<?, ?it/s]"
      ]
     },
     "metadata": {},
     "output_type": "display_data"
    },
    {
     "data": {
      "application/vnd.jupyter.widget-view+json": {
       "model_id": "5f69a40fbcd9496fabdc71107ae059f6",
       "version_major": 2,
       "version_minor": 0
      },
      "text/plain": [
       "Simulating:   0%|          | 0/1200 [00:00<?, ?it/s]"
      ]
     },
     "metadata": {},
     "output_type": "display_data"
    },
    {
     "data": {
      "application/vnd.jupyter.widget-view+json": {
       "model_id": "24082860ea29482faa8acf3c75b1ca1f",
       "version_major": 2,
       "version_minor": 0
      },
      "text/plain": [
       "Simulating:   0%|          | 0/1200 [00:00<?, ?it/s]"
      ]
     },
     "metadata": {},
     "output_type": "display_data"
    },
    {
     "data": {
      "application/vnd.jupyter.widget-view+json": {
       "model_id": "07568e12d2d3489cb2d3c90e3e7a9315",
       "version_major": 2,
       "version_minor": 0
      },
      "text/plain": [
       "Simulating:   0%|          | 0/1200 [00:00<?, ?it/s]"
      ]
     },
     "metadata": {},
     "output_type": "display_data"
    },
    {
     "data": {
      "application/vnd.jupyter.widget-view+json": {
       "model_id": "d7267bef2ec04dd596c37860cbcdf491",
       "version_major": 2,
       "version_minor": 0
      },
      "text/plain": [
       "Simulating:   0%|          | 0/1200 [00:00<?, ?it/s]"
      ]
     },
     "metadata": {},
     "output_type": "display_data"
    },
    {
     "data": {
      "application/vnd.jupyter.widget-view+json": {
       "model_id": "281da32eba3f43a789f32d16ad9ba6eb",
       "version_major": 2,
       "version_minor": 0
      },
      "text/plain": [
       "Simulating:   0%|          | 0/1200 [00:00<?, ?it/s]"
      ]
     },
     "metadata": {},
     "output_type": "display_data"
    },
    {
     "data": {
      "application/vnd.jupyter.widget-view+json": {
       "model_id": "cdaf6ac6ff024b0bbb957b8a59e67043",
       "version_major": 2,
       "version_minor": 0
      },
      "text/plain": [
       "Simulating:   0%|          | 0/1200 [00:00<?, ?it/s]"
      ]
     },
     "metadata": {},
     "output_type": "display_data"
    },
    {
     "data": {
      "application/vnd.jupyter.widget-view+json": {
       "model_id": "a6a5e4a831af474fb651012ffb0a11f9",
       "version_major": 2,
       "version_minor": 0
      },
      "text/plain": [
       "Simulating:   0%|          | 0/1200 [00:00<?, ?it/s]"
      ]
     },
     "metadata": {},
     "output_type": "display_data"
    },
    {
     "data": {
      "application/vnd.jupyter.widget-view+json": {
       "model_id": "63e1bcc36b534c30ac91f27c9407b4e3",
       "version_major": 2,
       "version_minor": 0
      },
      "text/plain": [
       "Simulating:   0%|          | 0/1200 [00:00<?, ?it/s]"
      ]
     },
     "metadata": {},
     "output_type": "display_data"
    },
    {
     "data": {
      "application/vnd.jupyter.widget-view+json": {
       "model_id": "45c60d38e419450ea88590da46e82c4f",
       "version_major": 2,
       "version_minor": 0
      },
      "text/plain": [
       "Simulating:   0%|          | 0/1200 [00:00<?, ?it/s]"
      ]
     },
     "metadata": {},
     "output_type": "display_data"
    },
    {
     "data": {
      "application/vnd.jupyter.widget-view+json": {
       "model_id": "f7a4e31a8a1b4b6bab93d5fc6f82b1d4",
       "version_major": 2,
       "version_minor": 0
      },
      "text/plain": [
       "Simulating:   0%|          | 0/1200 [00:00<?, ?it/s]"
      ]
     },
     "metadata": {},
     "output_type": "display_data"
    },
    {
     "data": {
      "application/vnd.jupyter.widget-view+json": {
       "model_id": "eaf367f73d7c41eaa505fd6dded8fe80",
       "version_major": 2,
       "version_minor": 0
      },
      "text/plain": [
       "Simulating:   0%|          | 0/1200 [00:00<?, ?it/s]"
      ]
     },
     "metadata": {},
     "output_type": "display_data"
    },
    {
     "data": {
      "application/vnd.jupyter.widget-view+json": {
       "model_id": "c72999b6fe41447abc849df076bd08f8",
       "version_major": 2,
       "version_minor": 0
      },
      "text/plain": [
       "Simulating:   0%|          | 0/1200 [00:00<?, ?it/s]"
      ]
     },
     "metadata": {},
     "output_type": "display_data"
    },
    {
     "data": {
      "application/vnd.jupyter.widget-view+json": {
       "model_id": "ded8d67521cc4abd80cd06ab934e93ad",
       "version_major": 2,
       "version_minor": 0
      },
      "text/plain": [
       "Simulating:   0%|          | 0/1200 [00:00<?, ?it/s]"
      ]
     },
     "metadata": {},
     "output_type": "display_data"
    },
    {
     "data": {
      "application/vnd.jupyter.widget-view+json": {
       "model_id": "6a92babce4e94ef093caa5b608eba671",
       "version_major": 2,
       "version_minor": 0
      },
      "text/plain": [
       "Simulating:   0%|          | 0/1200 [00:00<?, ?it/s]"
      ]
     },
     "metadata": {},
     "output_type": "display_data"
    },
    {
     "data": {
      "application/vnd.jupyter.widget-view+json": {
       "model_id": "4fb12681f0bf463d8a8e6f9d390293d2",
       "version_major": 2,
       "version_minor": 0
      },
      "text/plain": [
       "Simulating:   0%|          | 0/1200 [00:00<?, ?it/s]"
      ]
     },
     "metadata": {},
     "output_type": "display_data"
    },
    {
     "data": {
      "application/vnd.jupyter.widget-view+json": {
       "model_id": "d7d5b014d22143459f44516b4f6f3d9f",
       "version_major": 2,
       "version_minor": 0
      },
      "text/plain": [
       "Simulating:   0%|          | 0/1200 [00:00<?, ?it/s]"
      ]
     },
     "metadata": {},
     "output_type": "display_data"
    },
    {
     "data": {
      "application/vnd.jupyter.widget-view+json": {
       "model_id": "68da7756726843249d61b84482d60bd3",
       "version_major": 2,
       "version_minor": 0
      },
      "text/plain": [
       "Simulating:   0%|          | 0/1200 [00:00<?, ?it/s]"
      ]
     },
     "metadata": {},
     "output_type": "display_data"
    },
    {
     "data": {
      "application/vnd.jupyter.widget-view+json": {
       "model_id": "11ff26c66b2f4ef38ba44aab7d788319",
       "version_major": 2,
       "version_minor": 0
      },
      "text/plain": [
       "Simulating:   0%|          | 0/1200 [00:00<?, ?it/s]"
      ]
     },
     "metadata": {},
     "output_type": "display_data"
    },
    {
     "data": {
      "application/vnd.jupyter.widget-view+json": {
       "model_id": "812710e0c3ec4846b39ea1cecddb0082",
       "version_major": 2,
       "version_minor": 0
      },
      "text/plain": [
       "Simulating:   0%|          | 0/1200 [00:00<?, ?it/s]"
      ]
     },
     "metadata": {},
     "output_type": "display_data"
    },
    {
     "data": {
      "application/vnd.jupyter.widget-view+json": {
       "model_id": "18d5d6f8592a48c5ab5605adfa590c7b",
       "version_major": 2,
       "version_minor": 0
      },
      "text/plain": [
       "Simulating:   0%|          | 0/1200 [00:00<?, ?it/s]"
      ]
     },
     "metadata": {},
     "output_type": "display_data"
    },
    {
     "data": {
      "application/vnd.jupyter.widget-view+json": {
       "model_id": "d455a683aa4947b6b825674e9e78da29",
       "version_major": 2,
       "version_minor": 0
      },
      "text/plain": [
       "Simulating:   0%|          | 0/1200 [00:00<?, ?it/s]"
      ]
     },
     "metadata": {},
     "output_type": "display_data"
    },
    {
     "data": {
      "application/vnd.jupyter.widget-view+json": {
       "model_id": "b411c56ed15849f8b2a451b65e4bb803",
       "version_major": 2,
       "version_minor": 0
      },
      "text/plain": [
       "Simulating:   0%|          | 0/1200 [00:00<?, ?it/s]"
      ]
     },
     "metadata": {},
     "output_type": "display_data"
    },
    {
     "data": {
      "application/vnd.jupyter.widget-view+json": {
       "model_id": "9d5ae6c593b44faabd8c9a06f44b32ac",
       "version_major": 2,
       "version_minor": 0
      },
      "text/plain": [
       "Simulating:   0%|          | 0/1200 [00:00<?, ?it/s]"
      ]
     },
     "metadata": {},
     "output_type": "display_data"
    },
    {
     "data": {
      "application/vnd.jupyter.widget-view+json": {
       "model_id": "2c379e1d73d74a71a2eb33a9cfeb6e72",
       "version_major": 2,
       "version_minor": 0
      },
      "text/plain": [
       "Simulating:   0%|          | 0/1200 [00:00<?, ?it/s]"
      ]
     },
     "metadata": {},
     "output_type": "display_data"
    },
    {
     "data": {
      "application/vnd.jupyter.widget-view+json": {
       "model_id": "f7c58b9f0d30444aa82a59da8aede958",
       "version_major": 2,
       "version_minor": 0
      },
      "text/plain": [
       "Simulating:   0%|          | 0/1200 [00:00<?, ?it/s]"
      ]
     },
     "metadata": {},
     "output_type": "display_data"
    },
    {
     "data": {
      "application/vnd.jupyter.widget-view+json": {
       "model_id": "9bfef5f15dc848cf8874a1c2d5f7fb5f",
       "version_major": 2,
       "version_minor": 0
      },
      "text/plain": [
       "Simulating:   0%|          | 0/1200 [00:00<?, ?it/s]"
      ]
     },
     "metadata": {},
     "output_type": "display_data"
    },
    {
     "data": {
      "application/vnd.jupyter.widget-view+json": {
       "model_id": "9857b6a25d774ae6b89c40e335d8c706",
       "version_major": 2,
       "version_minor": 0
      },
      "text/plain": [
       "Simulating:   0%|          | 0/1200 [00:00<?, ?it/s]"
      ]
     },
     "metadata": {},
     "output_type": "display_data"
    },
    {
     "data": {
      "application/vnd.jupyter.widget-view+json": {
       "model_id": "9ff41c21b052451887015330fcc5a123",
       "version_major": 2,
       "version_minor": 0
      },
      "text/plain": [
       "Simulating:   0%|          | 0/1200 [00:00<?, ?it/s]"
      ]
     },
     "metadata": {},
     "output_type": "display_data"
    },
    {
     "data": {
      "application/vnd.jupyter.widget-view+json": {
       "model_id": "a504d571e2b94caf85f3f115c9b4360b",
       "version_major": 2,
       "version_minor": 0
      },
      "text/plain": [
       "Simulating:   0%|          | 0/1200 [00:00<?, ?it/s]"
      ]
     },
     "metadata": {},
     "output_type": "display_data"
    },
    {
     "data": {
      "application/vnd.jupyter.widget-view+json": {
       "model_id": "4b9bb1d3039e4bbfaccfa0da2099505b",
       "version_major": 2,
       "version_minor": 0
      },
      "text/plain": [
       "Simulating:   0%|          | 0/1200 [00:00<?, ?it/s]"
      ]
     },
     "metadata": {},
     "output_type": "display_data"
    },
    {
     "data": {
      "application/vnd.jupyter.widget-view+json": {
       "model_id": "76e4bbf8a3c04e22bb34ad6d2cd22632",
       "version_major": 2,
       "version_minor": 0
      },
      "text/plain": [
       "Simulating:   0%|          | 0/1200 [00:00<?, ?it/s]"
      ]
     },
     "metadata": {},
     "output_type": "display_data"
    },
    {
     "data": {
      "application/vnd.jupyter.widget-view+json": {
       "model_id": "5bdea7ccf6244ec5a905544c9f7489cd",
       "version_major": 2,
       "version_minor": 0
      },
      "text/plain": [
       "Simulating:   0%|          | 0/1200 [00:00<?, ?it/s]"
      ]
     },
     "metadata": {},
     "output_type": "display_data"
    },
    {
     "data": {
      "application/vnd.jupyter.widget-view+json": {
       "model_id": "d197a841227246d5b98c48f041262e22",
       "version_major": 2,
       "version_minor": 0
      },
      "text/plain": [
       "Simulating:   0%|          | 0/1200 [00:00<?, ?it/s]"
      ]
     },
     "metadata": {},
     "output_type": "display_data"
    },
    {
     "data": {
      "application/vnd.jupyter.widget-view+json": {
       "model_id": "d4004e7ca8cc4917acedcc9ed009a3e8",
       "version_major": 2,
       "version_minor": 0
      },
      "text/plain": [
       "Simulating:   0%|          | 0/1200 [00:00<?, ?it/s]"
      ]
     },
     "metadata": {},
     "output_type": "display_data"
    },
    {
     "data": {
      "application/vnd.jupyter.widget-view+json": {
       "model_id": "c9663fa61ec04c90a8b1af797b6a22e8",
       "version_major": 2,
       "version_minor": 0
      },
      "text/plain": [
       "Simulating:   0%|          | 0/1200 [00:00<?, ?it/s]"
      ]
     },
     "metadata": {},
     "output_type": "display_data"
    },
    {
     "data": {
      "application/vnd.jupyter.widget-view+json": {
       "model_id": "f4db519a073549ee92c8f1fd61a85301",
       "version_major": 2,
       "version_minor": 0
      },
      "text/plain": [
       "Simulating:   0%|          | 0/1200 [00:00<?, ?it/s]"
      ]
     },
     "metadata": {},
     "output_type": "display_data"
    },
    {
     "data": {
      "application/vnd.jupyter.widget-view+json": {
       "model_id": "8ddff0dba73542bea889c72cd79ca826",
       "version_major": 2,
       "version_minor": 0
      },
      "text/plain": [
       "Simulating:   0%|          | 0/1200 [00:00<?, ?it/s]"
      ]
     },
     "metadata": {},
     "output_type": "display_data"
    },
    {
     "data": {
      "application/vnd.jupyter.widget-view+json": {
       "model_id": "04e60d2571f74d11b0b8b0ca64b847d4",
       "version_major": 2,
       "version_minor": 0
      },
      "text/plain": [
       "Simulating:   0%|          | 0/1200 [00:00<?, ?it/s]"
      ]
     },
     "metadata": {},
     "output_type": "display_data"
    },
    {
     "data": {
      "application/vnd.jupyter.widget-view+json": {
       "model_id": "33a25801f7a04065b7400d12948e0644",
       "version_major": 2,
       "version_minor": 0
      },
      "text/plain": [
       "Simulating:   0%|          | 0/1200 [00:00<?, ?it/s]"
      ]
     },
     "metadata": {},
     "output_type": "display_data"
    },
    {
     "data": {
      "application/vnd.jupyter.widget-view+json": {
       "model_id": "1ba4297e5cb440df9a20d25ce6716798",
       "version_major": 2,
       "version_minor": 0
      },
      "text/plain": [
       "Simulating:   0%|          | 0/1200 [00:00<?, ?it/s]"
      ]
     },
     "metadata": {},
     "output_type": "display_data"
    },
    {
     "data": {
      "application/vnd.jupyter.widget-view+json": {
       "model_id": "284b690bc72d4a51bd97fcae4b80213b",
       "version_major": 2,
       "version_minor": 0
      },
      "text/plain": [
       "Simulating:   0%|          | 0/1200 [00:00<?, ?it/s]"
      ]
     },
     "metadata": {},
     "output_type": "display_data"
    },
    {
     "data": {
      "application/vnd.jupyter.widget-view+json": {
       "model_id": "f26f440c7e2c44a2b90b050464581ec0",
       "version_major": 2,
       "version_minor": 0
      },
      "text/plain": [
       "Simulating:   0%|          | 0/1200 [00:00<?, ?it/s]"
      ]
     },
     "metadata": {},
     "output_type": "display_data"
    },
    {
     "data": {
      "application/vnd.jupyter.widget-view+json": {
       "model_id": "349304bb17594e64b366d672bf8f8d2f",
       "version_major": 2,
       "version_minor": 0
      },
      "text/plain": [
       "Simulating:   0%|          | 0/1200 [00:00<?, ?it/s]"
      ]
     },
     "metadata": {},
     "output_type": "display_data"
    },
    {
     "data": {
      "application/vnd.jupyter.widget-view+json": {
       "model_id": "0447f5ba5f72480e9eedac9c2287813c",
       "version_major": 2,
       "version_minor": 0
      },
      "text/plain": [
       "Simulating:   0%|          | 0/1200 [00:00<?, ?it/s]"
      ]
     },
     "metadata": {},
     "output_type": "display_data"
    }
   ],
   "source": [
    "plt.close(\"all\")\n",
    "\n",
    "speeds = np.linspace(0.10,0.26,10)\n",
    "C0_values = np.exp(np.linspace(np.log(0.01), np.log(0.2), 10))  # Adjust the number of points as needed\n",
    "\n",
    "dynamics = {(speed, C0): get_dynamics(speed, C0=C0, Pprice_ideal=0.25/C0**(1/3)) \n",
    "            for speed in speeds for C0 in C0_values}"
   ]
  },
  {
   "cell_type": "code",
   "execution_count": 10,
   "id": "fe5ce63e-6005-4198-8166-c2c24f12cbd1",
   "metadata": {
    "tags": []
   },
   "outputs": [],
   "source": [
    "X = np.linspace(1, Length, nx)\n",
    "dx = Length/nx\n",
    "Pacqu = {}\n",
    "\n",
    "for speed in speeds:\n",
    "    for C0 in C0_values:\n",
    "        C_xt, rho_xt, n_xt = dynamics[(speed,C0)]\n",
    "        Pacquisitions = np.sum(Vmax*(C_xt/(C_xt+sim.Kp))*rho_xt*X*sim.dx,axis=1) #ug.h-1.mm-1\n",
    "        Pacquisitions *= 2*sim.r0*np.pi\n",
    "        Pacqu[(speed,C0)] = np.mean(Pacquisitions)"
   ]
  },
  {
   "cell_type": "code",
   "execution_count": 11,
   "id": "56f65845-d98f-47d2-a496-9cfdf394154d",
   "metadata": {
    "tags": []
   },
   "outputs": [],
   "source": [
    "import pandas as pd\n",
    "\n",
    "# Your existing code\n",
    "# X, dx, Pacqu, etc.\n",
    "\n",
    "# Convert your data into a list of dictionaries\n",
    "data_for_df = []\n",
    "for key, value in Pacqu.items():\n",
    "    speed, C0 = key\n",
    "    data_for_df.append({'speed': speed, 'C0': C0, 'MeanPacquisition': value})\n",
    "\n",
    "# Create DataFrame\n",
    "df = pd.DataFrame(data_for_df)\n",
    "\n",
    "# Display the DataFrame\n",
    "\n",
    "\n",
    "df.to_csv('speedC0.csv')\n",
    "\n",
    "average_p_rate = df.groupby('C0')['MeanPacquisition'].mean()\n",
    "\n",
    "# Merge the averages back into the original DataFrame\n",
    "df['average_P_rate'] = df['C0'].map(average_p_rate)\n",
    "df['normalized_P_rate'] = df['MeanPacquisition']/df['average_P_rate']\n",
    "\n",
    "\n",
    "def to_two_significant_digits(x):\n",
    "    return float(f'{x:.2g}')\n",
    "\n",
    "# Create new columns with values formatted to two significant digits\n",
    "df['speed'] = (df['speed'].apply(to_two_significant_digits)*1000).astype(int)\n",
    "df['C0'] = (df['C0'].apply(to_two_significant_digits)*1000).astype(int)\n",
    "\n"
   ]
  },
  {
   "cell_type": "code",
   "execution_count": 17,
   "id": "4dab2e26-a15f-4c3a-9d71-d501e3ce336b",
   "metadata": {
    "tags": []
   },
   "outputs": [
    {
     "data": {
      "application/vnd.jupyter.widget-view+json": {
       "model_id": "d619f50a8bb540d2b0c6218c7c877b6b",
       "version_major": 2,
       "version_minor": 0
      },
      "image/png": "[encoded data removed]",
      "text/html": [
       "\n",
       "            <div style=\"display: inline-block;\">\n",
       "                <div class=\"jupyter-widgets widget-label\" style=\"text-align: center;\">\n",
       "                    Figure\n",
       "                </div>\n",
       "                <img src='data:image/png;base64,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' width=157.4803149606299/>\n",
       "            </div>\n",
       "        "
      ],
      "text/plain": [
       "Canvas(toolbar=Toolbar(toolitems=[('Home', 'Reset original view', 'home', 'home'), ('Back', 'Back to previous …"
      ]
     },
     "metadata": {},
     "output_type": "display_data"
    }
   ],
   "source": [
    "path_figure = r\"/mnt/c/Users/coren/Documents/PhD/paper/PandC/Fig5\"\n",
    "cm = 1/2.54  # centimeters in inches\n",
    "\n",
    "import seaborn as sns\n",
    "from matplotlib.ticker import FuncFormatter\n",
    "fig,ax = plt.subplots(figsize = (4*cm,3*cm))\n",
    "\n",
    "pivot_df = df.pivot_table(index='C0', columns='speed', values='normalized_P_rate')\n",
    "max_value = pivot_df.abs().max().max()  # Find the maximum absolute value\n",
    "vmin, vmax = 2-max_value, max_value  # Set vmin and vmax for the colorbar\n",
    "\n",
    "# Create the heatmap with symmetric colorbar\n",
    "sns.heatmap(pivot_df, annot=False, cmap=\"seismic\", ax=ax, vmin=vmin, vmax=vmax)\n",
    "\n",
    "# sns.heatmap(pivot_df, annot=False, cmap=\"YlGnBu\",cbar_kws={'label': 'relative \\n P transfer'})\n",
    "ax.set_xticklabels(ax.get_xticklabels(), rotation=0)\n",
    "\n",
    "n = 2  # Set n to desired interval\n",
    "for index, label in enumerate(ax.xaxis.get_ticklabels()):\n",
    "    if index % n != 0:\n",
    "        label.set_visible(False)\n",
    "# n = 2  # Set n to desired interval\n",
    "# for index, label in enumerate(ax.yaxis.get_ticklabels()):\n",
    "#     if index % n != 0:\n",
    "        # label.set_visible(False)\n",
    "ax.set_xlabel('$v_{wave}$ ($\\mu m/h$)')\n",
    "ax.set_ylabel('$[P]_{0}$ \\n ($\\mu g/mm^3$)')\n",
    "# plt.tight_layout()\n",
    "plt.savefig(os.path.join(path_figure,'Figure4modelB.pdf'), transparent=True, bbox_inches='tight')\n"
   ]
  },
  {
   "cell_type": "code",
   "execution_count": 9,
   "id": "c9480db4-0ccb-4066-867c-c26e69ad1c66",
   "metadata": {
    "tags": []
   },
   "outputs": [
    {
     "ename": "KeyError",
     "evalue": "0.1",
     "output_type": "error",
     "traceback": [
      "\u001b[0;31m---------------------------------------------------------------------------\u001b[0m",
      "\u001b[0;31mKeyError\u001b[0m                                  Traceback (most recent call last)",
      "Cell \u001b[0;32mIn[9], line 5\u001b[0m\n\u001b[1;32m      3\u001b[0m Pacqu \u001b[38;5;241m=\u001b[39m {}\n\u001b[1;32m      4\u001b[0m \u001b[38;5;28;01mfor\u001b[39;00m speed \u001b[38;5;129;01min\u001b[39;00m speeds:\n\u001b[0;32m----> 5\u001b[0m     C_xt, rho_xt, n_xt \u001b[38;5;241m=\u001b[39m \u001b[43mdynamics\u001b[49m\u001b[43m[\u001b[49m\u001b[43mspeed\u001b[49m\u001b[43m]\u001b[49m \n\u001b[1;32m      6\u001b[0m     Pacquisitions \u001b[38;5;241m=\u001b[39m np\u001b[38;5;241m.\u001b[39msum(Vmax\u001b[38;5;241m*\u001b[39m(C_xt\u001b[38;5;241m/\u001b[39m(C_xt\u001b[38;5;241m+\u001b[39msim\u001b[38;5;241m.\u001b[39mKp))\u001b[38;5;241m*\u001b[39mrho_xt\u001b[38;5;241m*\u001b[39mX\u001b[38;5;241m*\u001b[39msim\u001b[38;5;241m.\u001b[39mdx,axis\u001b[38;5;241m=\u001b[39m\u001b[38;5;241m1\u001b[39m) \u001b[38;5;66;03m#ug.h-1.mm-1\u001b[39;00m\n\u001b[1;32m      7\u001b[0m     Pacquisitions \u001b[38;5;241m*\u001b[39m\u001b[38;5;241m=\u001b[39m \u001b[38;5;241m2\u001b[39m\u001b[38;5;241m*\u001b[39msim\u001b[38;5;241m.\u001b[39mr0\u001b[38;5;241m*\u001b[39mnp\u001b[38;5;241m.\u001b[39mpi\n",
      "\u001b[0;31mKeyError\u001b[0m: 0.1"
     ]
    }
   ],
   "source": [
    "X = np.linspace(1, Length, nx)\n",
    "dx = Length/nx\n",
    "Pacqu = {}\n",
    "for speed in speeds:\n",
    "    C_xt, rho_xt, n_xt = dynamics[speed] \n",
    "    Pacquisitions = np.sum(Vmax*(C_xt/(C_xt+sim.Kp))*rho_xt*X*sim.dx,axis=1) #ug.h-1.mm-1\n",
    "    Pacquisitions *= 2*sim.r0*np.pi\n",
    "    Pacqu[speed] = Pacquisitions"
   ]
  },
  {
   "cell_type": "code",
   "execution_count": null,
   "id": "4f584ca0-42bc-4f8d-8aaa-a9326126f066",
   "metadata": {
    "tags": []
   },
   "outputs": [],
   "source": [
    "import matplotlib.pyplot as plt\n",
    "import numpy as np\n",
    "from matplotlib.cm import get_cmap\n",
    "\n",
    "# Your data setup\n",
    "\n",
    "ts = np.linspace(0, T, nT)\n",
    "\n",
    "# Choose a colormap\n",
    "cmap = get_cmap('viridis')  # You can choose other colormaps like 'plasma', 'inferno', 'magma', 'cividis'\n",
    "\n",
    "# Normalize your speeds for the colormap\n",
    "norm_speeds = (speeds - min(speeds)) / (max(speeds) - min(speeds))\n",
    "\n",
    "# Create the plot\n",
    "fig, ax = plt.subplots()\n",
    "\n",
    "# Plot each line with color based on speed\n",
    "for i, speed in enumerate(speeds):\n",
    "    ax.plot(ts, Pacqu[speed], label=f'{speed}', color=cmap(norm_speeds[i]))\n",
    "    print(np.mean(Pacqu[speed]))\n"
   ]
  },
  {
   "cell_type": "code",
   "execution_count": null,
   "id": "860b2714-ae1f-4a2e-ba94-93aed8431582",
   "metadata": {
    "tags": []
   },
   "outputs": [],
   "source": [
    "import matplotlib.pyplot as plt\n",
    "import numpy as np\n",
    "from matplotlib.cm import get_cmap\n",
    "\n",
    "# Your data setup\n",
    "\n",
    "ts = np.linspace(0, T, nT)\n",
    "\n",
    "# Choose a colormap\n",
    "cmap = get_cmap('viridis')  # You can choose other colormaps like 'plasma', 'inferno', 'magma', 'cividis'\n",
    "\n",
    "# Normalize your speeds for the colormap\n",
    "norm_speeds = (speeds - min(speeds)) / (max(speeds) - min(speeds))\n",
    "\n",
    "# Create the plot\n",
    "fig, ax = plt.subplots()\n",
    "\n",
    "# Plot each line with color based on speed\n",
    "for i, speed in enumerate(speeds):\n",
    "    ax.plot(ts, Pacqu[speed], label=f'{speed}', color=cmap(norm_speeds[i]))\n",
    "    print(np.mean(Pacqu[speed]))\n"
   ]
  },
  {
   "cell_type": "code",
   "execution_count": null,
   "id": "237c05fd-798e-4390-a90a-92cd48a8333b",
   "metadata": {
    "tags": []
   },
   "outputs": [],
   "source": [
    "path_figure = r\"/mnt/c/Users/coren/Documents/PhD/paper/PandC/Fig4\"\n"
   ]
  },
  {
   "cell_type": "code",
   "execution_count": null,
   "id": "32baa754-c101-4639-8f42-7f4eec17f228",
   "metadata": {
    "tags": []
   },
   "outputs": [],
   "source": [
    "plt.style.use('presentation.mplstyle')\n",
    "cm = 1/2.54  # centimeters in inches\n",
    "\n",
    "fig,ax = plt.subplots(figsize = (6*cm,4*cm))\n",
    "ax.plot(np.array(speeds)*1000,rho_sats)\n",
    "fit_coeffs = np.polyfit(speeds, rho_sats, 1)\n",
    "# ax.set_xscale(\"log\")\n",
    "# ax.set_yscale(\"log\")\n",
    "ax.set_xlabel('$v_{wave}$ (um/h)')\n",
    "ax.set_ylabel('$d_{L}$ \\n ($mm/mm^2$)')\n",
    "# plt.tight_layout()\n",
    "plt.savefig(os.path.join(path_figure,'Figure4modelA.pdf'), transparent=True, bbox_inches='tight')\n"
   ]
  },
  {
   "cell_type": "code",
   "execution_count": null,
   "id": "07e57e7a-c8c3-4d5b-90c1-53e0e5586f9c",
   "metadata": {
    "tags": []
   },
   "outputs": [],
   "source": [
    "fig,ax = plt.subplots()\n",
    "ax.scatter(speeds,speeds_observed)\n",
    "fit_coeffs = np.polyfit(speeds, speeds_observed, 1)\n",
    "x = [0,0.30]\n",
    "fit_line = np.polyval(fit_coeffs, x)\n",
    "\n",
    "# Plot data and linear fit\n",
    "ax.plot(x, fit_line, 'r--')\n",
    "# ax.set_xscale(\"log\")\n",
    "# ax.set_yscale(\"log\")"
   ]
  }
 ],
 "metadata": {
  "kernelspec": {
   "display_name": "Python 3 (ipykernel)",
   "language": "python",
   "name": "python3"
  },
  "language_info": {
   "codemirror_mode": {
    "name": "ipython",
    "version": 3
   },
   "file_extension": ".py",
   "mimetype": "text/x-python",
   "name": "python",
   "nbconvert_exporter": "python",
   "pygments_lexer": "ipython3",
   "version": "3.9.2"
  }
 },
 "nbformat": 4,
 "nbformat_minor": 5
}
